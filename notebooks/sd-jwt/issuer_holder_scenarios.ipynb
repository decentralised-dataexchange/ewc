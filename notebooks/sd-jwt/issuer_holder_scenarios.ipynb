{
 "cells": [
  {
   "attachments": {},
   "cell_type": "markdown",
   "metadata": {},
   "source": [
    "# SD-JWT Issuer-Holder Scenarios"
   ]
  },
  {
   "attachments": {},
   "cell_type": "markdown",
   "metadata": {},
   "source": [
    "## Usecase: Certification of Registration credential in Domain Name Validation"
   ]
  },
  {
   "attachments": {},
   "cell_type": "markdown",
   "metadata": {},
   "source": [
    "## 1.0 Setup cryptographic keys"
   ]
  },
  {
   "cell_type": "code",
   "execution_count": 16,
   "metadata": {},
   "outputs": [
    {
     "data": {
      "text/html": [
       "<pre style=\"white-space:pre;overflow-x:auto;line-height:normal;font-family:Menlo,'DejaVu Sans Mono',consolas,'Courier New',monospace\"><span style=\"color: #7fbfbf; text-decoration-color: #7fbfbf\">[22:04:22] </span>Issuer public key JWK:                                                                  <a href=\"file:///tmp/ipykernel_58664/1783267881.py\" target=\"_blank\"><span style=\"color: #7f7f7f; text-decoration-color: #7f7f7f\">1783267881.py</span></a><span style=\"color: #7f7f7f; text-decoration-color: #7f7f7f\">:</span><a href=\"file:///tmp/ipykernel_58664/1783267881.py#13\" target=\"_blank\"><span style=\"color: #7f7f7f; text-decoration-color: #7f7f7f\">13</span></a>\n",
       "<span style=\"color: #7fbfbf; text-decoration-color: #7fbfbf\">           </span><span style=\"font-weight: bold\">{</span>                                                                                       <span style=\"color: #7f7f7f; text-decoration-color: #7f7f7f\">                </span>\n",
       "<span style=\"color: #7fbfbf; text-decoration-color: #7fbfbf\">           </span>    <span style=\"color: #008000; text-decoration-color: #008000\">'kty'</span>: <span style=\"color: #008000; text-decoration-color: #008000\">'EC'</span>,                                                                        <span style=\"color: #7f7f7f; text-decoration-color: #7f7f7f\">                </span>\n",
       "<span style=\"color: #7fbfbf; text-decoration-color: #7fbfbf\">           </span>    <span style=\"color: #008000; text-decoration-color: #008000\">'kid'</span>: <span style=\"color: #008000; text-decoration-color: #008000\">'tJ7_O_Xu862O_9L4oxdBSkRotGJ2Id9smSovHtnUUo8'</span>,                               <span style=\"color: #7f7f7f; text-decoration-color: #7f7f7f\">                </span>\n",
       "<span style=\"color: #7fbfbf; text-decoration-color: #7fbfbf\">           </span>    <span style=\"color: #008000; text-decoration-color: #008000\">'crv'</span>: <span style=\"color: #008000; text-decoration-color: #008000\">'P-256'</span>,                                                                     <span style=\"color: #7f7f7f; text-decoration-color: #7f7f7f\">                </span>\n",
       "<span style=\"color: #7fbfbf; text-decoration-color: #7fbfbf\">           </span>    <span style=\"color: #008000; text-decoration-color: #008000\">'x'</span>: <span style=\"color: #008000; text-decoration-color: #008000\">'PTKECXSeSzIRRjYBKPECaRBRp1VH_g2EztKLJf8jpVc'</span>,                                 <span style=\"color: #7f7f7f; text-decoration-color: #7f7f7f\">                </span>\n",
       "<span style=\"color: #7fbfbf; text-decoration-color: #7fbfbf\">           </span>    <span style=\"color: #008000; text-decoration-color: #008000\">'y'</span>: <span style=\"color: #008000; text-decoration-color: #008000\">'HHpPqdZ8P0ZVz9CSryp7FvmtTTnNImmlQuiatJncoNM'</span>                                  <span style=\"color: #7f7f7f; text-decoration-color: #7f7f7f\">                </span>\n",
       "<span style=\"color: #7fbfbf; text-decoration-color: #7fbfbf\">           </span><span style=\"font-weight: bold\">}</span>                                                                                       <span style=\"color: #7f7f7f; text-decoration-color: #7f7f7f\">                </span>\n",
       "</pre>\n"
      ],
      "text/plain": [
       "\u001b[2;36m[22:04:22]\u001b[0m\u001b[2;36m \u001b[0mIssuer public key JWK:                                                                  \u001b]8;id=48567;file:///tmp/ipykernel_58664/1783267881.py\u001b\\\u001b[2m1783267881.py\u001b[0m\u001b]8;;\u001b\\\u001b[2m:\u001b[0m\u001b]8;id=963468;file:///tmp/ipykernel_58664/1783267881.py#13\u001b\\\u001b[2m13\u001b[0m\u001b]8;;\u001b\\\n",
       "\u001b[2;36m           \u001b[0m\u001b[1m{\u001b[0m                                                                                       \u001b[2m                \u001b[0m\n",
       "\u001b[2;36m           \u001b[0m    \u001b[32m'kty'\u001b[0m: \u001b[32m'EC'\u001b[0m,                                                                        \u001b[2m                \u001b[0m\n",
       "\u001b[2;36m           \u001b[0m    \u001b[32m'kid'\u001b[0m: \u001b[32m'tJ7_O_Xu862O_9L4oxdBSkRotGJ2Id9smSovHtnUUo8'\u001b[0m,                               \u001b[2m                \u001b[0m\n",
       "\u001b[2;36m           \u001b[0m    \u001b[32m'crv'\u001b[0m: \u001b[32m'P-256'\u001b[0m,                                                                     \u001b[2m                \u001b[0m\n",
       "\u001b[2;36m           \u001b[0m    \u001b[32m'x'\u001b[0m: \u001b[32m'PTKECXSeSzIRRjYBKPECaRBRp1VH_g2EztKLJf8jpVc'\u001b[0m,                                 \u001b[2m                \u001b[0m\n",
       "\u001b[2;36m           \u001b[0m    \u001b[32m'y'\u001b[0m: \u001b[32m'HHpPqdZ8P0ZVz9CSryp7FvmtTTnNImmlQuiatJncoNM'\u001b[0m                                  \u001b[2m                \u001b[0m\n",
       "\u001b[2;36m           \u001b[0m\u001b[1m}\u001b[0m                                                                                       \u001b[2m                \u001b[0m\n"
      ]
     },
     "metadata": {},
     "output_type": "display_data"
    }
   ],
   "source": [
    "import asyncio\n",
    "from ebsi_wallet.did_key import KeyDid, PublicKeyJWK\n",
    "from rich.console import Console\n",
    "\n",
    "console = Console()\n",
    "loop = asyncio.get_event_loop()\n",
    "\n",
    "# Generate did:key identifier and associated public and privatekey pairs from the cryptographic seed.\n",
    "cryptographic_seed = b'helloworld'\n",
    "issuer_did = KeyDid(seed=cryptographic_seed)\n",
    "issuer_did.create_keypair()\n",
    "\n",
    "console.log('Issuer public key JWK:', issuer_did.public_key_jwk)"
   ]
  },
  {
   "attachments": {},
   "cell_type": "markdown",
   "metadata": {},
   "source": [
    "## 2.0 Claims to be issued"
   ]
  },
  {
   "cell_type": "code",
   "execution_count": 17,
   "metadata": {},
   "outputs": [
    {
     "data": {
      "text/html": [
       "<pre style=\"white-space:pre;overflow-x:auto;line-height:normal;font-family:Menlo,'DejaVu Sans Mono',consolas,'Courier New',monospace\"><span style=\"color: #7fbfbf; text-decoration-color: #7fbfbf\">           </span>Certificate of Registration claims to be issued:                                        <a href=\"file:///tmp/ipykernel_58664/1828702974.py\" target=\"_blank\"><span style=\"color: #7f7f7f; text-decoration-color: #7f7f7f\">1828702974.py</span></a><span style=\"color: #7f7f7f; text-decoration-color: #7f7f7f\">:</span><a href=\"file:///tmp/ipykernel_58664/1828702974.py#18\" target=\"_blank\"><span style=\"color: #7f7f7f; text-decoration-color: #7f7f7f\">18</span></a>\n",
       "<span style=\"color: #7fbfbf; text-decoration-color: #7fbfbf\">           </span><span style=\"font-weight: bold\">{</span>                                                                                       <span style=\"color: #7f7f7f; text-decoration-color: #7f7f7f\">                </span>\n",
       "<span style=\"color: #7fbfbf; text-decoration-color: #7fbfbf\">           </span>    <span style=\"color: #008000; text-decoration-color: #008000\">'legalStatus'</span>: <span style=\"color: #008000; text-decoration-color: #008000\">'ACTIVE'</span>,                                                            <span style=\"color: #7f7f7f; text-decoration-color: #7f7f7f\">                </span>\n",
       "<span style=\"color: #7fbfbf; text-decoration-color: #7fbfbf\">           </span>    <span style=\"color: #008000; text-decoration-color: #008000\">'legalForm'</span>: <span style=\"color: #008000; text-decoration-color: #008000\">'Aktiebolag'</span>,                                                          <span style=\"color: #7f7f7f; text-decoration-color: #7f7f7f\">                </span>\n",
       "<span style=\"color: #7fbfbf; text-decoration-color: #7fbfbf\">           </span>    <span style=\"color: #008000; text-decoration-color: #008000\">'activity'</span>: <span style=\"color: #008000; text-decoration-color: #008000\">'Construction Industry'</span>,                                                <span style=\"color: #7f7f7f; text-decoration-color: #7f7f7f\">                </span>\n",
       "<span style=\"color: #7fbfbf; text-decoration-color: #7fbfbf\">           </span>    <span style=\"color: #008000; text-decoration-color: #008000\">'orgNumber'</span>: <span style=\"color: #008000; text-decoration-color: #008000\">'559133-2720'</span>,                                                         <span style=\"color: #7f7f7f; text-decoration-color: #7f7f7f\">                </span>\n",
       "<span style=\"color: #7fbfbf; text-decoration-color: #7fbfbf\">           </span>    <span style=\"color: #008000; text-decoration-color: #008000\">'registrationDate'</span>: <span style=\"color: #008000; text-decoration-color: #008000\">'2005-10-18'</span>,                                                   <span style=\"color: #7f7f7f; text-decoration-color: #7f7f7f\">                </span>\n",
       "<span style=\"color: #7fbfbf; text-decoration-color: #7fbfbf\">           </span>    <span style=\"color: #008000; text-decoration-color: #008000\">'registeredAddress'</span>: <span style=\"font-weight: bold\">{</span>                                                              <span style=\"color: #7f7f7f; text-decoration-color: #7f7f7f\">                </span>\n",
       "<span style=\"color: #7fbfbf; text-decoration-color: #7fbfbf\">           </span>        <span style=\"color: #008000; text-decoration-color: #008000\">'fullAddress'</span>: <span style=\"color: #008000; text-decoration-color: #008000\">'123 Main St'</span>,                                                   <span style=\"color: #7f7f7f; text-decoration-color: #7f7f7f\">                </span>\n",
       "<span style=\"color: #7fbfbf; text-decoration-color: #7fbfbf\">           </span>        <span style=\"color: #008000; text-decoration-color: #008000\">'thoroughFare'</span>: <span style=\"color: #008000; text-decoration-color: #008000\">'Sveavägen'</span>,                                                    <span style=\"color: #7f7f7f; text-decoration-color: #7f7f7f\">                </span>\n",
       "<span style=\"color: #7fbfbf; text-decoration-color: #7fbfbf\">           </span>        <span style=\"color: #008000; text-decoration-color: #008000\">'postName'</span>: <span style=\"color: #008000; text-decoration-color: #008000\">'Stockholm'</span>,                                                        <span style=\"color: #7f7f7f; text-decoration-color: #7f7f7f\">                </span>\n",
       "<span style=\"color: #7fbfbf; text-decoration-color: #7fbfbf\">           </span>        <span style=\"color: #008000; text-decoration-color: #008000\">'locatorDesignator'</span>: <span style=\"color: #008000; text-decoration-color: #008000\">'111 34'</span>,                                                  <span style=\"color: #7f7f7f; text-decoration-color: #7f7f7f\">                </span>\n",
       "<span style=\"color: #7fbfbf; text-decoration-color: #7fbfbf\">           </span>        <span style=\"color: #008000; text-decoration-color: #008000\">'code'</span>: <span style=\"color: #008000; text-decoration-color: #008000\">'48'</span>,                                                                   <span style=\"color: #7f7f7f; text-decoration-color: #7f7f7f\">                </span>\n",
       "<span style=\"color: #7fbfbf; text-decoration-color: #7fbfbf\">           </span>        <span style=\"color: #008000; text-decoration-color: #008000\">'adminUnitLevel1'</span>: <span style=\"color: #008000; text-decoration-color: #008000\">'SE'</span>                                                         <span style=\"color: #7f7f7f; text-decoration-color: #7f7f7f\">                </span>\n",
       "<span style=\"color: #7fbfbf; text-decoration-color: #7fbfbf\">           </span>    <span style=\"font-weight: bold\">}</span>,                                                                                  <span style=\"color: #7f7f7f; text-decoration-color: #7f7f7f\">                </span>\n",
       "<span style=\"color: #7fbfbf; text-decoration-color: #7fbfbf\">           </span>    <span style=\"color: #008000; text-decoration-color: #008000\">'attestationValidity'</span>: <span style=\"color: #008000; text-decoration-color: #008000\">'31-Dec-2022'</span>                                                <span style=\"color: #7f7f7f; text-decoration-color: #7f7f7f\">                </span>\n",
       "<span style=\"color: #7fbfbf; text-decoration-color: #7fbfbf\">           </span><span style=\"font-weight: bold\">}</span>                                                                                       <span style=\"color: #7f7f7f; text-decoration-color: #7f7f7f\">                </span>\n",
       "</pre>\n"
      ],
      "text/plain": [
       "\u001b[2;36m          \u001b[0m\u001b[2;36m \u001b[0mCertificate of Registration claims to be issued:                                        \u001b]8;id=381156;file:///tmp/ipykernel_58664/1828702974.py\u001b\\\u001b[2m1828702974.py\u001b[0m\u001b]8;;\u001b\\\u001b[2m:\u001b[0m\u001b]8;id=347993;file:///tmp/ipykernel_58664/1828702974.py#18\u001b\\\u001b[2m18\u001b[0m\u001b]8;;\u001b\\\n",
       "\u001b[2;36m           \u001b[0m\u001b[1m{\u001b[0m                                                                                       \u001b[2m                \u001b[0m\n",
       "\u001b[2;36m           \u001b[0m    \u001b[32m'legalStatus'\u001b[0m: \u001b[32m'ACTIVE'\u001b[0m,                                                            \u001b[2m                \u001b[0m\n",
       "\u001b[2;36m           \u001b[0m    \u001b[32m'legalForm'\u001b[0m: \u001b[32m'Aktiebolag'\u001b[0m,                                                          \u001b[2m                \u001b[0m\n",
       "\u001b[2;36m           \u001b[0m    \u001b[32m'activity'\u001b[0m: \u001b[32m'Construction Industry'\u001b[0m,                                                \u001b[2m                \u001b[0m\n",
       "\u001b[2;36m           \u001b[0m    \u001b[32m'orgNumber'\u001b[0m: \u001b[32m'559133-2720'\u001b[0m,                                                         \u001b[2m                \u001b[0m\n",
       "\u001b[2;36m           \u001b[0m    \u001b[32m'registrationDate'\u001b[0m: \u001b[32m'2005-10-18'\u001b[0m,                                                   \u001b[2m                \u001b[0m\n",
       "\u001b[2;36m           \u001b[0m    \u001b[32m'registeredAddress'\u001b[0m: \u001b[1m{\u001b[0m                                                              \u001b[2m                \u001b[0m\n",
       "\u001b[2;36m           \u001b[0m        \u001b[32m'fullAddress'\u001b[0m: \u001b[32m'123 Main St'\u001b[0m,                                                   \u001b[2m                \u001b[0m\n",
       "\u001b[2;36m           \u001b[0m        \u001b[32m'thoroughFare'\u001b[0m: \u001b[32m'Sveavägen'\u001b[0m,                                                    \u001b[2m                \u001b[0m\n",
       "\u001b[2;36m           \u001b[0m        \u001b[32m'postName'\u001b[0m: \u001b[32m'Stockholm'\u001b[0m,                                                        \u001b[2m                \u001b[0m\n",
       "\u001b[2;36m           \u001b[0m        \u001b[32m'locatorDesignator'\u001b[0m: \u001b[32m'111 34'\u001b[0m,                                                  \u001b[2m                \u001b[0m\n",
       "\u001b[2;36m           \u001b[0m        \u001b[32m'code'\u001b[0m: \u001b[32m'48'\u001b[0m,                                                                   \u001b[2m                \u001b[0m\n",
       "\u001b[2;36m           \u001b[0m        \u001b[32m'adminUnitLevel1'\u001b[0m: \u001b[32m'SE'\u001b[0m                                                         \u001b[2m                \u001b[0m\n",
       "\u001b[2;36m           \u001b[0m    \u001b[1m}\u001b[0m,                                                                                  \u001b[2m                \u001b[0m\n",
       "\u001b[2;36m           \u001b[0m    \u001b[32m'attestationValidity'\u001b[0m: \u001b[32m'31-Dec-2022'\u001b[0m                                                \u001b[2m                \u001b[0m\n",
       "\u001b[2;36m           \u001b[0m\u001b[1m}\u001b[0m                                                                                       \u001b[2m                \u001b[0m\n"
      ]
     },
     "metadata": {},
     "output_type": "display_data"
    }
   ],
   "source": [
    "certificate_of_registration_claims = {\n",
    "  \"legalStatus\": \"ACTIVE\",\n",
    "  \"legalForm\": \"Aktiebolag\",\n",
    "  \"activity\": \"Construction Industry\",\n",
    "  \"orgNumber\": \"559133-2720\",\n",
    "  \"registrationDate\": \"2005-10-18\",\n",
    "  \"registeredAddress\": {\n",
    "    \"fullAddress\": \"123 Main St\",\n",
    "    \"thoroughFare\": \"Sveavägen\",\n",
    "    \"postName\": \"Stockholm\",\n",
    "    \"locatorDesignator\": \"111 34\",\n",
    "    \"code\": \"48\",\n",
    "    \"adminUnitLevel1\": \"SE\"\n",
    "  },\n",
    "  \"attestationValidity\": \"31-Dec-2022\"\n",
    "}\n",
    "\n",
    "console.log(\"Certificate of Registration claims to be issued: \", certificate_of_registration_claims)"
   ]
  },
  {
   "attachments": {},
   "cell_type": "markdown",
   "metadata": {},
   "source": [
    "## 3.0 Calculate full disclosure for claims to be issued"
   ]
  },
  {
   "cell_type": "code",
   "execution_count": 18,
   "metadata": {},
   "outputs": [
    {
     "data": {
      "text/html": [
       "<pre style=\"white-space:pre;overflow-x:auto;line-height:normal;font-family:Menlo,'DejaVu Sans Mono',consolas,'Courier New',monospace\"><span style=\"color: #7fbfbf; text-decoration-color: #7fbfbf\">           </span>Disclosure content and base64:                                                          <a href=\"file:///tmp/ipykernel_58664/3891711265.py\" target=\"_blank\"><span style=\"color: #7f7f7f; text-decoration-color: #7f7f7f\">3891711265.py</span></a><span style=\"color: #7f7f7f; text-decoration-color: #7f7f7f\">:</span><a href=\"file:///tmp/ipykernel_58664/3891711265.py#11\" target=\"_blank\"><span style=\"color: #7f7f7f; text-decoration-color: #7f7f7f\">11</span></a>\n",
       "<span style=\"color: #7fbfbf; text-decoration-color: #7fbfbf\">           </span><span style=\"font-weight: bold\">[</span>                                                                                       <span style=\"color: #7f7f7f; text-decoration-color: #7f7f7f\">                </span>\n",
       "<span style=\"color: #7fbfbf; text-decoration-color: #7fbfbf\">           </span>    <span style=\"color: #800080; text-decoration-color: #800080; font-weight: bold\">Disclosure</span><span style=\"font-weight: bold\">(</span>                                                                         <span style=\"color: #7f7f7f; text-decoration-color: #7f7f7f\">                </span>\n",
       "<span style=\"color: #7fbfbf; text-decoration-color: #7fbfbf\">           </span>        <span style=\"color: #808000; text-decoration-color: #808000\">content</span>=<span style=\"font-weight: bold\">[</span><span style=\"color: #008000; text-decoration-color: #008000\">'2e2cb6b657722d8710155a0722f8da27'</span>, <span style=\"color: #008000; text-decoration-color: #008000\">'legalStatus'</span>, <span style=\"color: #008000; text-decoration-color: #008000\">'ACTIVE'</span><span style=\"font-weight: bold\">]</span>,          <span style=\"color: #7f7f7f; text-decoration-color: #7f7f7f\">                </span>\n",
       "<span style=\"color: #7fbfbf; text-decoration-color: #7fbfbf\">           </span>        <span style=\"color: #808000; text-decoration-color: #808000\">content_base64</span>=<span style=\"color: #008000; text-decoration-color: #008000\">'WyIyZTJjYjZiNjU3NzIyZDg3MTAxNTVhMDcyMmY4ZGEyNyIsICJsZWdhbFN0YXR</span> <span style=\"color: #7f7f7f; text-decoration-color: #7f7f7f\">                </span>\n",
       "<span style=\"color: #7fbfbf; text-decoration-color: #7fbfbf\">           </span><span style=\"color: #008000; text-decoration-color: #008000\">1cyIsICJBQ1RJVkUiXQ'</span>                                                                    <span style=\"color: #7f7f7f; text-decoration-color: #7f7f7f\">                </span>\n",
       "<span style=\"color: #7fbfbf; text-decoration-color: #7fbfbf\">           </span>    <span style=\"font-weight: bold\">)</span>,                                                                                  <span style=\"color: #7f7f7f; text-decoration-color: #7f7f7f\">                </span>\n",
       "<span style=\"color: #7fbfbf; text-decoration-color: #7fbfbf\">           </span>    <span style=\"color: #800080; text-decoration-color: #800080; font-weight: bold\">Disclosure</span><span style=\"font-weight: bold\">(</span>                                                                         <span style=\"color: #7f7f7f; text-decoration-color: #7f7f7f\">                </span>\n",
       "<span style=\"color: #7fbfbf; text-decoration-color: #7fbfbf\">           </span>        <span style=\"color: #808000; text-decoration-color: #808000\">content</span>=<span style=\"font-weight: bold\">[</span><span style=\"color: #008000; text-decoration-color: #008000\">'4cfd4281ccf7f83010aa1082e7735fa4'</span>, <span style=\"color: #008000; text-decoration-color: #008000\">'legalForm'</span>, <span style=\"color: #008000; text-decoration-color: #008000\">'Aktiebolag'</span><span style=\"font-weight: bold\">]</span>,        <span style=\"color: #7f7f7f; text-decoration-color: #7f7f7f\">                </span>\n",
       "<span style=\"color: #7fbfbf; text-decoration-color: #7fbfbf\">           </span>        <span style=\"color: #808000; text-decoration-color: #808000\">content_base64</span>=<span style=\"color: #008000; text-decoration-color: #008000\">'WyI0Y2ZkNDI4MWNjZjdmODMwMTBhYTEwODJlNzczNWZhNCIsICJsZWdhbEZvcm0</span> <span style=\"color: #7f7f7f; text-decoration-color: #7f7f7f\">                </span>\n",
       "<span style=\"color: #7fbfbf; text-decoration-color: #7fbfbf\">           </span><span style=\"color: #008000; text-decoration-color: #008000\">iLCAiQWt0aWVib2xhZyJd'</span>                                                                  <span style=\"color: #7f7f7f; text-decoration-color: #7f7f7f\">                </span>\n",
       "<span style=\"color: #7fbfbf; text-decoration-color: #7fbfbf\">           </span>    <span style=\"font-weight: bold\">)</span>,                                                                                  <span style=\"color: #7f7f7f; text-decoration-color: #7f7f7f\">                </span>\n",
       "<span style=\"color: #7fbfbf; text-decoration-color: #7fbfbf\">           </span>    <span style=\"color: #800080; text-decoration-color: #800080; font-weight: bold\">Disclosure</span><span style=\"font-weight: bold\">(</span>                                                                         <span style=\"color: #7f7f7f; text-decoration-color: #7f7f7f\">                </span>\n",
       "<span style=\"color: #7fbfbf; text-decoration-color: #7fbfbf\">           </span>        <span style=\"color: #808000; text-decoration-color: #808000\">content</span>=<span style=\"font-weight: bold\">[</span>                                                                       <span style=\"color: #7f7f7f; text-decoration-color: #7f7f7f\">                </span>\n",
       "<span style=\"color: #7fbfbf; text-decoration-color: #7fbfbf\">           </span>            <span style=\"color: #008000; text-decoration-color: #008000\">'8c87b7421f49f115f4f8949f7153df1a'</span>,                                         <span style=\"color: #7f7f7f; text-decoration-color: #7f7f7f\">                </span>\n",
       "<span style=\"color: #7fbfbf; text-decoration-color: #7fbfbf\">           </span>            <span style=\"color: #008000; text-decoration-color: #008000\">'activity'</span>,                                                                 <span style=\"color: #7f7f7f; text-decoration-color: #7f7f7f\">                </span>\n",
       "<span style=\"color: #7fbfbf; text-decoration-color: #7fbfbf\">           </span>            <span style=\"color: #008000; text-decoration-color: #008000\">'Construction Industry'</span>                                                     <span style=\"color: #7f7f7f; text-decoration-color: #7f7f7f\">                </span>\n",
       "<span style=\"color: #7fbfbf; text-decoration-color: #7fbfbf\">           </span>        <span style=\"font-weight: bold\">]</span>,                                                                              <span style=\"color: #7f7f7f; text-decoration-color: #7f7f7f\">                </span>\n",
       "<span style=\"color: #7fbfbf; text-decoration-color: #7fbfbf\">           </span>        <span style=\"color: #808000; text-decoration-color: #808000\">content_base64</span>=<span style=\"color: #008000; text-decoration-color: #008000\">'WyI4Yzg3Yjc0MjFmNDlmMTE1ZjRmODk0OWY3MTUzZGYxYSIsICJhY3Rpdml0eSI</span> <span style=\"color: #7f7f7f; text-decoration-color: #7f7f7f\">                </span>\n",
       "<span style=\"color: #7fbfbf; text-decoration-color: #7fbfbf\">           </span><span style=\"color: #008000; text-decoration-color: #008000\">sICJDb25zdHJ1Y3Rpb24gSW5kdXN0cnkiXQ'</span>                                                    <span style=\"color: #7f7f7f; text-decoration-color: #7f7f7f\">                </span>\n",
       "<span style=\"color: #7fbfbf; text-decoration-color: #7fbfbf\">           </span>    <span style=\"font-weight: bold\">)</span>,                                                                                  <span style=\"color: #7f7f7f; text-decoration-color: #7f7f7f\">                </span>\n",
       "<span style=\"color: #7fbfbf; text-decoration-color: #7fbfbf\">           </span>    <span style=\"color: #800080; text-decoration-color: #800080; font-weight: bold\">Disclosure</span><span style=\"font-weight: bold\">(</span>                                                                         <span style=\"color: #7f7f7f; text-decoration-color: #7f7f7f\">                </span>\n",
       "<span style=\"color: #7fbfbf; text-decoration-color: #7fbfbf\">           </span>        <span style=\"color: #808000; text-decoration-color: #808000\">content</span>=<span style=\"font-weight: bold\">[</span><span style=\"color: #008000; text-decoration-color: #008000\">'6d7b63d4e5c939556a954a2364224091'</span>, <span style=\"color: #008000; text-decoration-color: #008000\">'orgNumber'</span>, <span style=\"color: #008000; text-decoration-color: #008000\">'559133-2720'</span><span style=\"font-weight: bold\">]</span>,       <span style=\"color: #7f7f7f; text-decoration-color: #7f7f7f\">                </span>\n",
       "<span style=\"color: #7fbfbf; text-decoration-color: #7fbfbf\">           </span>        <span style=\"color: #808000; text-decoration-color: #808000\">content_base64</span>=<span style=\"color: #008000; text-decoration-color: #008000\">'WyI2ZDdiNjNkNGU1YzkzOTU1NmE5NTRhMjM2NDIyNDA5MSIsICJvcmdOdW1iZXI</span> <span style=\"color: #7f7f7f; text-decoration-color: #7f7f7f\">                </span>\n",
       "<span style=\"color: #7fbfbf; text-decoration-color: #7fbfbf\">           </span><span style=\"color: #008000; text-decoration-color: #008000\">iLCAiNTU5MTMzLTI3MjAiXQ'</span>                                                                <span style=\"color: #7f7f7f; text-decoration-color: #7f7f7f\">                </span>\n",
       "<span style=\"color: #7fbfbf; text-decoration-color: #7fbfbf\">           </span>    <span style=\"font-weight: bold\">)</span>,                                                                                  <span style=\"color: #7f7f7f; text-decoration-color: #7f7f7f\">                </span>\n",
       "<span style=\"color: #7fbfbf; text-decoration-color: #7fbfbf\">           </span>    <span style=\"color: #800080; text-decoration-color: #800080; font-weight: bold\">Disclosure</span><span style=\"font-weight: bold\">(</span>                                                                         <span style=\"color: #7f7f7f; text-decoration-color: #7f7f7f\">                </span>\n",
       "<span style=\"color: #7fbfbf; text-decoration-color: #7fbfbf\">           </span>        <span style=\"color: #808000; text-decoration-color: #808000\">content</span>=<span style=\"font-weight: bold\">[</span>                                                                       <span style=\"color: #7f7f7f; text-decoration-color: #7f7f7f\">                </span>\n",
       "<span style=\"color: #7fbfbf; text-decoration-color: #7fbfbf\">           </span>            <span style=\"color: #008000; text-decoration-color: #008000\">'71cf238c950617c45e62090db4327aba'</span>,                                         <span style=\"color: #7f7f7f; text-decoration-color: #7f7f7f\">                </span>\n",
       "<span style=\"color: #7fbfbf; text-decoration-color: #7fbfbf\">           </span>            <span style=\"color: #008000; text-decoration-color: #008000\">'registrationDate'</span>,                                                         <span style=\"color: #7f7f7f; text-decoration-color: #7f7f7f\">                </span>\n",
       "<span style=\"color: #7fbfbf; text-decoration-color: #7fbfbf\">           </span>            <span style=\"color: #008000; text-decoration-color: #008000\">'2005-10-18'</span>                                                                <span style=\"color: #7f7f7f; text-decoration-color: #7f7f7f\">                </span>\n",
       "<span style=\"color: #7fbfbf; text-decoration-color: #7fbfbf\">           </span>        <span style=\"font-weight: bold\">]</span>,                                                                              <span style=\"color: #7f7f7f; text-decoration-color: #7f7f7f\">                </span>\n",
       "<span style=\"color: #7fbfbf; text-decoration-color: #7fbfbf\">           </span>        <span style=\"color: #808000; text-decoration-color: #808000\">content_base64</span>=<span style=\"color: #008000; text-decoration-color: #008000\">'WyI3MWNmMjM4Yzk1MDYxN2M0NWU2MjA5MGRiNDMyN2FiYSIsICJyZWdpc3RyYXR</span> <span style=\"color: #7f7f7f; text-decoration-color: #7f7f7f\">                </span>\n",
       "<span style=\"color: #7fbfbf; text-decoration-color: #7fbfbf\">           </span><span style=\"color: #008000; text-decoration-color: #008000\">pb25EYXRlIiwgIjIwMDUtMTAtMTgiXQ'</span>                                                        <span style=\"color: #7f7f7f; text-decoration-color: #7f7f7f\">                </span>\n",
       "<span style=\"color: #7fbfbf; text-decoration-color: #7fbfbf\">           </span>    <span style=\"font-weight: bold\">)</span>,                                                                                  <span style=\"color: #7f7f7f; text-decoration-color: #7f7f7f\">                </span>\n",
       "<span style=\"color: #7fbfbf; text-decoration-color: #7fbfbf\">           </span>    <span style=\"color: #800080; text-decoration-color: #800080; font-weight: bold\">Disclosure</span><span style=\"font-weight: bold\">(</span>                                                                         <span style=\"color: #7f7f7f; text-decoration-color: #7f7f7f\">                </span>\n",
       "<span style=\"color: #7fbfbf; text-decoration-color: #7fbfbf\">           </span>        <span style=\"color: #808000; text-decoration-color: #808000\">content</span>=<span style=\"font-weight: bold\">[</span>                                                                       <span style=\"color: #7f7f7f; text-decoration-color: #7f7f7f\">                </span>\n",
       "<span style=\"color: #7fbfbf; text-decoration-color: #7fbfbf\">           </span>            <span style=\"color: #008000; text-decoration-color: #008000\">'abe2a9b6b3042803f9b662a22b760e4a'</span>,                                         <span style=\"color: #7f7f7f; text-decoration-color: #7f7f7f\">                </span>\n",
       "<span style=\"color: #7fbfbf; text-decoration-color: #7fbfbf\">           </span>            <span style=\"color: #008000; text-decoration-color: #008000\">'registeredAddress'</span>,                                                        <span style=\"color: #7f7f7f; text-decoration-color: #7f7f7f\">                </span>\n",
       "<span style=\"color: #7fbfbf; text-decoration-color: #7fbfbf\">           </span>            <span style=\"font-weight: bold\">{</span>                                                                           <span style=\"color: #7f7f7f; text-decoration-color: #7f7f7f\">                </span>\n",
       "<span style=\"color: #7fbfbf; text-decoration-color: #7fbfbf\">           </span>                <span style=\"color: #008000; text-decoration-color: #008000\">'fullAddress'</span>: <span style=\"color: #008000; text-decoration-color: #008000\">'123 Main St'</span>,                                           <span style=\"color: #7f7f7f; text-decoration-color: #7f7f7f\">                </span>\n",
       "<span style=\"color: #7fbfbf; text-decoration-color: #7fbfbf\">           </span>                <span style=\"color: #008000; text-decoration-color: #008000\">'thoroughFare'</span>: <span style=\"color: #008000; text-decoration-color: #008000\">'Sveavägen'</span>,                                            <span style=\"color: #7f7f7f; text-decoration-color: #7f7f7f\">                </span>\n",
       "<span style=\"color: #7fbfbf; text-decoration-color: #7fbfbf\">           </span>                <span style=\"color: #008000; text-decoration-color: #008000\">'postName'</span>: <span style=\"color: #008000; text-decoration-color: #008000\">'Stockholm'</span>,                                                <span style=\"color: #7f7f7f; text-decoration-color: #7f7f7f\">                </span>\n",
       "<span style=\"color: #7fbfbf; text-decoration-color: #7fbfbf\">           </span>                <span style=\"color: #008000; text-decoration-color: #008000\">'locatorDesignator'</span>: <span style=\"color: #008000; text-decoration-color: #008000\">'111 34'</span>,                                          <span style=\"color: #7f7f7f; text-decoration-color: #7f7f7f\">                </span>\n",
       "<span style=\"color: #7fbfbf; text-decoration-color: #7fbfbf\">           </span>                <span style=\"color: #008000; text-decoration-color: #008000\">'code'</span>: <span style=\"color: #008000; text-decoration-color: #008000\">'48'</span>,                                                           <span style=\"color: #7f7f7f; text-decoration-color: #7f7f7f\">                </span>\n",
       "<span style=\"color: #7fbfbf; text-decoration-color: #7fbfbf\">           </span>                <span style=\"color: #008000; text-decoration-color: #008000\">'adminUnitLevel1'</span>: <span style=\"color: #008000; text-decoration-color: #008000\">'SE'</span>                                                 <span style=\"color: #7f7f7f; text-decoration-color: #7f7f7f\">                </span>\n",
       "<span style=\"color: #7fbfbf; text-decoration-color: #7fbfbf\">           </span>            <span style=\"font-weight: bold\">}</span>                                                                           <span style=\"color: #7f7f7f; text-decoration-color: #7f7f7f\">                </span>\n",
       "<span style=\"color: #7fbfbf; text-decoration-color: #7fbfbf\">           </span>        <span style=\"font-weight: bold\">]</span>,                                                                              <span style=\"color: #7f7f7f; text-decoration-color: #7f7f7f\">                </span>\n",
       "<span style=\"color: #7fbfbf; text-decoration-color: #7fbfbf\">           </span>        <span style=\"color: #808000; text-decoration-color: #808000\">content_base64</span>=<span style=\"color: #008000; text-decoration-color: #008000\">'WyJhYmUyYTliNmIzMDQyODAzZjliNjYyYTIyYjc2MGU0YSIsICJyZWdpc3RlcmV</span> <span style=\"color: #7f7f7f; text-decoration-color: #7f7f7f\">                </span>\n",
       "<span style=\"color: #7fbfbf; text-decoration-color: #7fbfbf\">           </span><span style=\"color: #008000; text-decoration-color: #008000\">kQWRkcmVzcyIsIHsiZnVsbEFkZHJlc3MiOiAiMTIzIE1haW4gU3QiLCAidGhvcm91Z2hGYXJlIjogIlN2ZWF2XH</span> <span style=\"color: #7f7f7f; text-decoration-color: #7f7f7f\">                </span>\n",
       "<span style=\"color: #7fbfbf; text-decoration-color: #7fbfbf\">           </span><span style=\"color: #008000; text-decoration-color: #008000\">UwMGU0Z2VuIiwgInBvc3ROYW1lIjogIlN0b2NraG9sbSIsICJsb2NhdG9yRGVzaWduYXRvciI6ICIxMTEgMzQiL</span> <span style=\"color: #7f7f7f; text-decoration-color: #7f7f7f\">                </span>\n",
       "<span style=\"color: #7fbfbf; text-decoration-color: #7fbfbf\">           </span><span style=\"color: #008000; text-decoration-color: #008000\">CAiY29kZSI6ICI0OCIsICJhZG1pblVuaXRMZXZlbDEiOiAiU0UifV0'</span>                                 <span style=\"color: #7f7f7f; text-decoration-color: #7f7f7f\">                </span>\n",
       "<span style=\"color: #7fbfbf; text-decoration-color: #7fbfbf\">           </span>    <span style=\"font-weight: bold\">)</span>,                                                                                  <span style=\"color: #7f7f7f; text-decoration-color: #7f7f7f\">                </span>\n",
       "<span style=\"color: #7fbfbf; text-decoration-color: #7fbfbf\">           </span>    <span style=\"color: #800080; text-decoration-color: #800080; font-weight: bold\">Disclosure</span><span style=\"font-weight: bold\">(</span>                                                                         <span style=\"color: #7f7f7f; text-decoration-color: #7f7f7f\">                </span>\n",
       "<span style=\"color: #7fbfbf; text-decoration-color: #7fbfbf\">           </span>        <span style=\"color: #808000; text-decoration-color: #808000\">content</span>=<span style=\"font-weight: bold\">[</span>                                                                       <span style=\"color: #7f7f7f; text-decoration-color: #7f7f7f\">                </span>\n",
       "<span style=\"color: #7fbfbf; text-decoration-color: #7fbfbf\">           </span>            <span style=\"color: #008000; text-decoration-color: #008000\">'bed28034f5999407f53b3b97fe7bdf7b'</span>,                                         <span style=\"color: #7f7f7f; text-decoration-color: #7f7f7f\">                </span>\n",
       "<span style=\"color: #7fbfbf; text-decoration-color: #7fbfbf\">           </span>            <span style=\"color: #008000; text-decoration-color: #008000\">'attestationValidity'</span>,                                                      <span style=\"color: #7f7f7f; text-decoration-color: #7f7f7f\">                </span>\n",
       "<span style=\"color: #7fbfbf; text-decoration-color: #7fbfbf\">           </span>            <span style=\"color: #008000; text-decoration-color: #008000\">'31-Dec-2022'</span>                                                               <span style=\"color: #7f7f7f; text-decoration-color: #7f7f7f\">                </span>\n",
       "<span style=\"color: #7fbfbf; text-decoration-color: #7fbfbf\">           </span>        <span style=\"font-weight: bold\">]</span>,                                                                              <span style=\"color: #7f7f7f; text-decoration-color: #7f7f7f\">                </span>\n",
       "<span style=\"color: #7fbfbf; text-decoration-color: #7fbfbf\">           </span>        <span style=\"color: #808000; text-decoration-color: #808000\">content_base64</span>=<span style=\"color: #008000; text-decoration-color: #008000\">'WyJiZWQyODAzNGY1OTk5NDA3ZjUzYjNiOTdmZTdiZGY3YiIsICJhdHRlc3RhdGl</span> <span style=\"color: #7f7f7f; text-decoration-color: #7f7f7f\">                </span>\n",
       "<span style=\"color: #7fbfbf; text-decoration-color: #7fbfbf\">           </span><span style=\"color: #008000; text-decoration-color: #008000\">vblZhbGlkaXR5IiwgIjMxLURlYy0yMDIyIl0'</span>                                                   <span style=\"color: #7f7f7f; text-decoration-color: #7f7f7f\">                </span>\n",
       "<span style=\"color: #7fbfbf; text-decoration-color: #7fbfbf\">           </span>    <span style=\"font-weight: bold\">)</span>                                                                                   <span style=\"color: #7f7f7f; text-decoration-color: #7f7f7f\">                </span>\n",
       "<span style=\"color: #7fbfbf; text-decoration-color: #7fbfbf\">           </span><span style=\"font-weight: bold\">]</span>                                                                                       <span style=\"color: #7f7f7f; text-decoration-color: #7f7f7f\">                </span>\n",
       "</pre>\n"
      ],
      "text/plain": [
       "\u001b[2;36m          \u001b[0m\u001b[2;36m \u001b[0mDisclosure content and base64:                                                          \u001b]8;id=42498;file:///tmp/ipykernel_58664/3891711265.py\u001b\\\u001b[2m3891711265.py\u001b[0m\u001b]8;;\u001b\\\u001b[2m:\u001b[0m\u001b]8;id=47839;file:///tmp/ipykernel_58664/3891711265.py#11\u001b\\\u001b[2m11\u001b[0m\u001b]8;;\u001b\\\n",
       "\u001b[2;36m           \u001b[0m\u001b[1m[\u001b[0m                                                                                       \u001b[2m                \u001b[0m\n",
       "\u001b[2;36m           \u001b[0m    \u001b[1;35mDisclosure\u001b[0m\u001b[1m(\u001b[0m                                                                         \u001b[2m                \u001b[0m\n",
       "\u001b[2;36m           \u001b[0m        \u001b[33mcontent\u001b[0m=\u001b[1m[\u001b[0m\u001b[32m'2e2cb6b657722d8710155a0722f8da27'\u001b[0m, \u001b[32m'legalStatus'\u001b[0m, \u001b[32m'ACTIVE'\u001b[0m\u001b[1m]\u001b[0m,          \u001b[2m                \u001b[0m\n",
       "\u001b[2;36m           \u001b[0m        \u001b[33mcontent_base64\u001b[0m=\u001b[32m'WyIyZTJjYjZiNjU3NzIyZDg3MTAxNTVhMDcyMmY4ZGEyNyIsICJsZWdhbFN0YXR\u001b[0m \u001b[2m                \u001b[0m\n",
       "\u001b[2;36m           \u001b[0m\u001b[32m1cyIsICJBQ1RJVkUiXQ'\u001b[0m                                                                    \u001b[2m                \u001b[0m\n",
       "\u001b[2;36m           \u001b[0m    \u001b[1m)\u001b[0m,                                                                                  \u001b[2m                \u001b[0m\n",
       "\u001b[2;36m           \u001b[0m    \u001b[1;35mDisclosure\u001b[0m\u001b[1m(\u001b[0m                                                                         \u001b[2m                \u001b[0m\n",
       "\u001b[2;36m           \u001b[0m        \u001b[33mcontent\u001b[0m=\u001b[1m[\u001b[0m\u001b[32m'4cfd4281ccf7f83010aa1082e7735fa4'\u001b[0m, \u001b[32m'legalForm'\u001b[0m, \u001b[32m'Aktiebolag'\u001b[0m\u001b[1m]\u001b[0m,        \u001b[2m                \u001b[0m\n",
       "\u001b[2;36m           \u001b[0m        \u001b[33mcontent_base64\u001b[0m=\u001b[32m'WyI0Y2ZkNDI4MWNjZjdmODMwMTBhYTEwODJlNzczNWZhNCIsICJsZWdhbEZvcm0\u001b[0m \u001b[2m                \u001b[0m\n",
       "\u001b[2;36m           \u001b[0m\u001b[32miLCAiQWt0aWVib2xhZyJd'\u001b[0m                                                                  \u001b[2m                \u001b[0m\n",
       "\u001b[2;36m           \u001b[0m    \u001b[1m)\u001b[0m,                                                                                  \u001b[2m                \u001b[0m\n",
       "\u001b[2;36m           \u001b[0m    \u001b[1;35mDisclosure\u001b[0m\u001b[1m(\u001b[0m                                                                         \u001b[2m                \u001b[0m\n",
       "\u001b[2;36m           \u001b[0m        \u001b[33mcontent\u001b[0m=\u001b[1m[\u001b[0m                                                                       \u001b[2m                \u001b[0m\n",
       "\u001b[2;36m           \u001b[0m            \u001b[32m'8c87b7421f49f115f4f8949f7153df1a'\u001b[0m,                                         \u001b[2m                \u001b[0m\n",
       "\u001b[2;36m           \u001b[0m            \u001b[32m'activity'\u001b[0m,                                                                 \u001b[2m                \u001b[0m\n",
       "\u001b[2;36m           \u001b[0m            \u001b[32m'Construction Industry'\u001b[0m                                                     \u001b[2m                \u001b[0m\n",
       "\u001b[2;36m           \u001b[0m        \u001b[1m]\u001b[0m,                                                                              \u001b[2m                \u001b[0m\n",
       "\u001b[2;36m           \u001b[0m        \u001b[33mcontent_base64\u001b[0m=\u001b[32m'WyI4Yzg3Yjc0MjFmNDlmMTE1ZjRmODk0OWY3MTUzZGYxYSIsICJhY3Rpdml0eSI\u001b[0m \u001b[2m                \u001b[0m\n",
       "\u001b[2;36m           \u001b[0m\u001b[32msICJDb25zdHJ1Y3Rpb24gSW5kdXN0cnkiXQ'\u001b[0m                                                    \u001b[2m                \u001b[0m\n",
       "\u001b[2;36m           \u001b[0m    \u001b[1m)\u001b[0m,                                                                                  \u001b[2m                \u001b[0m\n",
       "\u001b[2;36m           \u001b[0m    \u001b[1;35mDisclosure\u001b[0m\u001b[1m(\u001b[0m                                                                         \u001b[2m                \u001b[0m\n",
       "\u001b[2;36m           \u001b[0m        \u001b[33mcontent\u001b[0m=\u001b[1m[\u001b[0m\u001b[32m'6d7b63d4e5c939556a954a2364224091'\u001b[0m, \u001b[32m'orgNumber'\u001b[0m, \u001b[32m'559133-2720'\u001b[0m\u001b[1m]\u001b[0m,       \u001b[2m                \u001b[0m\n",
       "\u001b[2;36m           \u001b[0m        \u001b[33mcontent_base64\u001b[0m=\u001b[32m'WyI2ZDdiNjNkNGU1YzkzOTU1NmE5NTRhMjM2NDIyNDA5MSIsICJvcmdOdW1iZXI\u001b[0m \u001b[2m                \u001b[0m\n",
       "\u001b[2;36m           \u001b[0m\u001b[32miLCAiNTU5MTMzLTI3MjAiXQ'\u001b[0m                                                                \u001b[2m                \u001b[0m\n",
       "\u001b[2;36m           \u001b[0m    \u001b[1m)\u001b[0m,                                                                                  \u001b[2m                \u001b[0m\n",
       "\u001b[2;36m           \u001b[0m    \u001b[1;35mDisclosure\u001b[0m\u001b[1m(\u001b[0m                                                                         \u001b[2m                \u001b[0m\n",
       "\u001b[2;36m           \u001b[0m        \u001b[33mcontent\u001b[0m=\u001b[1m[\u001b[0m                                                                       \u001b[2m                \u001b[0m\n",
       "\u001b[2;36m           \u001b[0m            \u001b[32m'71cf238c950617c45e62090db4327aba'\u001b[0m,                                         \u001b[2m                \u001b[0m\n",
       "\u001b[2;36m           \u001b[0m            \u001b[32m'registrationDate'\u001b[0m,                                                         \u001b[2m                \u001b[0m\n",
       "\u001b[2;36m           \u001b[0m            \u001b[32m'2005-10-18'\u001b[0m                                                                \u001b[2m                \u001b[0m\n",
       "\u001b[2;36m           \u001b[0m        \u001b[1m]\u001b[0m,                                                                              \u001b[2m                \u001b[0m\n",
       "\u001b[2;36m           \u001b[0m        \u001b[33mcontent_base64\u001b[0m=\u001b[32m'WyI3MWNmMjM4Yzk1MDYxN2M0NWU2MjA5MGRiNDMyN2FiYSIsICJyZWdpc3RyYXR\u001b[0m \u001b[2m                \u001b[0m\n",
       "\u001b[2;36m           \u001b[0m\u001b[32mpb25EYXRlIiwgIjIwMDUtMTAtMTgiXQ'\u001b[0m                                                        \u001b[2m                \u001b[0m\n",
       "\u001b[2;36m           \u001b[0m    \u001b[1m)\u001b[0m,                                                                                  \u001b[2m                \u001b[0m\n",
       "\u001b[2;36m           \u001b[0m    \u001b[1;35mDisclosure\u001b[0m\u001b[1m(\u001b[0m                                                                         \u001b[2m                \u001b[0m\n",
       "\u001b[2;36m           \u001b[0m        \u001b[33mcontent\u001b[0m=\u001b[1m[\u001b[0m                                                                       \u001b[2m                \u001b[0m\n",
       "\u001b[2;36m           \u001b[0m            \u001b[32m'abe2a9b6b3042803f9b662a22b760e4a'\u001b[0m,                                         \u001b[2m                \u001b[0m\n",
       "\u001b[2;36m           \u001b[0m            \u001b[32m'registeredAddress'\u001b[0m,                                                        \u001b[2m                \u001b[0m\n",
       "\u001b[2;36m           \u001b[0m            \u001b[1m{\u001b[0m                                                                           \u001b[2m                \u001b[0m\n",
       "\u001b[2;36m           \u001b[0m                \u001b[32m'fullAddress'\u001b[0m: \u001b[32m'123 Main St'\u001b[0m,                                           \u001b[2m                \u001b[0m\n",
       "\u001b[2;36m           \u001b[0m                \u001b[32m'thoroughFare'\u001b[0m: \u001b[32m'Sveavägen'\u001b[0m,                                            \u001b[2m                \u001b[0m\n",
       "\u001b[2;36m           \u001b[0m                \u001b[32m'postName'\u001b[0m: \u001b[32m'Stockholm'\u001b[0m,                                                \u001b[2m                \u001b[0m\n",
       "\u001b[2;36m           \u001b[0m                \u001b[32m'locatorDesignator'\u001b[0m: \u001b[32m'111 34'\u001b[0m,                                          \u001b[2m                \u001b[0m\n",
       "\u001b[2;36m           \u001b[0m                \u001b[32m'code'\u001b[0m: \u001b[32m'48'\u001b[0m,                                                           \u001b[2m                \u001b[0m\n",
       "\u001b[2;36m           \u001b[0m                \u001b[32m'adminUnitLevel1'\u001b[0m: \u001b[32m'SE'\u001b[0m                                                 \u001b[2m                \u001b[0m\n",
       "\u001b[2;36m           \u001b[0m            \u001b[1m}\u001b[0m                                                                           \u001b[2m                \u001b[0m\n",
       "\u001b[2;36m           \u001b[0m        \u001b[1m]\u001b[0m,                                                                              \u001b[2m                \u001b[0m\n",
       "\u001b[2;36m           \u001b[0m        \u001b[33mcontent_base64\u001b[0m=\u001b[32m'WyJhYmUyYTliNmIzMDQyODAzZjliNjYyYTIyYjc2MGU0YSIsICJyZWdpc3RlcmV\u001b[0m \u001b[2m                \u001b[0m\n",
       "\u001b[2;36m           \u001b[0m\u001b[32mkQWRkcmVzcyIsIHsiZnVsbEFkZHJlc3MiOiAiMTIzIE1haW4gU3QiLCAidGhvcm91Z2hGYXJlIjogIlN2ZWF2XH\u001b[0m \u001b[2m                \u001b[0m\n",
       "\u001b[2;36m           \u001b[0m\u001b[32mUwMGU0Z2VuIiwgInBvc3ROYW1lIjogIlN0b2NraG9sbSIsICJsb2NhdG9yRGVzaWduYXRvciI6ICIxMTEgMzQiL\u001b[0m \u001b[2m                \u001b[0m\n",
       "\u001b[2;36m           \u001b[0m\u001b[32mCAiY29kZSI6ICI0OCIsICJhZG1pblVuaXRMZXZlbDEiOiAiU0UifV0'\u001b[0m                                 \u001b[2m                \u001b[0m\n",
       "\u001b[2;36m           \u001b[0m    \u001b[1m)\u001b[0m,                                                                                  \u001b[2m                \u001b[0m\n",
       "\u001b[2;36m           \u001b[0m    \u001b[1;35mDisclosure\u001b[0m\u001b[1m(\u001b[0m                                                                         \u001b[2m                \u001b[0m\n",
       "\u001b[2;36m           \u001b[0m        \u001b[33mcontent\u001b[0m=\u001b[1m[\u001b[0m                                                                       \u001b[2m                \u001b[0m\n",
       "\u001b[2;36m           \u001b[0m            \u001b[32m'bed28034f5999407f53b3b97fe7bdf7b'\u001b[0m,                                         \u001b[2m                \u001b[0m\n",
       "\u001b[2;36m           \u001b[0m            \u001b[32m'attestationValidity'\u001b[0m,                                                      \u001b[2m                \u001b[0m\n",
       "\u001b[2;36m           \u001b[0m            \u001b[32m'31-Dec-2022'\u001b[0m                                                               \u001b[2m                \u001b[0m\n",
       "\u001b[2;36m           \u001b[0m        \u001b[1m]\u001b[0m,                                                                              \u001b[2m                \u001b[0m\n",
       "\u001b[2;36m           \u001b[0m        \u001b[33mcontent_base64\u001b[0m=\u001b[32m'WyJiZWQyODAzNGY1OTk5NDA3ZjUzYjNiOTdmZTdiZGY3YiIsICJhdHRlc3RhdGl\u001b[0m \u001b[2m                \u001b[0m\n",
       "\u001b[2;36m           \u001b[0m\u001b[32mvblZhbGlkaXR5IiwgIjMxLURlYy0yMDIyIl0'\u001b[0m                                                   \u001b[2m                \u001b[0m\n",
       "\u001b[2;36m           \u001b[0m    \u001b[1m)\u001b[0m                                                                                   \u001b[2m                \u001b[0m\n",
       "\u001b[2;36m           \u001b[0m\u001b[1m]\u001b[0m                                                                                       \u001b[2m                \u001b[0m\n"
      ]
     },
     "metadata": {},
     "output_type": "display_data"
    }
   ],
   "source": [
    "from collections import namedtuple\n",
    "from ebsi_wallet.util import generate_disclosure_content_and_base64\n",
    "\n",
    "Disclosure = namedtuple('Disclosure', ['content', 'content_base64'])\n",
    "\n",
    "disclosures = []\n",
    "for key, value in certificate_of_registration_claims.items():\n",
    "    disclosure, disclosure_base64 = generate_disclosure_content_and_base64(key, value)\n",
    "    disclosures.append(Disclosure(content=disclosure, content_base64=disclosure_base64))\n",
    "\n",
    "console.log(\"Disclosure content and base64: \", disclosures)"
   ]
  },
  {
   "attachments": {},
   "cell_type": "markdown",
   "metadata": {},
   "source": [
    "## 4.0 Adding decoy digests"
   ]
  },
  {
   "cell_type": "code",
   "execution_count": 19,
   "metadata": {},
   "outputs": [],
   "source": [
    "decoy_disclosures = []\n",
    "for index in range(10):\n",
    "    disclosure, disclosure_base64 = generate_disclosure_content_and_base64(index, index)\n",
    "    decoy_disclosures.append(Disclosure(content=disclosure, content_base64=disclosure_base64))\n",
    "\n",
    "# Append decoy disclosures to the list of disclosures\n",
    "disclosures += decoy_disclosures"
   ]
  },
  {
   "attachments": {},
   "cell_type": "markdown",
   "metadata": {},
   "source": [
    "## 5.0 Calculate disclosure SHA-256 digest"
   ]
  },
  {
   "cell_type": "code",
   "execution_count": 20,
   "metadata": {},
   "outputs": [
    {
     "data": {
      "text/html": [
       "<pre style=\"white-space:pre;overflow-x:auto;line-height:normal;font-family:Menlo,'DejaVu Sans Mono',consolas,'Courier New',monospace\"><span style=\"color: #7fbfbf; text-decoration-color: #7fbfbf\">           </span>Disclosure SHA-256s:                                                                    <a href=\"file:///tmp/ipykernel_58664/4219520306.py\" target=\"_blank\"><span style=\"color: #7f7f7f; text-decoration-color: #7f7f7f\">4219520306.py</span></a><span style=\"color: #7f7f7f; text-decoration-color: #7f7f7f\">:</span><a href=\"file:///tmp/ipykernel_58664/4219520306.py#16\" target=\"_blank\"><span style=\"color: #7f7f7f; text-decoration-color: #7f7f7f\">16</span></a>\n",
       "<span style=\"color: #7fbfbf; text-decoration-color: #7fbfbf\">           </span><span style=\"font-weight: bold\">[</span>                                                                                       <span style=\"color: #7f7f7f; text-decoration-color: #7f7f7f\">                </span>\n",
       "<span style=\"color: #7fbfbf; text-decoration-color: #7fbfbf\">           </span>    <span style=\"color: #008000; text-decoration-color: #008000\">'EC9obJVyJxoW_uHIGB62aNQASbBH08SsVt1azEoyo0M'</span>,                                      <span style=\"color: #7f7f7f; text-decoration-color: #7f7f7f\">                </span>\n",
       "<span style=\"color: #7fbfbf; text-decoration-color: #7fbfbf\">           </span>    <span style=\"color: #008000; text-decoration-color: #008000\">'FzDz_unmJYwB3PmZ67K_bVB-XQit3TZww57vTFW7zS4'</span>,                                      <span style=\"color: #7f7f7f; text-decoration-color: #7f7f7f\">                </span>\n",
       "<span style=\"color: #7fbfbf; text-decoration-color: #7fbfbf\">           </span>    <span style=\"color: #008000; text-decoration-color: #008000\">'HRrTsIIhxJSi2AF0qEIxNWI3alxkssStk5OWkkawbSc'</span>,                                      <span style=\"color: #7f7f7f; text-decoration-color: #7f7f7f\">                </span>\n",
       "<span style=\"color: #7fbfbf; text-decoration-color: #7fbfbf\">           </span>    <span style=\"color: #008000; text-decoration-color: #008000\">'M4_mw9rdmDW3droGeq6-NqC7I50oJktaHhgsCAcFSfI'</span>,                                      <span style=\"color: #7f7f7f; text-decoration-color: #7f7f7f\">                </span>\n",
       "<span style=\"color: #7fbfbf; text-decoration-color: #7fbfbf\">           </span>    <span style=\"color: #008000; text-decoration-color: #008000\">'QZFVXEgyR8dzhYWq4G_0bZQyOqF4wSCvIvvbH4E-Ygs'</span>,                                      <span style=\"color: #7f7f7f; text-decoration-color: #7f7f7f\">                </span>\n",
       "<span style=\"color: #7fbfbf; text-decoration-color: #7fbfbf\">           </span>    <span style=\"color: #008000; text-decoration-color: #008000\">'RwiQdlzYk9EKtnQ8A6lIE3zZ1lrKn5MJNe0RlsnK4KA'</span>,                                      <span style=\"color: #7f7f7f; text-decoration-color: #7f7f7f\">                </span>\n",
       "<span style=\"color: #7fbfbf; text-decoration-color: #7fbfbf\">           </span>    <span style=\"color: #008000; text-decoration-color: #008000\">'U2Pl3jeg0yGTJozTDozSiJv18TsCcgXlEFnmtbMBmDk'</span>,                                      <span style=\"color: #7f7f7f; text-decoration-color: #7f7f7f\">                </span>\n",
       "<span style=\"color: #7fbfbf; text-decoration-color: #7fbfbf\">           </span>    <span style=\"color: #008000; text-decoration-color: #008000\">'X8eb1HJ7x7U1eQPPo0dij0-LDGJEfscF3NU0iXQSe9Q'</span>,                                      <span style=\"color: #7f7f7f; text-decoration-color: #7f7f7f\">                </span>\n",
       "<span style=\"color: #7fbfbf; text-decoration-color: #7fbfbf\">           </span>    <span style=\"color: #008000; text-decoration-color: #008000\">'_Sgg-RV63_djgd07-i6j0ZvFFQINAPGJpeagst-3qUk'</span>,                                      <span style=\"color: #7f7f7f; text-decoration-color: #7f7f7f\">                </span>\n",
       "<span style=\"color: #7fbfbf; text-decoration-color: #7fbfbf\">           </span>    <span style=\"color: #008000; text-decoration-color: #008000\">'__g0x0ny4fRoK-Zu206t5q8vqVJVZyKhwZabmzQFPN8'</span>,                                      <span style=\"color: #7f7f7f; text-decoration-color: #7f7f7f\">                </span>\n",
       "<span style=\"color: #7fbfbf; text-decoration-color: #7fbfbf\">           </span>    <span style=\"color: #008000; text-decoration-color: #008000\">'ca-2x_s7IC2aUO6Z88B6-t78KWZWpBLbNqwijiOqLKA'</span>,                                      <span style=\"color: #7f7f7f; text-decoration-color: #7f7f7f\">                </span>\n",
       "<span style=\"color: #7fbfbf; text-decoration-color: #7fbfbf\">           </span>    <span style=\"color: #008000; text-decoration-color: #008000\">'da9VsjyK5FNeHwaaLaRXt2ttNAd-juA7AIvP6O9-EyM'</span>,                                      <span style=\"color: #7f7f7f; text-decoration-color: #7f7f7f\">                </span>\n",
       "<span style=\"color: #7fbfbf; text-decoration-color: #7fbfbf\">           </span>    <span style=\"color: #008000; text-decoration-color: #008000\">'fxwDsTIK3rcu6gj4qB2RqAGH_uFfm-qWovCZu1iYAR4'</span>,                                      <span style=\"color: #7f7f7f; text-decoration-color: #7f7f7f\">                </span>\n",
       "<span style=\"color: #7fbfbf; text-decoration-color: #7fbfbf\">           </span>    <span style=\"color: #008000; text-decoration-color: #008000\">'ixEnlg89UCUND4YP9eS7wUUclb30d93lgTMsXvZPGS4'</span>,                                      <span style=\"color: #7f7f7f; text-decoration-color: #7f7f7f\">                </span>\n",
       "<span style=\"color: #7fbfbf; text-decoration-color: #7fbfbf\">           </span>    <span style=\"color: #008000; text-decoration-color: #008000\">'kx0-vbynS7u__7GpA4Ua-kJSq8PETmH8wTVyIwBeFf4'</span>,                                      <span style=\"color: #7f7f7f; text-decoration-color: #7f7f7f\">                </span>\n",
       "<span style=\"color: #7fbfbf; text-decoration-color: #7fbfbf\">           </span>    <span style=\"color: #008000; text-decoration-color: #008000\">'lCJ8ML3Tn_kzSUCx3ZSDPhzbYFGj-YAsM-bcpKSin-I'</span>,                                      <span style=\"color: #7f7f7f; text-decoration-color: #7f7f7f\">                </span>\n",
       "<span style=\"color: #7fbfbf; text-decoration-color: #7fbfbf\">           </span>    <span style=\"color: #008000; text-decoration-color: #008000\">'uGH3qg5ORu-yeuT0b6HzYq4-0HNbTQ497CE6nuW7p0o'</span>                                       <span style=\"color: #7f7f7f; text-decoration-color: #7f7f7f\">                </span>\n",
       "<span style=\"color: #7fbfbf; text-decoration-color: #7fbfbf\">           </span><span style=\"font-weight: bold\">]</span>                                                                                       <span style=\"color: #7f7f7f; text-decoration-color: #7f7f7f\">                </span>\n",
       "</pre>\n"
      ],
      "text/plain": [
       "\u001b[2;36m          \u001b[0m\u001b[2;36m \u001b[0mDisclosure SHA-256s:                                                                    \u001b]8;id=323483;file:///tmp/ipykernel_58664/4219520306.py\u001b\\\u001b[2m4219520306.py\u001b[0m\u001b]8;;\u001b\\\u001b[2m:\u001b[0m\u001b]8;id=88641;file:///tmp/ipykernel_58664/4219520306.py#16\u001b\\\u001b[2m16\u001b[0m\u001b]8;;\u001b\\\n",
       "\u001b[2;36m           \u001b[0m\u001b[1m[\u001b[0m                                                                                       \u001b[2m                \u001b[0m\n",
       "\u001b[2;36m           \u001b[0m    \u001b[32m'EC9obJVyJxoW_uHIGB62aNQASbBH08SsVt1azEoyo0M'\u001b[0m,                                      \u001b[2m                \u001b[0m\n",
       "\u001b[2;36m           \u001b[0m    \u001b[32m'FzDz_unmJYwB3PmZ67K_bVB-XQit3TZww57vTFW7zS4'\u001b[0m,                                      \u001b[2m                \u001b[0m\n",
       "\u001b[2;36m           \u001b[0m    \u001b[32m'HRrTsIIhxJSi2AF0qEIxNWI3alxkssStk5OWkkawbSc'\u001b[0m,                                      \u001b[2m                \u001b[0m\n",
       "\u001b[2;36m           \u001b[0m    \u001b[32m'M4_mw9rdmDW3droGeq6-NqC7I50oJktaHhgsCAcFSfI'\u001b[0m,                                      \u001b[2m                \u001b[0m\n",
       "\u001b[2;36m           \u001b[0m    \u001b[32m'QZFVXEgyR8dzhYWq4G_0bZQyOqF4wSCvIvvbH4E-Ygs'\u001b[0m,                                      \u001b[2m                \u001b[0m\n",
       "\u001b[2;36m           \u001b[0m    \u001b[32m'RwiQdlzYk9EKtnQ8A6lIE3zZ1lrKn5MJNe0RlsnK4KA'\u001b[0m,                                      \u001b[2m                \u001b[0m\n",
       "\u001b[2;36m           \u001b[0m    \u001b[32m'U2Pl3jeg0yGTJozTDozSiJv18TsCcgXlEFnmtbMBmDk'\u001b[0m,                                      \u001b[2m                \u001b[0m\n",
       "\u001b[2;36m           \u001b[0m    \u001b[32m'X8eb1HJ7x7U1eQPPo0dij0-LDGJEfscF3NU0iXQSe9Q'\u001b[0m,                                      \u001b[2m                \u001b[0m\n",
       "\u001b[2;36m           \u001b[0m    \u001b[32m'_Sgg-RV63_djgd07-i6j0ZvFFQINAPGJpeagst-3qUk'\u001b[0m,                                      \u001b[2m                \u001b[0m\n",
       "\u001b[2;36m           \u001b[0m    \u001b[32m'__g0x0ny4fRoK-Zu206t5q8vqVJVZyKhwZabmzQFPN8'\u001b[0m,                                      \u001b[2m                \u001b[0m\n",
       "\u001b[2;36m           \u001b[0m    \u001b[32m'ca-2x_s7IC2aUO6Z88B6-t78KWZWpBLbNqwijiOqLKA'\u001b[0m,                                      \u001b[2m                \u001b[0m\n",
       "\u001b[2;36m           \u001b[0m    \u001b[32m'da9VsjyK5FNeHwaaLaRXt2ttNAd-juA7AIvP6O9-EyM'\u001b[0m,                                      \u001b[2m                \u001b[0m\n",
       "\u001b[2;36m           \u001b[0m    \u001b[32m'fxwDsTIK3rcu6gj4qB2RqAGH_uFfm-qWovCZu1iYAR4'\u001b[0m,                                      \u001b[2m                \u001b[0m\n",
       "\u001b[2;36m           \u001b[0m    \u001b[32m'ixEnlg89UCUND4YP9eS7wUUclb30d93lgTMsXvZPGS4'\u001b[0m,                                      \u001b[2m                \u001b[0m\n",
       "\u001b[2;36m           \u001b[0m    \u001b[32m'kx0-vbynS7u__7GpA4Ua-kJSq8PETmH8wTVyIwBeFf4'\u001b[0m,                                      \u001b[2m                \u001b[0m\n",
       "\u001b[2;36m           \u001b[0m    \u001b[32m'lCJ8ML3Tn_kzSUCx3ZSDPhzbYFGj-YAsM-bcpKSin-I'\u001b[0m,                                      \u001b[2m                \u001b[0m\n",
       "\u001b[2;36m           \u001b[0m    \u001b[32m'uGH3qg5ORu-yeuT0b6HzYq4-0HNbTQ497CE6nuW7p0o'\u001b[0m                                       \u001b[2m                \u001b[0m\n",
       "\u001b[2;36m           \u001b[0m\u001b[1m]\u001b[0m                                                                                       \u001b[2m                \u001b[0m\n"
      ]
     },
     "metadata": {},
     "output_type": "display_data"
    }
   ],
   "source": [
    "import hashlib\n",
    "import base64\n",
    "\n",
    "disclosure_sha_256s = []\n",
    "\n",
    "for disclosure in disclosures:\n",
    "    sha256_hash = hashlib.sha256()\n",
    "    sha256_hash.update(disclosure.content_base64.encode('utf-8'))\n",
    "    sha256_digest = sha256_hash.digest()\n",
    "    disclosure_sha_256 = base64.urlsafe_b64encode(sha256_digest).decode('utf-8').rstrip(\"=\")\n",
    "    disclosure_sha_256s.append(disclosure_sha_256)\n",
    "\n",
    "# Randomised by chronological order of the disclosure content\n",
    "disclosure_sha_256s.sort()\n",
    "\n",
    "console.log(\"Disclosure SHA-256s: \", disclosure_sha_256s)"
   ]
  },
  {
   "attachments": {},
   "cell_type": "markdown",
   "metadata": {},
   "source": [
    "## 6.0 Create SD-JWT"
   ]
  },
  {
   "cell_type": "code",
   "execution_count": 21,
   "metadata": {},
   "outputs": [
    {
     "data": {
      "text/html": [
       "<pre style=\"white-space:pre;overflow-x:auto;line-height:normal;font-family:Menlo,'DejaVu Sans Mono',consolas,'Courier New',monospace\"><span style=\"color: #7fbfbf; text-decoration-color: #7fbfbf\">           </span>SD-JWT:                                                                                  <a href=\"file:///tmp/ipykernel_58664/3815079559.py\" target=\"_blank\"><span style=\"color: #7f7f7f; text-decoration-color: #7f7f7f\">3815079559.py</span></a><span style=\"color: #7f7f7f; text-decoration-color: #7f7f7f\">:</span><a href=\"file:///tmp/ipykernel_58664/3815079559.py#7\" target=\"_blank\"><span style=\"color: #7f7f7f; text-decoration-color: #7f7f7f\">7</span></a>\n",
       "<span style=\"color: #7fbfbf; text-decoration-color: #7fbfbf\">           </span>eyJhbGciOiJFUzI1NiJ9.eyJfc2QiOlsiRUM5b2JKVnlKeG9XX3VISUdCNjJhTlFBU2JCSDA4U3NWdDFhekVveW8 <span style=\"color: #7f7f7f; text-decoration-color: #7f7f7f\">               </span>\n",
       "<span style=\"color: #7fbfbf; text-decoration-color: #7fbfbf\">           </span>wTSIsIkZ6RHpfdW5tSll3QjNQbVo2N0tfYlZCLVhRaXQzVFp3dzU3dlRGVzd6UzQiLCJIUnJUc0lJaHhKU2kyQUY <span style=\"color: #7f7f7f; text-decoration-color: #7f7f7f\">               </span>\n",
       "<span style=\"color: #7fbfbf; text-decoration-color: #7fbfbf\">           </span>wcUVJeE5XSTNhbHhrc3NTdGs1T1dra2F3YlNjIiwiTTRfbXc5cmRtRFczZHJvR2VxNi1OcUM3STUwb0prdGFIaGd <span style=\"color: #7f7f7f; text-decoration-color: #7f7f7f\">               </span>\n",
       "<span style=\"color: #7fbfbf; text-decoration-color: #7fbfbf\">           </span>zQ0FjRlNmSSIsIlFaRlZYRWd5UjhkemhZV3E0R18wYlpReU9xRjR3U0N2SXZ2Ykg0RS1ZZ3MiLCJSd2lRZGx6WWs <span style=\"color: #7f7f7f; text-decoration-color: #7f7f7f\">               </span>\n",
       "<span style=\"color: #7fbfbf; text-decoration-color: #7fbfbf\">           </span>5RUt0blE4QTZsSUUzeloxbHJLbjVNSk5lMFJsc25LNEtBIiwiVTJQbDNqZWcweUdUSm96VERvelNpSnYxOFRzQ2N <span style=\"color: #7f7f7f; text-decoration-color: #7f7f7f\">               </span>\n",
       "<span style=\"color: #7fbfbf; text-decoration-color: #7fbfbf\">           </span>nWGxFRm5tdGJNQm1EayIsIlg4ZWIxSEo3eDdVMWVRUFBvMGRpajAtTERHSkVmc2NGM05VMGlYUVNlOVEiLCJfU2d <span style=\"color: #7f7f7f; text-decoration-color: #7f7f7f\">               </span>\n",
       "<span style=\"color: #7fbfbf; text-decoration-color: #7fbfbf\">           </span>nLVJWNjNfZGpnZDA3LWk2ajBadkZGUUlOQVBHSnBlYWdzdC0zcVVrIiwiX19nMHgwbnk0ZlJvSy1adTIwNnQ1cTh <span style=\"color: #7f7f7f; text-decoration-color: #7f7f7f\">               </span>\n",
       "<span style=\"color: #7fbfbf; text-decoration-color: #7fbfbf\">           </span>2cVZKVlp5S2h3WmFibXpRRlBOOCIsImNhLTJ4X3M3SUMyYVVPNlo4OEI2LXQ3OEtXWldwQkxiTnF3aWppT3FMS0E <span style=\"color: #7f7f7f; text-decoration-color: #7f7f7f\">               </span>\n",
       "<span style=\"color: #7fbfbf; text-decoration-color: #7fbfbf\">           </span>iLCJkYTlWc2p5SzVGTmVId2FhTGFSWHQydHROQWQtanVBN0FJdlA2TzktRXlNIiwiZnh3RHNUSUszcmN1NmdqNHF <span style=\"color: #7f7f7f; text-decoration-color: #7f7f7f\">               </span>\n",
       "<span style=\"color: #7fbfbf; text-decoration-color: #7fbfbf\">           </span>CMlJxQUdIX3VGZm0tcVdvdkNadTFpWUFSNCIsIml4RW5sZzg5VUNVTkQ0WVA5ZVM3d1VVY2xiMzBkOTNsZ1RNc1h <span style=\"color: #7f7f7f; text-decoration-color: #7f7f7f\">               </span>\n",
       "<span style=\"color: #7fbfbf; text-decoration-color: #7fbfbf\">           </span>2WlBHUzQiLCJreDAtdmJ5blM3dV9fN0dwQTRVYS1rSlNxOFBFVG1IOHdUVnlJd0JlRmY0IiwibENKOE1MM1RuX2t <span style=\"color: #7f7f7f; text-decoration-color: #7f7f7f\">               </span>\n",
       "<span style=\"color: #7fbfbf; text-decoration-color: #7fbfbf\">           </span>6U1VDeDNaU0RQaHpiWUZHai1ZQXNNLWJjcEtTaW4tSSIsInVHSDNxZzVPUnUteWV1VDBiNkh6WXE0LTBITmJUUTQ <span style=\"color: #7f7f7f; text-decoration-color: #7f7f7f\">               </span>\n",
       "<span style=\"color: #7fbfbf; text-decoration-color: #7fbfbf\">           </span>5N0NFNm51VzdwMG8iXSwiX3NkX2FsZyI6InNoYS0yNTYiLCJleHAiOjE2ODczNjg4NjIsImlhdCI6MTY4NzM2NTI <span style=\"color: #7f7f7f; text-decoration-color: #7f7f7f\">               </span>\n",
       "<span style=\"color: #7fbfbf; text-decoration-color: #7fbfbf\">           </span>2MiwiaXNzIjoiaHR0cHM6Ly9pc3N1ZXIuaWdyYW50LmlvIn0.pwq6nl5tHCNUAwe8tOXMYyIHEasfYRsE3ZsU0Ij <span style=\"color: #7f7f7f; text-decoration-color: #7f7f7f\">               </span>\n",
       "<span style=\"color: #7fbfbf; text-decoration-color: #7fbfbf\">           </span>4Lxky87Gau0ZPgEcQ0l9GLogqPAsuE6kZlOn68axg7tz1gQ                                          <span style=\"color: #7f7f7f; text-decoration-color: #7f7f7f\">               </span>\n",
       "</pre>\n"
      ],
      "text/plain": [
       "\u001b[2;36m          \u001b[0m\u001b[2;36m \u001b[0mSD-JWT:                                                                                  \u001b]8;id=727063;file:///tmp/ipykernel_58664/3815079559.py\u001b\\\u001b[2m3815079559.py\u001b[0m\u001b]8;;\u001b\\\u001b[2m:\u001b[0m\u001b]8;id=996698;file:///tmp/ipykernel_58664/3815079559.py#7\u001b\\\u001b[2m7\u001b[0m\u001b]8;;\u001b\\\n",
       "\u001b[2;36m           \u001b[0meyJhbGciOiJFUzI1NiJ9.eyJfc2QiOlsiRUM5b2JKVnlKeG9XX3VISUdCNjJhTlFBU2JCSDA4U3NWdDFhekVveW8 \u001b[2m               \u001b[0m\n",
       "\u001b[2;36m           \u001b[0mwTSIsIkZ6RHpfdW5tSll3QjNQbVo2N0tfYlZCLVhRaXQzVFp3dzU3dlRGVzd6UzQiLCJIUnJUc0lJaHhKU2kyQUY \u001b[2m               \u001b[0m\n",
       "\u001b[2;36m           \u001b[0mwcUVJeE5XSTNhbHhrc3NTdGs1T1dra2F3YlNjIiwiTTRfbXc5cmRtRFczZHJvR2VxNi1OcUM3STUwb0prdGFIaGd \u001b[2m               \u001b[0m\n",
       "\u001b[2;36m           \u001b[0mzQ0FjRlNmSSIsIlFaRlZYRWd5UjhkemhZV3E0R18wYlpReU9xRjR3U0N2SXZ2Ykg0RS1ZZ3MiLCJSd2lRZGx6WWs \u001b[2m               \u001b[0m\n",
       "\u001b[2;36m           \u001b[0m5RUt0blE4QTZsSUUzeloxbHJLbjVNSk5lMFJsc25LNEtBIiwiVTJQbDNqZWcweUdUSm96VERvelNpSnYxOFRzQ2N \u001b[2m               \u001b[0m\n",
       "\u001b[2;36m           \u001b[0mnWGxFRm5tdGJNQm1EayIsIlg4ZWIxSEo3eDdVMWVRUFBvMGRpajAtTERHSkVmc2NGM05VMGlYUVNlOVEiLCJfU2d \u001b[2m               \u001b[0m\n",
       "\u001b[2;36m           \u001b[0mnLVJWNjNfZGpnZDA3LWk2ajBadkZGUUlOQVBHSnBlYWdzdC0zcVVrIiwiX19nMHgwbnk0ZlJvSy1adTIwNnQ1cTh \u001b[2m               \u001b[0m\n",
       "\u001b[2;36m           \u001b[0m2cVZKVlp5S2h3WmFibXpRRlBOOCIsImNhLTJ4X3M3SUMyYVVPNlo4OEI2LXQ3OEtXWldwQkxiTnF3aWppT3FMS0E \u001b[2m               \u001b[0m\n",
       "\u001b[2;36m           \u001b[0miLCJkYTlWc2p5SzVGTmVId2FhTGFSWHQydHROQWQtanVBN0FJdlA2TzktRXlNIiwiZnh3RHNUSUszcmN1NmdqNHF \u001b[2m               \u001b[0m\n",
       "\u001b[2;36m           \u001b[0mCMlJxQUdIX3VGZm0tcVdvdkNadTFpWUFSNCIsIml4RW5sZzg5VUNVTkQ0WVA5ZVM3d1VVY2xiMzBkOTNsZ1RNc1h \u001b[2m               \u001b[0m\n",
       "\u001b[2;36m           \u001b[0m2WlBHUzQiLCJreDAtdmJ5blM3dV9fN0dwQTRVYS1rSlNxOFBFVG1IOHdUVnlJd0JlRmY0IiwibENKOE1MM1RuX2t \u001b[2m               \u001b[0m\n",
       "\u001b[2;36m           \u001b[0m6U1VDeDNaU0RQaHpiWUZHai1ZQXNNLWJjcEtTaW4tSSIsInVHSDNxZzVPUnUteWV1VDBiNkh6WXE0LTBITmJUUTQ \u001b[2m               \u001b[0m\n",
       "\u001b[2;36m           \u001b[0m5N0NFNm51VzdwMG8iXSwiX3NkX2FsZyI6InNoYS0yNTYiLCJleHAiOjE2ODczNjg4NjIsImlhdCI6MTY4NzM2NTI \u001b[2m               \u001b[0m\n",
       "\u001b[2;36m           \u001b[0m2MiwiaXNzIjoiaHR0cHM6Ly9pc3N1ZXIuaWdyYW50LmlvIn0.pwq6nl5tHCNUAwe8tOXMYyIHEasfYRsE3ZsU0Ij \u001b[2m               \u001b[0m\n",
       "\u001b[2;36m           \u001b[0m4Lxky87Gau0ZPgEcQ0l9GLogqPAsuE6kZlOn68axg7tz1gQ                                          \u001b[2m               \u001b[0m\n"
      ]
     },
     "metadata": {},
     "output_type": "display_data"
    },
    {
     "data": {
      "text/html": [
       "<pre style=\"white-space:pre;overflow-x:auto;line-height:normal;font-family:Menlo,'DejaVu Sans Mono',consolas,'Courier New',monospace\"><span style=\"color: #7fbfbf; text-decoration-color: #7fbfbf\">           </span>SD-JWT payload:                                                                         <a href=\"file:///tmp/ipykernel_58664/3815079559.py\" target=\"_blank\"><span style=\"color: #7f7f7f; text-decoration-color: #7f7f7f\">3815079559.py</span></a><span style=\"color: #7f7f7f; text-decoration-color: #7f7f7f\">:</span><a href=\"file:///tmp/ipykernel_58664/3815079559.py#11\" target=\"_blank\"><span style=\"color: #7f7f7f; text-decoration-color: #7f7f7f\">11</span></a>\n",
       "<span style=\"color: #7fbfbf; text-decoration-color: #7fbfbf\">           </span><span style=\"font-weight: bold\">{</span>                                                                                       <span style=\"color: #7f7f7f; text-decoration-color: #7f7f7f\">                </span>\n",
       "<span style=\"color: #7fbfbf; text-decoration-color: #7fbfbf\">           </span>    <span style=\"color: #008000; text-decoration-color: #008000\">'_sd'</span>: <span style=\"font-weight: bold\">[</span>                                                                            <span style=\"color: #7f7f7f; text-decoration-color: #7f7f7f\">                </span>\n",
       "<span style=\"color: #7fbfbf; text-decoration-color: #7fbfbf\">           </span>        <span style=\"color: #008000; text-decoration-color: #008000\">'EC9obJVyJxoW_uHIGB62aNQASbBH08SsVt1azEoyo0M'</span>,                                  <span style=\"color: #7f7f7f; text-decoration-color: #7f7f7f\">                </span>\n",
       "<span style=\"color: #7fbfbf; text-decoration-color: #7fbfbf\">           </span>        <span style=\"color: #008000; text-decoration-color: #008000\">'FzDz_unmJYwB3PmZ67K_bVB-XQit3TZww57vTFW7zS4'</span>,                                  <span style=\"color: #7f7f7f; text-decoration-color: #7f7f7f\">                </span>\n",
       "<span style=\"color: #7fbfbf; text-decoration-color: #7fbfbf\">           </span>        <span style=\"color: #008000; text-decoration-color: #008000\">'HRrTsIIhxJSi2AF0qEIxNWI3alxkssStk5OWkkawbSc'</span>,                                  <span style=\"color: #7f7f7f; text-decoration-color: #7f7f7f\">                </span>\n",
       "<span style=\"color: #7fbfbf; text-decoration-color: #7fbfbf\">           </span>        <span style=\"color: #008000; text-decoration-color: #008000\">'M4_mw9rdmDW3droGeq6-NqC7I50oJktaHhgsCAcFSfI'</span>,                                  <span style=\"color: #7f7f7f; text-decoration-color: #7f7f7f\">                </span>\n",
       "<span style=\"color: #7fbfbf; text-decoration-color: #7fbfbf\">           </span>        <span style=\"color: #008000; text-decoration-color: #008000\">'QZFVXEgyR8dzhYWq4G_0bZQyOqF4wSCvIvvbH4E-Ygs'</span>,                                  <span style=\"color: #7f7f7f; text-decoration-color: #7f7f7f\">                </span>\n",
       "<span style=\"color: #7fbfbf; text-decoration-color: #7fbfbf\">           </span>        <span style=\"color: #008000; text-decoration-color: #008000\">'RwiQdlzYk9EKtnQ8A6lIE3zZ1lrKn5MJNe0RlsnK4KA'</span>,                                  <span style=\"color: #7f7f7f; text-decoration-color: #7f7f7f\">                </span>\n",
       "<span style=\"color: #7fbfbf; text-decoration-color: #7fbfbf\">           </span>        <span style=\"color: #008000; text-decoration-color: #008000\">'U2Pl3jeg0yGTJozTDozSiJv18TsCcgXlEFnmtbMBmDk'</span>,                                  <span style=\"color: #7f7f7f; text-decoration-color: #7f7f7f\">                </span>\n",
       "<span style=\"color: #7fbfbf; text-decoration-color: #7fbfbf\">           </span>        <span style=\"color: #008000; text-decoration-color: #008000\">'X8eb1HJ7x7U1eQPPo0dij0-LDGJEfscF3NU0iXQSe9Q'</span>,                                  <span style=\"color: #7f7f7f; text-decoration-color: #7f7f7f\">                </span>\n",
       "<span style=\"color: #7fbfbf; text-decoration-color: #7fbfbf\">           </span>        <span style=\"color: #008000; text-decoration-color: #008000\">'_Sgg-RV63_djgd07-i6j0ZvFFQINAPGJpeagst-3qUk'</span>,                                  <span style=\"color: #7f7f7f; text-decoration-color: #7f7f7f\">                </span>\n",
       "<span style=\"color: #7fbfbf; text-decoration-color: #7fbfbf\">           </span>        <span style=\"color: #008000; text-decoration-color: #008000\">'__g0x0ny4fRoK-Zu206t5q8vqVJVZyKhwZabmzQFPN8'</span>,                                  <span style=\"color: #7f7f7f; text-decoration-color: #7f7f7f\">                </span>\n",
       "<span style=\"color: #7fbfbf; text-decoration-color: #7fbfbf\">           </span>        <span style=\"color: #008000; text-decoration-color: #008000\">'ca-2x_s7IC2aUO6Z88B6-t78KWZWpBLbNqwijiOqLKA'</span>,                                  <span style=\"color: #7f7f7f; text-decoration-color: #7f7f7f\">                </span>\n",
       "<span style=\"color: #7fbfbf; text-decoration-color: #7fbfbf\">           </span>        <span style=\"color: #008000; text-decoration-color: #008000\">'da9VsjyK5FNeHwaaLaRXt2ttNAd-juA7AIvP6O9-EyM'</span>,                                  <span style=\"color: #7f7f7f; text-decoration-color: #7f7f7f\">                </span>\n",
       "<span style=\"color: #7fbfbf; text-decoration-color: #7fbfbf\">           </span>        <span style=\"color: #008000; text-decoration-color: #008000\">'fxwDsTIK3rcu6gj4qB2RqAGH_uFfm-qWovCZu1iYAR4'</span>,                                  <span style=\"color: #7f7f7f; text-decoration-color: #7f7f7f\">                </span>\n",
       "<span style=\"color: #7fbfbf; text-decoration-color: #7fbfbf\">           </span>        <span style=\"color: #008000; text-decoration-color: #008000\">'ixEnlg89UCUND4YP9eS7wUUclb30d93lgTMsXvZPGS4'</span>,                                  <span style=\"color: #7f7f7f; text-decoration-color: #7f7f7f\">                </span>\n",
       "<span style=\"color: #7fbfbf; text-decoration-color: #7fbfbf\">           </span>        <span style=\"color: #008000; text-decoration-color: #008000\">'kx0-vbynS7u__7GpA4Ua-kJSq8PETmH8wTVyIwBeFf4'</span>,                                  <span style=\"color: #7f7f7f; text-decoration-color: #7f7f7f\">                </span>\n",
       "<span style=\"color: #7fbfbf; text-decoration-color: #7fbfbf\">           </span>        <span style=\"color: #008000; text-decoration-color: #008000\">'lCJ8ML3Tn_kzSUCx3ZSDPhzbYFGj-YAsM-bcpKSin-I'</span>,                                  <span style=\"color: #7f7f7f; text-decoration-color: #7f7f7f\">                </span>\n",
       "<span style=\"color: #7fbfbf; text-decoration-color: #7fbfbf\">           </span>        <span style=\"color: #008000; text-decoration-color: #008000\">'uGH3qg5ORu-yeuT0b6HzYq4-0HNbTQ497CE6nuW7p0o'</span>                                   <span style=\"color: #7f7f7f; text-decoration-color: #7f7f7f\">                </span>\n",
       "<span style=\"color: #7fbfbf; text-decoration-color: #7fbfbf\">           </span>    <span style=\"font-weight: bold\">]</span>,                                                                                  <span style=\"color: #7f7f7f; text-decoration-color: #7f7f7f\">                </span>\n",
       "<span style=\"color: #7fbfbf; text-decoration-color: #7fbfbf\">           </span>    <span style=\"color: #008000; text-decoration-color: #008000\">'_sd_alg'</span>: <span style=\"color: #008000; text-decoration-color: #008000\">'sha-256'</span>,                                                               <span style=\"color: #7f7f7f; text-decoration-color: #7f7f7f\">                </span>\n",
       "<span style=\"color: #7fbfbf; text-decoration-color: #7fbfbf\">           </span>    <span style=\"color: #008000; text-decoration-color: #008000\">'exp'</span>: <span style=\"color: #008080; text-decoration-color: #008080; font-weight: bold\">1687368862</span>,                                                                  <span style=\"color: #7f7f7f; text-decoration-color: #7f7f7f\">                </span>\n",
       "<span style=\"color: #7fbfbf; text-decoration-color: #7fbfbf\">           </span>    <span style=\"color: #008000; text-decoration-color: #008000\">'iat'</span>: <span style=\"color: #008080; text-decoration-color: #008080; font-weight: bold\">1687365262</span>,                                                                  <span style=\"color: #7f7f7f; text-decoration-color: #7f7f7f\">                </span>\n",
       "<span style=\"color: #7fbfbf; text-decoration-color: #7fbfbf\">           </span>    <span style=\"color: #008000; text-decoration-color: #008000\">'iss'</span>: <span style=\"color: #008000; text-decoration-color: #008000\">'https://issuer.igrant.io'</span>                                                   <span style=\"color: #7f7f7f; text-decoration-color: #7f7f7f\">                </span>\n",
       "<span style=\"color: #7fbfbf; text-decoration-color: #7fbfbf\">           </span><span style=\"font-weight: bold\">}</span>                                                                                       <span style=\"color: #7f7f7f; text-decoration-color: #7f7f7f\">                </span>\n",
       "</pre>\n"
      ],
      "text/plain": [
       "\u001b[2;36m          \u001b[0m\u001b[2;36m \u001b[0mSD-JWT payload:                                                                         \u001b]8;id=401330;file:///tmp/ipykernel_58664/3815079559.py\u001b\\\u001b[2m3815079559.py\u001b[0m\u001b]8;;\u001b\\\u001b[2m:\u001b[0m\u001b]8;id=609551;file:///tmp/ipykernel_58664/3815079559.py#11\u001b\\\u001b[2m11\u001b[0m\u001b]8;;\u001b\\\n",
       "\u001b[2;36m           \u001b[0m\u001b[1m{\u001b[0m                                                                                       \u001b[2m                \u001b[0m\n",
       "\u001b[2;36m           \u001b[0m    \u001b[32m'_sd'\u001b[0m: \u001b[1m[\u001b[0m                                                                            \u001b[2m                \u001b[0m\n",
       "\u001b[2;36m           \u001b[0m        \u001b[32m'EC9obJVyJxoW_uHIGB62aNQASbBH08SsVt1azEoyo0M'\u001b[0m,                                  \u001b[2m                \u001b[0m\n",
       "\u001b[2;36m           \u001b[0m        \u001b[32m'FzDz_unmJYwB3PmZ67K_bVB-XQit3TZww57vTFW7zS4'\u001b[0m,                                  \u001b[2m                \u001b[0m\n",
       "\u001b[2;36m           \u001b[0m        \u001b[32m'HRrTsIIhxJSi2AF0qEIxNWI3alxkssStk5OWkkawbSc'\u001b[0m,                                  \u001b[2m                \u001b[0m\n",
       "\u001b[2;36m           \u001b[0m        \u001b[32m'M4_mw9rdmDW3droGeq6-NqC7I50oJktaHhgsCAcFSfI'\u001b[0m,                                  \u001b[2m                \u001b[0m\n",
       "\u001b[2;36m           \u001b[0m        \u001b[32m'QZFVXEgyR8dzhYWq4G_0bZQyOqF4wSCvIvvbH4E-Ygs'\u001b[0m,                                  \u001b[2m                \u001b[0m\n",
       "\u001b[2;36m           \u001b[0m        \u001b[32m'RwiQdlzYk9EKtnQ8A6lIE3zZ1lrKn5MJNe0RlsnK4KA'\u001b[0m,                                  \u001b[2m                \u001b[0m\n",
       "\u001b[2;36m           \u001b[0m        \u001b[32m'U2Pl3jeg0yGTJozTDozSiJv18TsCcgXlEFnmtbMBmDk'\u001b[0m,                                  \u001b[2m                \u001b[0m\n",
       "\u001b[2;36m           \u001b[0m        \u001b[32m'X8eb1HJ7x7U1eQPPo0dij0-LDGJEfscF3NU0iXQSe9Q'\u001b[0m,                                  \u001b[2m                \u001b[0m\n",
       "\u001b[2;36m           \u001b[0m        \u001b[32m'_Sgg-RV63_djgd07-i6j0ZvFFQINAPGJpeagst-3qUk'\u001b[0m,                                  \u001b[2m                \u001b[0m\n",
       "\u001b[2;36m           \u001b[0m        \u001b[32m'__g0x0ny4fRoK-Zu206t5q8vqVJVZyKhwZabmzQFPN8'\u001b[0m,                                  \u001b[2m                \u001b[0m\n",
       "\u001b[2;36m           \u001b[0m        \u001b[32m'ca-2x_s7IC2aUO6Z88B6-t78KWZWpBLbNqwijiOqLKA'\u001b[0m,                                  \u001b[2m                \u001b[0m\n",
       "\u001b[2;36m           \u001b[0m        \u001b[32m'da9VsjyK5FNeHwaaLaRXt2ttNAd-juA7AIvP6O9-EyM'\u001b[0m,                                  \u001b[2m                \u001b[0m\n",
       "\u001b[2;36m           \u001b[0m        \u001b[32m'fxwDsTIK3rcu6gj4qB2RqAGH_uFfm-qWovCZu1iYAR4'\u001b[0m,                                  \u001b[2m                \u001b[0m\n",
       "\u001b[2;36m           \u001b[0m        \u001b[32m'ixEnlg89UCUND4YP9eS7wUUclb30d93lgTMsXvZPGS4'\u001b[0m,                                  \u001b[2m                \u001b[0m\n",
       "\u001b[2;36m           \u001b[0m        \u001b[32m'kx0-vbynS7u__7GpA4Ua-kJSq8PETmH8wTVyIwBeFf4'\u001b[0m,                                  \u001b[2m                \u001b[0m\n",
       "\u001b[2;36m           \u001b[0m        \u001b[32m'lCJ8ML3Tn_kzSUCx3ZSDPhzbYFGj-YAsM-bcpKSin-I'\u001b[0m,                                  \u001b[2m                \u001b[0m\n",
       "\u001b[2;36m           \u001b[0m        \u001b[32m'uGH3qg5ORu-yeuT0b6HzYq4-0HNbTQ497CE6nuW7p0o'\u001b[0m                                   \u001b[2m                \u001b[0m\n",
       "\u001b[2;36m           \u001b[0m    \u001b[1m]\u001b[0m,                                                                                  \u001b[2m                \u001b[0m\n",
       "\u001b[2;36m           \u001b[0m    \u001b[32m'_sd_alg'\u001b[0m: \u001b[32m'sha-256'\u001b[0m,                                                               \u001b[2m                \u001b[0m\n",
       "\u001b[2;36m           \u001b[0m    \u001b[32m'exp'\u001b[0m: \u001b[1;36m1687368862\u001b[0m,                                                                  \u001b[2m                \u001b[0m\n",
       "\u001b[2;36m           \u001b[0m    \u001b[32m'iat'\u001b[0m: \u001b[1;36m1687365262\u001b[0m,                                                                  \u001b[2m                \u001b[0m\n",
       "\u001b[2;36m           \u001b[0m    \u001b[32m'iss'\u001b[0m: \u001b[32m'https://issuer.igrant.io'\u001b[0m                                                   \u001b[2m                \u001b[0m\n",
       "\u001b[2;36m           \u001b[0m\u001b[1m}\u001b[0m                                                                                       \u001b[2m                \u001b[0m\n"
      ]
     },
     "metadata": {},
     "output_type": "display_data"
    },
    {
     "data": {
      "text/html": [
       "<pre style=\"white-space:pre;overflow-x:auto;line-height:normal;font-family:Menlo,'DejaVu Sans Mono',consolas,'Courier New',monospace\"><span style=\"color: #7fbfbf; text-decoration-color: #7fbfbf\">           </span>SD-JWT header:                                                                          <a href=\"file:///tmp/ipykernel_58664/3815079559.py\" target=\"_blank\"><span style=\"color: #7f7f7f; text-decoration-color: #7f7f7f\">3815079559.py</span></a><span style=\"color: #7f7f7f; text-decoration-color: #7f7f7f\">:</span><a href=\"file:///tmp/ipykernel_58664/3815079559.py#13\" target=\"_blank\"><span style=\"color: #7f7f7f; text-decoration-color: #7f7f7f\">13</span></a>\n",
       "<span style=\"color: #7fbfbf; text-decoration-color: #7fbfbf\">           </span><span style=\"font-weight: bold\">{</span><span style=\"color: #008000; text-decoration-color: #008000\">'alg'</span>: <span style=\"color: #008000; text-decoration-color: #008000\">'ES256'</span><span style=\"font-weight: bold\">}</span>                                                                        <span style=\"color: #7f7f7f; text-decoration-color: #7f7f7f\">                </span>\n",
       "</pre>\n"
      ],
      "text/plain": [
       "\u001b[2;36m          \u001b[0m\u001b[2;36m \u001b[0mSD-JWT header:                                                                          \u001b]8;id=27076;file:///tmp/ipykernel_58664/3815079559.py\u001b\\\u001b[2m3815079559.py\u001b[0m\u001b]8;;\u001b\\\u001b[2m:\u001b[0m\u001b]8;id=688266;file:///tmp/ipykernel_58664/3815079559.py#13\u001b\\\u001b[2m13\u001b[0m\u001b]8;;\u001b\\\n",
       "\u001b[2;36m           \u001b[0m\u001b[1m{\u001b[0m\u001b[32m'alg'\u001b[0m: \u001b[32m'ES256'\u001b[0m\u001b[1m}\u001b[0m                                                                        \u001b[2m                \u001b[0m\n"
      ]
     },
     "metadata": {},
     "output_type": "display_data"
    }
   ],
   "source": [
    "import json\n",
    "from jwcrypto import jwt\n",
    "\n",
    "_sd = disclosure_sha_256s\n",
    "sd_jwt = issuer_did.generate_sd_jwt(_sd)\n",
    "\n",
    "console.log(\"SD-JWT: \", sd_jwt)\n",
    "\n",
    "sd_jwt_deserialised = jwt.JWT(key=issuer_did._key, jwt=sd_jwt)\n",
    "\n",
    "console.log(\"SD-JWT payload: \", json.loads(sd_jwt_deserialised.claims))\n",
    "\n",
    "console.log(\"SD-JWT header: \",  json.loads(sd_jwt_deserialised.header))"
   ]
  },
  {
   "attachments": {},
   "cell_type": "markdown",
   "metadata": {},
   "source": [
    "## 7.0 Create combined format for issuance (a.k.a issue credential to holder)\n",
    "\n",
    "*Note: Format is `<SD-JWT>~<Disclosure 1>~<Disclosure 2>~...~<Disclosure N>`*"
   ]
  },
  {
   "cell_type": "code",
   "execution_count": 22,
   "metadata": {},
   "outputs": [
    {
     "name": "stdout",
     "output_type": "stream",
     "text": [
      "Combined format for issuance :  eyJhbGciOiJFUzI1NiJ9.eyJfc2QiOlsiRUM5b2JKVnlKeG9XX3VISUdCNjJhTlFBU2JCSDA4U3NWdDFhekVveW8wTSIsIkZ6RHpfdW5tSll3QjNQbVo2N0tfYlZCLVhRaXQzVFp3dzU3dlRGVzd6UzQiLCJIUnJUc0lJaHhKU2kyQUYwcUVJeE5XSTNhbHhrc3NTdGs1T1dra2F3YlNjIiwiTTRfbXc5cmRtRFczZHJvR2VxNi1OcUM3STUwb0prdGFIaGdzQ0FjRlNmSSIsIlFaRlZYRWd5UjhkemhZV3E0R18wYlpReU9xRjR3U0N2SXZ2Ykg0RS1ZZ3MiLCJSd2lRZGx6WWs5RUt0blE4QTZsSUUzeloxbHJLbjVNSk5lMFJsc25LNEtBIiwiVTJQbDNqZWcweUdUSm96VERvelNpSnYxOFRzQ2NnWGxFRm5tdGJNQm1EayIsIlg4ZWIxSEo3eDdVMWVRUFBvMGRpajAtTERHSkVmc2NGM05VMGlYUVNlOVEiLCJfU2dnLVJWNjNfZGpnZDA3LWk2ajBadkZGUUlOQVBHSnBlYWdzdC0zcVVrIiwiX19nMHgwbnk0ZlJvSy1adTIwNnQ1cTh2cVZKVlp5S2h3WmFibXpRRlBOOCIsImNhLTJ4X3M3SUMyYVVPNlo4OEI2LXQ3OEtXWldwQkxiTnF3aWppT3FMS0EiLCJkYTlWc2p5SzVGTmVId2FhTGFSWHQydHROQWQtanVBN0FJdlA2TzktRXlNIiwiZnh3RHNUSUszcmN1NmdqNHFCMlJxQUdIX3VGZm0tcVdvdkNadTFpWUFSNCIsIml4RW5sZzg5VUNVTkQ0WVA5ZVM3d1VVY2xiMzBkOTNsZ1RNc1h2WlBHUzQiLCJreDAtdmJ5blM3dV9fN0dwQTRVYS1rSlNxOFBFVG1IOHdUVnlJd0JlRmY0IiwibENKOE1MM1RuX2t6U1VDeDNaU0RQaHpiWUZHai1ZQXNNLWJjcEtTaW4tSSIsInVHSDNxZzVPUnUteWV1VDBiNkh6WXE0LTBITmJUUTQ5N0NFNm51VzdwMG8iXSwiX3NkX2FsZyI6InNoYS0yNTYiLCJleHAiOjE2ODczNjg4NjIsImlhdCI6MTY4NzM2NTI2MiwiaXNzIjoiaHR0cHM6Ly9pc3N1ZXIuaWdyYW50LmlvIn0.pwq6nl5tHCNUAwe8tOXMYyIHEasfYRsE3ZsU0Ij4Lxky87Gau0ZPgEcQ0l9GLogqPAsuE6kZlOn68axg7tz1gQ~WyIyZTJjYjZiNjU3NzIyZDg3MTAxNTVhMDcyMmY4ZGEyNyIsICJsZWdhbFN0YXR1cyIsICJBQ1RJVkUiXQ~WyI0Y2ZkNDI4MWNjZjdmODMwMTBhYTEwODJlNzczNWZhNCIsICJsZWdhbEZvcm0iLCAiQWt0aWVib2xhZyJd~WyI4Yzg3Yjc0MjFmNDlmMTE1ZjRmODk0OWY3MTUzZGYxYSIsICJhY3Rpdml0eSIsICJDb25zdHJ1Y3Rpb24gSW5kdXN0cnkiXQ~WyI2ZDdiNjNkNGU1YzkzOTU1NmE5NTRhMjM2NDIyNDA5MSIsICJvcmdOdW1iZXIiLCAiNTU5MTMzLTI3MjAiXQ~WyI3MWNmMjM4Yzk1MDYxN2M0NWU2MjA5MGRiNDMyN2FiYSIsICJyZWdpc3RyYXRpb25EYXRlIiwgIjIwMDUtMTAtMTgiXQ~WyJhYmUyYTliNmIzMDQyODAzZjliNjYyYTIyYjc2MGU0YSIsICJyZWdpc3RlcmVkQWRkcmVzcyIsIHsiZnVsbEFkZHJlc3MiOiAiMTIzIE1haW4gU3QiLCAidGhvcm91Z2hGYXJlIjogIlN2ZWF2XHUwMGU0Z2VuIiwgInBvc3ROYW1lIjogIlN0b2NraG9sbSIsICJsb2NhdG9yRGVzaWduYXRvciI6ICIxMTEgMzQiLCAiY29kZSI6ICI0OCIsICJhZG1pblVuaXRMZXZlbDEiOiAiU0UifV0~WyJiZWQyODAzNGY1OTk5NDA3ZjUzYjNiOTdmZTdiZGY3YiIsICJhdHRlc3RhdGlvblZhbGlkaXR5IiwgIjMxLURlYy0yMDIyIl0~WyJhZDk1NTYwMjFhMTI5NTU3ODA0NTdkYTcxZGY3M2M3MyIsIDAsIDBd~WyJlMjdhOTdlYzBiYmFhYzIwZjBiZjc3YjQxZGVhNzA3OSIsIDEsIDFd~WyIzYjJjODBkODNkOTlmOThmNDk0YmQzODZmOGQ3Mjk4YyIsIDIsIDJd~WyIxZmM1YmRmMzZmMjY0Zjc4Y2E4ODFlNjZkN2YzMGJmZCIsIDMsIDNd~WyI3YWFiNzc3NDg1NDQ3MGU2Nzg3YmRmYjViOWQ4MWRhNyIsIDQsIDRd~WyI0ZTAwYWNhOWVkYmIxYjYxNmZhMWVlNDQ0MDRmMjViMSIsIDUsIDVd~WyI3MWE1OWIyODRjZDVmZjc1ZDdjZmE2Y2E1ZmI3Yjg4ZiIsIDYsIDZd~WyJjMjAxMTA2Nzg0ZTVmZDE2YWFmNTk4Y2I3YzJjZjEwMSIsIDcsIDdd~WyI3NWU2NWEyN2M4ZTc2MDIyYmZjZDIxZmIyMzM5MDJhOCIsIDgsIDhd~WyIyOTM0YWY2ZDRkMmZlNThjNzg5YmIyZDllNDMzNTAwYiIsIDksIDld\n"
     ]
    }
   ],
   "source": [
    "combined_format_for_issuance = sd_jwt\n",
    "\n",
    "for disclosure in disclosures:\n",
    "    combined_format_for_issuance += \"~\" + disclosure.content_base64\n",
    "\n",
    "print(\"Combined format for issuance : \", combined_format_for_issuance)"
   ]
  }
 ],
 "metadata": {
  "kernelspec": {
   "display_name": "Python 3 (ipykernel)",
   "language": "python",
   "name": "python3"
  },
  "language_info": {
   "codemirror_mode": {
    "name": "ipython",
    "version": 3
   },
   "file_extension": ".py",
   "mimetype": "text/x-python",
   "name": "python",
   "nbconvert_exporter": "python",
   "pygments_lexer": "ipython3",
   "version": "3.10.6"
  }
 },
 "nbformat": 4,
 "nbformat_minor": 4
}
