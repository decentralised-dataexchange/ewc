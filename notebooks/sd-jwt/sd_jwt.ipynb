{
 "cells": [
  {
   "attachments": {},
   "cell_type": "markdown",
   "metadata": {},
   "source": [
    "# SD-JWT for Certification of Registration credential in Domain Name Validation usecase"
   ]
  },
  {
   "attachments": {},
   "cell_type": "markdown",
   "metadata": {},
   "source": [
    "## Setup cryptographic keys"
   ]
  },
  {
   "cell_type": "code",
   "execution_count": 5,
   "metadata": {},
   "outputs": [
    {
     "data": {
      "text/html": [
       "<pre style=\"white-space:pre;overflow-x:auto;line-height:normal;font-family:Menlo,'DejaVu Sans Mono',consolas,'Courier New',monospace\"><span style=\"color: #7fbfbf; text-decoration-color: #7fbfbf\">[19:29:26] </span>Issuer public key JWK:                                                                  <a href=\"file:///tmp/ipykernel_195/1783267881.py\" target=\"_blank\"><span style=\"color: #7f7f7f; text-decoration-color: #7f7f7f\">1783267881.py</span></a><span style=\"color: #7f7f7f; text-decoration-color: #7f7f7f\">:</span><a href=\"file:///tmp/ipykernel_195/1783267881.py#13\" target=\"_blank\"><span style=\"color: #7f7f7f; text-decoration-color: #7f7f7f\">13</span></a>\n",
       "<span style=\"color: #7fbfbf; text-decoration-color: #7fbfbf\">           </span><span style=\"font-weight: bold\">{</span>                                                                                       <span style=\"color: #7f7f7f; text-decoration-color: #7f7f7f\">                </span>\n",
       "<span style=\"color: #7fbfbf; text-decoration-color: #7fbfbf\">           </span>    <span style=\"color: #008000; text-decoration-color: #008000\">'kty'</span>: <span style=\"color: #008000; text-decoration-color: #008000\">'EC'</span>,                                                                        <span style=\"color: #7f7f7f; text-decoration-color: #7f7f7f\">                </span>\n",
       "<span style=\"color: #7fbfbf; text-decoration-color: #7fbfbf\">           </span>    <span style=\"color: #008000; text-decoration-color: #008000\">'kid'</span>: <span style=\"color: #008000; text-decoration-color: #008000\">'tJ7_O_Xu862O_9L4oxdBSkRotGJ2Id9smSovHtnUUo8'</span>,                               <span style=\"color: #7f7f7f; text-decoration-color: #7f7f7f\">                </span>\n",
       "<span style=\"color: #7fbfbf; text-decoration-color: #7fbfbf\">           </span>    <span style=\"color: #008000; text-decoration-color: #008000\">'crv'</span>: <span style=\"color: #008000; text-decoration-color: #008000\">'P-256'</span>,                                                                     <span style=\"color: #7f7f7f; text-decoration-color: #7f7f7f\">                </span>\n",
       "<span style=\"color: #7fbfbf; text-decoration-color: #7fbfbf\">           </span>    <span style=\"color: #008000; text-decoration-color: #008000\">'x'</span>: <span style=\"color: #008000; text-decoration-color: #008000\">'PTKECXSeSzIRRjYBKPECaRBRp1VH_g2EztKLJf8jpVc'</span>,                                 <span style=\"color: #7f7f7f; text-decoration-color: #7f7f7f\">                </span>\n",
       "<span style=\"color: #7fbfbf; text-decoration-color: #7fbfbf\">           </span>    <span style=\"color: #008000; text-decoration-color: #008000\">'y'</span>: <span style=\"color: #008000; text-decoration-color: #008000\">'HHpPqdZ8P0ZVz9CSryp7FvmtTTnNImmlQuiatJncoNM'</span>                                  <span style=\"color: #7f7f7f; text-decoration-color: #7f7f7f\">                </span>\n",
       "<span style=\"color: #7fbfbf; text-decoration-color: #7fbfbf\">           </span><span style=\"font-weight: bold\">}</span>                                                                                       <span style=\"color: #7f7f7f; text-decoration-color: #7f7f7f\">                </span>\n",
       "</pre>\n"
      ],
      "text/plain": [
       "\u001b[2;36m[19:29:26]\u001b[0m\u001b[2;36m \u001b[0mIssuer public key JWK:                                                                  \u001b]8;id=559173;file:///tmp/ipykernel_195/1783267881.py\u001b\\\u001b[2m1783267881.py\u001b[0m\u001b]8;;\u001b\\\u001b[2m:\u001b[0m\u001b]8;id=585088;file:///tmp/ipykernel_195/1783267881.py#13\u001b\\\u001b[2m13\u001b[0m\u001b]8;;\u001b\\\n",
       "\u001b[2;36m           \u001b[0m\u001b[1m{\u001b[0m                                                                                       \u001b[2m                \u001b[0m\n",
       "\u001b[2;36m           \u001b[0m    \u001b[32m'kty'\u001b[0m: \u001b[32m'EC'\u001b[0m,                                                                        \u001b[2m                \u001b[0m\n",
       "\u001b[2;36m           \u001b[0m    \u001b[32m'kid'\u001b[0m: \u001b[32m'tJ7_O_Xu862O_9L4oxdBSkRotGJ2Id9smSovHtnUUo8'\u001b[0m,                               \u001b[2m                \u001b[0m\n",
       "\u001b[2;36m           \u001b[0m    \u001b[32m'crv'\u001b[0m: \u001b[32m'P-256'\u001b[0m,                                                                     \u001b[2m                \u001b[0m\n",
       "\u001b[2;36m           \u001b[0m    \u001b[32m'x'\u001b[0m: \u001b[32m'PTKECXSeSzIRRjYBKPECaRBRp1VH_g2EztKLJf8jpVc'\u001b[0m,                                 \u001b[2m                \u001b[0m\n",
       "\u001b[2;36m           \u001b[0m    \u001b[32m'y'\u001b[0m: \u001b[32m'HHpPqdZ8P0ZVz9CSryp7FvmtTTnNImmlQuiatJncoNM'\u001b[0m                                  \u001b[2m                \u001b[0m\n",
       "\u001b[2;36m           \u001b[0m\u001b[1m}\u001b[0m                                                                                       \u001b[2m                \u001b[0m\n"
      ]
     },
     "metadata": {},
     "output_type": "display_data"
    }
   ],
   "source": [
    "import asyncio\n",
    "from ebsi_wallet.did_key import KeyDid, PublicKeyJWK\n",
    "from rich.console import Console\n",
    "\n",
    "console = Console()\n",
    "loop = asyncio.get_event_loop()\n",
    "\n",
    "# Generate did:key identifier and associated public and privatekey pairs from the cryptographic seed.\n",
    "cryptographic_seed = b'helloworld'\n",
    "issuer_did = KeyDid(seed=cryptographic_seed)\n",
    "issuer_did.create_keypair()\n",
    "\n",
    "console.log('Issuer public key JWK:', issuer_did.public_key_jwk)"
   ]
  },
  {
   "attachments": {},
   "cell_type": "markdown",
   "metadata": {},
   "source": [
    "## Claims to be issued"
   ]
  },
  {
   "cell_type": "code",
   "execution_count": 6,
   "metadata": {},
   "outputs": [
    {
     "data": {
      "text/html": [
       "<pre style=\"white-space:pre;overflow-x:auto;line-height:normal;font-family:Menlo,'DejaVu Sans Mono',consolas,'Courier New',monospace\"><span style=\"color: #7fbfbf; text-decoration-color: #7fbfbf\">[19:29:30] </span>Certificate of Registration claims to be issued:                                        <a href=\"file:///tmp/ipykernel_195/1828702974.py\" target=\"_blank\"><span style=\"color: #7f7f7f; text-decoration-color: #7f7f7f\">1828702974.py</span></a><span style=\"color: #7f7f7f; text-decoration-color: #7f7f7f\">:</span><a href=\"file:///tmp/ipykernel_195/1828702974.py#18\" target=\"_blank\"><span style=\"color: #7f7f7f; text-decoration-color: #7f7f7f\">18</span></a>\n",
       "<span style=\"color: #7fbfbf; text-decoration-color: #7fbfbf\">           </span><span style=\"font-weight: bold\">{</span>                                                                                       <span style=\"color: #7f7f7f; text-decoration-color: #7f7f7f\">                </span>\n",
       "<span style=\"color: #7fbfbf; text-decoration-color: #7fbfbf\">           </span>    <span style=\"color: #008000; text-decoration-color: #008000\">'legalStatus'</span>: <span style=\"color: #008000; text-decoration-color: #008000\">'ACTIVE'</span>,                                                            <span style=\"color: #7f7f7f; text-decoration-color: #7f7f7f\">                </span>\n",
       "<span style=\"color: #7fbfbf; text-decoration-color: #7fbfbf\">           </span>    <span style=\"color: #008000; text-decoration-color: #008000\">'legalForm'</span>: <span style=\"color: #008000; text-decoration-color: #008000\">'Aktiebolag'</span>,                                                          <span style=\"color: #7f7f7f; text-decoration-color: #7f7f7f\">                </span>\n",
       "<span style=\"color: #7fbfbf; text-decoration-color: #7fbfbf\">           </span>    <span style=\"color: #008000; text-decoration-color: #008000\">'activity'</span>: <span style=\"color: #008000; text-decoration-color: #008000\">'Construction Industry'</span>,                                                <span style=\"color: #7f7f7f; text-decoration-color: #7f7f7f\">                </span>\n",
       "<span style=\"color: #7fbfbf; text-decoration-color: #7fbfbf\">           </span>    <span style=\"color: #008000; text-decoration-color: #008000\">'orgNumber'</span>: <span style=\"color: #008000; text-decoration-color: #008000\">'559133-2720'</span>,                                                         <span style=\"color: #7f7f7f; text-decoration-color: #7f7f7f\">                </span>\n",
       "<span style=\"color: #7fbfbf; text-decoration-color: #7fbfbf\">           </span>    <span style=\"color: #008000; text-decoration-color: #008000\">'registrationDate'</span>: <span style=\"color: #008000; text-decoration-color: #008000\">'2005-10-18'</span>,                                                   <span style=\"color: #7f7f7f; text-decoration-color: #7f7f7f\">                </span>\n",
       "<span style=\"color: #7fbfbf; text-decoration-color: #7fbfbf\">           </span>    <span style=\"color: #008000; text-decoration-color: #008000\">'registeredAddress'</span>: <span style=\"font-weight: bold\">{</span>                                                              <span style=\"color: #7f7f7f; text-decoration-color: #7f7f7f\">                </span>\n",
       "<span style=\"color: #7fbfbf; text-decoration-color: #7fbfbf\">           </span>        <span style=\"color: #008000; text-decoration-color: #008000\">'fullAddress'</span>: <span style=\"color: #008000; text-decoration-color: #008000\">'123 Main St'</span>,                                                   <span style=\"color: #7f7f7f; text-decoration-color: #7f7f7f\">                </span>\n",
       "<span style=\"color: #7fbfbf; text-decoration-color: #7fbfbf\">           </span>        <span style=\"color: #008000; text-decoration-color: #008000\">'thoroughFare'</span>: <span style=\"color: #008000; text-decoration-color: #008000\">'Sveavägen'</span>,                                                    <span style=\"color: #7f7f7f; text-decoration-color: #7f7f7f\">                </span>\n",
       "<span style=\"color: #7fbfbf; text-decoration-color: #7fbfbf\">           </span>        <span style=\"color: #008000; text-decoration-color: #008000\">'postName'</span>: <span style=\"color: #008000; text-decoration-color: #008000\">'Stockholm'</span>,                                                        <span style=\"color: #7f7f7f; text-decoration-color: #7f7f7f\">                </span>\n",
       "<span style=\"color: #7fbfbf; text-decoration-color: #7fbfbf\">           </span>        <span style=\"color: #008000; text-decoration-color: #008000\">'locatorDesignator'</span>: <span style=\"color: #008000; text-decoration-color: #008000\">'111 34'</span>,                                                  <span style=\"color: #7f7f7f; text-decoration-color: #7f7f7f\">                </span>\n",
       "<span style=\"color: #7fbfbf; text-decoration-color: #7fbfbf\">           </span>        <span style=\"color: #008000; text-decoration-color: #008000\">'code'</span>: <span style=\"color: #008000; text-decoration-color: #008000\">'48'</span>,                                                                   <span style=\"color: #7f7f7f; text-decoration-color: #7f7f7f\">                </span>\n",
       "<span style=\"color: #7fbfbf; text-decoration-color: #7fbfbf\">           </span>        <span style=\"color: #008000; text-decoration-color: #008000\">'adminUnitLevel1'</span>: <span style=\"color: #008000; text-decoration-color: #008000\">'SE'</span>                                                         <span style=\"color: #7f7f7f; text-decoration-color: #7f7f7f\">                </span>\n",
       "<span style=\"color: #7fbfbf; text-decoration-color: #7fbfbf\">           </span>    <span style=\"font-weight: bold\">}</span>,                                                                                  <span style=\"color: #7f7f7f; text-decoration-color: #7f7f7f\">                </span>\n",
       "<span style=\"color: #7fbfbf; text-decoration-color: #7fbfbf\">           </span>    <span style=\"color: #008000; text-decoration-color: #008000\">'attestationValidity'</span>: <span style=\"color: #008000; text-decoration-color: #008000\">'31-Dec-2022'</span>                                                <span style=\"color: #7f7f7f; text-decoration-color: #7f7f7f\">                </span>\n",
       "<span style=\"color: #7fbfbf; text-decoration-color: #7fbfbf\">           </span><span style=\"font-weight: bold\">}</span>                                                                                       <span style=\"color: #7f7f7f; text-decoration-color: #7f7f7f\">                </span>\n",
       "</pre>\n"
      ],
      "text/plain": [
       "\u001b[2;36m[19:29:30]\u001b[0m\u001b[2;36m \u001b[0mCertificate of Registration claims to be issued:                                        \u001b]8;id=517415;file:///tmp/ipykernel_195/1828702974.py\u001b\\\u001b[2m1828702974.py\u001b[0m\u001b]8;;\u001b\\\u001b[2m:\u001b[0m\u001b]8;id=442624;file:///tmp/ipykernel_195/1828702974.py#18\u001b\\\u001b[2m18\u001b[0m\u001b]8;;\u001b\\\n",
       "\u001b[2;36m           \u001b[0m\u001b[1m{\u001b[0m                                                                                       \u001b[2m                \u001b[0m\n",
       "\u001b[2;36m           \u001b[0m    \u001b[32m'legalStatus'\u001b[0m: \u001b[32m'ACTIVE'\u001b[0m,                                                            \u001b[2m                \u001b[0m\n",
       "\u001b[2;36m           \u001b[0m    \u001b[32m'legalForm'\u001b[0m: \u001b[32m'Aktiebolag'\u001b[0m,                                                          \u001b[2m                \u001b[0m\n",
       "\u001b[2;36m           \u001b[0m    \u001b[32m'activity'\u001b[0m: \u001b[32m'Construction Industry'\u001b[0m,                                                \u001b[2m                \u001b[0m\n",
       "\u001b[2;36m           \u001b[0m    \u001b[32m'orgNumber'\u001b[0m: \u001b[32m'559133-2720'\u001b[0m,                                                         \u001b[2m                \u001b[0m\n",
       "\u001b[2;36m           \u001b[0m    \u001b[32m'registrationDate'\u001b[0m: \u001b[32m'2005-10-18'\u001b[0m,                                                   \u001b[2m                \u001b[0m\n",
       "\u001b[2;36m           \u001b[0m    \u001b[32m'registeredAddress'\u001b[0m: \u001b[1m{\u001b[0m                                                              \u001b[2m                \u001b[0m\n",
       "\u001b[2;36m           \u001b[0m        \u001b[32m'fullAddress'\u001b[0m: \u001b[32m'123 Main St'\u001b[0m,                                                   \u001b[2m                \u001b[0m\n",
       "\u001b[2;36m           \u001b[0m        \u001b[32m'thoroughFare'\u001b[0m: \u001b[32m'Sveavägen'\u001b[0m,                                                    \u001b[2m                \u001b[0m\n",
       "\u001b[2;36m           \u001b[0m        \u001b[32m'postName'\u001b[0m: \u001b[32m'Stockholm'\u001b[0m,                                                        \u001b[2m                \u001b[0m\n",
       "\u001b[2;36m           \u001b[0m        \u001b[32m'locatorDesignator'\u001b[0m: \u001b[32m'111 34'\u001b[0m,                                                  \u001b[2m                \u001b[0m\n",
       "\u001b[2;36m           \u001b[0m        \u001b[32m'code'\u001b[0m: \u001b[32m'48'\u001b[0m,                                                                   \u001b[2m                \u001b[0m\n",
       "\u001b[2;36m           \u001b[0m        \u001b[32m'adminUnitLevel1'\u001b[0m: \u001b[32m'SE'\u001b[0m                                                         \u001b[2m                \u001b[0m\n",
       "\u001b[2;36m           \u001b[0m    \u001b[1m}\u001b[0m,                                                                                  \u001b[2m                \u001b[0m\n",
       "\u001b[2;36m           \u001b[0m    \u001b[32m'attestationValidity'\u001b[0m: \u001b[32m'31-Dec-2022'\u001b[0m                                                \u001b[2m                \u001b[0m\n",
       "\u001b[2;36m           \u001b[0m\u001b[1m}\u001b[0m                                                                                       \u001b[2m                \u001b[0m\n"
      ]
     },
     "metadata": {},
     "output_type": "display_data"
    }
   ],
   "source": [
    "certificate_of_registration_claims = {\n",
    "  \"legalStatus\": \"ACTIVE\",\n",
    "  \"legalForm\": \"Aktiebolag\",\n",
    "  \"activity\": \"Construction Industry\",\n",
    "  \"orgNumber\": \"559133-2720\",\n",
    "  \"registrationDate\": \"2005-10-18\",\n",
    "  \"registeredAddress\": {\n",
    "    \"fullAddress\": \"123 Main St\",\n",
    "    \"thoroughFare\": \"Sveavägen\",\n",
    "    \"postName\": \"Stockholm\",\n",
    "    \"locatorDesignator\": \"111 34\",\n",
    "    \"code\": \"48\",\n",
    "    \"adminUnitLevel1\": \"SE\"\n",
    "  },\n",
    "  \"attestationValidity\": \"31-Dec-2022\"\n",
    "}\n",
    "\n",
    "console.log(\"Certificate of Registration claims to be issued: \", certificate_of_registration_claims)"
   ]
  },
  {
   "attachments": {},
   "cell_type": "markdown",
   "metadata": {},
   "source": [
    "## Calculate full disclosure for claims to be issued"
   ]
  },
  {
   "cell_type": "code",
   "execution_count": 7,
   "metadata": {},
   "outputs": [
    {
     "data": {
      "text/html": [
       "<pre style=\"white-space:pre;overflow-x:auto;line-height:normal;font-family:Menlo,'DejaVu Sans Mono',consolas,'Courier New',monospace\"><span style=\"color: #7fbfbf; text-decoration-color: #7fbfbf\">[19:29:40] </span>Disclosure content and base64:                                                          <a href=\"file:///tmp/ipykernel_195/2464607968.py\" target=\"_blank\"><span style=\"color: #7f7f7f; text-decoration-color: #7f7f7f\">2464607968.py</span></a><span style=\"color: #7f7f7f; text-decoration-color: #7f7f7f\">:</span><a href=\"file:///tmp/ipykernel_195/2464607968.py#11\" target=\"_blank\"><span style=\"color: #7f7f7f; text-decoration-color: #7f7f7f\">11</span></a>\n",
       "<span style=\"color: #7fbfbf; text-decoration-color: #7fbfbf\">           </span><span style=\"font-weight: bold\">[</span>                                                                                       <span style=\"color: #7f7f7f; text-decoration-color: #7f7f7f\">                </span>\n",
       "<span style=\"color: #7fbfbf; text-decoration-color: #7fbfbf\">           </span>    <span style=\"color: #800080; text-decoration-color: #800080; font-weight: bold\">Disclosure</span><span style=\"font-weight: bold\">(</span>                                                                         <span style=\"color: #7f7f7f; text-decoration-color: #7f7f7f\">                </span>\n",
       "<span style=\"color: #7fbfbf; text-decoration-color: #7fbfbf\">           </span>        <span style=\"color: #808000; text-decoration-color: #808000\">content</span>=<span style=\"font-weight: bold\">[</span><span style=\"color: #008000; text-decoration-color: #008000\">'a4eb783757f63fc9f69bdc5029098934'</span>, <span style=\"color: #008000; text-decoration-color: #008000\">'legalStatus'</span>, <span style=\"color: #008000; text-decoration-color: #008000\">'ACTIVE'</span><span style=\"font-weight: bold\">]</span>,          <span style=\"color: #7f7f7f; text-decoration-color: #7f7f7f\">                </span>\n",
       "<span style=\"color: #7fbfbf; text-decoration-color: #7fbfbf\">           </span>        <span style=\"color: #808000; text-decoration-color: #808000\">content_base64</span>=<span style=\"color: #008000; text-decoration-color: #008000\">'WyJhNGViNzgzNzU3ZjYzZmM5ZjY5YmRjNTAyOTA5ODkzNCIsICJsZWdhbFN0YXR</span> <span style=\"color: #7f7f7f; text-decoration-color: #7f7f7f\">                </span>\n",
       "<span style=\"color: #7fbfbf; text-decoration-color: #7fbfbf\">           </span><span style=\"color: #008000; text-decoration-color: #008000\">1cyIsICJBQ1RJVkUiXQ'</span>                                                                    <span style=\"color: #7f7f7f; text-decoration-color: #7f7f7f\">                </span>\n",
       "<span style=\"color: #7fbfbf; text-decoration-color: #7fbfbf\">           </span>    <span style=\"font-weight: bold\">)</span>,                                                                                  <span style=\"color: #7f7f7f; text-decoration-color: #7f7f7f\">                </span>\n",
       "<span style=\"color: #7fbfbf; text-decoration-color: #7fbfbf\">           </span>    <span style=\"color: #800080; text-decoration-color: #800080; font-weight: bold\">Disclosure</span><span style=\"font-weight: bold\">(</span>                                                                         <span style=\"color: #7f7f7f; text-decoration-color: #7f7f7f\">                </span>\n",
       "<span style=\"color: #7fbfbf; text-decoration-color: #7fbfbf\">           </span>        <span style=\"color: #808000; text-decoration-color: #808000\">content</span>=<span style=\"font-weight: bold\">[</span><span style=\"color: #008000; text-decoration-color: #008000\">'dabed7a7a2aa27f877be703787806679'</span>, <span style=\"color: #008000; text-decoration-color: #008000\">'legalForm'</span>, <span style=\"color: #008000; text-decoration-color: #008000\">'Aktiebolag'</span><span style=\"font-weight: bold\">]</span>,        <span style=\"color: #7f7f7f; text-decoration-color: #7f7f7f\">                </span>\n",
       "<span style=\"color: #7fbfbf; text-decoration-color: #7fbfbf\">           </span>        <span style=\"color: #808000; text-decoration-color: #808000\">content_base64</span>=<span style=\"color: #008000; text-decoration-color: #008000\">'WyJkYWJlZDdhN2EyYWEyN2Y4NzdiZTcwMzc4NzgwNjY3OSIsICJsZWdhbEZvcm0</span> <span style=\"color: #7f7f7f; text-decoration-color: #7f7f7f\">                </span>\n",
       "<span style=\"color: #7fbfbf; text-decoration-color: #7fbfbf\">           </span><span style=\"color: #008000; text-decoration-color: #008000\">iLCAiQWt0aWVib2xhZyJd'</span>                                                                  <span style=\"color: #7f7f7f; text-decoration-color: #7f7f7f\">                </span>\n",
       "<span style=\"color: #7fbfbf; text-decoration-color: #7fbfbf\">           </span>    <span style=\"font-weight: bold\">)</span>,                                                                                  <span style=\"color: #7f7f7f; text-decoration-color: #7f7f7f\">                </span>\n",
       "<span style=\"color: #7fbfbf; text-decoration-color: #7fbfbf\">           </span>    <span style=\"color: #800080; text-decoration-color: #800080; font-weight: bold\">Disclosure</span><span style=\"font-weight: bold\">(</span>                                                                         <span style=\"color: #7f7f7f; text-decoration-color: #7f7f7f\">                </span>\n",
       "<span style=\"color: #7fbfbf; text-decoration-color: #7fbfbf\">           </span>        <span style=\"color: #808000; text-decoration-color: #808000\">content</span>=<span style=\"font-weight: bold\">[</span>                                                                       <span style=\"color: #7f7f7f; text-decoration-color: #7f7f7f\">                </span>\n",
       "<span style=\"color: #7fbfbf; text-decoration-color: #7fbfbf\">           </span>            <span style=\"color: #008000; text-decoration-color: #008000\">'e17b6d7fae18f9c4dce1a7c09e80334c'</span>,                                         <span style=\"color: #7f7f7f; text-decoration-color: #7f7f7f\">                </span>\n",
       "<span style=\"color: #7fbfbf; text-decoration-color: #7fbfbf\">           </span>            <span style=\"color: #008000; text-decoration-color: #008000\">'activity'</span>,                                                                 <span style=\"color: #7f7f7f; text-decoration-color: #7f7f7f\">                </span>\n",
       "<span style=\"color: #7fbfbf; text-decoration-color: #7fbfbf\">           </span>            <span style=\"color: #008000; text-decoration-color: #008000\">'Construction Industry'</span>                                                     <span style=\"color: #7f7f7f; text-decoration-color: #7f7f7f\">                </span>\n",
       "<span style=\"color: #7fbfbf; text-decoration-color: #7fbfbf\">           </span>        <span style=\"font-weight: bold\">]</span>,                                                                              <span style=\"color: #7f7f7f; text-decoration-color: #7f7f7f\">                </span>\n",
       "<span style=\"color: #7fbfbf; text-decoration-color: #7fbfbf\">           </span>        <span style=\"color: #808000; text-decoration-color: #808000\">content_base64</span>=<span style=\"color: #008000; text-decoration-color: #008000\">'WyJlMTdiNmQ3ZmFlMThmOWM0ZGNlMWE3YzA5ZTgwMzM0YyIsICJhY3Rpdml0eSI</span> <span style=\"color: #7f7f7f; text-decoration-color: #7f7f7f\">                </span>\n",
       "<span style=\"color: #7fbfbf; text-decoration-color: #7fbfbf\">           </span><span style=\"color: #008000; text-decoration-color: #008000\">sICJDb25zdHJ1Y3Rpb24gSW5kdXN0cnkiXQ'</span>                                                    <span style=\"color: #7f7f7f; text-decoration-color: #7f7f7f\">                </span>\n",
       "<span style=\"color: #7fbfbf; text-decoration-color: #7fbfbf\">           </span>    <span style=\"font-weight: bold\">)</span>,                                                                                  <span style=\"color: #7f7f7f; text-decoration-color: #7f7f7f\">                </span>\n",
       "<span style=\"color: #7fbfbf; text-decoration-color: #7fbfbf\">           </span>    <span style=\"color: #800080; text-decoration-color: #800080; font-weight: bold\">Disclosure</span><span style=\"font-weight: bold\">(</span>                                                                         <span style=\"color: #7f7f7f; text-decoration-color: #7f7f7f\">                </span>\n",
       "<span style=\"color: #7fbfbf; text-decoration-color: #7fbfbf\">           </span>        <span style=\"color: #808000; text-decoration-color: #808000\">content</span>=<span style=\"font-weight: bold\">[</span><span style=\"color: #008000; text-decoration-color: #008000\">'e5671e5f5a70edb640a4239d085688f2'</span>, <span style=\"color: #008000; text-decoration-color: #008000\">'orgNumber'</span>, <span style=\"color: #008000; text-decoration-color: #008000\">'559133-2720'</span><span style=\"font-weight: bold\">]</span>,       <span style=\"color: #7f7f7f; text-decoration-color: #7f7f7f\">                </span>\n",
       "<span style=\"color: #7fbfbf; text-decoration-color: #7fbfbf\">           </span>        <span style=\"color: #808000; text-decoration-color: #808000\">content_base64</span>=<span style=\"color: #008000; text-decoration-color: #008000\">'WyJlNTY3MWU1ZjVhNzBlZGI2NDBhNDIzOWQwODU2ODhmMiIsICJvcmdOdW1iZXI</span> <span style=\"color: #7f7f7f; text-decoration-color: #7f7f7f\">                </span>\n",
       "<span style=\"color: #7fbfbf; text-decoration-color: #7fbfbf\">           </span><span style=\"color: #008000; text-decoration-color: #008000\">iLCAiNTU5MTMzLTI3MjAiXQ'</span>                                                                <span style=\"color: #7f7f7f; text-decoration-color: #7f7f7f\">                </span>\n",
       "<span style=\"color: #7fbfbf; text-decoration-color: #7fbfbf\">           </span>    <span style=\"font-weight: bold\">)</span>,                                                                                  <span style=\"color: #7f7f7f; text-decoration-color: #7f7f7f\">                </span>\n",
       "<span style=\"color: #7fbfbf; text-decoration-color: #7fbfbf\">           </span>    <span style=\"color: #800080; text-decoration-color: #800080; font-weight: bold\">Disclosure</span><span style=\"font-weight: bold\">(</span>                                                                         <span style=\"color: #7f7f7f; text-decoration-color: #7f7f7f\">                </span>\n",
       "<span style=\"color: #7fbfbf; text-decoration-color: #7fbfbf\">           </span>        <span style=\"color: #808000; text-decoration-color: #808000\">content</span>=<span style=\"font-weight: bold\">[</span>                                                                       <span style=\"color: #7f7f7f; text-decoration-color: #7f7f7f\">                </span>\n",
       "<span style=\"color: #7fbfbf; text-decoration-color: #7fbfbf\">           </span>            <span style=\"color: #008000; text-decoration-color: #008000\">'225dffd1f0f3532af061c5126c905198'</span>,                                         <span style=\"color: #7f7f7f; text-decoration-color: #7f7f7f\">                </span>\n",
       "<span style=\"color: #7fbfbf; text-decoration-color: #7fbfbf\">           </span>            <span style=\"color: #008000; text-decoration-color: #008000\">'registrationDate'</span>,                                                         <span style=\"color: #7f7f7f; text-decoration-color: #7f7f7f\">                </span>\n",
       "<span style=\"color: #7fbfbf; text-decoration-color: #7fbfbf\">           </span>            <span style=\"color: #008000; text-decoration-color: #008000\">'2005-10-18'</span>                                                                <span style=\"color: #7f7f7f; text-decoration-color: #7f7f7f\">                </span>\n",
       "<span style=\"color: #7fbfbf; text-decoration-color: #7fbfbf\">           </span>        <span style=\"font-weight: bold\">]</span>,                                                                              <span style=\"color: #7f7f7f; text-decoration-color: #7f7f7f\">                </span>\n",
       "<span style=\"color: #7fbfbf; text-decoration-color: #7fbfbf\">           </span>        <span style=\"color: #808000; text-decoration-color: #808000\">content_base64</span>=<span style=\"color: #008000; text-decoration-color: #008000\">'WyIyMjVkZmZkMWYwZjM1MzJhZjA2MWM1MTI2YzkwNTE5OCIsICJyZWdpc3RyYXR</span> <span style=\"color: #7f7f7f; text-decoration-color: #7f7f7f\">                </span>\n",
       "<span style=\"color: #7fbfbf; text-decoration-color: #7fbfbf\">           </span><span style=\"color: #008000; text-decoration-color: #008000\">pb25EYXRlIiwgIjIwMDUtMTAtMTgiXQ'</span>                                                        <span style=\"color: #7f7f7f; text-decoration-color: #7f7f7f\">                </span>\n",
       "<span style=\"color: #7fbfbf; text-decoration-color: #7fbfbf\">           </span>    <span style=\"font-weight: bold\">)</span>,                                                                                  <span style=\"color: #7f7f7f; text-decoration-color: #7f7f7f\">                </span>\n",
       "<span style=\"color: #7fbfbf; text-decoration-color: #7fbfbf\">           </span>    <span style=\"color: #800080; text-decoration-color: #800080; font-weight: bold\">Disclosure</span><span style=\"font-weight: bold\">(</span>                                                                         <span style=\"color: #7f7f7f; text-decoration-color: #7f7f7f\">                </span>\n",
       "<span style=\"color: #7fbfbf; text-decoration-color: #7fbfbf\">           </span>        <span style=\"color: #808000; text-decoration-color: #808000\">content</span>=<span style=\"font-weight: bold\">[</span>                                                                       <span style=\"color: #7f7f7f; text-decoration-color: #7f7f7f\">                </span>\n",
       "<span style=\"color: #7fbfbf; text-decoration-color: #7fbfbf\">           </span>            <span style=\"color: #008000; text-decoration-color: #008000\">'ed47ade2ea2bfab8a837063d7c4f3ae7'</span>,                                         <span style=\"color: #7f7f7f; text-decoration-color: #7f7f7f\">                </span>\n",
       "<span style=\"color: #7fbfbf; text-decoration-color: #7fbfbf\">           </span>            <span style=\"color: #008000; text-decoration-color: #008000\">'registeredAddress'</span>,                                                        <span style=\"color: #7f7f7f; text-decoration-color: #7f7f7f\">                </span>\n",
       "<span style=\"color: #7fbfbf; text-decoration-color: #7fbfbf\">           </span>            <span style=\"font-weight: bold\">{</span>                                                                           <span style=\"color: #7f7f7f; text-decoration-color: #7f7f7f\">                </span>\n",
       "<span style=\"color: #7fbfbf; text-decoration-color: #7fbfbf\">           </span>                <span style=\"color: #008000; text-decoration-color: #008000\">'fullAddress'</span>: <span style=\"color: #008000; text-decoration-color: #008000\">'123 Main St'</span>,                                           <span style=\"color: #7f7f7f; text-decoration-color: #7f7f7f\">                </span>\n",
       "<span style=\"color: #7fbfbf; text-decoration-color: #7fbfbf\">           </span>                <span style=\"color: #008000; text-decoration-color: #008000\">'thoroughFare'</span>: <span style=\"color: #008000; text-decoration-color: #008000\">'Sveavägen'</span>,                                            <span style=\"color: #7f7f7f; text-decoration-color: #7f7f7f\">                </span>\n",
       "<span style=\"color: #7fbfbf; text-decoration-color: #7fbfbf\">           </span>                <span style=\"color: #008000; text-decoration-color: #008000\">'postName'</span>: <span style=\"color: #008000; text-decoration-color: #008000\">'Stockholm'</span>,                                                <span style=\"color: #7f7f7f; text-decoration-color: #7f7f7f\">                </span>\n",
       "<span style=\"color: #7fbfbf; text-decoration-color: #7fbfbf\">           </span>                <span style=\"color: #008000; text-decoration-color: #008000\">'locatorDesignator'</span>: <span style=\"color: #008000; text-decoration-color: #008000\">'111 34'</span>,                                          <span style=\"color: #7f7f7f; text-decoration-color: #7f7f7f\">                </span>\n",
       "<span style=\"color: #7fbfbf; text-decoration-color: #7fbfbf\">           </span>                <span style=\"color: #008000; text-decoration-color: #008000\">'code'</span>: <span style=\"color: #008000; text-decoration-color: #008000\">'48'</span>,                                                           <span style=\"color: #7f7f7f; text-decoration-color: #7f7f7f\">                </span>\n",
       "<span style=\"color: #7fbfbf; text-decoration-color: #7fbfbf\">           </span>                <span style=\"color: #008000; text-decoration-color: #008000\">'adminUnitLevel1'</span>: <span style=\"color: #008000; text-decoration-color: #008000\">'SE'</span>                                                 <span style=\"color: #7f7f7f; text-decoration-color: #7f7f7f\">                </span>\n",
       "<span style=\"color: #7fbfbf; text-decoration-color: #7fbfbf\">           </span>            <span style=\"font-weight: bold\">}</span>                                                                           <span style=\"color: #7f7f7f; text-decoration-color: #7f7f7f\">                </span>\n",
       "<span style=\"color: #7fbfbf; text-decoration-color: #7fbfbf\">           </span>        <span style=\"font-weight: bold\">]</span>,                                                                              <span style=\"color: #7f7f7f; text-decoration-color: #7f7f7f\">                </span>\n",
       "<span style=\"color: #7fbfbf; text-decoration-color: #7fbfbf\">           </span>        <span style=\"color: #808000; text-decoration-color: #808000\">content_base64</span>=<span style=\"color: #008000; text-decoration-color: #008000\">'WyJlZDQ3YWRlMmVhMmJmYWI4YTgzNzA2M2Q3YzRmM2FlNyIsICJyZWdpc3RlcmV</span> <span style=\"color: #7f7f7f; text-decoration-color: #7f7f7f\">                </span>\n",
       "<span style=\"color: #7fbfbf; text-decoration-color: #7fbfbf\">           </span><span style=\"color: #008000; text-decoration-color: #008000\">kQWRkcmVzcyIsIHsiZnVsbEFkZHJlc3MiOiAiMTIzIE1haW4gU3QiLCAidGhvcm91Z2hGYXJlIjogIlN2ZWF2XH</span> <span style=\"color: #7f7f7f; text-decoration-color: #7f7f7f\">                </span>\n",
       "<span style=\"color: #7fbfbf; text-decoration-color: #7fbfbf\">           </span><span style=\"color: #008000; text-decoration-color: #008000\">UwMGU0Z2VuIiwgInBvc3ROYW1lIjogIlN0b2NraG9sbSIsICJsb2NhdG9yRGVzaWduYXRvciI6ICIxMTEgMzQiL</span> <span style=\"color: #7f7f7f; text-decoration-color: #7f7f7f\">                </span>\n",
       "<span style=\"color: #7fbfbf; text-decoration-color: #7fbfbf\">           </span><span style=\"color: #008000; text-decoration-color: #008000\">CAiY29kZSI6ICI0OCIsICJhZG1pblVuaXRMZXZlbDEiOiAiU0UifV0'</span>                                 <span style=\"color: #7f7f7f; text-decoration-color: #7f7f7f\">                </span>\n",
       "<span style=\"color: #7fbfbf; text-decoration-color: #7fbfbf\">           </span>    <span style=\"font-weight: bold\">)</span>,                                                                                  <span style=\"color: #7f7f7f; text-decoration-color: #7f7f7f\">                </span>\n",
       "<span style=\"color: #7fbfbf; text-decoration-color: #7fbfbf\">           </span>    <span style=\"color: #800080; text-decoration-color: #800080; font-weight: bold\">Disclosure</span><span style=\"font-weight: bold\">(</span>                                                                         <span style=\"color: #7f7f7f; text-decoration-color: #7f7f7f\">                </span>\n",
       "<span style=\"color: #7fbfbf; text-decoration-color: #7fbfbf\">           </span>        <span style=\"color: #808000; text-decoration-color: #808000\">content</span>=<span style=\"font-weight: bold\">[</span>                                                                       <span style=\"color: #7f7f7f; text-decoration-color: #7f7f7f\">                </span>\n",
       "<span style=\"color: #7fbfbf; text-decoration-color: #7fbfbf\">           </span>            <span style=\"color: #008000; text-decoration-color: #008000\">'d43f0b69daaa9719a438695cdf75140d'</span>,                                         <span style=\"color: #7f7f7f; text-decoration-color: #7f7f7f\">                </span>\n",
       "<span style=\"color: #7fbfbf; text-decoration-color: #7fbfbf\">           </span>            <span style=\"color: #008000; text-decoration-color: #008000\">'attestationValidity'</span>,                                                      <span style=\"color: #7f7f7f; text-decoration-color: #7f7f7f\">                </span>\n",
       "<span style=\"color: #7fbfbf; text-decoration-color: #7fbfbf\">           </span>            <span style=\"color: #008000; text-decoration-color: #008000\">'31-Dec-2022'</span>                                                               <span style=\"color: #7f7f7f; text-decoration-color: #7f7f7f\">                </span>\n",
       "<span style=\"color: #7fbfbf; text-decoration-color: #7fbfbf\">           </span>        <span style=\"font-weight: bold\">]</span>,                                                                              <span style=\"color: #7f7f7f; text-decoration-color: #7f7f7f\">                </span>\n",
       "<span style=\"color: #7fbfbf; text-decoration-color: #7fbfbf\">           </span>        <span style=\"color: #808000; text-decoration-color: #808000\">content_base64</span>=<span style=\"color: #008000; text-decoration-color: #008000\">'WyJkNDNmMGI2OWRhYWE5NzE5YTQzODY5NWNkZjc1MTQwZCIsICJhdHRlc3RhdGl</span> <span style=\"color: #7f7f7f; text-decoration-color: #7f7f7f\">                </span>\n",
       "<span style=\"color: #7fbfbf; text-decoration-color: #7fbfbf\">           </span><span style=\"color: #008000; text-decoration-color: #008000\">vblZhbGlkaXR5IiwgIjMxLURlYy0yMDIyIl0'</span>                                                   <span style=\"color: #7f7f7f; text-decoration-color: #7f7f7f\">                </span>\n",
       "<span style=\"color: #7fbfbf; text-decoration-color: #7fbfbf\">           </span>    <span style=\"font-weight: bold\">)</span>                                                                                   <span style=\"color: #7f7f7f; text-decoration-color: #7f7f7f\">                </span>\n",
       "<span style=\"color: #7fbfbf; text-decoration-color: #7fbfbf\">           </span><span style=\"font-weight: bold\">]</span>                                                                                       <span style=\"color: #7f7f7f; text-decoration-color: #7f7f7f\">                </span>\n",
       "</pre>\n"
      ],
      "text/plain": [
       "\u001b[2;36m[19:29:40]\u001b[0m\u001b[2;36m \u001b[0mDisclosure content and base64:                                                          \u001b]8;id=456647;file:///tmp/ipykernel_195/2464607968.py\u001b\\\u001b[2m2464607968.py\u001b[0m\u001b]8;;\u001b\\\u001b[2m:\u001b[0m\u001b]8;id=8030;file:///tmp/ipykernel_195/2464607968.py#11\u001b\\\u001b[2m11\u001b[0m\u001b]8;;\u001b\\\n",
       "\u001b[2;36m           \u001b[0m\u001b[1m[\u001b[0m                                                                                       \u001b[2m                \u001b[0m\n",
       "\u001b[2;36m           \u001b[0m    \u001b[1;35mDisclosure\u001b[0m\u001b[1m(\u001b[0m                                                                         \u001b[2m                \u001b[0m\n",
       "\u001b[2;36m           \u001b[0m        \u001b[33mcontent\u001b[0m=\u001b[1m[\u001b[0m\u001b[32m'a4eb783757f63fc9f69bdc5029098934'\u001b[0m, \u001b[32m'legalStatus'\u001b[0m, \u001b[32m'ACTIVE'\u001b[0m\u001b[1m]\u001b[0m,          \u001b[2m                \u001b[0m\n",
       "\u001b[2;36m           \u001b[0m        \u001b[33mcontent_base64\u001b[0m=\u001b[32m'WyJhNGViNzgzNzU3ZjYzZmM5ZjY5YmRjNTAyOTA5ODkzNCIsICJsZWdhbFN0YXR\u001b[0m \u001b[2m                \u001b[0m\n",
       "\u001b[2;36m           \u001b[0m\u001b[32m1cyIsICJBQ1RJVkUiXQ'\u001b[0m                                                                    \u001b[2m                \u001b[0m\n",
       "\u001b[2;36m           \u001b[0m    \u001b[1m)\u001b[0m,                                                                                  \u001b[2m                \u001b[0m\n",
       "\u001b[2;36m           \u001b[0m    \u001b[1;35mDisclosure\u001b[0m\u001b[1m(\u001b[0m                                                                         \u001b[2m                \u001b[0m\n",
       "\u001b[2;36m           \u001b[0m        \u001b[33mcontent\u001b[0m=\u001b[1m[\u001b[0m\u001b[32m'dabed7a7a2aa27f877be703787806679'\u001b[0m, \u001b[32m'legalForm'\u001b[0m, \u001b[32m'Aktiebolag'\u001b[0m\u001b[1m]\u001b[0m,        \u001b[2m                \u001b[0m\n",
       "\u001b[2;36m           \u001b[0m        \u001b[33mcontent_base64\u001b[0m=\u001b[32m'WyJkYWJlZDdhN2EyYWEyN2Y4NzdiZTcwMzc4NzgwNjY3OSIsICJsZWdhbEZvcm0\u001b[0m \u001b[2m                \u001b[0m\n",
       "\u001b[2;36m           \u001b[0m\u001b[32miLCAiQWt0aWVib2xhZyJd'\u001b[0m                                                                  \u001b[2m                \u001b[0m\n",
       "\u001b[2;36m           \u001b[0m    \u001b[1m)\u001b[0m,                                                                                  \u001b[2m                \u001b[0m\n",
       "\u001b[2;36m           \u001b[0m    \u001b[1;35mDisclosure\u001b[0m\u001b[1m(\u001b[0m                                                                         \u001b[2m                \u001b[0m\n",
       "\u001b[2;36m           \u001b[0m        \u001b[33mcontent\u001b[0m=\u001b[1m[\u001b[0m                                                                       \u001b[2m                \u001b[0m\n",
       "\u001b[2;36m           \u001b[0m            \u001b[32m'e17b6d7fae18f9c4dce1a7c09e80334c'\u001b[0m,                                         \u001b[2m                \u001b[0m\n",
       "\u001b[2;36m           \u001b[0m            \u001b[32m'activity'\u001b[0m,                                                                 \u001b[2m                \u001b[0m\n",
       "\u001b[2;36m           \u001b[0m            \u001b[32m'Construction Industry'\u001b[0m                                                     \u001b[2m                \u001b[0m\n",
       "\u001b[2;36m           \u001b[0m        \u001b[1m]\u001b[0m,                                                                              \u001b[2m                \u001b[0m\n",
       "\u001b[2;36m           \u001b[0m        \u001b[33mcontent_base64\u001b[0m=\u001b[32m'WyJlMTdiNmQ3ZmFlMThmOWM0ZGNlMWE3YzA5ZTgwMzM0YyIsICJhY3Rpdml0eSI\u001b[0m \u001b[2m                \u001b[0m\n",
       "\u001b[2;36m           \u001b[0m\u001b[32msICJDb25zdHJ1Y3Rpb24gSW5kdXN0cnkiXQ'\u001b[0m                                                    \u001b[2m                \u001b[0m\n",
       "\u001b[2;36m           \u001b[0m    \u001b[1m)\u001b[0m,                                                                                  \u001b[2m                \u001b[0m\n",
       "\u001b[2;36m           \u001b[0m    \u001b[1;35mDisclosure\u001b[0m\u001b[1m(\u001b[0m                                                                         \u001b[2m                \u001b[0m\n",
       "\u001b[2;36m           \u001b[0m        \u001b[33mcontent\u001b[0m=\u001b[1m[\u001b[0m\u001b[32m'e5671e5f5a70edb640a4239d085688f2'\u001b[0m, \u001b[32m'orgNumber'\u001b[0m, \u001b[32m'559133-2720'\u001b[0m\u001b[1m]\u001b[0m,       \u001b[2m                \u001b[0m\n",
       "\u001b[2;36m           \u001b[0m        \u001b[33mcontent_base64\u001b[0m=\u001b[32m'WyJlNTY3MWU1ZjVhNzBlZGI2NDBhNDIzOWQwODU2ODhmMiIsICJvcmdOdW1iZXI\u001b[0m \u001b[2m                \u001b[0m\n",
       "\u001b[2;36m           \u001b[0m\u001b[32miLCAiNTU5MTMzLTI3MjAiXQ'\u001b[0m                                                                \u001b[2m                \u001b[0m\n",
       "\u001b[2;36m           \u001b[0m    \u001b[1m)\u001b[0m,                                                                                  \u001b[2m                \u001b[0m\n",
       "\u001b[2;36m           \u001b[0m    \u001b[1;35mDisclosure\u001b[0m\u001b[1m(\u001b[0m                                                                         \u001b[2m                \u001b[0m\n",
       "\u001b[2;36m           \u001b[0m        \u001b[33mcontent\u001b[0m=\u001b[1m[\u001b[0m                                                                       \u001b[2m                \u001b[0m\n",
       "\u001b[2;36m           \u001b[0m            \u001b[32m'225dffd1f0f3532af061c5126c905198'\u001b[0m,                                         \u001b[2m                \u001b[0m\n",
       "\u001b[2;36m           \u001b[0m            \u001b[32m'registrationDate'\u001b[0m,                                                         \u001b[2m                \u001b[0m\n",
       "\u001b[2;36m           \u001b[0m            \u001b[32m'2005-10-18'\u001b[0m                                                                \u001b[2m                \u001b[0m\n",
       "\u001b[2;36m           \u001b[0m        \u001b[1m]\u001b[0m,                                                                              \u001b[2m                \u001b[0m\n",
       "\u001b[2;36m           \u001b[0m        \u001b[33mcontent_base64\u001b[0m=\u001b[32m'WyIyMjVkZmZkMWYwZjM1MzJhZjA2MWM1MTI2YzkwNTE5OCIsICJyZWdpc3RyYXR\u001b[0m \u001b[2m                \u001b[0m\n",
       "\u001b[2;36m           \u001b[0m\u001b[32mpb25EYXRlIiwgIjIwMDUtMTAtMTgiXQ'\u001b[0m                                                        \u001b[2m                \u001b[0m\n",
       "\u001b[2;36m           \u001b[0m    \u001b[1m)\u001b[0m,                                                                                  \u001b[2m                \u001b[0m\n",
       "\u001b[2;36m           \u001b[0m    \u001b[1;35mDisclosure\u001b[0m\u001b[1m(\u001b[0m                                                                         \u001b[2m                \u001b[0m\n",
       "\u001b[2;36m           \u001b[0m        \u001b[33mcontent\u001b[0m=\u001b[1m[\u001b[0m                                                                       \u001b[2m                \u001b[0m\n",
       "\u001b[2;36m           \u001b[0m            \u001b[32m'ed47ade2ea2bfab8a837063d7c4f3ae7'\u001b[0m,                                         \u001b[2m                \u001b[0m\n",
       "\u001b[2;36m           \u001b[0m            \u001b[32m'registeredAddress'\u001b[0m,                                                        \u001b[2m                \u001b[0m\n",
       "\u001b[2;36m           \u001b[0m            \u001b[1m{\u001b[0m                                                                           \u001b[2m                \u001b[0m\n",
       "\u001b[2;36m           \u001b[0m                \u001b[32m'fullAddress'\u001b[0m: \u001b[32m'123 Main St'\u001b[0m,                                           \u001b[2m                \u001b[0m\n",
       "\u001b[2;36m           \u001b[0m                \u001b[32m'thoroughFare'\u001b[0m: \u001b[32m'Sveavägen'\u001b[0m,                                            \u001b[2m                \u001b[0m\n",
       "\u001b[2;36m           \u001b[0m                \u001b[32m'postName'\u001b[0m: \u001b[32m'Stockholm'\u001b[0m,                                                \u001b[2m                \u001b[0m\n",
       "\u001b[2;36m           \u001b[0m                \u001b[32m'locatorDesignator'\u001b[0m: \u001b[32m'111 34'\u001b[0m,                                          \u001b[2m                \u001b[0m\n",
       "\u001b[2;36m           \u001b[0m                \u001b[32m'code'\u001b[0m: \u001b[32m'48'\u001b[0m,                                                           \u001b[2m                \u001b[0m\n",
       "\u001b[2;36m           \u001b[0m                \u001b[32m'adminUnitLevel1'\u001b[0m: \u001b[32m'SE'\u001b[0m                                                 \u001b[2m                \u001b[0m\n",
       "\u001b[2;36m           \u001b[0m            \u001b[1m}\u001b[0m                                                                           \u001b[2m                \u001b[0m\n",
       "\u001b[2;36m           \u001b[0m        \u001b[1m]\u001b[0m,                                                                              \u001b[2m                \u001b[0m\n",
       "\u001b[2;36m           \u001b[0m        \u001b[33mcontent_base64\u001b[0m=\u001b[32m'WyJlZDQ3YWRlMmVhMmJmYWI4YTgzNzA2M2Q3YzRmM2FlNyIsICJyZWdpc3RlcmV\u001b[0m \u001b[2m                \u001b[0m\n",
       "\u001b[2;36m           \u001b[0m\u001b[32mkQWRkcmVzcyIsIHsiZnVsbEFkZHJlc3MiOiAiMTIzIE1haW4gU3QiLCAidGhvcm91Z2hGYXJlIjogIlN2ZWF2XH\u001b[0m \u001b[2m                \u001b[0m\n",
       "\u001b[2;36m           \u001b[0m\u001b[32mUwMGU0Z2VuIiwgInBvc3ROYW1lIjogIlN0b2NraG9sbSIsICJsb2NhdG9yRGVzaWduYXRvciI6ICIxMTEgMzQiL\u001b[0m \u001b[2m                \u001b[0m\n",
       "\u001b[2;36m           \u001b[0m\u001b[32mCAiY29kZSI6ICI0OCIsICJhZG1pblVuaXRMZXZlbDEiOiAiU0UifV0'\u001b[0m                                 \u001b[2m                \u001b[0m\n",
       "\u001b[2;36m           \u001b[0m    \u001b[1m)\u001b[0m,                                                                                  \u001b[2m                \u001b[0m\n",
       "\u001b[2;36m           \u001b[0m    \u001b[1;35mDisclosure\u001b[0m\u001b[1m(\u001b[0m                                                                         \u001b[2m                \u001b[0m\n",
       "\u001b[2;36m           \u001b[0m        \u001b[33mcontent\u001b[0m=\u001b[1m[\u001b[0m                                                                       \u001b[2m                \u001b[0m\n",
       "\u001b[2;36m           \u001b[0m            \u001b[32m'd43f0b69daaa9719a438695cdf75140d'\u001b[0m,                                         \u001b[2m                \u001b[0m\n",
       "\u001b[2;36m           \u001b[0m            \u001b[32m'attestationValidity'\u001b[0m,                                                      \u001b[2m                \u001b[0m\n",
       "\u001b[2;36m           \u001b[0m            \u001b[32m'31-Dec-2022'\u001b[0m                                                               \u001b[2m                \u001b[0m\n",
       "\u001b[2;36m           \u001b[0m        \u001b[1m]\u001b[0m,                                                                              \u001b[2m                \u001b[0m\n",
       "\u001b[2;36m           \u001b[0m        \u001b[33mcontent_base64\u001b[0m=\u001b[32m'WyJkNDNmMGI2OWRhYWE5NzE5YTQzODY5NWNkZjc1MTQwZCIsICJhdHRlc3RhdGl\u001b[0m \u001b[2m                \u001b[0m\n",
       "\u001b[2;36m           \u001b[0m\u001b[32mvblZhbGlkaXR5IiwgIjMxLURlYy0yMDIyIl0'\u001b[0m                                                   \u001b[2m                \u001b[0m\n",
       "\u001b[2;36m           \u001b[0m    \u001b[1m)\u001b[0m                                                                                   \u001b[2m                \u001b[0m\n",
       "\u001b[2;36m           \u001b[0m\u001b[1m]\u001b[0m                                                                                       \u001b[2m                \u001b[0m\n"
      ]
     },
     "metadata": {},
     "output_type": "display_data"
    }
   ],
   "source": [
    "from collections import namedtuple\n",
    "from ebsi_wallet.util import generate_disclosure_content_and_base64\n",
    "\n",
    "Disclosure = namedtuple('Disclosure', ['content', 'content_base64'])\n",
    "\n",
    "disclosures = []\n",
    "for key, value in certificate_of_registration_claims.items():\n",
    "    disclosure, disclosure_base64 = generate_disclosure_content_and_base64(key, certificate_of_registration_claims)\n",
    "    disclosures.append(Disclosure(content=disclosure, content_base64=disclosure_base64))\n",
    "\n",
    "console.log(\"Disclosure content and base64: \", disclosures)"
   ]
  },
  {
   "attachments": {},
   "cell_type": "markdown",
   "metadata": {},
   "source": [
    "## Calculate disclosure SHA-256 digest"
   ]
  },
  {
   "cell_type": "code",
   "execution_count": 8,
   "metadata": {},
   "outputs": [
    {
     "data": {
      "text/html": [
       "<pre style=\"white-space:pre;overflow-x:auto;line-height:normal;font-family:Menlo,'DejaVu Sans Mono',consolas,'Courier New',monospace\"><span style=\"color: #7fbfbf; text-decoration-color: #7fbfbf\">[19:29:44] </span>Disclosure SHA-256s:                                                                     <a href=\"file:///tmp/ipykernel_195/345948757.py\" target=\"_blank\"><span style=\"color: #7f7f7f; text-decoration-color: #7f7f7f\">345948757.py</span></a><span style=\"color: #7f7f7f; text-decoration-color: #7f7f7f\">:</span><a href=\"file:///tmp/ipykernel_195/345948757.py#13\" target=\"_blank\"><span style=\"color: #7f7f7f; text-decoration-color: #7f7f7f\">13</span></a>\n",
       "<span style=\"color: #7fbfbf; text-decoration-color: #7fbfbf\">           </span><span style=\"font-weight: bold\">[</span>                                                                                        <span style=\"color: #7f7f7f; text-decoration-color: #7f7f7f\">               </span>\n",
       "<span style=\"color: #7fbfbf; text-decoration-color: #7fbfbf\">           </span>    <span style=\"color: #008000; text-decoration-color: #008000\">'m0536bn3zNyTx_oGG3NdYod6t6ttt6OoRDa75trjsVQ'</span>,                                       <span style=\"color: #7f7f7f; text-decoration-color: #7f7f7f\">               </span>\n",
       "<span style=\"color: #7fbfbf; text-decoration-color: #7fbfbf\">           </span>    <span style=\"color: #008000; text-decoration-color: #008000\">'huSHnmb4PKescn7Ml2USbCdk2QGQCmPLeUWw3j93hkE'</span>,                                       <span style=\"color: #7f7f7f; text-decoration-color: #7f7f7f\">               </span>\n",
       "<span style=\"color: #7fbfbf; text-decoration-color: #7fbfbf\">           </span>    <span style=\"color: #008000; text-decoration-color: #008000\">'6LbN567hUT_6JdqxJ-BiIFDEUVUo0irHV3fmhsS3xK0'</span>,                                       <span style=\"color: #7f7f7f; text-decoration-color: #7f7f7f\">               </span>\n",
       "<span style=\"color: #7fbfbf; text-decoration-color: #7fbfbf\">           </span>    <span style=\"color: #008000; text-decoration-color: #008000\">'1CKPPj3e_TKfC309Necz8CoK_Io8mcMSCqwY4IvrEU4'</span>,                                       <span style=\"color: #7f7f7f; text-decoration-color: #7f7f7f\">               </span>\n",
       "<span style=\"color: #7fbfbf; text-decoration-color: #7fbfbf\">           </span>    <span style=\"color: #008000; text-decoration-color: #008000\">'dQDm701mBdDlbCutNywtm3lldlLDyi-5N7ifEcmyfYE'</span>,                                       <span style=\"color: #7f7f7f; text-decoration-color: #7f7f7f\">               </span>\n",
       "<span style=\"color: #7fbfbf; text-decoration-color: #7fbfbf\">           </span>    <span style=\"color: #008000; text-decoration-color: #008000\">'pXLOHsfDwBPZdcoXdVvAGin7ZnNS1J0jQ6RAQQzfalI'</span>,                                       <span style=\"color: #7f7f7f; text-decoration-color: #7f7f7f\">               </span>\n",
       "<span style=\"color: #7fbfbf; text-decoration-color: #7fbfbf\">           </span>    <span style=\"color: #008000; text-decoration-color: #008000\">'Buc85oxZjJLT2Xjn74bfd2daIs9xANdokb057UML6qc'</span>                                        <span style=\"color: #7f7f7f; text-decoration-color: #7f7f7f\">               </span>\n",
       "<span style=\"color: #7fbfbf; text-decoration-color: #7fbfbf\">           </span><span style=\"font-weight: bold\">]</span>                                                                                        <span style=\"color: #7f7f7f; text-decoration-color: #7f7f7f\">               </span>\n",
       "</pre>\n"
      ],
      "text/plain": [
       "\u001b[2;36m[19:29:44]\u001b[0m\u001b[2;36m \u001b[0mDisclosure SHA-256s:                                                                     \u001b]8;id=212340;file:///tmp/ipykernel_195/345948757.py\u001b\\\u001b[2m345948757.py\u001b[0m\u001b]8;;\u001b\\\u001b[2m:\u001b[0m\u001b]8;id=308949;file:///tmp/ipykernel_195/345948757.py#13\u001b\\\u001b[2m13\u001b[0m\u001b]8;;\u001b\\\n",
       "\u001b[2;36m           \u001b[0m\u001b[1m[\u001b[0m                                                                                        \u001b[2m               \u001b[0m\n",
       "\u001b[2;36m           \u001b[0m    \u001b[32m'm0536bn3zNyTx_oGG3NdYod6t6ttt6OoRDa75trjsVQ'\u001b[0m,                                       \u001b[2m               \u001b[0m\n",
       "\u001b[2;36m           \u001b[0m    \u001b[32m'huSHnmb4PKescn7Ml2USbCdk2QGQCmPLeUWw3j93hkE'\u001b[0m,                                       \u001b[2m               \u001b[0m\n",
       "\u001b[2;36m           \u001b[0m    \u001b[32m'6LbN567hUT_6JdqxJ-BiIFDEUVUo0irHV3fmhsS3xK0'\u001b[0m,                                       \u001b[2m               \u001b[0m\n",
       "\u001b[2;36m           \u001b[0m    \u001b[32m'1CKPPj3e_TKfC309Necz8CoK_Io8mcMSCqwY4IvrEU4'\u001b[0m,                                       \u001b[2m               \u001b[0m\n",
       "\u001b[2;36m           \u001b[0m    \u001b[32m'dQDm701mBdDlbCutNywtm3lldlLDyi-5N7ifEcmyfYE'\u001b[0m,                                       \u001b[2m               \u001b[0m\n",
       "\u001b[2;36m           \u001b[0m    \u001b[32m'pXLOHsfDwBPZdcoXdVvAGin7ZnNS1J0jQ6RAQQzfalI'\u001b[0m,                                       \u001b[2m               \u001b[0m\n",
       "\u001b[2;36m           \u001b[0m    \u001b[32m'Buc85oxZjJLT2Xjn74bfd2daIs9xANdokb057UML6qc'\u001b[0m                                        \u001b[2m               \u001b[0m\n",
       "\u001b[2;36m           \u001b[0m\u001b[1m]\u001b[0m                                                                                        \u001b[2m               \u001b[0m\n"
      ]
     },
     "metadata": {},
     "output_type": "display_data"
    }
   ],
   "source": [
    "import hashlib\n",
    "import base64\n",
    "\n",
    "disclosure_sha_256s = []\n",
    "\n",
    "for disclosure in disclosures:\n",
    "    sha256_hash = hashlib.sha256()\n",
    "    sha256_hash.update(disclosure.content_base64.encode('utf-8'))\n",
    "    sha256_digest = sha256_hash.digest()\n",
    "    disclosure_sha_256 = base64.urlsafe_b64encode(sha256_digest).decode('utf-8').rstrip(\"=\")\n",
    "    disclosure_sha_256s.append(disclosure_sha_256)\n",
    "\n",
    "console.log(\"Disclosure SHA-256s: \", disclosure_sha_256s)"
   ]
  },
  {
   "attachments": {},
   "cell_type": "markdown",
   "metadata": {},
   "source": [
    "## Create SD-JWT"
   ]
  },
  {
   "cell_type": "code",
   "execution_count": 9,
   "metadata": {},
   "outputs": [
    {
     "data": {
      "text/html": [
       "<pre style=\"white-space:pre;overflow-x:auto;line-height:normal;font-family:Menlo,'DejaVu Sans Mono',consolas,'Courier New',monospace\"><span style=\"color: #7fbfbf; text-decoration-color: #7fbfbf\">[19:29:51] </span>SD-JWT:                                                                                  <a href=\"file:///tmp/ipykernel_195/3815079559.py\" target=\"_blank\"><span style=\"color: #7f7f7f; text-decoration-color: #7f7f7f\">3815079559.py</span></a><span style=\"color: #7f7f7f; text-decoration-color: #7f7f7f\">:</span><a href=\"file:///tmp/ipykernel_195/3815079559.py#7\" target=\"_blank\"><span style=\"color: #7f7f7f; text-decoration-color: #7f7f7f\">7</span></a>\n",
       "<span style=\"color: #7fbfbf; text-decoration-color: #7fbfbf\">           </span>eyJhbGciOiJFUzI1NiJ9.eyJfc2QiOlsibTA1MzZibjN6TnlUeF9vR0czTmRZb2Q2dDZ0dHQ2T29SRGE3NXRyanN <span style=\"color: #7f7f7f; text-decoration-color: #7f7f7f\">               </span>\n",
       "<span style=\"color: #7fbfbf; text-decoration-color: #7fbfbf\">           </span>WUSIsImh1U0hubWI0UEtlc2NuN01sMlVTYkNkazJRR1FDbVBMZVVXdzNqOTNoa0UiLCI2TGJONTY3aFVUXzZKZHF <span style=\"color: #7f7f7f; text-decoration-color: #7f7f7f\">               </span>\n",
       "<span style=\"color: #7fbfbf; text-decoration-color: #7fbfbf\">           </span>4Si1CaUlGREVVVlVvMGlySFYzZm1oc1MzeEswIiwiMUNLUFBqM2VfVEtmQzMwOU5lY3o4Q29LX0lvOG1jTVNDcXd <span style=\"color: #7f7f7f; text-decoration-color: #7f7f7f\">               </span>\n",
       "<span style=\"color: #7fbfbf; text-decoration-color: #7fbfbf\">           </span>ZNEl2ckVVNCIsImRRRG03MDFtQmREbGJDdXROeXd0bTNsbGRsTER5aS01TjdpZkVjbXlmWUUiLCJwWExPSHNmRHd <span style=\"color: #7f7f7f; text-decoration-color: #7f7f7f\">               </span>\n",
       "<span style=\"color: #7fbfbf; text-decoration-color: #7fbfbf\">           </span>CUFpkY29YZFZ2QUdpbjdabk5TMUowalE2UkFRUXpmYWxJIiwiQnVjODVveFpqSkxUMlhqbjc0YmZkMmRhSXM5eEF <span style=\"color: #7f7f7f; text-decoration-color: #7f7f7f\">               </span>\n",
       "<span style=\"color: #7fbfbf; text-decoration-color: #7fbfbf\">           </span>OZG9rYjA1N1VNTDZxYyJdLCJfc2RfYWxnIjoic2hhLTI1NiIsImV4cCI6MTY4NzI5Mjk5MCwiaWF0IjoxNjg3Mjg <span style=\"color: #7f7f7f; text-decoration-color: #7f7f7f\">               </span>\n",
       "<span style=\"color: #7fbfbf; text-decoration-color: #7fbfbf\">           </span>5MzkwLCJpc3MiOiJodHRwczovL2lzc3Vlci5pZ3JhbnQuaW8ifQ.5GjBqCOGkSaQcMRd9w-uwArJ72Ii955p-dFA <span style=\"color: #7f7f7f; text-decoration-color: #7f7f7f\">               </span>\n",
       "<span style=\"color: #7fbfbf; text-decoration-color: #7fbfbf\">           </span>r8dC8A2kwaZ2onMrzxts82RUmiKNosyQvx--Q5-JKsR2RkDOaA                                       <span style=\"color: #7f7f7f; text-decoration-color: #7f7f7f\">               </span>\n",
       "</pre>\n"
      ],
      "text/plain": [
       "\u001b[2;36m[19:29:51]\u001b[0m\u001b[2;36m \u001b[0mSD-JWT:                                                                                  \u001b]8;id=744968;file:///tmp/ipykernel_195/3815079559.py\u001b\\\u001b[2m3815079559.py\u001b[0m\u001b]8;;\u001b\\\u001b[2m:\u001b[0m\u001b]8;id=394009;file:///tmp/ipykernel_195/3815079559.py#7\u001b\\\u001b[2m7\u001b[0m\u001b]8;;\u001b\\\n",
       "\u001b[2;36m           \u001b[0meyJhbGciOiJFUzI1NiJ9.eyJfc2QiOlsibTA1MzZibjN6TnlUeF9vR0czTmRZb2Q2dDZ0dHQ2T29SRGE3NXRyanN \u001b[2m               \u001b[0m\n",
       "\u001b[2;36m           \u001b[0mWUSIsImh1U0hubWI0UEtlc2NuN01sMlVTYkNkazJRR1FDbVBMZVVXdzNqOTNoa0UiLCI2TGJONTY3aFVUXzZKZHF \u001b[2m               \u001b[0m\n",
       "\u001b[2;36m           \u001b[0m4Si1CaUlGREVVVlVvMGlySFYzZm1oc1MzeEswIiwiMUNLUFBqM2VfVEtmQzMwOU5lY3o4Q29LX0lvOG1jTVNDcXd \u001b[2m               \u001b[0m\n",
       "\u001b[2;36m           \u001b[0mZNEl2ckVVNCIsImRRRG03MDFtQmREbGJDdXROeXd0bTNsbGRsTER5aS01TjdpZkVjbXlmWUUiLCJwWExPSHNmRHd \u001b[2m               \u001b[0m\n",
       "\u001b[2;36m           \u001b[0mCUFpkY29YZFZ2QUdpbjdabk5TMUowalE2UkFRUXpmYWxJIiwiQnVjODVveFpqSkxUMlhqbjc0YmZkMmRhSXM5eEF \u001b[2m               \u001b[0m\n",
       "\u001b[2;36m           \u001b[0mOZG9rYjA1N1VNTDZxYyJdLCJfc2RfYWxnIjoic2hhLTI1NiIsImV4cCI6MTY4NzI5Mjk5MCwiaWF0IjoxNjg3Mjg \u001b[2m               \u001b[0m\n",
       "\u001b[2;36m           \u001b[0m5MzkwLCJpc3MiOiJodHRwczovL2lzc3Vlci5pZ3JhbnQuaW8ifQ.5GjBqCOGkSaQcMRd9w-uwArJ72Ii955p-dFA \u001b[2m               \u001b[0m\n",
       "\u001b[2;36m           \u001b[0mr8dC8A2kwaZ2onMrzxts82RUmiKNosyQvx--Q5-JKsR2RkDOaA                                       \u001b[2m               \u001b[0m\n"
      ]
     },
     "metadata": {},
     "output_type": "display_data"
    },
    {
     "data": {
      "text/html": [
       "<pre style=\"white-space:pre;overflow-x:auto;line-height:normal;font-family:Menlo,'DejaVu Sans Mono',consolas,'Courier New',monospace\"><span style=\"color: #7fbfbf; text-decoration-color: #7fbfbf\">           </span>SD-JWT payload:                                                                         <a href=\"file:///tmp/ipykernel_195/3815079559.py\" target=\"_blank\"><span style=\"color: #7f7f7f; text-decoration-color: #7f7f7f\">3815079559.py</span></a><span style=\"color: #7f7f7f; text-decoration-color: #7f7f7f\">:</span><a href=\"file:///tmp/ipykernel_195/3815079559.py#11\" target=\"_blank\"><span style=\"color: #7f7f7f; text-decoration-color: #7f7f7f\">11</span></a>\n",
       "<span style=\"color: #7fbfbf; text-decoration-color: #7fbfbf\">           </span><span style=\"font-weight: bold\">{</span>                                                                                       <span style=\"color: #7f7f7f; text-decoration-color: #7f7f7f\">                </span>\n",
       "<span style=\"color: #7fbfbf; text-decoration-color: #7fbfbf\">           </span>    <span style=\"color: #008000; text-decoration-color: #008000\">'_sd'</span>: <span style=\"font-weight: bold\">[</span>                                                                            <span style=\"color: #7f7f7f; text-decoration-color: #7f7f7f\">                </span>\n",
       "<span style=\"color: #7fbfbf; text-decoration-color: #7fbfbf\">           </span>        <span style=\"color: #008000; text-decoration-color: #008000\">'m0536bn3zNyTx_oGG3NdYod6t6ttt6OoRDa75trjsVQ'</span>,                                  <span style=\"color: #7f7f7f; text-decoration-color: #7f7f7f\">                </span>\n",
       "<span style=\"color: #7fbfbf; text-decoration-color: #7fbfbf\">           </span>        <span style=\"color: #008000; text-decoration-color: #008000\">'huSHnmb4PKescn7Ml2USbCdk2QGQCmPLeUWw3j93hkE'</span>,                                  <span style=\"color: #7f7f7f; text-decoration-color: #7f7f7f\">                </span>\n",
       "<span style=\"color: #7fbfbf; text-decoration-color: #7fbfbf\">           </span>        <span style=\"color: #008000; text-decoration-color: #008000\">'6LbN567hUT_6JdqxJ-BiIFDEUVUo0irHV3fmhsS3xK0'</span>,                                  <span style=\"color: #7f7f7f; text-decoration-color: #7f7f7f\">                </span>\n",
       "<span style=\"color: #7fbfbf; text-decoration-color: #7fbfbf\">           </span>        <span style=\"color: #008000; text-decoration-color: #008000\">'1CKPPj3e_TKfC309Necz8CoK_Io8mcMSCqwY4IvrEU4'</span>,                                  <span style=\"color: #7f7f7f; text-decoration-color: #7f7f7f\">                </span>\n",
       "<span style=\"color: #7fbfbf; text-decoration-color: #7fbfbf\">           </span>        <span style=\"color: #008000; text-decoration-color: #008000\">'dQDm701mBdDlbCutNywtm3lldlLDyi-5N7ifEcmyfYE'</span>,                                  <span style=\"color: #7f7f7f; text-decoration-color: #7f7f7f\">                </span>\n",
       "<span style=\"color: #7fbfbf; text-decoration-color: #7fbfbf\">           </span>        <span style=\"color: #008000; text-decoration-color: #008000\">'pXLOHsfDwBPZdcoXdVvAGin7ZnNS1J0jQ6RAQQzfalI'</span>,                                  <span style=\"color: #7f7f7f; text-decoration-color: #7f7f7f\">                </span>\n",
       "<span style=\"color: #7fbfbf; text-decoration-color: #7fbfbf\">           </span>        <span style=\"color: #008000; text-decoration-color: #008000\">'Buc85oxZjJLT2Xjn74bfd2daIs9xANdokb057UML6qc'</span>                                   <span style=\"color: #7f7f7f; text-decoration-color: #7f7f7f\">                </span>\n",
       "<span style=\"color: #7fbfbf; text-decoration-color: #7fbfbf\">           </span>    <span style=\"font-weight: bold\">]</span>,                                                                                  <span style=\"color: #7f7f7f; text-decoration-color: #7f7f7f\">                </span>\n",
       "<span style=\"color: #7fbfbf; text-decoration-color: #7fbfbf\">           </span>    <span style=\"color: #008000; text-decoration-color: #008000\">'_sd_alg'</span>: <span style=\"color: #008000; text-decoration-color: #008000\">'sha-256'</span>,                                                               <span style=\"color: #7f7f7f; text-decoration-color: #7f7f7f\">                </span>\n",
       "<span style=\"color: #7fbfbf; text-decoration-color: #7fbfbf\">           </span>    <span style=\"color: #008000; text-decoration-color: #008000\">'exp'</span>: <span style=\"color: #008080; text-decoration-color: #008080; font-weight: bold\">1687292990</span>,                                                                  <span style=\"color: #7f7f7f; text-decoration-color: #7f7f7f\">                </span>\n",
       "<span style=\"color: #7fbfbf; text-decoration-color: #7fbfbf\">           </span>    <span style=\"color: #008000; text-decoration-color: #008000\">'iat'</span>: <span style=\"color: #008080; text-decoration-color: #008080; font-weight: bold\">1687289390</span>,                                                                  <span style=\"color: #7f7f7f; text-decoration-color: #7f7f7f\">                </span>\n",
       "<span style=\"color: #7fbfbf; text-decoration-color: #7fbfbf\">           </span>    <span style=\"color: #008000; text-decoration-color: #008000\">'iss'</span>: <span style=\"color: #008000; text-decoration-color: #008000\">'https://issuer.igrant.io'</span>                                                   <span style=\"color: #7f7f7f; text-decoration-color: #7f7f7f\">                </span>\n",
       "<span style=\"color: #7fbfbf; text-decoration-color: #7fbfbf\">           </span><span style=\"font-weight: bold\">}</span>                                                                                       <span style=\"color: #7f7f7f; text-decoration-color: #7f7f7f\">                </span>\n",
       "</pre>\n"
      ],
      "text/plain": [
       "\u001b[2;36m          \u001b[0m\u001b[2;36m \u001b[0mSD-JWT payload:                                                                         \u001b]8;id=13038;file:///tmp/ipykernel_195/3815079559.py\u001b\\\u001b[2m3815079559.py\u001b[0m\u001b]8;;\u001b\\\u001b[2m:\u001b[0m\u001b]8;id=425738;file:///tmp/ipykernel_195/3815079559.py#11\u001b\\\u001b[2m11\u001b[0m\u001b]8;;\u001b\\\n",
       "\u001b[2;36m           \u001b[0m\u001b[1m{\u001b[0m                                                                                       \u001b[2m                \u001b[0m\n",
       "\u001b[2;36m           \u001b[0m    \u001b[32m'_sd'\u001b[0m: \u001b[1m[\u001b[0m                                                                            \u001b[2m                \u001b[0m\n",
       "\u001b[2;36m           \u001b[0m        \u001b[32m'm0536bn3zNyTx_oGG3NdYod6t6ttt6OoRDa75trjsVQ'\u001b[0m,                                  \u001b[2m                \u001b[0m\n",
       "\u001b[2;36m           \u001b[0m        \u001b[32m'huSHnmb4PKescn7Ml2USbCdk2QGQCmPLeUWw3j93hkE'\u001b[0m,                                  \u001b[2m                \u001b[0m\n",
       "\u001b[2;36m           \u001b[0m        \u001b[32m'6LbN567hUT_6JdqxJ-BiIFDEUVUo0irHV3fmhsS3xK0'\u001b[0m,                                  \u001b[2m                \u001b[0m\n",
       "\u001b[2;36m           \u001b[0m        \u001b[32m'1CKPPj3e_TKfC309Necz8CoK_Io8mcMSCqwY4IvrEU4'\u001b[0m,                                  \u001b[2m                \u001b[0m\n",
       "\u001b[2;36m           \u001b[0m        \u001b[32m'dQDm701mBdDlbCutNywtm3lldlLDyi-5N7ifEcmyfYE'\u001b[0m,                                  \u001b[2m                \u001b[0m\n",
       "\u001b[2;36m           \u001b[0m        \u001b[32m'pXLOHsfDwBPZdcoXdVvAGin7ZnNS1J0jQ6RAQQzfalI'\u001b[0m,                                  \u001b[2m                \u001b[0m\n",
       "\u001b[2;36m           \u001b[0m        \u001b[32m'Buc85oxZjJLT2Xjn74bfd2daIs9xANdokb057UML6qc'\u001b[0m                                   \u001b[2m                \u001b[0m\n",
       "\u001b[2;36m           \u001b[0m    \u001b[1m]\u001b[0m,                                                                                  \u001b[2m                \u001b[0m\n",
       "\u001b[2;36m           \u001b[0m    \u001b[32m'_sd_alg'\u001b[0m: \u001b[32m'sha-256'\u001b[0m,                                                               \u001b[2m                \u001b[0m\n",
       "\u001b[2;36m           \u001b[0m    \u001b[32m'exp'\u001b[0m: \u001b[1;36m1687292990\u001b[0m,                                                                  \u001b[2m                \u001b[0m\n",
       "\u001b[2;36m           \u001b[0m    \u001b[32m'iat'\u001b[0m: \u001b[1;36m1687289390\u001b[0m,                                                                  \u001b[2m                \u001b[0m\n",
       "\u001b[2;36m           \u001b[0m    \u001b[32m'iss'\u001b[0m: \u001b[32m'https://issuer.igrant.io'\u001b[0m                                                   \u001b[2m                \u001b[0m\n",
       "\u001b[2;36m           \u001b[0m\u001b[1m}\u001b[0m                                                                                       \u001b[2m                \u001b[0m\n"
      ]
     },
     "metadata": {},
     "output_type": "display_data"
    },
    {
     "data": {
      "text/html": [
       "<pre style=\"white-space:pre;overflow-x:auto;line-height:normal;font-family:Menlo,'DejaVu Sans Mono',consolas,'Courier New',monospace\"><span style=\"color: #7fbfbf; text-decoration-color: #7fbfbf\">           </span>SD-JWT header:                                                                          <a href=\"file:///tmp/ipykernel_195/3815079559.py\" target=\"_blank\"><span style=\"color: #7f7f7f; text-decoration-color: #7f7f7f\">3815079559.py</span></a><span style=\"color: #7f7f7f; text-decoration-color: #7f7f7f\">:</span><a href=\"file:///tmp/ipykernel_195/3815079559.py#13\" target=\"_blank\"><span style=\"color: #7f7f7f; text-decoration-color: #7f7f7f\">13</span></a>\n",
       "<span style=\"color: #7fbfbf; text-decoration-color: #7fbfbf\">           </span><span style=\"font-weight: bold\">{</span><span style=\"color: #008000; text-decoration-color: #008000\">'alg'</span>: <span style=\"color: #008000; text-decoration-color: #008000\">'ES256'</span><span style=\"font-weight: bold\">}</span>                                                                        <span style=\"color: #7f7f7f; text-decoration-color: #7f7f7f\">                </span>\n",
       "</pre>\n"
      ],
      "text/plain": [
       "\u001b[2;36m          \u001b[0m\u001b[2;36m \u001b[0mSD-JWT header:                                                                          \u001b]8;id=759894;file:///tmp/ipykernel_195/3815079559.py\u001b\\\u001b[2m3815079559.py\u001b[0m\u001b]8;;\u001b\\\u001b[2m:\u001b[0m\u001b]8;id=226969;file:///tmp/ipykernel_195/3815079559.py#13\u001b\\\u001b[2m13\u001b[0m\u001b]8;;\u001b\\\n",
       "\u001b[2;36m           \u001b[0m\u001b[1m{\u001b[0m\u001b[32m'alg'\u001b[0m: \u001b[32m'ES256'\u001b[0m\u001b[1m}\u001b[0m                                                                        \u001b[2m                \u001b[0m\n"
      ]
     },
     "metadata": {},
     "output_type": "display_data"
    }
   ],
   "source": [
    "import json\n",
    "from jwcrypto import jwt\n",
    "\n",
    "_sd = disclosure_sha_256s\n",
    "sd_jwt = issuer_did.generate_sd_jwt(_sd)\n",
    "\n",
    "console.log(\"SD-JWT: \", sd_jwt)\n",
    "\n",
    "sd_jwt_deserialised = jwt.JWT(key=issuer_did._key, jwt=sd_jwt)\n",
    "\n",
    "console.log(\"SD-JWT payload: \", json.loads(sd_jwt_deserialised.claims))\n",
    "\n",
    "console.log(\"SD-JWT header: \",  json.loads(sd_jwt_deserialised.header))"
   ]
  },
  {
   "attachments": {},
   "cell_type": "markdown",
   "metadata": {},
   "source": [
    "## Create combined format for issuance (a.k.a issue credential to holder)\n",
    "\n",
    "*Note: Format is `<SD-JWT>~<Disclosure 1>~<Disclosure 2>~...~<Disclosure N>`*"
   ]
  },
  {
   "cell_type": "code",
   "execution_count": 10,
   "metadata": {},
   "outputs": [
    {
     "data": {
      "text/html": [
       "<pre style=\"white-space:pre;overflow-x:auto;line-height:normal;font-family:Menlo,'DejaVu Sans Mono',consolas,'Courier New',monospace\"><span style=\"color: #7fbfbf; text-decoration-color: #7fbfbf\">[19:29:55] </span>Combined format for issuance :                                                            <a href=\"file:///tmp/ipykernel_195/697624309.py\" target=\"_blank\"><span style=\"color: #7f7f7f; text-decoration-color: #7f7f7f\">697624309.py</span></a><span style=\"color: #7f7f7f; text-decoration-color: #7f7f7f\">:</span><a href=\"file:///tmp/ipykernel_195/697624309.py#6\" target=\"_blank\"><span style=\"color: #7f7f7f; text-decoration-color: #7f7f7f\">6</span></a>\n",
       "<span style=\"color: #7fbfbf; text-decoration-color: #7fbfbf\">           </span>eyJhbGciOiJFUzI1NiJ9.eyJfc2QiOlsibTA1MzZibjN6TnlUeF9vR0czTmRZb2Q2dDZ0dHQ2T29SRGE3NXRyanNW <span style=\"color: #7f7f7f; text-decoration-color: #7f7f7f\">              </span>\n",
       "<span style=\"color: #7fbfbf; text-decoration-color: #7fbfbf\">           </span>USIsImh1U0hubWI0UEtlc2NuN01sMlVTYkNkazJRR1FDbVBMZVVXdzNqOTNoa0UiLCI2TGJONTY3aFVUXzZKZHF4S <span style=\"color: #7f7f7f; text-decoration-color: #7f7f7f\">              </span>\n",
       "<span style=\"color: #7fbfbf; text-decoration-color: #7fbfbf\">           </span>i1CaUlGREVVVlVvMGlySFYzZm1oc1MzeEswIiwiMUNLUFBqM2VfVEtmQzMwOU5lY3o4Q29LX0lvOG1jTVNDcXdZNE <span style=\"color: #7f7f7f; text-decoration-color: #7f7f7f\">              </span>\n",
       "<span style=\"color: #7fbfbf; text-decoration-color: #7fbfbf\">           </span>l2ckVVNCIsImRRRG03MDFtQmREbGJDdXROeXd0bTNsbGRsTER5aS01TjdpZkVjbXlmWUUiLCJwWExPSHNmRHdCUFp <span style=\"color: #7f7f7f; text-decoration-color: #7f7f7f\">              </span>\n",
       "<span style=\"color: #7fbfbf; text-decoration-color: #7fbfbf\">           </span>kY29YZFZ2QUdpbjdabk5TMUowalE2UkFRUXpmYWxJIiwiQnVjODVveFpqSkxUMlhqbjc0YmZkMmRhSXM5eEFOZG9r <span style=\"color: #7f7f7f; text-decoration-color: #7f7f7f\">              </span>\n",
       "<span style=\"color: #7fbfbf; text-decoration-color: #7fbfbf\">           </span>YjA1N1VNTDZxYyJdLCJfc2RfYWxnIjoic2hhLTI1NiIsImV4cCI6MTY4NzI5Mjk5MCwiaWF0IjoxNjg3Mjg5MzkwL <span style=\"color: #7f7f7f; text-decoration-color: #7f7f7f\">              </span>\n",
       "<span style=\"color: #7fbfbf; text-decoration-color: #7fbfbf\">           </span>CJpc3MiOiJodHRwczovL2lzc3Vlci5pZ3JhbnQuaW8ifQ.5GjBqCOGkSaQcMRd9w-uwArJ72Ii955p-dFAr8dC8A2 <span style=\"color: #7f7f7f; text-decoration-color: #7f7f7f\">              </span>\n",
       "<span style=\"color: #7fbfbf; text-decoration-color: #7fbfbf\">           </span>kwaZ2onMrzxts82RUmiKNosyQvx--Q5-JKsR2RkDOaA~WyJhNGViNzgzNzU3ZjYzZmM5ZjY5YmRjNTAyOTA5ODkzN <span style=\"color: #7f7f7f; text-decoration-color: #7f7f7f\">              </span>\n",
       "<span style=\"color: #7fbfbf; text-decoration-color: #7fbfbf\">           </span>CIsICJsZWdhbFN0YXR1cyIsICJBQ1RJVkUiXQ~WyJkYWJlZDdhN2EyYWEyN2Y4NzdiZTcwMzc4NzgwNjY3OSIsICJ <span style=\"color: #7f7f7f; text-decoration-color: #7f7f7f\">              </span>\n",
       "<span style=\"color: #7fbfbf; text-decoration-color: #7fbfbf\">           </span>sZWdhbEZvcm0iLCAiQWt0aWVib2xhZyJd~WyJlMTdiNmQ3ZmFlMThmOWM0ZGNlMWE3YzA5ZTgwMzM0YyIsICJhY3R <span style=\"color: #7f7f7f; text-decoration-color: #7f7f7f\">              </span>\n",
       "<span style=\"color: #7fbfbf; text-decoration-color: #7fbfbf\">           </span>pdml0eSIsICJDb25zdHJ1Y3Rpb24gSW5kdXN0cnkiXQ~WyJlNTY3MWU1ZjVhNzBlZGI2NDBhNDIzOWQwODU2ODhmM <span style=\"color: #7f7f7f; text-decoration-color: #7f7f7f\">              </span>\n",
       "<span style=\"color: #7fbfbf; text-decoration-color: #7fbfbf\">           </span>iIsICJvcmdOdW1iZXIiLCAiNTU5MTMzLTI3MjAiXQ~WyIyMjVkZmZkMWYwZjM1MzJhZjA2MWM1MTI2YzkwNTE5OCI <span style=\"color: #7f7f7f; text-decoration-color: #7f7f7f\">              </span>\n",
       "<span style=\"color: #7fbfbf; text-decoration-color: #7fbfbf\">           </span>sICJyZWdpc3RyYXRpb25EYXRlIiwgIjIwMDUtMTAtMTgiXQ~WyJlZDQ3YWRlMmVhMmJmYWI4YTgzNzA2M2Q3YzRmM <span style=\"color: #7f7f7f; text-decoration-color: #7f7f7f\">              </span>\n",
       "<span style=\"color: #7fbfbf; text-decoration-color: #7fbfbf\">           </span>2FlNyIsICJyZWdpc3RlcmVkQWRkcmVzcyIsIHsiZnVsbEFkZHJlc3MiOiAiMTIzIE1haW4gU3QiLCAidGhvcm91Z2 <span style=\"color: #7f7f7f; text-decoration-color: #7f7f7f\">              </span>\n",
       "<span style=\"color: #7fbfbf; text-decoration-color: #7fbfbf\">           </span>hGYXJlIjogIlN2ZWF2XHUwMGU0Z2VuIiwgInBvc3ROYW1lIjogIlN0b2NraG9sbSIsICJsb2NhdG9yRGVzaWduYXR <span style=\"color: #7f7f7f; text-decoration-color: #7f7f7f\">              </span>\n",
       "<span style=\"color: #7fbfbf; text-decoration-color: #7fbfbf\">           </span>vciI6ICIxMTEgMzQiLCAiY29kZSI6ICI0OCIsICJhZG1pblVuaXRMZXZlbDEiOiAiU0UifV0~WyJkNDNmMGI2OWRh <span style=\"color: #7f7f7f; text-decoration-color: #7f7f7f\">              </span>\n",
       "<span style=\"color: #7fbfbf; text-decoration-color: #7fbfbf\">           </span>YWE5NzE5YTQzODY5NWNkZjc1MTQwZCIsICJhdHRlc3RhdGlvblZhbGlkaXR5IiwgIjMxLURlYy0yMDIyIl0       <span style=\"color: #7f7f7f; text-decoration-color: #7f7f7f\">              </span>\n",
       "</pre>\n"
      ],
      "text/plain": [
       "\u001b[2;36m[19:29:55]\u001b[0m\u001b[2;36m \u001b[0mCombined format for issuance :                                                            \u001b]8;id=117204;file:///tmp/ipykernel_195/697624309.py\u001b\\\u001b[2m697624309.py\u001b[0m\u001b]8;;\u001b\\\u001b[2m:\u001b[0m\u001b]8;id=807058;file:///tmp/ipykernel_195/697624309.py#6\u001b\\\u001b[2m6\u001b[0m\u001b]8;;\u001b\\\n",
       "\u001b[2;36m           \u001b[0meyJhbGciOiJFUzI1NiJ9.eyJfc2QiOlsibTA1MzZibjN6TnlUeF9vR0czTmRZb2Q2dDZ0dHQ2T29SRGE3NXRyanNW \u001b[2m              \u001b[0m\n",
       "\u001b[2;36m           \u001b[0mUSIsImh1U0hubWI0UEtlc2NuN01sMlVTYkNkazJRR1FDbVBMZVVXdzNqOTNoa0UiLCI2TGJONTY3aFVUXzZKZHF4S \u001b[2m              \u001b[0m\n",
       "\u001b[2;36m           \u001b[0mi1CaUlGREVVVlVvMGlySFYzZm1oc1MzeEswIiwiMUNLUFBqM2VfVEtmQzMwOU5lY3o4Q29LX0lvOG1jTVNDcXdZNE \u001b[2m              \u001b[0m\n",
       "\u001b[2;36m           \u001b[0ml2ckVVNCIsImRRRG03MDFtQmREbGJDdXROeXd0bTNsbGRsTER5aS01TjdpZkVjbXlmWUUiLCJwWExPSHNmRHdCUFp \u001b[2m              \u001b[0m\n",
       "\u001b[2;36m           \u001b[0mkY29YZFZ2QUdpbjdabk5TMUowalE2UkFRUXpmYWxJIiwiQnVjODVveFpqSkxUMlhqbjc0YmZkMmRhSXM5eEFOZG9r \u001b[2m              \u001b[0m\n",
       "\u001b[2;36m           \u001b[0mYjA1N1VNTDZxYyJdLCJfc2RfYWxnIjoic2hhLTI1NiIsImV4cCI6MTY4NzI5Mjk5MCwiaWF0IjoxNjg3Mjg5MzkwL \u001b[2m              \u001b[0m\n",
       "\u001b[2;36m           \u001b[0mCJpc3MiOiJodHRwczovL2lzc3Vlci5pZ3JhbnQuaW8ifQ.5GjBqCOGkSaQcMRd9w-uwArJ72Ii955p-dFAr8dC8A2 \u001b[2m              \u001b[0m\n",
       "\u001b[2;36m           \u001b[0mkwaZ2onMrzxts82RUmiKNosyQvx--Q5-JKsR2RkDOaA~WyJhNGViNzgzNzU3ZjYzZmM5ZjY5YmRjNTAyOTA5ODkzN \u001b[2m              \u001b[0m\n",
       "\u001b[2;36m           \u001b[0mCIsICJsZWdhbFN0YXR1cyIsICJBQ1RJVkUiXQ~WyJkYWJlZDdhN2EyYWEyN2Y4NzdiZTcwMzc4NzgwNjY3OSIsICJ \u001b[2m              \u001b[0m\n",
       "\u001b[2;36m           \u001b[0msZWdhbEZvcm0iLCAiQWt0aWVib2xhZyJd~WyJlMTdiNmQ3ZmFlMThmOWM0ZGNlMWE3YzA5ZTgwMzM0YyIsICJhY3R \u001b[2m              \u001b[0m\n",
       "\u001b[2;36m           \u001b[0mpdml0eSIsICJDb25zdHJ1Y3Rpb24gSW5kdXN0cnkiXQ~WyJlNTY3MWU1ZjVhNzBlZGI2NDBhNDIzOWQwODU2ODhmM \u001b[2m              \u001b[0m\n",
       "\u001b[2;36m           \u001b[0miIsICJvcmdOdW1iZXIiLCAiNTU5MTMzLTI3MjAiXQ~WyIyMjVkZmZkMWYwZjM1MzJhZjA2MWM1MTI2YzkwNTE5OCI \u001b[2m              \u001b[0m\n",
       "\u001b[2;36m           \u001b[0msICJyZWdpc3RyYXRpb25EYXRlIiwgIjIwMDUtMTAtMTgiXQ~WyJlZDQ3YWRlMmVhMmJmYWI4YTgzNzA2M2Q3YzRmM \u001b[2m              \u001b[0m\n",
       "\u001b[2;36m           \u001b[0m2FlNyIsICJyZWdpc3RlcmVkQWRkcmVzcyIsIHsiZnVsbEFkZHJlc3MiOiAiMTIzIE1haW4gU3QiLCAidGhvcm91Z2 \u001b[2m              \u001b[0m\n",
       "\u001b[2;36m           \u001b[0mhGYXJlIjogIlN2ZWF2XHUwMGU0Z2VuIiwgInBvc3ROYW1lIjogIlN0b2NraG9sbSIsICJsb2NhdG9yRGVzaWduYXR \u001b[2m              \u001b[0m\n",
       "\u001b[2;36m           \u001b[0mvciI6ICIxMTEgMzQiLCAiY29kZSI6ICI0OCIsICJhZG1pblVuaXRMZXZlbDEiOiAiU0UifV0~WyJkNDNmMGI2OWRh \u001b[2m              \u001b[0m\n",
       "\u001b[2;36m           \u001b[0mYWE5NzE5YTQzODY5NWNkZjc1MTQwZCIsICJhdHRlc3RhdGlvblZhbGlkaXR5IiwgIjMxLURlYy0yMDIyIl0       \u001b[2m              \u001b[0m\n"
      ]
     },
     "metadata": {},
     "output_type": "display_data"
    }
   ],
   "source": [
    "combined_format_for_issuance = sd_jwt\n",
    "\n",
    "for disclosure in disclosures:\n",
    "    combined_format_for_issuance += \"~\" + disclosure.content_base64\n",
    "\n",
    "console.log(\"Combined format for issuance : \", combined_format_for_issuance)"
   ]
  },
  {
   "cell_type": "code",
   "execution_count": 11,
   "metadata": {},
   "outputs": [
    {
     "name": "stdout",
     "output_type": "stream",
     "text": [
      "['eyJhbGciOiJFUzI1NiJ9.eyJfc2QiOlsibTA1MzZibjN6TnlUeF9vR0czTmRZb2Q2dDZ0dHQ2T29SRGE3NXRyanNWUSIsImh1U0hubWI0UEtlc2NuN01sMlVTYkNkazJRR1FDbVBMZVVXdzNqOTNoa0UiLCI2TGJONTY3aFVUXzZKZHF4Si1CaUlGREVVVlVvMGlySFYzZm1oc1MzeEswIiwiMUNLUFBqM2VfVEtmQzMwOU5lY3o4Q29LX0lvOG1jTVNDcXdZNEl2ckVVNCIsImRRRG03MDFtQmREbGJDdXROeXd0bTNsbGRsTER5aS01TjdpZkVjbXlmWUUiLCJwWExPSHNmRHdCUFpkY29YZFZ2QUdpbjdabk5TMUowalE2UkFRUXpmYWxJIiwiQnVjODVveFpqSkxUMlhqbjc0YmZkMmRhSXM5eEFOZG9rYjA1N1VNTDZxYyJdLCJfc2RfYWxnIjoic2hhLTI1NiIsImV4cCI6MTY4NzI5Mjk5MCwiaWF0IjoxNjg3Mjg5MzkwLCJpc3MiOiJodHRwczovL2lzc3Vlci5pZ3JhbnQuaW8ifQ.5GjBqCOGkSaQcMRd9w-uwArJ72Ii955p-dFAr8dC8A2kwaZ2onMrzxts82RUmiKNosyQvx--Q5-JKsR2RkDOaA', 'WyJhNGViNzgzNzU3ZjYzZmM5ZjY5YmRjNTAyOTA5ODkzNCIsICJsZWdhbFN0YXR1cyIsICJBQ1RJVkUiXQ', 'WyJkYWJlZDdhN2EyYWEyN2Y4NzdiZTcwMzc4NzgwNjY3OSIsICJsZWdhbEZvcm0iLCAiQWt0aWVib2xhZyJd', 'WyJlMTdiNmQ3ZmFlMThmOWM0ZGNlMWE3YzA5ZTgwMzM0YyIsICJhY3Rpdml0eSIsICJDb25zdHJ1Y3Rpb24gSW5kdXN0cnkiXQ', 'WyJlNTY3MWU1ZjVhNzBlZGI2NDBhNDIzOWQwODU2ODhmMiIsICJvcmdOdW1iZXIiLCAiNTU5MTMzLTI3MjAiXQ', 'WyIyMjVkZmZkMWYwZjM1MzJhZjA2MWM1MTI2YzkwNTE5OCIsICJyZWdpc3RyYXRpb25EYXRlIiwgIjIwMDUtMTAtMTgiXQ', 'WyJlZDQ3YWRlMmVhMmJmYWI4YTgzNzA2M2Q3YzRmM2FlNyIsICJyZWdpc3RlcmVkQWRkcmVzcyIsIHsiZnVsbEFkZHJlc3MiOiAiMTIzIE1haW4gU3QiLCAidGhvcm91Z2hGYXJlIjogIlN2ZWF2XHUwMGU0Z2VuIiwgInBvc3ROYW1lIjogIlN0b2NraG9sbSIsICJsb2NhdG9yRGVzaWduYXRvciI6ICIxMTEgMzQiLCAiY29kZSI6ICI0OCIsICJhZG1pblVuaXRMZXZlbDEiOiAiU0UifV0', 'WyJkNDNmMGI2OWRhYWE5NzE5YTQzODY5NWNkZjc1MTQwZCIsICJhdHRlc3RhdGlvblZhbGlkaXR5IiwgIjMxLURlYy0yMDIyIl0']\n"
     ]
    }
   ],
   "source": [
    "embedded_disclosures=combined_format_for_issuance.split(\"~\")\n",
    "print(embedded_disclosures)"
   ]
  },
  {
   "cell_type": "code",
   "execution_count": null,
   "metadata": {},
   "outputs": [],
   "source": []
  }
 ],
 "metadata": {
  "kernelspec": {
   "display_name": "Python 3 (ipykernel)",
   "language": "python",
   "name": "python3"
  },
  "language_info": {
   "codemirror_mode": {
    "name": "ipython",
    "version": 3
   },
   "file_extension": ".py",
   "mimetype": "text/x-python",
   "name": "python",
   "nbconvert_exporter": "python",
   "pygments_lexer": "ipython3",
   "version": "3.10.11"
  }
 },
 "nbformat": 4,
 "nbformat_minor": 4
}
