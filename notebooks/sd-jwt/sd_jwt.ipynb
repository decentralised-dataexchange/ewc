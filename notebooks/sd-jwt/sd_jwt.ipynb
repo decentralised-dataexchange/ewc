{
 "cells": [
  {
   "attachments": {},
   "cell_type": "markdown",
   "metadata": {},
   "source": [
    "# SD-JWT Issuer-Holder Scenarios"
   ]
  },
  {
   "attachments": {},
   "cell_type": "markdown",
   "metadata": {},
   "source": [
    "## Usecase: Certification of Registration credential in Domain Name Validation"
   ]
  },
  {
   "attachments": {},
   "cell_type": "markdown",
   "metadata": {},
   "source": [
    "## 1.0 Setup cryptographic keys"
   ]
  },
  {
   "cell_type": "code",
   "execution_count": 1,
   "metadata": {},
   "outputs": [
    {
     "data": {
      "text/html": [
       "<pre style=\"white-space:pre;overflow-x:auto;line-height:normal;font-family:Menlo,'DejaVu Sans Mono',consolas,'Courier New',monospace\"><span style=\"color: #7fbfbf; text-decoration-color: #7fbfbf\">[13:22:21] </span>Issuer public key JWK:                                                                  <a href=\"file:///tmp/ipykernel_31975/2406622512.py\" target=\"_blank\"><span style=\"color: #7f7f7f; text-decoration-color: #7f7f7f\">2406622512.py</span></a><span style=\"color: #7f7f7f; text-decoration-color: #7f7f7f\">:</span><a href=\"file:///tmp/ipykernel_31975/2406622512.py#13\" target=\"_blank\"><span style=\"color: #7f7f7f; text-decoration-color: #7f7f7f\">13</span></a>\n",
       "<span style=\"color: #7fbfbf; text-decoration-color: #7fbfbf\">           </span><span style=\"font-weight: bold\">{</span>                                                                                       <span style=\"color: #7f7f7f; text-decoration-color: #7f7f7f\">                </span>\n",
       "<span style=\"color: #7fbfbf; text-decoration-color: #7fbfbf\">           </span>    <span style=\"color: #008000; text-decoration-color: #008000\">'kty'</span>: <span style=\"color: #008000; text-decoration-color: #008000\">'EC'</span>,                                                                        <span style=\"color: #7f7f7f; text-decoration-color: #7f7f7f\">                </span>\n",
       "<span style=\"color: #7fbfbf; text-decoration-color: #7fbfbf\">           </span>    <span style=\"color: #008000; text-decoration-color: #008000\">'kid'</span>: <span style=\"color: #008000; text-decoration-color: #008000\">'tJ7_O_Xu862O_9L4oxdBSkRotGJ2Id9smSovHtnUUo8'</span>,                               <span style=\"color: #7f7f7f; text-decoration-color: #7f7f7f\">                </span>\n",
       "<span style=\"color: #7fbfbf; text-decoration-color: #7fbfbf\">           </span>    <span style=\"color: #008000; text-decoration-color: #008000\">'crv'</span>: <span style=\"color: #008000; text-decoration-color: #008000\">'P-256'</span>,                                                                     <span style=\"color: #7f7f7f; text-decoration-color: #7f7f7f\">                </span>\n",
       "<span style=\"color: #7fbfbf; text-decoration-color: #7fbfbf\">           </span>    <span style=\"color: #008000; text-decoration-color: #008000\">'x'</span>: <span style=\"color: #008000; text-decoration-color: #008000\">'PTKECXSeSzIRRjYBKPECaRBRp1VH_g2EztKLJf8jpVc'</span>,                                 <span style=\"color: #7f7f7f; text-decoration-color: #7f7f7f\">                </span>\n",
       "<span style=\"color: #7fbfbf; text-decoration-color: #7fbfbf\">           </span>    <span style=\"color: #008000; text-decoration-color: #008000\">'y'</span>: <span style=\"color: #008000; text-decoration-color: #008000\">'HHpPqdZ8P0ZVz9CSryp7FvmtTTnNImmlQuiatJncoNM'</span>                                  <span style=\"color: #7f7f7f; text-decoration-color: #7f7f7f\">                </span>\n",
       "<span style=\"color: #7fbfbf; text-decoration-color: #7fbfbf\">           </span><span style=\"font-weight: bold\">}</span>                                                                                       <span style=\"color: #7f7f7f; text-decoration-color: #7f7f7f\">                </span>\n",
       "</pre>\n"
      ],
      "text/plain": [
       "\u001b[2;36m[13:22:21]\u001b[0m\u001b[2;36m \u001b[0mIssuer public key JWK:                                                                  \u001b]8;id=916372;file:///tmp/ipykernel_31975/2406622512.py\u001b\\\u001b[2m2406622512.py\u001b[0m\u001b]8;;\u001b\\\u001b[2m:\u001b[0m\u001b]8;id=507333;file:///tmp/ipykernel_31975/2406622512.py#13\u001b\\\u001b[2m13\u001b[0m\u001b]8;;\u001b\\\n",
       "\u001b[2;36m           \u001b[0m\u001b[1m{\u001b[0m                                                                                       \u001b[2m                \u001b[0m\n",
       "\u001b[2;36m           \u001b[0m    \u001b[32m'kty'\u001b[0m: \u001b[32m'EC'\u001b[0m,                                                                        \u001b[2m                \u001b[0m\n",
       "\u001b[2;36m           \u001b[0m    \u001b[32m'kid'\u001b[0m: \u001b[32m'tJ7_O_Xu862O_9L4oxdBSkRotGJ2Id9smSovHtnUUo8'\u001b[0m,                               \u001b[2m                \u001b[0m\n",
       "\u001b[2;36m           \u001b[0m    \u001b[32m'crv'\u001b[0m: \u001b[32m'P-256'\u001b[0m,                                                                     \u001b[2m                \u001b[0m\n",
       "\u001b[2;36m           \u001b[0m    \u001b[32m'x'\u001b[0m: \u001b[32m'PTKECXSeSzIRRjYBKPECaRBRp1VH_g2EztKLJf8jpVc'\u001b[0m,                                 \u001b[2m                \u001b[0m\n",
       "\u001b[2;36m           \u001b[0m    \u001b[32m'y'\u001b[0m: \u001b[32m'HHpPqdZ8P0ZVz9CSryp7FvmtTTnNImmlQuiatJncoNM'\u001b[0m                                  \u001b[2m                \u001b[0m\n",
       "\u001b[2;36m           \u001b[0m\u001b[1m}\u001b[0m                                                                                       \u001b[2m                \u001b[0m\n"
      ]
     },
     "metadata": {},
     "output_type": "display_data"
    }
   ],
   "source": [
    "import asyncio\n",
    "from eudi_wallet.did_key import KeyDid, PublicKeyJWK\n",
    "from rich.console import Console\n",
    "\n",
    "console = Console()\n",
    "loop = asyncio.get_event_loop()\n",
    "\n",
    "# Generate did:key identifier and associated public and privatekey pairs from the cryptographic seed.\n",
    "cryptographic_seed = b'helloworld'\n",
    "issuer_did = KeyDid(seed=cryptographic_seed)\n",
    "issuer_did.create_keypair()\n",
    "\n",
    "console.log('Issuer public key JWK:', issuer_did.public_key_jwk)"
   ]
  },
  {
   "attachments": {},
   "cell_type": "markdown",
   "metadata": {},
   "source": [
    "## 2.0 Claims to be issued"
   ]
  },
  {
   "cell_type": "code",
   "execution_count": 2,
   "metadata": {},
   "outputs": [
    {
     "data": {
      "text/html": [
       "<pre style=\"white-space:pre;overflow-x:auto;line-height:normal;font-family:Menlo,'DejaVu Sans Mono',consolas,'Courier New',monospace\"><span style=\"color: #7fbfbf; text-decoration-color: #7fbfbf\">           </span>Certificate of Registration claims to be issued:                                        <a href=\"file:///tmp/ipykernel_31975/1828702974.py\" target=\"_blank\"><span style=\"color: #7f7f7f; text-decoration-color: #7f7f7f\">1828702974.py</span></a><span style=\"color: #7f7f7f; text-decoration-color: #7f7f7f\">:</span><a href=\"file:///tmp/ipykernel_31975/1828702974.py#18\" target=\"_blank\"><span style=\"color: #7f7f7f; text-decoration-color: #7f7f7f\">18</span></a>\n",
       "<span style=\"color: #7fbfbf; text-decoration-color: #7fbfbf\">           </span><span style=\"font-weight: bold\">{</span>                                                                                       <span style=\"color: #7f7f7f; text-decoration-color: #7f7f7f\">                </span>\n",
       "<span style=\"color: #7fbfbf; text-decoration-color: #7fbfbf\">           </span>    <span style=\"color: #008000; text-decoration-color: #008000\">'legalStatus'</span>: <span style=\"color: #008000; text-decoration-color: #008000\">'ACTIVE'</span>,                                                            <span style=\"color: #7f7f7f; text-decoration-color: #7f7f7f\">                </span>\n",
       "<span style=\"color: #7fbfbf; text-decoration-color: #7fbfbf\">           </span>    <span style=\"color: #008000; text-decoration-color: #008000\">'legalForm'</span>: <span style=\"color: #008000; text-decoration-color: #008000\">'Aktiebolag'</span>,                                                          <span style=\"color: #7f7f7f; text-decoration-color: #7f7f7f\">                </span>\n",
       "<span style=\"color: #7fbfbf; text-decoration-color: #7fbfbf\">           </span>    <span style=\"color: #008000; text-decoration-color: #008000\">'activity'</span>: <span style=\"color: #008000; text-decoration-color: #008000\">'Construction Industry'</span>,                                                <span style=\"color: #7f7f7f; text-decoration-color: #7f7f7f\">                </span>\n",
       "<span style=\"color: #7fbfbf; text-decoration-color: #7fbfbf\">           </span>    <span style=\"color: #008000; text-decoration-color: #008000\">'orgNumber'</span>: <span style=\"color: #008000; text-decoration-color: #008000\">'559133-2720'</span>,                                                         <span style=\"color: #7f7f7f; text-decoration-color: #7f7f7f\">                </span>\n",
       "<span style=\"color: #7fbfbf; text-decoration-color: #7fbfbf\">           </span>    <span style=\"color: #008000; text-decoration-color: #008000\">'registrationDate'</span>: <span style=\"color: #008000; text-decoration-color: #008000\">'2005-10-18'</span>,                                                   <span style=\"color: #7f7f7f; text-decoration-color: #7f7f7f\">                </span>\n",
       "<span style=\"color: #7fbfbf; text-decoration-color: #7fbfbf\">           </span>    <span style=\"color: #008000; text-decoration-color: #008000\">'registeredAddress'</span>: <span style=\"font-weight: bold\">{</span>                                                              <span style=\"color: #7f7f7f; text-decoration-color: #7f7f7f\">                </span>\n",
       "<span style=\"color: #7fbfbf; text-decoration-color: #7fbfbf\">           </span>        <span style=\"color: #008000; text-decoration-color: #008000\">'fullAddress'</span>: <span style=\"color: #008000; text-decoration-color: #008000\">'123 Main St'</span>,                                                   <span style=\"color: #7f7f7f; text-decoration-color: #7f7f7f\">                </span>\n",
       "<span style=\"color: #7fbfbf; text-decoration-color: #7fbfbf\">           </span>        <span style=\"color: #008000; text-decoration-color: #008000\">'thoroughFare'</span>: <span style=\"color: #008000; text-decoration-color: #008000\">'Sveavägen'</span>,                                                    <span style=\"color: #7f7f7f; text-decoration-color: #7f7f7f\">                </span>\n",
       "<span style=\"color: #7fbfbf; text-decoration-color: #7fbfbf\">           </span>        <span style=\"color: #008000; text-decoration-color: #008000\">'postName'</span>: <span style=\"color: #008000; text-decoration-color: #008000\">'Stockholm'</span>,                                                        <span style=\"color: #7f7f7f; text-decoration-color: #7f7f7f\">                </span>\n",
       "<span style=\"color: #7fbfbf; text-decoration-color: #7fbfbf\">           </span>        <span style=\"color: #008000; text-decoration-color: #008000\">'locatorDesignator'</span>: <span style=\"color: #008000; text-decoration-color: #008000\">'111 34'</span>,                                                  <span style=\"color: #7f7f7f; text-decoration-color: #7f7f7f\">                </span>\n",
       "<span style=\"color: #7fbfbf; text-decoration-color: #7fbfbf\">           </span>        <span style=\"color: #008000; text-decoration-color: #008000\">'code'</span>: <span style=\"color: #008000; text-decoration-color: #008000\">'48'</span>,                                                                   <span style=\"color: #7f7f7f; text-decoration-color: #7f7f7f\">                </span>\n",
       "<span style=\"color: #7fbfbf; text-decoration-color: #7fbfbf\">           </span>        <span style=\"color: #008000; text-decoration-color: #008000\">'adminUnitLevel1'</span>: <span style=\"color: #008000; text-decoration-color: #008000\">'SE'</span>                                                         <span style=\"color: #7f7f7f; text-decoration-color: #7f7f7f\">                </span>\n",
       "<span style=\"color: #7fbfbf; text-decoration-color: #7fbfbf\">           </span>    <span style=\"font-weight: bold\">}</span>,                                                                                  <span style=\"color: #7f7f7f; text-decoration-color: #7f7f7f\">                </span>\n",
       "<span style=\"color: #7fbfbf; text-decoration-color: #7fbfbf\">           </span>    <span style=\"color: #008000; text-decoration-color: #008000\">'attestationValidity'</span>: <span style=\"color: #008000; text-decoration-color: #008000\">'31-Dec-2022'</span>                                                <span style=\"color: #7f7f7f; text-decoration-color: #7f7f7f\">                </span>\n",
       "<span style=\"color: #7fbfbf; text-decoration-color: #7fbfbf\">           </span><span style=\"font-weight: bold\">}</span>                                                                                       <span style=\"color: #7f7f7f; text-decoration-color: #7f7f7f\">                </span>\n",
       "</pre>\n"
      ],
      "text/plain": [
       "\u001b[2;36m          \u001b[0m\u001b[2;36m \u001b[0mCertificate of Registration claims to be issued:                                        \u001b]8;id=902167;file:///tmp/ipykernel_31975/1828702974.py\u001b\\\u001b[2m1828702974.py\u001b[0m\u001b]8;;\u001b\\\u001b[2m:\u001b[0m\u001b]8;id=918380;file:///tmp/ipykernel_31975/1828702974.py#18\u001b\\\u001b[2m18\u001b[0m\u001b]8;;\u001b\\\n",
       "\u001b[2;36m           \u001b[0m\u001b[1m{\u001b[0m                                                                                       \u001b[2m                \u001b[0m\n",
       "\u001b[2;36m           \u001b[0m    \u001b[32m'legalStatus'\u001b[0m: \u001b[32m'ACTIVE'\u001b[0m,                                                            \u001b[2m                \u001b[0m\n",
       "\u001b[2;36m           \u001b[0m    \u001b[32m'legalForm'\u001b[0m: \u001b[32m'Aktiebolag'\u001b[0m,                                                          \u001b[2m                \u001b[0m\n",
       "\u001b[2;36m           \u001b[0m    \u001b[32m'activity'\u001b[0m: \u001b[32m'Construction Industry'\u001b[0m,                                                \u001b[2m                \u001b[0m\n",
       "\u001b[2;36m           \u001b[0m    \u001b[32m'orgNumber'\u001b[0m: \u001b[32m'559133-2720'\u001b[0m,                                                         \u001b[2m                \u001b[0m\n",
       "\u001b[2;36m           \u001b[0m    \u001b[32m'registrationDate'\u001b[0m: \u001b[32m'2005-10-18'\u001b[0m,                                                   \u001b[2m                \u001b[0m\n",
       "\u001b[2;36m           \u001b[0m    \u001b[32m'registeredAddress'\u001b[0m: \u001b[1m{\u001b[0m                                                              \u001b[2m                \u001b[0m\n",
       "\u001b[2;36m           \u001b[0m        \u001b[32m'fullAddress'\u001b[0m: \u001b[32m'123 Main St'\u001b[0m,                                                   \u001b[2m                \u001b[0m\n",
       "\u001b[2;36m           \u001b[0m        \u001b[32m'thoroughFare'\u001b[0m: \u001b[32m'Sveavägen'\u001b[0m,                                                    \u001b[2m                \u001b[0m\n",
       "\u001b[2;36m           \u001b[0m        \u001b[32m'postName'\u001b[0m: \u001b[32m'Stockholm'\u001b[0m,                                                        \u001b[2m                \u001b[0m\n",
       "\u001b[2;36m           \u001b[0m        \u001b[32m'locatorDesignator'\u001b[0m: \u001b[32m'111 34'\u001b[0m,                                                  \u001b[2m                \u001b[0m\n",
       "\u001b[2;36m           \u001b[0m        \u001b[32m'code'\u001b[0m: \u001b[32m'48'\u001b[0m,                                                                   \u001b[2m                \u001b[0m\n",
       "\u001b[2;36m           \u001b[0m        \u001b[32m'adminUnitLevel1'\u001b[0m: \u001b[32m'SE'\u001b[0m                                                         \u001b[2m                \u001b[0m\n",
       "\u001b[2;36m           \u001b[0m    \u001b[1m}\u001b[0m,                                                                                  \u001b[2m                \u001b[0m\n",
       "\u001b[2;36m           \u001b[0m    \u001b[32m'attestationValidity'\u001b[0m: \u001b[32m'31-Dec-2022'\u001b[0m                                                \u001b[2m                \u001b[0m\n",
       "\u001b[2;36m           \u001b[0m\u001b[1m}\u001b[0m                                                                                       \u001b[2m                \u001b[0m\n"
      ]
     },
     "metadata": {},
     "output_type": "display_data"
    }
   ],
   "source": [
    "certificate_of_registration_claims = {\n",
    "  \"legalStatus\": \"ACTIVE\",\n",
    "  \"legalForm\": \"Aktiebolag\",\n",
    "  \"activity\": \"Construction Industry\",\n",
    "  \"orgNumber\": \"559133-2720\",\n",
    "  \"registrationDate\": \"2005-10-18\",\n",
    "  \"registeredAddress\": {\n",
    "    \"fullAddress\": \"123 Main St\",\n",
    "    \"thoroughFare\": \"Sveavägen\",\n",
    "    \"postName\": \"Stockholm\",\n",
    "    \"locatorDesignator\": \"111 34\",\n",
    "    \"code\": \"48\",\n",
    "    \"adminUnitLevel1\": \"SE\"\n",
    "  },\n",
    "  \"attestationValidity\": \"31-Dec-2022\"\n",
    "}\n",
    "\n",
    "console.log(\"Certificate of Registration claims to be issued: \", certificate_of_registration_claims)"
   ]
  },
  {
   "attachments": {},
   "cell_type": "markdown",
   "metadata": {},
   "source": [
    "## 3.0 Calculate full disclosure for claims to be issued"
   ]
  },
  {
   "cell_type": "code",
   "execution_count": 3,
   "metadata": {},
   "outputs": [
    {
     "data": {
      "text/html": [
       "<pre style=\"white-space:pre;overflow-x:auto;line-height:normal;font-family:Menlo,'DejaVu Sans Mono',consolas,'Courier New',monospace\"><span style=\"color: #7fbfbf; text-decoration-color: #7fbfbf\">           </span>Disclosure content and base64:                                                          <a href=\"file:///tmp/ipykernel_31975/2323723371.py\" target=\"_blank\"><span style=\"color: #7f7f7f; text-decoration-color: #7f7f7f\">2323723371.py</span></a><span style=\"color: #7f7f7f; text-decoration-color: #7f7f7f\">:</span><a href=\"file:///tmp/ipykernel_31975/2323723371.py#11\" target=\"_blank\"><span style=\"color: #7f7f7f; text-decoration-color: #7f7f7f\">11</span></a>\n",
       "<span style=\"color: #7fbfbf; text-decoration-color: #7fbfbf\">           </span><span style=\"font-weight: bold\">[</span>                                                                                       <span style=\"color: #7f7f7f; text-decoration-color: #7f7f7f\">                </span>\n",
       "<span style=\"color: #7fbfbf; text-decoration-color: #7fbfbf\">           </span>    <span style=\"color: #800080; text-decoration-color: #800080; font-weight: bold\">Disclosure</span><span style=\"font-weight: bold\">(</span>                                                                         <span style=\"color: #7f7f7f; text-decoration-color: #7f7f7f\">                </span>\n",
       "<span style=\"color: #7fbfbf; text-decoration-color: #7fbfbf\">           </span>        <span style=\"color: #808000; text-decoration-color: #808000\">content</span>=<span style=\"font-weight: bold\">[</span><span style=\"color: #008000; text-decoration-color: #008000\">'1aeeff085ed0e63aeb70492cf3813a5c'</span>, <span style=\"color: #008000; text-decoration-color: #008000\">'legalStatus'</span>, <span style=\"color: #008000; text-decoration-color: #008000\">'ACTIVE'</span><span style=\"font-weight: bold\">]</span>,          <span style=\"color: #7f7f7f; text-decoration-color: #7f7f7f\">                </span>\n",
       "<span style=\"color: #7fbfbf; text-decoration-color: #7fbfbf\">           </span>        <span style=\"color: #808000; text-decoration-color: #808000\">content_base64</span>=<span style=\"color: #008000; text-decoration-color: #008000\">'WyIxYWVlZmYwODVlZDBlNjNhZWI3MDQ5MmNmMzgxM2E1YyIsICJsZWdhbFN0YXR</span> <span style=\"color: #7f7f7f; text-decoration-color: #7f7f7f\">                </span>\n",
       "<span style=\"color: #7fbfbf; text-decoration-color: #7fbfbf\">           </span><span style=\"color: #008000; text-decoration-color: #008000\">1cyIsICJBQ1RJVkUiXQ'</span>                                                                    <span style=\"color: #7f7f7f; text-decoration-color: #7f7f7f\">                </span>\n",
       "<span style=\"color: #7fbfbf; text-decoration-color: #7fbfbf\">           </span>    <span style=\"font-weight: bold\">)</span>,                                                                                  <span style=\"color: #7f7f7f; text-decoration-color: #7f7f7f\">                </span>\n",
       "<span style=\"color: #7fbfbf; text-decoration-color: #7fbfbf\">           </span>    <span style=\"color: #800080; text-decoration-color: #800080; font-weight: bold\">Disclosure</span><span style=\"font-weight: bold\">(</span>                                                                         <span style=\"color: #7f7f7f; text-decoration-color: #7f7f7f\">                </span>\n",
       "<span style=\"color: #7fbfbf; text-decoration-color: #7fbfbf\">           </span>        <span style=\"color: #808000; text-decoration-color: #808000\">content</span>=<span style=\"font-weight: bold\">[</span><span style=\"color: #008000; text-decoration-color: #008000\">'30ce23243948225652c8c27f1d7905f1'</span>, <span style=\"color: #008000; text-decoration-color: #008000\">'legalForm'</span>, <span style=\"color: #008000; text-decoration-color: #008000\">'Aktiebolag'</span><span style=\"font-weight: bold\">]</span>,        <span style=\"color: #7f7f7f; text-decoration-color: #7f7f7f\">                </span>\n",
       "<span style=\"color: #7fbfbf; text-decoration-color: #7fbfbf\">           </span>        <span style=\"color: #808000; text-decoration-color: #808000\">content_base64</span>=<span style=\"color: #008000; text-decoration-color: #008000\">'WyIzMGNlMjMyNDM5NDgyMjU2NTJjOGMyN2YxZDc5MDVmMSIsICJsZWdhbEZvcm0</span> <span style=\"color: #7f7f7f; text-decoration-color: #7f7f7f\">                </span>\n",
       "<span style=\"color: #7fbfbf; text-decoration-color: #7fbfbf\">           </span><span style=\"color: #008000; text-decoration-color: #008000\">iLCAiQWt0aWVib2xhZyJd'</span>                                                                  <span style=\"color: #7f7f7f; text-decoration-color: #7f7f7f\">                </span>\n",
       "<span style=\"color: #7fbfbf; text-decoration-color: #7fbfbf\">           </span>    <span style=\"font-weight: bold\">)</span>,                                                                                  <span style=\"color: #7f7f7f; text-decoration-color: #7f7f7f\">                </span>\n",
       "<span style=\"color: #7fbfbf; text-decoration-color: #7fbfbf\">           </span>    <span style=\"color: #800080; text-decoration-color: #800080; font-weight: bold\">Disclosure</span><span style=\"font-weight: bold\">(</span>                                                                         <span style=\"color: #7f7f7f; text-decoration-color: #7f7f7f\">                </span>\n",
       "<span style=\"color: #7fbfbf; text-decoration-color: #7fbfbf\">           </span>        <span style=\"color: #808000; text-decoration-color: #808000\">content</span>=<span style=\"font-weight: bold\">[</span>                                                                       <span style=\"color: #7f7f7f; text-decoration-color: #7f7f7f\">                </span>\n",
       "<span style=\"color: #7fbfbf; text-decoration-color: #7fbfbf\">           </span>            <span style=\"color: #008000; text-decoration-color: #008000\">'2cf3ce01d5abbad3ea7e97bd6902f6f5'</span>,                                         <span style=\"color: #7f7f7f; text-decoration-color: #7f7f7f\">                </span>\n",
       "<span style=\"color: #7fbfbf; text-decoration-color: #7fbfbf\">           </span>            <span style=\"color: #008000; text-decoration-color: #008000\">'activity'</span>,                                                                 <span style=\"color: #7f7f7f; text-decoration-color: #7f7f7f\">                </span>\n",
       "<span style=\"color: #7fbfbf; text-decoration-color: #7fbfbf\">           </span>            <span style=\"color: #008000; text-decoration-color: #008000\">'Construction Industry'</span>                                                     <span style=\"color: #7f7f7f; text-decoration-color: #7f7f7f\">                </span>\n",
       "<span style=\"color: #7fbfbf; text-decoration-color: #7fbfbf\">           </span>        <span style=\"font-weight: bold\">]</span>,                                                                              <span style=\"color: #7f7f7f; text-decoration-color: #7f7f7f\">                </span>\n",
       "<span style=\"color: #7fbfbf; text-decoration-color: #7fbfbf\">           </span>        <span style=\"color: #808000; text-decoration-color: #808000\">content_base64</span>=<span style=\"color: #008000; text-decoration-color: #008000\">'WyIyY2YzY2UwMWQ1YWJiYWQzZWE3ZTk3YmQ2OTAyZjZmNSIsICJhY3Rpdml0eSI</span> <span style=\"color: #7f7f7f; text-decoration-color: #7f7f7f\">                </span>\n",
       "<span style=\"color: #7fbfbf; text-decoration-color: #7fbfbf\">           </span><span style=\"color: #008000; text-decoration-color: #008000\">sICJDb25zdHJ1Y3Rpb24gSW5kdXN0cnkiXQ'</span>                                                    <span style=\"color: #7f7f7f; text-decoration-color: #7f7f7f\">                </span>\n",
       "<span style=\"color: #7fbfbf; text-decoration-color: #7fbfbf\">           </span>    <span style=\"font-weight: bold\">)</span>,                                                                                  <span style=\"color: #7f7f7f; text-decoration-color: #7f7f7f\">                </span>\n",
       "<span style=\"color: #7fbfbf; text-decoration-color: #7fbfbf\">           </span>    <span style=\"color: #800080; text-decoration-color: #800080; font-weight: bold\">Disclosure</span><span style=\"font-weight: bold\">(</span>                                                                         <span style=\"color: #7f7f7f; text-decoration-color: #7f7f7f\">                </span>\n",
       "<span style=\"color: #7fbfbf; text-decoration-color: #7fbfbf\">           </span>        <span style=\"color: #808000; text-decoration-color: #808000\">content</span>=<span style=\"font-weight: bold\">[</span><span style=\"color: #008000; text-decoration-color: #008000\">'759266f90a5c20ec630124bd5f42c174'</span>, <span style=\"color: #008000; text-decoration-color: #008000\">'orgNumber'</span>, <span style=\"color: #008000; text-decoration-color: #008000\">'559133-2720'</span><span style=\"font-weight: bold\">]</span>,       <span style=\"color: #7f7f7f; text-decoration-color: #7f7f7f\">                </span>\n",
       "<span style=\"color: #7fbfbf; text-decoration-color: #7fbfbf\">           </span>        <span style=\"color: #808000; text-decoration-color: #808000\">content_base64</span>=<span style=\"color: #008000; text-decoration-color: #008000\">'WyI3NTkyNjZmOTBhNWMyMGVjNjMwMTI0YmQ1ZjQyYzE3NCIsICJvcmdOdW1iZXI</span> <span style=\"color: #7f7f7f; text-decoration-color: #7f7f7f\">                </span>\n",
       "<span style=\"color: #7fbfbf; text-decoration-color: #7fbfbf\">           </span><span style=\"color: #008000; text-decoration-color: #008000\">iLCAiNTU5MTMzLTI3MjAiXQ'</span>                                                                <span style=\"color: #7f7f7f; text-decoration-color: #7f7f7f\">                </span>\n",
       "<span style=\"color: #7fbfbf; text-decoration-color: #7fbfbf\">           </span>    <span style=\"font-weight: bold\">)</span>,                                                                                  <span style=\"color: #7f7f7f; text-decoration-color: #7f7f7f\">                </span>\n",
       "<span style=\"color: #7fbfbf; text-decoration-color: #7fbfbf\">           </span>    <span style=\"color: #800080; text-decoration-color: #800080; font-weight: bold\">Disclosure</span><span style=\"font-weight: bold\">(</span>                                                                         <span style=\"color: #7f7f7f; text-decoration-color: #7f7f7f\">                </span>\n",
       "<span style=\"color: #7fbfbf; text-decoration-color: #7fbfbf\">           </span>        <span style=\"color: #808000; text-decoration-color: #808000\">content</span>=<span style=\"font-weight: bold\">[</span>                                                                       <span style=\"color: #7f7f7f; text-decoration-color: #7f7f7f\">                </span>\n",
       "<span style=\"color: #7fbfbf; text-decoration-color: #7fbfbf\">           </span>            <span style=\"color: #008000; text-decoration-color: #008000\">'6ca7e866e4a8cd84af510959c06f162c'</span>,                                         <span style=\"color: #7f7f7f; text-decoration-color: #7f7f7f\">                </span>\n",
       "<span style=\"color: #7fbfbf; text-decoration-color: #7fbfbf\">           </span>            <span style=\"color: #008000; text-decoration-color: #008000\">'registrationDate'</span>,                                                         <span style=\"color: #7f7f7f; text-decoration-color: #7f7f7f\">                </span>\n",
       "<span style=\"color: #7fbfbf; text-decoration-color: #7fbfbf\">           </span>            <span style=\"color: #008000; text-decoration-color: #008000\">'2005-10-18'</span>                                                                <span style=\"color: #7f7f7f; text-decoration-color: #7f7f7f\">                </span>\n",
       "<span style=\"color: #7fbfbf; text-decoration-color: #7fbfbf\">           </span>        <span style=\"font-weight: bold\">]</span>,                                                                              <span style=\"color: #7f7f7f; text-decoration-color: #7f7f7f\">                </span>\n",
       "<span style=\"color: #7fbfbf; text-decoration-color: #7fbfbf\">           </span>        <span style=\"color: #808000; text-decoration-color: #808000\">content_base64</span>=<span style=\"color: #008000; text-decoration-color: #008000\">'WyI2Y2E3ZTg2NmU0YThjZDg0YWY1MTA5NTljMDZmMTYyYyIsICJyZWdpc3RyYXR</span> <span style=\"color: #7f7f7f; text-decoration-color: #7f7f7f\">                </span>\n",
       "<span style=\"color: #7fbfbf; text-decoration-color: #7fbfbf\">           </span><span style=\"color: #008000; text-decoration-color: #008000\">pb25EYXRlIiwgIjIwMDUtMTAtMTgiXQ'</span>                                                        <span style=\"color: #7f7f7f; text-decoration-color: #7f7f7f\">                </span>\n",
       "<span style=\"color: #7fbfbf; text-decoration-color: #7fbfbf\">           </span>    <span style=\"font-weight: bold\">)</span>,                                                                                  <span style=\"color: #7f7f7f; text-decoration-color: #7f7f7f\">                </span>\n",
       "<span style=\"color: #7fbfbf; text-decoration-color: #7fbfbf\">           </span>    <span style=\"color: #800080; text-decoration-color: #800080; font-weight: bold\">Disclosure</span><span style=\"font-weight: bold\">(</span>                                                                         <span style=\"color: #7f7f7f; text-decoration-color: #7f7f7f\">                </span>\n",
       "<span style=\"color: #7fbfbf; text-decoration-color: #7fbfbf\">           </span>        <span style=\"color: #808000; text-decoration-color: #808000\">content</span>=<span style=\"font-weight: bold\">[</span>                                                                       <span style=\"color: #7f7f7f; text-decoration-color: #7f7f7f\">                </span>\n",
       "<span style=\"color: #7fbfbf; text-decoration-color: #7fbfbf\">           </span>            <span style=\"color: #008000; text-decoration-color: #008000\">'186abdb698ae1833b4dc0351e87403dc'</span>,                                         <span style=\"color: #7f7f7f; text-decoration-color: #7f7f7f\">                </span>\n",
       "<span style=\"color: #7fbfbf; text-decoration-color: #7fbfbf\">           </span>            <span style=\"color: #008000; text-decoration-color: #008000\">'registeredAddress'</span>,                                                        <span style=\"color: #7f7f7f; text-decoration-color: #7f7f7f\">                </span>\n",
       "<span style=\"color: #7fbfbf; text-decoration-color: #7fbfbf\">           </span>            <span style=\"font-weight: bold\">{</span>                                                                           <span style=\"color: #7f7f7f; text-decoration-color: #7f7f7f\">                </span>\n",
       "<span style=\"color: #7fbfbf; text-decoration-color: #7fbfbf\">           </span>                <span style=\"color: #008000; text-decoration-color: #008000\">'fullAddress'</span>: <span style=\"color: #008000; text-decoration-color: #008000\">'123 Main St'</span>,                                           <span style=\"color: #7f7f7f; text-decoration-color: #7f7f7f\">                </span>\n",
       "<span style=\"color: #7fbfbf; text-decoration-color: #7fbfbf\">           </span>                <span style=\"color: #008000; text-decoration-color: #008000\">'thoroughFare'</span>: <span style=\"color: #008000; text-decoration-color: #008000\">'Sveavägen'</span>,                                            <span style=\"color: #7f7f7f; text-decoration-color: #7f7f7f\">                </span>\n",
       "<span style=\"color: #7fbfbf; text-decoration-color: #7fbfbf\">           </span>                <span style=\"color: #008000; text-decoration-color: #008000\">'postName'</span>: <span style=\"color: #008000; text-decoration-color: #008000\">'Stockholm'</span>,                                                <span style=\"color: #7f7f7f; text-decoration-color: #7f7f7f\">                </span>\n",
       "<span style=\"color: #7fbfbf; text-decoration-color: #7fbfbf\">           </span>                <span style=\"color: #008000; text-decoration-color: #008000\">'locatorDesignator'</span>: <span style=\"color: #008000; text-decoration-color: #008000\">'111 34'</span>,                                          <span style=\"color: #7f7f7f; text-decoration-color: #7f7f7f\">                </span>\n",
       "<span style=\"color: #7fbfbf; text-decoration-color: #7fbfbf\">           </span>                <span style=\"color: #008000; text-decoration-color: #008000\">'code'</span>: <span style=\"color: #008000; text-decoration-color: #008000\">'48'</span>,                                                           <span style=\"color: #7f7f7f; text-decoration-color: #7f7f7f\">                </span>\n",
       "<span style=\"color: #7fbfbf; text-decoration-color: #7fbfbf\">           </span>                <span style=\"color: #008000; text-decoration-color: #008000\">'adminUnitLevel1'</span>: <span style=\"color: #008000; text-decoration-color: #008000\">'SE'</span>                                                 <span style=\"color: #7f7f7f; text-decoration-color: #7f7f7f\">                </span>\n",
       "<span style=\"color: #7fbfbf; text-decoration-color: #7fbfbf\">           </span>            <span style=\"font-weight: bold\">}</span>                                                                           <span style=\"color: #7f7f7f; text-decoration-color: #7f7f7f\">                </span>\n",
       "<span style=\"color: #7fbfbf; text-decoration-color: #7fbfbf\">           </span>        <span style=\"font-weight: bold\">]</span>,                                                                              <span style=\"color: #7f7f7f; text-decoration-color: #7f7f7f\">                </span>\n",
       "<span style=\"color: #7fbfbf; text-decoration-color: #7fbfbf\">           </span>        <span style=\"color: #808000; text-decoration-color: #808000\">content_base64</span>=<span style=\"color: #008000; text-decoration-color: #008000\">'WyIxODZhYmRiNjk4YWUxODMzYjRkYzAzNTFlODc0MDNkYyIsICJyZWdpc3RlcmV</span> <span style=\"color: #7f7f7f; text-decoration-color: #7f7f7f\">                </span>\n",
       "<span style=\"color: #7fbfbf; text-decoration-color: #7fbfbf\">           </span><span style=\"color: #008000; text-decoration-color: #008000\">kQWRkcmVzcyIsIHsiZnVsbEFkZHJlc3MiOiAiMTIzIE1haW4gU3QiLCAidGhvcm91Z2hGYXJlIjogIlN2ZWF2XH</span> <span style=\"color: #7f7f7f; text-decoration-color: #7f7f7f\">                </span>\n",
       "<span style=\"color: #7fbfbf; text-decoration-color: #7fbfbf\">           </span><span style=\"color: #008000; text-decoration-color: #008000\">UwMGU0Z2VuIiwgInBvc3ROYW1lIjogIlN0b2NraG9sbSIsICJsb2NhdG9yRGVzaWduYXRvciI6ICIxMTEgMzQiL</span> <span style=\"color: #7f7f7f; text-decoration-color: #7f7f7f\">                </span>\n",
       "<span style=\"color: #7fbfbf; text-decoration-color: #7fbfbf\">           </span><span style=\"color: #008000; text-decoration-color: #008000\">CAiY29kZSI6ICI0OCIsICJhZG1pblVuaXRMZXZlbDEiOiAiU0UifV0'</span>                                 <span style=\"color: #7f7f7f; text-decoration-color: #7f7f7f\">                </span>\n",
       "<span style=\"color: #7fbfbf; text-decoration-color: #7fbfbf\">           </span>    <span style=\"font-weight: bold\">)</span>,                                                                                  <span style=\"color: #7f7f7f; text-decoration-color: #7f7f7f\">                </span>\n",
       "<span style=\"color: #7fbfbf; text-decoration-color: #7fbfbf\">           </span>    <span style=\"color: #800080; text-decoration-color: #800080; font-weight: bold\">Disclosure</span><span style=\"font-weight: bold\">(</span>                                                                         <span style=\"color: #7f7f7f; text-decoration-color: #7f7f7f\">                </span>\n",
       "<span style=\"color: #7fbfbf; text-decoration-color: #7fbfbf\">           </span>        <span style=\"color: #808000; text-decoration-color: #808000\">content</span>=<span style=\"font-weight: bold\">[</span>                                                                       <span style=\"color: #7f7f7f; text-decoration-color: #7f7f7f\">                </span>\n",
       "<span style=\"color: #7fbfbf; text-decoration-color: #7fbfbf\">           </span>            <span style=\"color: #008000; text-decoration-color: #008000\">'7fa127e764332baa1858e9f24347089f'</span>,                                         <span style=\"color: #7f7f7f; text-decoration-color: #7f7f7f\">                </span>\n",
       "<span style=\"color: #7fbfbf; text-decoration-color: #7fbfbf\">           </span>            <span style=\"color: #008000; text-decoration-color: #008000\">'attestationValidity'</span>,                                                      <span style=\"color: #7f7f7f; text-decoration-color: #7f7f7f\">                </span>\n",
       "<span style=\"color: #7fbfbf; text-decoration-color: #7fbfbf\">           </span>            <span style=\"color: #008000; text-decoration-color: #008000\">'31-Dec-2022'</span>                                                               <span style=\"color: #7f7f7f; text-decoration-color: #7f7f7f\">                </span>\n",
       "<span style=\"color: #7fbfbf; text-decoration-color: #7fbfbf\">           </span>        <span style=\"font-weight: bold\">]</span>,                                                                              <span style=\"color: #7f7f7f; text-decoration-color: #7f7f7f\">                </span>\n",
       "<span style=\"color: #7fbfbf; text-decoration-color: #7fbfbf\">           </span>        <span style=\"color: #808000; text-decoration-color: #808000\">content_base64</span>=<span style=\"color: #008000; text-decoration-color: #008000\">'WyI3ZmExMjdlNzY0MzMyYmFhMTg1OGU5ZjI0MzQ3MDg5ZiIsICJhdHRlc3RhdGl</span> <span style=\"color: #7f7f7f; text-decoration-color: #7f7f7f\">                </span>\n",
       "<span style=\"color: #7fbfbf; text-decoration-color: #7fbfbf\">           </span><span style=\"color: #008000; text-decoration-color: #008000\">vblZhbGlkaXR5IiwgIjMxLURlYy0yMDIyIl0'</span>                                                   <span style=\"color: #7f7f7f; text-decoration-color: #7f7f7f\">                </span>\n",
       "<span style=\"color: #7fbfbf; text-decoration-color: #7fbfbf\">           </span>    <span style=\"font-weight: bold\">)</span>                                                                                   <span style=\"color: #7f7f7f; text-decoration-color: #7f7f7f\">                </span>\n",
       "<span style=\"color: #7fbfbf; text-decoration-color: #7fbfbf\">           </span><span style=\"font-weight: bold\">]</span>                                                                                       <span style=\"color: #7f7f7f; text-decoration-color: #7f7f7f\">                </span>\n",
       "</pre>\n"
      ],
      "text/plain": [
       "\u001b[2;36m          \u001b[0m\u001b[2;36m \u001b[0mDisclosure content and base64:                                                          \u001b]8;id=468786;file:///tmp/ipykernel_31975/2323723371.py\u001b\\\u001b[2m2323723371.py\u001b[0m\u001b]8;;\u001b\\\u001b[2m:\u001b[0m\u001b]8;id=228639;file:///tmp/ipykernel_31975/2323723371.py#11\u001b\\\u001b[2m11\u001b[0m\u001b]8;;\u001b\\\n",
       "\u001b[2;36m           \u001b[0m\u001b[1m[\u001b[0m                                                                                       \u001b[2m                \u001b[0m\n",
       "\u001b[2;36m           \u001b[0m    \u001b[1;35mDisclosure\u001b[0m\u001b[1m(\u001b[0m                                                                         \u001b[2m                \u001b[0m\n",
       "\u001b[2;36m           \u001b[0m        \u001b[33mcontent\u001b[0m=\u001b[1m[\u001b[0m\u001b[32m'1aeeff085ed0e63aeb70492cf3813a5c'\u001b[0m, \u001b[32m'legalStatus'\u001b[0m, \u001b[32m'ACTIVE'\u001b[0m\u001b[1m]\u001b[0m,          \u001b[2m                \u001b[0m\n",
       "\u001b[2;36m           \u001b[0m        \u001b[33mcontent_base64\u001b[0m=\u001b[32m'WyIxYWVlZmYwODVlZDBlNjNhZWI3MDQ5MmNmMzgxM2E1YyIsICJsZWdhbFN0YXR\u001b[0m \u001b[2m                \u001b[0m\n",
       "\u001b[2;36m           \u001b[0m\u001b[32m1cyIsICJBQ1RJVkUiXQ'\u001b[0m                                                                    \u001b[2m                \u001b[0m\n",
       "\u001b[2;36m           \u001b[0m    \u001b[1m)\u001b[0m,                                                                                  \u001b[2m                \u001b[0m\n",
       "\u001b[2;36m           \u001b[0m    \u001b[1;35mDisclosure\u001b[0m\u001b[1m(\u001b[0m                                                                         \u001b[2m                \u001b[0m\n",
       "\u001b[2;36m           \u001b[0m        \u001b[33mcontent\u001b[0m=\u001b[1m[\u001b[0m\u001b[32m'30ce23243948225652c8c27f1d7905f1'\u001b[0m, \u001b[32m'legalForm'\u001b[0m, \u001b[32m'Aktiebolag'\u001b[0m\u001b[1m]\u001b[0m,        \u001b[2m                \u001b[0m\n",
       "\u001b[2;36m           \u001b[0m        \u001b[33mcontent_base64\u001b[0m=\u001b[32m'WyIzMGNlMjMyNDM5NDgyMjU2NTJjOGMyN2YxZDc5MDVmMSIsICJsZWdhbEZvcm0\u001b[0m \u001b[2m                \u001b[0m\n",
       "\u001b[2;36m           \u001b[0m\u001b[32miLCAiQWt0aWVib2xhZyJd'\u001b[0m                                                                  \u001b[2m                \u001b[0m\n",
       "\u001b[2;36m           \u001b[0m    \u001b[1m)\u001b[0m,                                                                                  \u001b[2m                \u001b[0m\n",
       "\u001b[2;36m           \u001b[0m    \u001b[1;35mDisclosure\u001b[0m\u001b[1m(\u001b[0m                                                                         \u001b[2m                \u001b[0m\n",
       "\u001b[2;36m           \u001b[0m        \u001b[33mcontent\u001b[0m=\u001b[1m[\u001b[0m                                                                       \u001b[2m                \u001b[0m\n",
       "\u001b[2;36m           \u001b[0m            \u001b[32m'2cf3ce01d5abbad3ea7e97bd6902f6f5'\u001b[0m,                                         \u001b[2m                \u001b[0m\n",
       "\u001b[2;36m           \u001b[0m            \u001b[32m'activity'\u001b[0m,                                                                 \u001b[2m                \u001b[0m\n",
       "\u001b[2;36m           \u001b[0m            \u001b[32m'Construction Industry'\u001b[0m                                                     \u001b[2m                \u001b[0m\n",
       "\u001b[2;36m           \u001b[0m        \u001b[1m]\u001b[0m,                                                                              \u001b[2m                \u001b[0m\n",
       "\u001b[2;36m           \u001b[0m        \u001b[33mcontent_base64\u001b[0m=\u001b[32m'WyIyY2YzY2UwMWQ1YWJiYWQzZWE3ZTk3YmQ2OTAyZjZmNSIsICJhY3Rpdml0eSI\u001b[0m \u001b[2m                \u001b[0m\n",
       "\u001b[2;36m           \u001b[0m\u001b[32msICJDb25zdHJ1Y3Rpb24gSW5kdXN0cnkiXQ'\u001b[0m                                                    \u001b[2m                \u001b[0m\n",
       "\u001b[2;36m           \u001b[0m    \u001b[1m)\u001b[0m,                                                                                  \u001b[2m                \u001b[0m\n",
       "\u001b[2;36m           \u001b[0m    \u001b[1;35mDisclosure\u001b[0m\u001b[1m(\u001b[0m                                                                         \u001b[2m                \u001b[0m\n",
       "\u001b[2;36m           \u001b[0m        \u001b[33mcontent\u001b[0m=\u001b[1m[\u001b[0m\u001b[32m'759266f90a5c20ec630124bd5f42c174'\u001b[0m, \u001b[32m'orgNumber'\u001b[0m, \u001b[32m'559133-2720'\u001b[0m\u001b[1m]\u001b[0m,       \u001b[2m                \u001b[0m\n",
       "\u001b[2;36m           \u001b[0m        \u001b[33mcontent_base64\u001b[0m=\u001b[32m'WyI3NTkyNjZmOTBhNWMyMGVjNjMwMTI0YmQ1ZjQyYzE3NCIsICJvcmdOdW1iZXI\u001b[0m \u001b[2m                \u001b[0m\n",
       "\u001b[2;36m           \u001b[0m\u001b[32miLCAiNTU5MTMzLTI3MjAiXQ'\u001b[0m                                                                \u001b[2m                \u001b[0m\n",
       "\u001b[2;36m           \u001b[0m    \u001b[1m)\u001b[0m,                                                                                  \u001b[2m                \u001b[0m\n",
       "\u001b[2;36m           \u001b[0m    \u001b[1;35mDisclosure\u001b[0m\u001b[1m(\u001b[0m                                                                         \u001b[2m                \u001b[0m\n",
       "\u001b[2;36m           \u001b[0m        \u001b[33mcontent\u001b[0m=\u001b[1m[\u001b[0m                                                                       \u001b[2m                \u001b[0m\n",
       "\u001b[2;36m           \u001b[0m            \u001b[32m'6ca7e866e4a8cd84af510959c06f162c'\u001b[0m,                                         \u001b[2m                \u001b[0m\n",
       "\u001b[2;36m           \u001b[0m            \u001b[32m'registrationDate'\u001b[0m,                                                         \u001b[2m                \u001b[0m\n",
       "\u001b[2;36m           \u001b[0m            \u001b[32m'2005-10-18'\u001b[0m                                                                \u001b[2m                \u001b[0m\n",
       "\u001b[2;36m           \u001b[0m        \u001b[1m]\u001b[0m,                                                                              \u001b[2m                \u001b[0m\n",
       "\u001b[2;36m           \u001b[0m        \u001b[33mcontent_base64\u001b[0m=\u001b[32m'WyI2Y2E3ZTg2NmU0YThjZDg0YWY1MTA5NTljMDZmMTYyYyIsICJyZWdpc3RyYXR\u001b[0m \u001b[2m                \u001b[0m\n",
       "\u001b[2;36m           \u001b[0m\u001b[32mpb25EYXRlIiwgIjIwMDUtMTAtMTgiXQ'\u001b[0m                                                        \u001b[2m                \u001b[0m\n",
       "\u001b[2;36m           \u001b[0m    \u001b[1m)\u001b[0m,                                                                                  \u001b[2m                \u001b[0m\n",
       "\u001b[2;36m           \u001b[0m    \u001b[1;35mDisclosure\u001b[0m\u001b[1m(\u001b[0m                                                                         \u001b[2m                \u001b[0m\n",
       "\u001b[2;36m           \u001b[0m        \u001b[33mcontent\u001b[0m=\u001b[1m[\u001b[0m                                                                       \u001b[2m                \u001b[0m\n",
       "\u001b[2;36m           \u001b[0m            \u001b[32m'186abdb698ae1833b4dc0351e87403dc'\u001b[0m,                                         \u001b[2m                \u001b[0m\n",
       "\u001b[2;36m           \u001b[0m            \u001b[32m'registeredAddress'\u001b[0m,                                                        \u001b[2m                \u001b[0m\n",
       "\u001b[2;36m           \u001b[0m            \u001b[1m{\u001b[0m                                                                           \u001b[2m                \u001b[0m\n",
       "\u001b[2;36m           \u001b[0m                \u001b[32m'fullAddress'\u001b[0m: \u001b[32m'123 Main St'\u001b[0m,                                           \u001b[2m                \u001b[0m\n",
       "\u001b[2;36m           \u001b[0m                \u001b[32m'thoroughFare'\u001b[0m: \u001b[32m'Sveavägen'\u001b[0m,                                            \u001b[2m                \u001b[0m\n",
       "\u001b[2;36m           \u001b[0m                \u001b[32m'postName'\u001b[0m: \u001b[32m'Stockholm'\u001b[0m,                                                \u001b[2m                \u001b[0m\n",
       "\u001b[2;36m           \u001b[0m                \u001b[32m'locatorDesignator'\u001b[0m: \u001b[32m'111 34'\u001b[0m,                                          \u001b[2m                \u001b[0m\n",
       "\u001b[2;36m           \u001b[0m                \u001b[32m'code'\u001b[0m: \u001b[32m'48'\u001b[0m,                                                           \u001b[2m                \u001b[0m\n",
       "\u001b[2;36m           \u001b[0m                \u001b[32m'adminUnitLevel1'\u001b[0m: \u001b[32m'SE'\u001b[0m                                                 \u001b[2m                \u001b[0m\n",
       "\u001b[2;36m           \u001b[0m            \u001b[1m}\u001b[0m                                                                           \u001b[2m                \u001b[0m\n",
       "\u001b[2;36m           \u001b[0m        \u001b[1m]\u001b[0m,                                                                              \u001b[2m                \u001b[0m\n",
       "\u001b[2;36m           \u001b[0m        \u001b[33mcontent_base64\u001b[0m=\u001b[32m'WyIxODZhYmRiNjk4YWUxODMzYjRkYzAzNTFlODc0MDNkYyIsICJyZWdpc3RlcmV\u001b[0m \u001b[2m                \u001b[0m\n",
       "\u001b[2;36m           \u001b[0m\u001b[32mkQWRkcmVzcyIsIHsiZnVsbEFkZHJlc3MiOiAiMTIzIE1haW4gU3QiLCAidGhvcm91Z2hGYXJlIjogIlN2ZWF2XH\u001b[0m \u001b[2m                \u001b[0m\n",
       "\u001b[2;36m           \u001b[0m\u001b[32mUwMGU0Z2VuIiwgInBvc3ROYW1lIjogIlN0b2NraG9sbSIsICJsb2NhdG9yRGVzaWduYXRvciI6ICIxMTEgMzQiL\u001b[0m \u001b[2m                \u001b[0m\n",
       "\u001b[2;36m           \u001b[0m\u001b[32mCAiY29kZSI6ICI0OCIsICJhZG1pblVuaXRMZXZlbDEiOiAiU0UifV0'\u001b[0m                                 \u001b[2m                \u001b[0m\n",
       "\u001b[2;36m           \u001b[0m    \u001b[1m)\u001b[0m,                                                                                  \u001b[2m                \u001b[0m\n",
       "\u001b[2;36m           \u001b[0m    \u001b[1;35mDisclosure\u001b[0m\u001b[1m(\u001b[0m                                                                         \u001b[2m                \u001b[0m\n",
       "\u001b[2;36m           \u001b[0m        \u001b[33mcontent\u001b[0m=\u001b[1m[\u001b[0m                                                                       \u001b[2m                \u001b[0m\n",
       "\u001b[2;36m           \u001b[0m            \u001b[32m'7fa127e764332baa1858e9f24347089f'\u001b[0m,                                         \u001b[2m                \u001b[0m\n",
       "\u001b[2;36m           \u001b[0m            \u001b[32m'attestationValidity'\u001b[0m,                                                      \u001b[2m                \u001b[0m\n",
       "\u001b[2;36m           \u001b[0m            \u001b[32m'31-Dec-2022'\u001b[0m                                                               \u001b[2m                \u001b[0m\n",
       "\u001b[2;36m           \u001b[0m        \u001b[1m]\u001b[0m,                                                                              \u001b[2m                \u001b[0m\n",
       "\u001b[2;36m           \u001b[0m        \u001b[33mcontent_base64\u001b[0m=\u001b[32m'WyI3ZmExMjdlNzY0MzMyYmFhMTg1OGU5ZjI0MzQ3MDg5ZiIsICJhdHRlc3RhdGl\u001b[0m \u001b[2m                \u001b[0m\n",
       "\u001b[2;36m           \u001b[0m\u001b[32mvblZhbGlkaXR5IiwgIjMxLURlYy0yMDIyIl0'\u001b[0m                                                   \u001b[2m                \u001b[0m\n",
       "\u001b[2;36m           \u001b[0m    \u001b[1m)\u001b[0m                                                                                   \u001b[2m                \u001b[0m\n",
       "\u001b[2;36m           \u001b[0m\u001b[1m]\u001b[0m                                                                                       \u001b[2m                \u001b[0m\n"
      ]
     },
     "metadata": {},
     "output_type": "display_data"
    }
   ],
   "source": [
    "from collections import namedtuple\n",
    "from eudi_wallet.util import generate_disclosure_content_and_base64\n",
    "\n",
    "Disclosure = namedtuple('Disclosure', ['content', 'content_base64'])\n",
    "\n",
    "disclosures = []\n",
    "for key, value in certificate_of_registration_claims.items():\n",
    "    disclosure, disclosure_base64 = generate_disclosure_content_and_base64(key, value)\n",
    "    disclosures.append(Disclosure(content=disclosure, content_base64=disclosure_base64))\n",
    "\n",
    "console.log(\"Disclosure content and base64: \", disclosures)"
   ]
  },
  {
   "attachments": {},
   "cell_type": "markdown",
   "metadata": {},
   "source": [
    "## 4.0 Adding decoy digests"
   ]
  },
  {
   "cell_type": "code",
   "execution_count": 4,
   "metadata": {},
   "outputs": [],
   "source": [
    "decoy_disclosures = []\n",
    "for index in range(10):\n",
    "    disclosure, disclosure_base64 = generate_disclosure_content_and_base64(index, index)\n",
    "    decoy_disclosures.append(Disclosure(content=disclosure, content_base64=disclosure_base64))\n",
    "\n",
    "# Append decoy disclosures to the list of disclosures\n",
    "disclosures += decoy_disclosures"
   ]
  },
  {
   "attachments": {},
   "cell_type": "markdown",
   "metadata": {},
   "source": [
    "## 5.0 Calculate disclosure SHA-256 digest"
   ]
  },
  {
   "cell_type": "code",
   "execution_count": 5,
   "metadata": {},
   "outputs": [
    {
     "data": {
      "text/html": [
       "<pre style=\"white-space:pre;overflow-x:auto;line-height:normal;font-family:Menlo,'DejaVu Sans Mono',consolas,'Courier New',monospace\"><span style=\"color: #7fbfbf; text-decoration-color: #7fbfbf\">           </span>Disclosure SHA-256s:                                                                    <a href=\"file:///tmp/ipykernel_31975/4219520306.py\" target=\"_blank\"><span style=\"color: #7f7f7f; text-decoration-color: #7f7f7f\">4219520306.py</span></a><span style=\"color: #7f7f7f; text-decoration-color: #7f7f7f\">:</span><a href=\"file:///tmp/ipykernel_31975/4219520306.py#16\" target=\"_blank\"><span style=\"color: #7f7f7f; text-decoration-color: #7f7f7f\">16</span></a>\n",
       "<span style=\"color: #7fbfbf; text-decoration-color: #7fbfbf\">           </span><span style=\"font-weight: bold\">[</span>                                                                                       <span style=\"color: #7f7f7f; text-decoration-color: #7f7f7f\">                </span>\n",
       "<span style=\"color: #7fbfbf; text-decoration-color: #7fbfbf\">           </span>    <span style=\"color: #008000; text-decoration-color: #008000\">'-WpZz87aAEXAdbV73km9YMTmm1c-j5r1Q2PC5r0sYCo'</span>,                                      <span style=\"color: #7f7f7f; text-decoration-color: #7f7f7f\">                </span>\n",
       "<span style=\"color: #7fbfbf; text-decoration-color: #7fbfbf\">           </span>    <span style=\"color: #008000; text-decoration-color: #008000\">'3dKQXLuJI6Z5rttqsIWsRR56KD3GH0kcKIUYmf5RvUc'</span>,                                      <span style=\"color: #7f7f7f; text-decoration-color: #7f7f7f\">                </span>\n",
       "<span style=\"color: #7fbfbf; text-decoration-color: #7fbfbf\">           </span>    <span style=\"color: #008000; text-decoration-color: #008000\">'6N_2uNtg1dBOqgsEA8M03wCE4nv8jBnOsLdu-JlNNss'</span>,                                      <span style=\"color: #7f7f7f; text-decoration-color: #7f7f7f\">                </span>\n",
       "<span style=\"color: #7fbfbf; text-decoration-color: #7fbfbf\">           </span>    <span style=\"color: #008000; text-decoration-color: #008000\">'6w3XaF3W-Zg49ZaASt-b25MqEaNYA0TeX-ep1izpz-0'</span>,                                      <span style=\"color: #7f7f7f; text-decoration-color: #7f7f7f\">                </span>\n",
       "<span style=\"color: #7fbfbf; text-decoration-color: #7fbfbf\">           </span>    <span style=\"color: #008000; text-decoration-color: #008000\">'CWWpdYq5Jrc_d3Fl4W60K3k9gj8Dr5vrGjqGaIuk2Qs'</span>,                                      <span style=\"color: #7f7f7f; text-decoration-color: #7f7f7f\">                </span>\n",
       "<span style=\"color: #7fbfbf; text-decoration-color: #7fbfbf\">           </span>    <span style=\"color: #008000; text-decoration-color: #008000\">'JOrW4y8F8CPKsRGjFUuO7I6cBfEJ4eholdD3TGWQRYw'</span>,                                      <span style=\"color: #7f7f7f; text-decoration-color: #7f7f7f\">                </span>\n",
       "<span style=\"color: #7fbfbf; text-decoration-color: #7fbfbf\">           </span>    <span style=\"color: #008000; text-decoration-color: #008000\">'JyJJvvo5ilyzO5u5dcawute-A5jKm-g255IzDX2Jpyg'</span>,                                      <span style=\"color: #7f7f7f; text-decoration-color: #7f7f7f\">                </span>\n",
       "<span style=\"color: #7fbfbf; text-decoration-color: #7fbfbf\">           </span>    <span style=\"color: #008000; text-decoration-color: #008000\">'OWmD0kXUgKG3KIMi7zK-O59l3nM83eo7Qwp91GHzfOY'</span>,                                      <span style=\"color: #7f7f7f; text-decoration-color: #7f7f7f\">                </span>\n",
       "<span style=\"color: #7fbfbf; text-decoration-color: #7fbfbf\">           </span>    <span style=\"color: #008000; text-decoration-color: #008000\">'Rag-q7dujZYOBuTmMcqLZZdyIXZmx7R_Livf4Piyt8o'</span>,                                      <span style=\"color: #7f7f7f; text-decoration-color: #7f7f7f\">                </span>\n",
       "<span style=\"color: #7fbfbf; text-decoration-color: #7fbfbf\">           </span>    <span style=\"color: #008000; text-decoration-color: #008000\">'YkcRdvAJAyGk32o9zv8iqR8Hz34KzBKArYETn_j6S0k'</span>,                                      <span style=\"color: #7f7f7f; text-decoration-color: #7f7f7f\">                </span>\n",
       "<span style=\"color: #7fbfbf; text-decoration-color: #7fbfbf\">           </span>    <span style=\"color: #008000; text-decoration-color: #008000\">'jE8EgKavuMdll9DViD-XanRhT8VQnLhwus9YvGRAb38'</span>,                                      <span style=\"color: #7f7f7f; text-decoration-color: #7f7f7f\">                </span>\n",
       "<span style=\"color: #7fbfbf; text-decoration-color: #7fbfbf\">           </span>    <span style=\"color: #008000; text-decoration-color: #008000\">'nw55I84Yr1tbf8x83ZwDK4dhJHgeNpACTUwEvCIk6M8'</span>,                                      <span style=\"color: #7f7f7f; text-decoration-color: #7f7f7f\">                </span>\n",
       "<span style=\"color: #7fbfbf; text-decoration-color: #7fbfbf\">           </span>    <span style=\"color: #008000; text-decoration-color: #008000\">'o4gtEzxcVLEPvgVP6j75f7uaRjrRTlLK997JGf0ifi8'</span>,                                      <span style=\"color: #7f7f7f; text-decoration-color: #7f7f7f\">                </span>\n",
       "<span style=\"color: #7fbfbf; text-decoration-color: #7fbfbf\">           </span>    <span style=\"color: #008000; text-decoration-color: #008000\">'qfigZhSDQCsynVucnuFwmYJ1zW_A7tfzNjZJcoiJpR8'</span>,                                      <span style=\"color: #7f7f7f; text-decoration-color: #7f7f7f\">                </span>\n",
       "<span style=\"color: #7fbfbf; text-decoration-color: #7fbfbf\">           </span>    <span style=\"color: #008000; text-decoration-color: #008000\">'uAGaVjeHg3r6QmTgM733ALOGa10XLYIInnHa8yLHbaQ'</span>,                                      <span style=\"color: #7f7f7f; text-decoration-color: #7f7f7f\">                </span>\n",
       "<span style=\"color: #7fbfbf; text-decoration-color: #7fbfbf\">           </span>    <span style=\"color: #008000; text-decoration-color: #008000\">'xjsSfyllmPDlTc5tY4xNCm_Rd5gw3B393G3ug0UC8D8'</span>,                                      <span style=\"color: #7f7f7f; text-decoration-color: #7f7f7f\">                </span>\n",
       "<span style=\"color: #7fbfbf; text-decoration-color: #7fbfbf\">           </span>    <span style=\"color: #008000; text-decoration-color: #008000\">'yvrVeuksLCR5D3mVPnhYBOAf-1xjYWKATm0Sbp17jV0'</span>                                       <span style=\"color: #7f7f7f; text-decoration-color: #7f7f7f\">                </span>\n",
       "<span style=\"color: #7fbfbf; text-decoration-color: #7fbfbf\">           </span><span style=\"font-weight: bold\">]</span>                                                                                       <span style=\"color: #7f7f7f; text-decoration-color: #7f7f7f\">                </span>\n",
       "</pre>\n"
      ],
      "text/plain": [
       "\u001b[2;36m          \u001b[0m\u001b[2;36m \u001b[0mDisclosure SHA-256s:                                                                    \u001b]8;id=323614;file:///tmp/ipykernel_31975/4219520306.py\u001b\\\u001b[2m4219520306.py\u001b[0m\u001b]8;;\u001b\\\u001b[2m:\u001b[0m\u001b]8;id=97243;file:///tmp/ipykernel_31975/4219520306.py#16\u001b\\\u001b[2m16\u001b[0m\u001b]8;;\u001b\\\n",
       "\u001b[2;36m           \u001b[0m\u001b[1m[\u001b[0m                                                                                       \u001b[2m                \u001b[0m\n",
       "\u001b[2;36m           \u001b[0m    \u001b[32m'-WpZz87aAEXAdbV73km9YMTmm1c-j5r1Q2PC5r0sYCo'\u001b[0m,                                      \u001b[2m                \u001b[0m\n",
       "\u001b[2;36m           \u001b[0m    \u001b[32m'3dKQXLuJI6Z5rttqsIWsRR56KD3GH0kcKIUYmf5RvUc'\u001b[0m,                                      \u001b[2m                \u001b[0m\n",
       "\u001b[2;36m           \u001b[0m    \u001b[32m'6N_2uNtg1dBOqgsEA8M03wCE4nv8jBnOsLdu-JlNNss'\u001b[0m,                                      \u001b[2m                \u001b[0m\n",
       "\u001b[2;36m           \u001b[0m    \u001b[32m'6w3XaF3W-Zg49ZaASt-b25MqEaNYA0TeX-ep1izpz-0'\u001b[0m,                                      \u001b[2m                \u001b[0m\n",
       "\u001b[2;36m           \u001b[0m    \u001b[32m'CWWpdYq5Jrc_d3Fl4W60K3k9gj8Dr5vrGjqGaIuk2Qs'\u001b[0m,                                      \u001b[2m                \u001b[0m\n",
       "\u001b[2;36m           \u001b[0m    \u001b[32m'JOrW4y8F8CPKsRGjFUuO7I6cBfEJ4eholdD3TGWQRYw'\u001b[0m,                                      \u001b[2m                \u001b[0m\n",
       "\u001b[2;36m           \u001b[0m    \u001b[32m'JyJJvvo5ilyzO5u5dcawute-A5jKm-g255IzDX2Jpyg'\u001b[0m,                                      \u001b[2m                \u001b[0m\n",
       "\u001b[2;36m           \u001b[0m    \u001b[32m'OWmD0kXUgKG3KIMi7zK-O59l3nM83eo7Qwp91GHzfOY'\u001b[0m,                                      \u001b[2m                \u001b[0m\n",
       "\u001b[2;36m           \u001b[0m    \u001b[32m'Rag-q7dujZYOBuTmMcqLZZdyIXZmx7R_Livf4Piyt8o'\u001b[0m,                                      \u001b[2m                \u001b[0m\n",
       "\u001b[2;36m           \u001b[0m    \u001b[32m'YkcRdvAJAyGk32o9zv8iqR8Hz34KzBKArYETn_j6S0k'\u001b[0m,                                      \u001b[2m                \u001b[0m\n",
       "\u001b[2;36m           \u001b[0m    \u001b[32m'jE8EgKavuMdll9DViD-XanRhT8VQnLhwus9YvGRAb38'\u001b[0m,                                      \u001b[2m                \u001b[0m\n",
       "\u001b[2;36m           \u001b[0m    \u001b[32m'nw55I84Yr1tbf8x83ZwDK4dhJHgeNpACTUwEvCIk6M8'\u001b[0m,                                      \u001b[2m                \u001b[0m\n",
       "\u001b[2;36m           \u001b[0m    \u001b[32m'o4gtEzxcVLEPvgVP6j75f7uaRjrRTlLK997JGf0ifi8'\u001b[0m,                                      \u001b[2m                \u001b[0m\n",
       "\u001b[2;36m           \u001b[0m    \u001b[32m'qfigZhSDQCsynVucnuFwmYJ1zW_A7tfzNjZJcoiJpR8'\u001b[0m,                                      \u001b[2m                \u001b[0m\n",
       "\u001b[2;36m           \u001b[0m    \u001b[32m'uAGaVjeHg3r6QmTgM733ALOGa10XLYIInnHa8yLHbaQ'\u001b[0m,                                      \u001b[2m                \u001b[0m\n",
       "\u001b[2;36m           \u001b[0m    \u001b[32m'xjsSfyllmPDlTc5tY4xNCm_Rd5gw3B393G3ug0UC8D8'\u001b[0m,                                      \u001b[2m                \u001b[0m\n",
       "\u001b[2;36m           \u001b[0m    \u001b[32m'yvrVeuksLCR5D3mVPnhYBOAf-1xjYWKATm0Sbp17jV0'\u001b[0m                                       \u001b[2m                \u001b[0m\n",
       "\u001b[2;36m           \u001b[0m\u001b[1m]\u001b[0m                                                                                       \u001b[2m                \u001b[0m\n"
      ]
     },
     "metadata": {},
     "output_type": "display_data"
    }
   ],
   "source": [
    "import hashlib\n",
    "import base64\n",
    "\n",
    "disclosure_sha_256s = []\n",
    "\n",
    "for disclosure in disclosures:\n",
    "    sha256_hash = hashlib.sha256()\n",
    "    sha256_hash.update(disclosure.content_base64.encode('utf-8'))\n",
    "    sha256_digest = sha256_hash.digest()\n",
    "    disclosure_sha_256 = base64.urlsafe_b64encode(sha256_digest).decode('utf-8').rstrip(\"=\")\n",
    "    disclosure_sha_256s.append(disclosure_sha_256)\n",
    "\n",
    "# Randomised by chronological order of the disclosure content\n",
    "disclosure_sha_256s.sort()\n",
    "\n",
    "console.log(\"Disclosure SHA-256s: \", disclosure_sha_256s)"
   ]
  },
  {
   "attachments": {},
   "cell_type": "markdown",
   "metadata": {},
   "source": [
    "## 6.0 Create SD-JWT"
   ]
  },
  {
   "cell_type": "code",
   "execution_count": 6,
   "metadata": {},
   "outputs": [
    {
     "data": {
      "text/html": [
       "<pre style=\"white-space:pre;overflow-x:auto;line-height:normal;font-family:Menlo,'DejaVu Sans Mono',consolas,'Courier New',monospace\"><span style=\"color: #7fbfbf; text-decoration-color: #7fbfbf\">           </span>SD-JWT:                                                                                  <a href=\"file:///tmp/ipykernel_31975/3815079559.py\" target=\"_blank\"><span style=\"color: #7f7f7f; text-decoration-color: #7f7f7f\">3815079559.py</span></a><span style=\"color: #7f7f7f; text-decoration-color: #7f7f7f\">:</span><a href=\"file:///tmp/ipykernel_31975/3815079559.py#7\" target=\"_blank\"><span style=\"color: #7f7f7f; text-decoration-color: #7f7f7f\">7</span></a>\n",
       "<span style=\"color: #7fbfbf; text-decoration-color: #7fbfbf\">           </span>eyJhbGciOiJFUzI1NiJ9.eyJfc2QiOlsiLVdwWno4N2FBRVhBZGJWNzNrbTlZTVRtbTFjLWo1cjFRMlBDNXIwc1l <span style=\"color: #7f7f7f; text-decoration-color: #7f7f7f\">               </span>\n",
       "<span style=\"color: #7fbfbf; text-decoration-color: #7fbfbf\">           </span>DbyIsIjNkS1FYTHVKSTZaNXJ0dHFzSVdzUlI1NktEM0dIMGtjS0lVWW1mNVJ2VWMiLCI2Tl8ydU50ZzFkQk9xZ3N <span style=\"color: #7f7f7f; text-decoration-color: #7f7f7f\">               </span>\n",
       "<span style=\"color: #7fbfbf; text-decoration-color: #7fbfbf\">           </span>FQThNMDN3Q0U0bnY4akJuT3NMZHUtSmxOTnNzIiwiNnczWGFGM1ctWmc0OVphQVN0LWIyNU1xRWFOWUEwVGVYLWV <span style=\"color: #7f7f7f; text-decoration-color: #7f7f7f\">               </span>\n",
       "<span style=\"color: #7fbfbf; text-decoration-color: #7fbfbf\">           </span>wMWl6cHotMCIsIkNXV3BkWXE1SnJjX2QzRmw0VzYwSzNrOWdqOERyNXZyR2pxR2FJdWsyUXMiLCJKT3JXNHk4Rjh <span style=\"color: #7f7f7f; text-decoration-color: #7f7f7f\">               </span>\n",
       "<span style=\"color: #7fbfbf; text-decoration-color: #7fbfbf\">           </span>DUEtzUkdqRlV1TzdJNmNCZkVKNGVob2xkRDNUR1dRUll3IiwiSnlKSnZ2bzVpbHl6TzV1NWRjYXd1dGUtQTVqS20 <span style=\"color: #7f7f7f; text-decoration-color: #7f7f7f\">               </span>\n",
       "<span style=\"color: #7fbfbf; text-decoration-color: #7fbfbf\">           </span>tZzI1NUl6RFgySnB5ZyIsIk9XbUQwa1hVZ0tHM0tJTWk3ekstTzU5bDNuTTgzZW83UXdwOTFHSHpmT1kiLCJSYWc <span style=\"color: #7f7f7f; text-decoration-color: #7f7f7f\">               </span>\n",
       "<span style=\"color: #7fbfbf; text-decoration-color: #7fbfbf\">           </span>tcTdkdWpaWU9CdVRtTWNxTFpaZHlJWFpteDdSX<span style=\"color: #008080; text-decoration-color: #008080; font-weight: bold\">0x</span>pdmY0UGl5dDhvIiwiWWtjUmR2QUpBeUdrMzJvOXp2OGlxUjh <span style=\"color: #7f7f7f; text-decoration-color: #7f7f7f\">               </span>\n",
       "<span style=\"color: #7fbfbf; text-decoration-color: #7fbfbf\">           </span>IejM0S3pCS0FyWUVUbl9qNlMwayIsImpFOEVnS2F2dU1kbGw5RFZpRC1YYW5SaFQ4VlFuTGh3dXM5WXZHUkFiMzg <span style=\"color: #7f7f7f; text-decoration-color: #7f7f7f\">               </span>\n",
       "<span style=\"color: #7fbfbf; text-decoration-color: #7fbfbf\">           </span>iLCJudzU1STg0WXIxdGJmOHg4M1p3REs0ZGhKSGdlTnBBQ1RVd0V2Q0lrNk04IiwibzRndEV6eGNWTEVQdmdWUDZ <span style=\"color: #7f7f7f; text-decoration-color: #7f7f7f\">               </span>\n",
       "<span style=\"color: #7fbfbf; text-decoration-color: #7fbfbf\">           </span>qNzVmN3VhUmpyUlRsTEs5OTdKR2YwaWZpOCIsInFmaWdaaFNEUUNzeW5WdWNudUZ3bVlKMXpXX0E3dGZ6TmpaSmN <span style=\"color: #7f7f7f; text-decoration-color: #7f7f7f\">               </span>\n",
       "<span style=\"color: #7fbfbf; text-decoration-color: #7fbfbf\">           </span>vaUpwUjgiLCJ1QUdhVmplSGczcjZRbVRnTTczM0FMT0dhMTBYTFlJSW5uSGE4eUxIYmFRIiwieGpzU2Z5bGxtUER <span style=\"color: #7f7f7f; text-decoration-color: #7f7f7f\">               </span>\n",
       "<span style=\"color: #7fbfbf; text-decoration-color: #7fbfbf\">           </span>sVGM1dFk0eE5DbV9SZDVndzNCMzkzRzN1ZzBVQzhEOCIsInl2clZldWtzTENSNUQzbVZQbmhZQk9BZi<span style=\"color: #008080; text-decoration-color: #008080; font-weight: bold\">0xe</span>GpZV0t <span style=\"color: #7f7f7f; text-decoration-color: #7f7f7f\">               </span>\n",
       "<span style=\"color: #7fbfbf; text-decoration-color: #7fbfbf\">           </span>BVG0wU2JwMTdqVjAiXSwiX3NkX2FsZyI6InNoYS0yNTYiLCJleHAiOjE2ODc3Njk1NDEsImlhdCI6MTY4Nzc2NTk <span style=\"color: #7f7f7f; text-decoration-color: #7f7f7f\">               </span>\n",
       "<span style=\"color: #7fbfbf; text-decoration-color: #7fbfbf\">           </span>0MSwiaXNzIjoiaHR0cHM6Ly9pc3N1ZXIuaWdyYW50LmlvIn0.AWzQ4sjhU4HXYxFizx8atUeg16CDRxqredxQlh9 <span style=\"color: #7f7f7f; text-decoration-color: #7f7f7f\">               </span>\n",
       "<span style=\"color: #7fbfbf; text-decoration-color: #7fbfbf\">           </span>kMhaWYoruI4vS6NqoW-m5EgiiYtaRRDuWamR7O1D0TyOU3g                                          <span style=\"color: #7f7f7f; text-decoration-color: #7f7f7f\">               </span>\n",
       "</pre>\n"
      ],
      "text/plain": [
       "\u001b[2;36m          \u001b[0m\u001b[2;36m \u001b[0mSD-JWT:                                                                                  \u001b]8;id=393396;file:///tmp/ipykernel_31975/3815079559.py\u001b\\\u001b[2m3815079559.py\u001b[0m\u001b]8;;\u001b\\\u001b[2m:\u001b[0m\u001b]8;id=26977;file:///tmp/ipykernel_31975/3815079559.py#7\u001b\\\u001b[2m7\u001b[0m\u001b]8;;\u001b\\\n",
       "\u001b[2;36m           \u001b[0meyJhbGciOiJFUzI1NiJ9.eyJfc2QiOlsiLVdwWno4N2FBRVhBZGJWNzNrbTlZTVRtbTFjLWo1cjFRMlBDNXIwc1l \u001b[2m               \u001b[0m\n",
       "\u001b[2;36m           \u001b[0mDbyIsIjNkS1FYTHVKSTZaNXJ0dHFzSVdzUlI1NktEM0dIMGtjS0lVWW1mNVJ2VWMiLCI2Tl8ydU50ZzFkQk9xZ3N \u001b[2m               \u001b[0m\n",
       "\u001b[2;36m           \u001b[0mFQThNMDN3Q0U0bnY4akJuT3NMZHUtSmxOTnNzIiwiNnczWGFGM1ctWmc0OVphQVN0LWIyNU1xRWFOWUEwVGVYLWV \u001b[2m               \u001b[0m\n",
       "\u001b[2;36m           \u001b[0mwMWl6cHotMCIsIkNXV3BkWXE1SnJjX2QzRmw0VzYwSzNrOWdqOERyNXZyR2pxR2FJdWsyUXMiLCJKT3JXNHk4Rjh \u001b[2m               \u001b[0m\n",
       "\u001b[2;36m           \u001b[0mDUEtzUkdqRlV1TzdJNmNCZkVKNGVob2xkRDNUR1dRUll3IiwiSnlKSnZ2bzVpbHl6TzV1NWRjYXd1dGUtQTVqS20 \u001b[2m               \u001b[0m\n",
       "\u001b[2;36m           \u001b[0mtZzI1NUl6RFgySnB5ZyIsIk9XbUQwa1hVZ0tHM0tJTWk3ekstTzU5bDNuTTgzZW83UXdwOTFHSHpmT1kiLCJSYWc \u001b[2m               \u001b[0m\n",
       "\u001b[2;36m           \u001b[0mtcTdkdWpaWU9CdVRtTWNxTFpaZHlJWFpteDdSX\u001b[1;36m0x\u001b[0mpdmY0UGl5dDhvIiwiWWtjUmR2QUpBeUdrMzJvOXp2OGlxUjh \u001b[2m               \u001b[0m\n",
       "\u001b[2;36m           \u001b[0mIejM0S3pCS0FyWUVUbl9qNlMwayIsImpFOEVnS2F2dU1kbGw5RFZpRC1YYW5SaFQ4VlFuTGh3dXM5WXZHUkFiMzg \u001b[2m               \u001b[0m\n",
       "\u001b[2;36m           \u001b[0miLCJudzU1STg0WXIxdGJmOHg4M1p3REs0ZGhKSGdlTnBBQ1RVd0V2Q0lrNk04IiwibzRndEV6eGNWTEVQdmdWUDZ \u001b[2m               \u001b[0m\n",
       "\u001b[2;36m           \u001b[0mqNzVmN3VhUmpyUlRsTEs5OTdKR2YwaWZpOCIsInFmaWdaaFNEUUNzeW5WdWNudUZ3bVlKMXpXX0E3dGZ6TmpaSmN \u001b[2m               \u001b[0m\n",
       "\u001b[2;36m           \u001b[0mvaUpwUjgiLCJ1QUdhVmplSGczcjZRbVRnTTczM0FMT0dhMTBYTFlJSW5uSGE4eUxIYmFRIiwieGpzU2Z5bGxtUER \u001b[2m               \u001b[0m\n",
       "\u001b[2;36m           \u001b[0msVGM1dFk0eE5DbV9SZDVndzNCMzkzRzN1ZzBVQzhEOCIsInl2clZldWtzTENSNUQzbVZQbmhZQk9BZi\u001b[1;36m0xe\u001b[0mGpZV0t \u001b[2m               \u001b[0m\n",
       "\u001b[2;36m           \u001b[0mBVG0wU2JwMTdqVjAiXSwiX3NkX2FsZyI6InNoYS0yNTYiLCJleHAiOjE2ODc3Njk1NDEsImlhdCI6MTY4Nzc2NTk \u001b[2m               \u001b[0m\n",
       "\u001b[2;36m           \u001b[0m0MSwiaXNzIjoiaHR0cHM6Ly9pc3N1ZXIuaWdyYW50LmlvIn0.AWzQ4sjhU4HXYxFizx8atUeg16CDRxqredxQlh9 \u001b[2m               \u001b[0m\n",
       "\u001b[2;36m           \u001b[0mkMhaWYoruI4vS6NqoW-m5EgiiYtaRRDuWamR7O1D0TyOU3g                                          \u001b[2m               \u001b[0m\n"
      ]
     },
     "metadata": {},
     "output_type": "display_data"
    },
    {
     "data": {
      "text/html": [
       "<pre style=\"white-space:pre;overflow-x:auto;line-height:normal;font-family:Menlo,'DejaVu Sans Mono',consolas,'Courier New',monospace\"><span style=\"color: #7fbfbf; text-decoration-color: #7fbfbf\">           </span>SD-JWT payload:                                                                         <a href=\"file:///tmp/ipykernel_31975/3815079559.py\" target=\"_blank\"><span style=\"color: #7f7f7f; text-decoration-color: #7f7f7f\">3815079559.py</span></a><span style=\"color: #7f7f7f; text-decoration-color: #7f7f7f\">:</span><a href=\"file:///tmp/ipykernel_31975/3815079559.py#11\" target=\"_blank\"><span style=\"color: #7f7f7f; text-decoration-color: #7f7f7f\">11</span></a>\n",
       "<span style=\"color: #7fbfbf; text-decoration-color: #7fbfbf\">           </span><span style=\"font-weight: bold\">{</span>                                                                                       <span style=\"color: #7f7f7f; text-decoration-color: #7f7f7f\">                </span>\n",
       "<span style=\"color: #7fbfbf; text-decoration-color: #7fbfbf\">           </span>    <span style=\"color: #008000; text-decoration-color: #008000\">'_sd'</span>: <span style=\"font-weight: bold\">[</span>                                                                            <span style=\"color: #7f7f7f; text-decoration-color: #7f7f7f\">                </span>\n",
       "<span style=\"color: #7fbfbf; text-decoration-color: #7fbfbf\">           </span>        <span style=\"color: #008000; text-decoration-color: #008000\">'-WpZz87aAEXAdbV73km9YMTmm1c-j5r1Q2PC5r0sYCo'</span>,                                  <span style=\"color: #7f7f7f; text-decoration-color: #7f7f7f\">                </span>\n",
       "<span style=\"color: #7fbfbf; text-decoration-color: #7fbfbf\">           </span>        <span style=\"color: #008000; text-decoration-color: #008000\">'3dKQXLuJI6Z5rttqsIWsRR56KD3GH0kcKIUYmf5RvUc'</span>,                                  <span style=\"color: #7f7f7f; text-decoration-color: #7f7f7f\">                </span>\n",
       "<span style=\"color: #7fbfbf; text-decoration-color: #7fbfbf\">           </span>        <span style=\"color: #008000; text-decoration-color: #008000\">'6N_2uNtg1dBOqgsEA8M03wCE4nv8jBnOsLdu-JlNNss'</span>,                                  <span style=\"color: #7f7f7f; text-decoration-color: #7f7f7f\">                </span>\n",
       "<span style=\"color: #7fbfbf; text-decoration-color: #7fbfbf\">           </span>        <span style=\"color: #008000; text-decoration-color: #008000\">'6w3XaF3W-Zg49ZaASt-b25MqEaNYA0TeX-ep1izpz-0'</span>,                                  <span style=\"color: #7f7f7f; text-decoration-color: #7f7f7f\">                </span>\n",
       "<span style=\"color: #7fbfbf; text-decoration-color: #7fbfbf\">           </span>        <span style=\"color: #008000; text-decoration-color: #008000\">'CWWpdYq5Jrc_d3Fl4W60K3k9gj8Dr5vrGjqGaIuk2Qs'</span>,                                  <span style=\"color: #7f7f7f; text-decoration-color: #7f7f7f\">                </span>\n",
       "<span style=\"color: #7fbfbf; text-decoration-color: #7fbfbf\">           </span>        <span style=\"color: #008000; text-decoration-color: #008000\">'JOrW4y8F8CPKsRGjFUuO7I6cBfEJ4eholdD3TGWQRYw'</span>,                                  <span style=\"color: #7f7f7f; text-decoration-color: #7f7f7f\">                </span>\n",
       "<span style=\"color: #7fbfbf; text-decoration-color: #7fbfbf\">           </span>        <span style=\"color: #008000; text-decoration-color: #008000\">'JyJJvvo5ilyzO5u5dcawute-A5jKm-g255IzDX2Jpyg'</span>,                                  <span style=\"color: #7f7f7f; text-decoration-color: #7f7f7f\">                </span>\n",
       "<span style=\"color: #7fbfbf; text-decoration-color: #7fbfbf\">           </span>        <span style=\"color: #008000; text-decoration-color: #008000\">'OWmD0kXUgKG3KIMi7zK-O59l3nM83eo7Qwp91GHzfOY'</span>,                                  <span style=\"color: #7f7f7f; text-decoration-color: #7f7f7f\">                </span>\n",
       "<span style=\"color: #7fbfbf; text-decoration-color: #7fbfbf\">           </span>        <span style=\"color: #008000; text-decoration-color: #008000\">'Rag-q7dujZYOBuTmMcqLZZdyIXZmx7R_Livf4Piyt8o'</span>,                                  <span style=\"color: #7f7f7f; text-decoration-color: #7f7f7f\">                </span>\n",
       "<span style=\"color: #7fbfbf; text-decoration-color: #7fbfbf\">           </span>        <span style=\"color: #008000; text-decoration-color: #008000\">'YkcRdvAJAyGk32o9zv8iqR8Hz34KzBKArYETn_j6S0k'</span>,                                  <span style=\"color: #7f7f7f; text-decoration-color: #7f7f7f\">                </span>\n",
       "<span style=\"color: #7fbfbf; text-decoration-color: #7fbfbf\">           </span>        <span style=\"color: #008000; text-decoration-color: #008000\">'jE8EgKavuMdll9DViD-XanRhT8VQnLhwus9YvGRAb38'</span>,                                  <span style=\"color: #7f7f7f; text-decoration-color: #7f7f7f\">                </span>\n",
       "<span style=\"color: #7fbfbf; text-decoration-color: #7fbfbf\">           </span>        <span style=\"color: #008000; text-decoration-color: #008000\">'nw55I84Yr1tbf8x83ZwDK4dhJHgeNpACTUwEvCIk6M8'</span>,                                  <span style=\"color: #7f7f7f; text-decoration-color: #7f7f7f\">                </span>\n",
       "<span style=\"color: #7fbfbf; text-decoration-color: #7fbfbf\">           </span>        <span style=\"color: #008000; text-decoration-color: #008000\">'o4gtEzxcVLEPvgVP6j75f7uaRjrRTlLK997JGf0ifi8'</span>,                                  <span style=\"color: #7f7f7f; text-decoration-color: #7f7f7f\">                </span>\n",
       "<span style=\"color: #7fbfbf; text-decoration-color: #7fbfbf\">           </span>        <span style=\"color: #008000; text-decoration-color: #008000\">'qfigZhSDQCsynVucnuFwmYJ1zW_A7tfzNjZJcoiJpR8'</span>,                                  <span style=\"color: #7f7f7f; text-decoration-color: #7f7f7f\">                </span>\n",
       "<span style=\"color: #7fbfbf; text-decoration-color: #7fbfbf\">           </span>        <span style=\"color: #008000; text-decoration-color: #008000\">'uAGaVjeHg3r6QmTgM733ALOGa10XLYIInnHa8yLHbaQ'</span>,                                  <span style=\"color: #7f7f7f; text-decoration-color: #7f7f7f\">                </span>\n",
       "<span style=\"color: #7fbfbf; text-decoration-color: #7fbfbf\">           </span>        <span style=\"color: #008000; text-decoration-color: #008000\">'xjsSfyllmPDlTc5tY4xNCm_Rd5gw3B393G3ug0UC8D8'</span>,                                  <span style=\"color: #7f7f7f; text-decoration-color: #7f7f7f\">                </span>\n",
       "<span style=\"color: #7fbfbf; text-decoration-color: #7fbfbf\">           </span>        <span style=\"color: #008000; text-decoration-color: #008000\">'yvrVeuksLCR5D3mVPnhYBOAf-1xjYWKATm0Sbp17jV0'</span>                                   <span style=\"color: #7f7f7f; text-decoration-color: #7f7f7f\">                </span>\n",
       "<span style=\"color: #7fbfbf; text-decoration-color: #7fbfbf\">           </span>    <span style=\"font-weight: bold\">]</span>,                                                                                  <span style=\"color: #7f7f7f; text-decoration-color: #7f7f7f\">                </span>\n",
       "<span style=\"color: #7fbfbf; text-decoration-color: #7fbfbf\">           </span>    <span style=\"color: #008000; text-decoration-color: #008000\">'_sd_alg'</span>: <span style=\"color: #008000; text-decoration-color: #008000\">'sha-256'</span>,                                                               <span style=\"color: #7f7f7f; text-decoration-color: #7f7f7f\">                </span>\n",
       "<span style=\"color: #7fbfbf; text-decoration-color: #7fbfbf\">           </span>    <span style=\"color: #008000; text-decoration-color: #008000\">'exp'</span>: <span style=\"color: #008080; text-decoration-color: #008080; font-weight: bold\">1687769541</span>,                                                                  <span style=\"color: #7f7f7f; text-decoration-color: #7f7f7f\">                </span>\n",
       "<span style=\"color: #7fbfbf; text-decoration-color: #7fbfbf\">           </span>    <span style=\"color: #008000; text-decoration-color: #008000\">'iat'</span>: <span style=\"color: #008080; text-decoration-color: #008080; font-weight: bold\">1687765941</span>,                                                                  <span style=\"color: #7f7f7f; text-decoration-color: #7f7f7f\">                </span>\n",
       "<span style=\"color: #7fbfbf; text-decoration-color: #7fbfbf\">           </span>    <span style=\"color: #008000; text-decoration-color: #008000\">'iss'</span>: <span style=\"color: #008000; text-decoration-color: #008000\">'https://issuer.igrant.io'</span>                                                   <span style=\"color: #7f7f7f; text-decoration-color: #7f7f7f\">                </span>\n",
       "<span style=\"color: #7fbfbf; text-decoration-color: #7fbfbf\">           </span><span style=\"font-weight: bold\">}</span>                                                                                       <span style=\"color: #7f7f7f; text-decoration-color: #7f7f7f\">                </span>\n",
       "</pre>\n"
      ],
      "text/plain": [
       "\u001b[2;36m          \u001b[0m\u001b[2;36m \u001b[0mSD-JWT payload:                                                                         \u001b]8;id=50620;file:///tmp/ipykernel_31975/3815079559.py\u001b\\\u001b[2m3815079559.py\u001b[0m\u001b]8;;\u001b\\\u001b[2m:\u001b[0m\u001b]8;id=969559;file:///tmp/ipykernel_31975/3815079559.py#11\u001b\\\u001b[2m11\u001b[0m\u001b]8;;\u001b\\\n",
       "\u001b[2;36m           \u001b[0m\u001b[1m{\u001b[0m                                                                                       \u001b[2m                \u001b[0m\n",
       "\u001b[2;36m           \u001b[0m    \u001b[32m'_sd'\u001b[0m: \u001b[1m[\u001b[0m                                                                            \u001b[2m                \u001b[0m\n",
       "\u001b[2;36m           \u001b[0m        \u001b[32m'-WpZz87aAEXAdbV73km9YMTmm1c-j5r1Q2PC5r0sYCo'\u001b[0m,                                  \u001b[2m                \u001b[0m\n",
       "\u001b[2;36m           \u001b[0m        \u001b[32m'3dKQXLuJI6Z5rttqsIWsRR56KD3GH0kcKIUYmf5RvUc'\u001b[0m,                                  \u001b[2m                \u001b[0m\n",
       "\u001b[2;36m           \u001b[0m        \u001b[32m'6N_2uNtg1dBOqgsEA8M03wCE4nv8jBnOsLdu-JlNNss'\u001b[0m,                                  \u001b[2m                \u001b[0m\n",
       "\u001b[2;36m           \u001b[0m        \u001b[32m'6w3XaF3W-Zg49ZaASt-b25MqEaNYA0TeX-ep1izpz-0'\u001b[0m,                                  \u001b[2m                \u001b[0m\n",
       "\u001b[2;36m           \u001b[0m        \u001b[32m'CWWpdYq5Jrc_d3Fl4W60K3k9gj8Dr5vrGjqGaIuk2Qs'\u001b[0m,                                  \u001b[2m                \u001b[0m\n",
       "\u001b[2;36m           \u001b[0m        \u001b[32m'JOrW4y8F8CPKsRGjFUuO7I6cBfEJ4eholdD3TGWQRYw'\u001b[0m,                                  \u001b[2m                \u001b[0m\n",
       "\u001b[2;36m           \u001b[0m        \u001b[32m'JyJJvvo5ilyzO5u5dcawute-A5jKm-g255IzDX2Jpyg'\u001b[0m,                                  \u001b[2m                \u001b[0m\n",
       "\u001b[2;36m           \u001b[0m        \u001b[32m'OWmD0kXUgKG3KIMi7zK-O59l3nM83eo7Qwp91GHzfOY'\u001b[0m,                                  \u001b[2m                \u001b[0m\n",
       "\u001b[2;36m           \u001b[0m        \u001b[32m'Rag-q7dujZYOBuTmMcqLZZdyIXZmx7R_Livf4Piyt8o'\u001b[0m,                                  \u001b[2m                \u001b[0m\n",
       "\u001b[2;36m           \u001b[0m        \u001b[32m'YkcRdvAJAyGk32o9zv8iqR8Hz34KzBKArYETn_j6S0k'\u001b[0m,                                  \u001b[2m                \u001b[0m\n",
       "\u001b[2;36m           \u001b[0m        \u001b[32m'jE8EgKavuMdll9DViD-XanRhT8VQnLhwus9YvGRAb38'\u001b[0m,                                  \u001b[2m                \u001b[0m\n",
       "\u001b[2;36m           \u001b[0m        \u001b[32m'nw55I84Yr1tbf8x83ZwDK4dhJHgeNpACTUwEvCIk6M8'\u001b[0m,                                  \u001b[2m                \u001b[0m\n",
       "\u001b[2;36m           \u001b[0m        \u001b[32m'o4gtEzxcVLEPvgVP6j75f7uaRjrRTlLK997JGf0ifi8'\u001b[0m,                                  \u001b[2m                \u001b[0m\n",
       "\u001b[2;36m           \u001b[0m        \u001b[32m'qfigZhSDQCsynVucnuFwmYJ1zW_A7tfzNjZJcoiJpR8'\u001b[0m,                                  \u001b[2m                \u001b[0m\n",
       "\u001b[2;36m           \u001b[0m        \u001b[32m'uAGaVjeHg3r6QmTgM733ALOGa10XLYIInnHa8yLHbaQ'\u001b[0m,                                  \u001b[2m                \u001b[0m\n",
       "\u001b[2;36m           \u001b[0m        \u001b[32m'xjsSfyllmPDlTc5tY4xNCm_Rd5gw3B393G3ug0UC8D8'\u001b[0m,                                  \u001b[2m                \u001b[0m\n",
       "\u001b[2;36m           \u001b[0m        \u001b[32m'yvrVeuksLCR5D3mVPnhYBOAf-1xjYWKATm0Sbp17jV0'\u001b[0m                                   \u001b[2m                \u001b[0m\n",
       "\u001b[2;36m           \u001b[0m    \u001b[1m]\u001b[0m,                                                                                  \u001b[2m                \u001b[0m\n",
       "\u001b[2;36m           \u001b[0m    \u001b[32m'_sd_alg'\u001b[0m: \u001b[32m'sha-256'\u001b[0m,                                                               \u001b[2m                \u001b[0m\n",
       "\u001b[2;36m           \u001b[0m    \u001b[32m'exp'\u001b[0m: \u001b[1;36m1687769541\u001b[0m,                                                                  \u001b[2m                \u001b[0m\n",
       "\u001b[2;36m           \u001b[0m    \u001b[32m'iat'\u001b[0m: \u001b[1;36m1687765941\u001b[0m,                                                                  \u001b[2m                \u001b[0m\n",
       "\u001b[2;36m           \u001b[0m    \u001b[32m'iss'\u001b[0m: \u001b[32m'https://issuer.igrant.io'\u001b[0m                                                   \u001b[2m                \u001b[0m\n",
       "\u001b[2;36m           \u001b[0m\u001b[1m}\u001b[0m                                                                                       \u001b[2m                \u001b[0m\n"
      ]
     },
     "metadata": {},
     "output_type": "display_data"
    },
    {
     "data": {
      "text/html": [
       "<pre style=\"white-space:pre;overflow-x:auto;line-height:normal;font-family:Menlo,'DejaVu Sans Mono',consolas,'Courier New',monospace\"><span style=\"color: #7fbfbf; text-decoration-color: #7fbfbf\">           </span>SD-JWT header:                                                                          <a href=\"file:///tmp/ipykernel_31975/3815079559.py\" target=\"_blank\"><span style=\"color: #7f7f7f; text-decoration-color: #7f7f7f\">3815079559.py</span></a><span style=\"color: #7f7f7f; text-decoration-color: #7f7f7f\">:</span><a href=\"file:///tmp/ipykernel_31975/3815079559.py#13\" target=\"_blank\"><span style=\"color: #7f7f7f; text-decoration-color: #7f7f7f\">13</span></a>\n",
       "<span style=\"color: #7fbfbf; text-decoration-color: #7fbfbf\">           </span><span style=\"font-weight: bold\">{</span><span style=\"color: #008000; text-decoration-color: #008000\">'alg'</span>: <span style=\"color: #008000; text-decoration-color: #008000\">'ES256'</span><span style=\"font-weight: bold\">}</span>                                                                        <span style=\"color: #7f7f7f; text-decoration-color: #7f7f7f\">                </span>\n",
       "</pre>\n"
      ],
      "text/plain": [
       "\u001b[2;36m          \u001b[0m\u001b[2;36m \u001b[0mSD-JWT header:                                                                          \u001b]8;id=152528;file:///tmp/ipykernel_31975/3815079559.py\u001b\\\u001b[2m3815079559.py\u001b[0m\u001b]8;;\u001b\\\u001b[2m:\u001b[0m\u001b]8;id=129999;file:///tmp/ipykernel_31975/3815079559.py#13\u001b\\\u001b[2m13\u001b[0m\u001b]8;;\u001b\\\n",
       "\u001b[2;36m           \u001b[0m\u001b[1m{\u001b[0m\u001b[32m'alg'\u001b[0m: \u001b[32m'ES256'\u001b[0m\u001b[1m}\u001b[0m                                                                        \u001b[2m                \u001b[0m\n"
      ]
     },
     "metadata": {},
     "output_type": "display_data"
    }
   ],
   "source": [
    "import json\n",
    "from jwcrypto import jwt\n",
    "\n",
    "_sd = disclosure_sha_256s\n",
    "sd_jwt = issuer_did.generate_sd_jwt(_sd)\n",
    "\n",
    "console.log(\"SD-JWT: \", sd_jwt)\n",
    "\n",
    "sd_jwt_deserialised = jwt.JWT(key=issuer_did._key, jwt=sd_jwt)\n",
    "\n",
    "console.log(\"SD-JWT payload: \", json.loads(sd_jwt_deserialised.claims))\n",
    "\n",
    "console.log(\"SD-JWT header: \",  json.loads(sd_jwt_deserialised.header))"
   ]
  },
  {
   "attachments": {},
   "cell_type": "markdown",
   "metadata": {},
   "source": [
    "## 7.0 Create combined format for issuance (a.k.a issue credential to holder)\n",
    "\n",
    "*Note: Format is `<SD-JWT>~<Disclosure 1>~<Disclosure 2>~...~<Disclosure N>`*"
   ]
  },
  {
   "cell_type": "code",
   "execution_count": 7,
   "metadata": {},
   "outputs": [
    {
     "name": "stdout",
     "output_type": "stream",
     "text": [
      "Combined format for issuance :  eyJhbGciOiJFUzI1NiJ9.eyJfc2QiOlsiLVdwWno4N2FBRVhBZGJWNzNrbTlZTVRtbTFjLWo1cjFRMlBDNXIwc1lDbyIsIjNkS1FYTHVKSTZaNXJ0dHFzSVdzUlI1NktEM0dIMGtjS0lVWW1mNVJ2VWMiLCI2Tl8ydU50ZzFkQk9xZ3NFQThNMDN3Q0U0bnY4akJuT3NMZHUtSmxOTnNzIiwiNnczWGFGM1ctWmc0OVphQVN0LWIyNU1xRWFOWUEwVGVYLWVwMWl6cHotMCIsIkNXV3BkWXE1SnJjX2QzRmw0VzYwSzNrOWdqOERyNXZyR2pxR2FJdWsyUXMiLCJKT3JXNHk4RjhDUEtzUkdqRlV1TzdJNmNCZkVKNGVob2xkRDNUR1dRUll3IiwiSnlKSnZ2bzVpbHl6TzV1NWRjYXd1dGUtQTVqS20tZzI1NUl6RFgySnB5ZyIsIk9XbUQwa1hVZ0tHM0tJTWk3ekstTzU5bDNuTTgzZW83UXdwOTFHSHpmT1kiLCJSYWctcTdkdWpaWU9CdVRtTWNxTFpaZHlJWFpteDdSX0xpdmY0UGl5dDhvIiwiWWtjUmR2QUpBeUdrMzJvOXp2OGlxUjhIejM0S3pCS0FyWUVUbl9qNlMwayIsImpFOEVnS2F2dU1kbGw5RFZpRC1YYW5SaFQ4VlFuTGh3dXM5WXZHUkFiMzgiLCJudzU1STg0WXIxdGJmOHg4M1p3REs0ZGhKSGdlTnBBQ1RVd0V2Q0lrNk04IiwibzRndEV6eGNWTEVQdmdWUDZqNzVmN3VhUmpyUlRsTEs5OTdKR2YwaWZpOCIsInFmaWdaaFNEUUNzeW5WdWNudUZ3bVlKMXpXX0E3dGZ6TmpaSmNvaUpwUjgiLCJ1QUdhVmplSGczcjZRbVRnTTczM0FMT0dhMTBYTFlJSW5uSGE4eUxIYmFRIiwieGpzU2Z5bGxtUERsVGM1dFk0eE5DbV9SZDVndzNCMzkzRzN1ZzBVQzhEOCIsInl2clZldWtzTENSNUQzbVZQbmhZQk9BZi0xeGpZV0tBVG0wU2JwMTdqVjAiXSwiX3NkX2FsZyI6InNoYS0yNTYiLCJleHAiOjE2ODc3Njk1NDEsImlhdCI6MTY4Nzc2NTk0MSwiaXNzIjoiaHR0cHM6Ly9pc3N1ZXIuaWdyYW50LmlvIn0.AWzQ4sjhU4HXYxFizx8atUeg16CDRxqredxQlh9kMhaWYoruI4vS6NqoW-m5EgiiYtaRRDuWamR7O1D0TyOU3g~WyIxYWVlZmYwODVlZDBlNjNhZWI3MDQ5MmNmMzgxM2E1YyIsICJsZWdhbFN0YXR1cyIsICJBQ1RJVkUiXQ~WyIzMGNlMjMyNDM5NDgyMjU2NTJjOGMyN2YxZDc5MDVmMSIsICJsZWdhbEZvcm0iLCAiQWt0aWVib2xhZyJd~WyIyY2YzY2UwMWQ1YWJiYWQzZWE3ZTk3YmQ2OTAyZjZmNSIsICJhY3Rpdml0eSIsICJDb25zdHJ1Y3Rpb24gSW5kdXN0cnkiXQ~WyI3NTkyNjZmOTBhNWMyMGVjNjMwMTI0YmQ1ZjQyYzE3NCIsICJvcmdOdW1iZXIiLCAiNTU5MTMzLTI3MjAiXQ~WyI2Y2E3ZTg2NmU0YThjZDg0YWY1MTA5NTljMDZmMTYyYyIsICJyZWdpc3RyYXRpb25EYXRlIiwgIjIwMDUtMTAtMTgiXQ~WyIxODZhYmRiNjk4YWUxODMzYjRkYzAzNTFlODc0MDNkYyIsICJyZWdpc3RlcmVkQWRkcmVzcyIsIHsiZnVsbEFkZHJlc3MiOiAiMTIzIE1haW4gU3QiLCAidGhvcm91Z2hGYXJlIjogIlN2ZWF2XHUwMGU0Z2VuIiwgInBvc3ROYW1lIjogIlN0b2NraG9sbSIsICJsb2NhdG9yRGVzaWduYXRvciI6ICIxMTEgMzQiLCAiY29kZSI6ICI0OCIsICJhZG1pblVuaXRMZXZlbDEiOiAiU0UifV0~WyI3ZmExMjdlNzY0MzMyYmFhMTg1OGU5ZjI0MzQ3MDg5ZiIsICJhdHRlc3RhdGlvblZhbGlkaXR5IiwgIjMxLURlYy0yMDIyIl0~WyIxOWQyZmVjMmFmZTk1YjYwZDc2MDNmZmE0YmQ3OGM5YiIsIDAsIDBd~WyJlODgzZWNlODE3OWM0YzgwMjNjN2I0ODRlOTMxZDhmYSIsIDEsIDFd~WyIwZGJhODllMjRjOTU2YWNhZDI5Y2FiZWZlMGVmMTFjYiIsIDIsIDJd~WyIyMDYyMzgzNGE2NGE1ZmZjNWNiMzMzY2IzYTZlN2JkYiIsIDMsIDNd~WyJjMjlkNmQ2YjU3YWI1OTQzYTU2ZmY3ZGM3ODQzZjNkZCIsIDQsIDRd~WyI0ZDUyYzc2MjkzYjU1MmY5ZDM1MGE2Yzc4NWE4NmZkNCIsIDUsIDVd~WyI3N2Y3MjViNjZiMzYyN2UzYjdkY2U4ZGVjNWNiOWU4MyIsIDYsIDZd~WyI1NTdmODRhODg3NDViMTM5MTc1Nzg3YTFiYmUzNmUzMCIsIDcsIDdd~WyIxMzlkNTcxZDA2YjE2YjEwMTNlOTA3MjMyOWIyMzg3NCIsIDgsIDhd~WyJjYjY5YTViOTI2MGM2OGVlOGJiMGJmN2QzZTVkYzY0NSIsIDksIDld\n"
     ]
    }
   ],
   "source": [
    "combined_format_for_issuance = sd_jwt\n",
    "\n",
    "for disclosure in disclosures:\n",
    "    combined_format_for_issuance += \"~\" + disclosure.content_base64\n",
    "\n",
    "print(\"Combined format for issuance : \", combined_format_for_issuance)"
   ]
  }
 ],
 "metadata": {
  "kernelspec": {
   "display_name": "Python 3 (ipykernel)",
   "language": "python",
   "name": "python3"
  },
  "language_info": {
   "codemirror_mode": {
    "name": "ipython",
    "version": 3
   },
   "file_extension": ".py",
   "mimetype": "text/x-python",
   "name": "python",
   "nbconvert_exporter": "python",
   "pygments_lexer": "ipython3",
   "version": "3.10.6"
  }
 },
 "nbformat": 4,
 "nbformat_minor": 4
}
