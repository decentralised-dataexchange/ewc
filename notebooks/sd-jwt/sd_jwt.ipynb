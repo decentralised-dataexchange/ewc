{
 "cells": [
  {
   "attachments": {},
   "cell_type": "markdown",
   "metadata": {},
   "source": [
    "# SD-JWT for Certification of Registration credential in Proof of Business demo"
   ]
  },
  {
   "attachments": {},
   "cell_type": "markdown",
   "metadata": {},
   "source": [
    "## Setup cryptographic keys"
   ]
  },
  {
   "cell_type": "code",
   "execution_count": 13,
   "metadata": {},
   "outputs": [
    {
     "name": "stdout",
     "output_type": "stream",
     "text": [
      "Issuer public key JWK: {'kty': 'EC', 'kid': 'tJ7_O_Xu862O_9L4oxdBSkRotGJ2Id9smSovHtnUUo8', 'crv': 'P-256', 'x': 'PTKECXSeSzIRRjYBKPECaRBRp1VH_g2EztKLJf8jpVc', 'y': 'HHpPqdZ8P0ZVz9CSryp7FvmtTTnNImmlQuiatJncoNM'}\n"
     ]
    }
   ],
   "source": [
    "import asyncio\n",
    "from ebsi_wallet.did_key import KeyDid, PublicKeyJWK\n",
    "\n",
    "console = Console()\n",
    "loop = asyncio.get_event_loop()\n",
    "\n",
    "# Generate did:key identifier and associated public and privatekey pairs from the cryptographic seed.\n",
    "cryptographic_seed = b'helloworld'\n",
    "issuer_did = KeyDid(seed=cryptographic_seed)\n",
    "issuer_did.create_keypair()\n",
    "\n",
    "print('Issuer public key JWK:', issuer_did.public_key_jwk)"
   ]
  },
  {
   "attachments": {},
   "cell_type": "markdown",
   "metadata": {},
   "source": [
    "## Claims to be issued"
   ]
  },
  {
   "cell_type": "code",
   "execution_count": 14,
   "metadata": {},
   "outputs": [
    {
     "name": "stdout",
     "output_type": "stream",
     "text": [
      "Certificate of Registration claims to be issued:  {'legalStatus': 'ACTIVE', 'legalForm': 'Aktiebolag', 'activity': 'Real Estate', 'orgNumber': '559133-2720', 'registrationDate': '2005-10-08', 'registeredAddress': {'fullAddress': '123 Main St', 'thoroughFare': 'Sveavägen', 'postName': 'Stockholm', 'locatorDesignator': '111 34', 'code': '48', 'adminUnitLevel1': 'SE'}, 'attestationValidity': '31-Dec-2022'}\n"
     ]
    }
   ],
   "source": [
    "certificate_of_registration_claims = {\n",
    "  \"legalStatus\": \"ACTIVE\",\n",
    "  \"legalForm\": \"Aktiebolag\",\n",
    "  \"activity\": \"Real Estate\",\n",
    "  \"orgNumber\": \"559133-2720\",\n",
    "  \"registrationDate\": \"2005-10-08\",\n",
    "  \"registeredAddress\": {\n",
    "    \"fullAddress\": \"123 Main St\",\n",
    "    \"thoroughFare\": \"Sveavägen\",\n",
    "    \"postName\": \"Stockholm\",\n",
    "    \"locatorDesignator\": \"111 34\",\n",
    "    \"code\": \"48\",\n",
    "    \"adminUnitLevel1\": \"SE\"\n",
    "  },\n",
    "  \"attestationValidity\": \"31-Dec-2022\"\n",
    "}\n",
    "\n",
    "print(\"Certificate of Registration claims to be issued: \", certificate_of_registration_claims)"
   ]
  },
  {
   "attachments": {},
   "cell_type": "markdown",
   "metadata": {},
   "source": [
    "## Calculate full disclosure for claims to be issued"
   ]
  },
  {
   "cell_type": "code",
   "execution_count": 15,
   "metadata": {},
   "outputs": [
    {
     "name": "stdout",
     "output_type": "stream",
     "text": [
      "Disclosure content and base64:  [Disclosure(content=['f7d8ca7a66b89771892f6a848e54a0df', 'legalStatus', 'ACTIVE'], content_base64='WyJmN2Q4Y2E3YTY2Yjg5NzcxODkyZjZhODQ4ZTU0YTBkZiIsICJsZWdhbFN0YXR1cyIsICJBQ1RJVkUiXQ'), Disclosure(content=['3831dd79eaf1ed68f5f7070b0ee38a2f', 'legalForm', 'Aktiebolag'], content_base64='WyIzODMxZGQ3OWVhZjFlZDY4ZjVmNzA3MGIwZWUzOGEyZiIsICJsZWdhbEZvcm0iLCAiQWt0aWVib2xhZyJd'), Disclosure(content=['15db0d3d86d0ae0f93477986f4a8b255', 'activity', 'Real Estate'], content_base64='WyIxNWRiMGQzZDg2ZDBhZTBmOTM0Nzc5ODZmNGE4YjI1NSIsICJhY3Rpdml0eSIsICJSZWFsIEVzdGF0ZSJd'), Disclosure(content=['34f3760b814c88db18fe9fd96bb6d734', 'orgNumber', '559133-2720'], content_base64='WyIzNGYzNzYwYjgxNGM4OGRiMThmZTlmZDk2YmI2ZDczNCIsICJvcmdOdW1iZXIiLCAiNTU5MTMzLTI3MjAiXQ'), Disclosure(content=['39313d647ff9ba2cbd59e9445ac173db', 'registrationDate', '2005-10-08'], content_base64='WyIzOTMxM2Q2NDdmZjliYTJjYmQ1OWU5NDQ1YWMxNzNkYiIsICJyZWdpc3RyYXRpb25EYXRlIiwgIjIwMDUtMTAtMDgiXQ'), Disclosure(content=['b1473949f21d5a64be5d2d7f1cf97804', 'registeredAddress', {'fullAddress': '123 Main St', 'thoroughFare': 'Sveavägen', 'postName': 'Stockholm', 'locatorDesignator': '111 34', 'code': '48', 'adminUnitLevel1': 'SE'}], content_base64='WyJiMTQ3Mzk0OWYyMWQ1YTY0YmU1ZDJkN2YxY2Y5NzgwNCIsICJyZWdpc3RlcmVkQWRkcmVzcyIsIHsiZnVsbEFkZHJlc3MiOiAiMTIzIE1haW4gU3QiLCAidGhvcm91Z2hGYXJlIjogIlN2ZWF2XHUwMGU0Z2VuIiwgInBvc3ROYW1lIjogIlN0b2NraG9sbSIsICJsb2NhdG9yRGVzaWduYXRvciI6ICIxMTEgMzQiLCAiY29kZSI6ICI0OCIsICJhZG1pblVuaXRMZXZlbDEiOiAiU0UifV0'), Disclosure(content=['b1a51870f6aaf8fd00dfbbd94c18cb4d', 'attestationValidity', '31-Dec-2022'], content_base64='WyJiMWE1MTg3MGY2YWFmOGZkMDBkZmJiZDk0YzE4Y2I0ZCIsICJhdHRlc3RhdGlvblZhbGlkaXR5IiwgIjMxLURlYy0yMDIyIl0')]\n"
     ]
    }
   ],
   "source": [
    "from collections import namedtuple\n",
    "from ebsi_wallet.util import generate_disclosure_content_and_base64\n",
    "\n",
    "Disclosure = namedtuple('Disclosure', ['content', 'content_base64'])\n",
    "\n",
    "disclosures = []\n",
    "for key, value in certificate_of_registration_claims.items():\n",
    "    disclosure, disclosure_base64 = generate_disclosure_content_and_base64(key, certificate_of_registration_claims)\n",
    "    disclosures.append(Disclosure(content=disclosure, content_base64=disclosure_base64))\n",
    "\n",
    "print(\"Disclosure content and base64: \", disclosures)"
   ]
  },
  {
   "attachments": {},
   "cell_type": "markdown",
   "metadata": {},
   "source": [
    "## Calculate disclosure SHA-256 digest"
   ]
  },
  {
   "cell_type": "code",
   "execution_count": 16,
   "metadata": {},
   "outputs": [
    {
     "name": "stdout",
     "output_type": "stream",
     "text": [
      "Disclosure SHA-256s:  ['86C1ChWguz_vK6cX1-1PeHCXKbwGwmFe30luhEPgoS8', 'WANlmfjQo-VlxAehCFuGyYeJmxJjAgsDOHlbXGdE8UA', 'YnRjoih6JNDc9q-zHu7hg0fCaNmmlqyRvWnzNiV_0RY', 'm5RdTUVAGs6rqlAjm_gNlaAKRJ6-8BhAoyOV-8V6KHA', 'eSCSvAQ3qy-6FuiAuJu2GrZ9hGhlAeWuI9ztD-fQTL4', 'slSGYKk8FzuH9QWh1wFarnA4Ir_RqrMdssMSw_nDPJo', 'TdwGl9TLRDKeWsg_HKF9NNWt8FuwQGyeuizdvINMAuE']\n"
     ]
    }
   ],
   "source": [
    "import hashlib\n",
    "import base64\n",
    "\n",
    "disclosure_sha_256s = []\n",
    "\n",
    "for disclosure in disclosures:\n",
    "    sha256_hash = hashlib.sha256()\n",
    "    sha256_hash.update(disclosure.content_base64.encode('utf-8'))\n",
    "    sha256_digest = sha256_hash.digest()\n",
    "    disclosure_sha_256 = base64.urlsafe_b64encode(sha256_digest).decode('utf-8').rstrip(\"=\")\n",
    "    disclosure_sha_256s.append(disclosure_sha_256)\n",
    "\n",
    "print(\"Disclosure SHA-256s: \", disclosure_sha_256s)"
   ]
  },
  {
   "attachments": {},
   "cell_type": "markdown",
   "metadata": {},
   "source": [
    "## Create SD-JWT"
   ]
  },
  {
   "cell_type": "code",
   "execution_count": 17,
   "metadata": {},
   "outputs": [
    {
     "name": "stdout",
     "output_type": "stream",
     "text": [
      "SD-JWT:  eyJhbGciOiJFUzI1NiJ9.eyJfc2QiOlsiODZDMUNoV2d1el92SzZjWDEtMVBlSENYS2J3R3dtRmUzMGx1aEVQZ29TOCIsIldBTmxtZmpRby1WbHhBZWhDRnVHeVllSm14SmpBZ3NET0hsYlhHZEU4VUEiLCJZblJqb2loNkpORGM5cS16SHU3aGcwZkNhTm1tbHF5UnZXbnpOaVZfMFJZIiwibTVSZFRVVkFHczZycWxBam1fZ05sYUFLUko2LThCaEFveU9WLThWNktIQSIsImVTQ1N2QVEzcXktNkZ1aUF1SnUyR3JaOWhHaGxBZVd1STl6dEQtZlFUTDQiLCJzbFNHWUtrOEZ6dUg5UVdoMXdGYXJuQTRJcl9ScXJNZHNzTVN3X25EUEpvIiwiVGR3R2w5VExSREtlV3NnX0hLRjlOTld0OEZ1d1FHeWV1aXpkdklOTUF1RSJdLCJfc2RfYWxnIjoic2hhLTI1NiIsImV4cCI6MTY4NzI4NjU2OSwiaWF0IjoxNjg3MjgyOTY5LCJpc3MiOiJodHRwczovL2lzc3Vlci5pZ3JhbnQuaW8ifQ.7z0dR5iJbnDaa-G4DW-WKQMweIKS92jyqw5m17BORqHSHWL7JTJs6QvzaLZLPODGiRQlPY2Cp0cRflCy_aHhew\n",
      "SD-JWT payload:  {'_sd': ['86C1ChWguz_vK6cX1-1PeHCXKbwGwmFe30luhEPgoS8', 'WANlmfjQo-VlxAehCFuGyYeJmxJjAgsDOHlbXGdE8UA', 'YnRjoih6JNDc9q-zHu7hg0fCaNmmlqyRvWnzNiV_0RY', 'm5RdTUVAGs6rqlAjm_gNlaAKRJ6-8BhAoyOV-8V6KHA', 'eSCSvAQ3qy-6FuiAuJu2GrZ9hGhlAeWuI9ztD-fQTL4', 'slSGYKk8FzuH9QWh1wFarnA4Ir_RqrMdssMSw_nDPJo', 'TdwGl9TLRDKeWsg_HKF9NNWt8FuwQGyeuizdvINMAuE'], '_sd_alg': 'sha-256', 'exp': 1687286569, 'iat': 1687282969, 'iss': 'https://issuer.igrant.io'}\n",
      "SD-JWT header:  {'alg': 'ES256'}\n"
     ]
    }
   ],
   "source": [
    "import json\n",
    "from jwcrypto import jwt\n",
    "\n",
    "_sd = disclosure_sha_256s\n",
    "sd_jwt = issuer_did.generate_sd_jwt(_sd)\n",
    "\n",
    "print(\"SD-JWT: \", sd_jwt)\n",
    "\n",
    "sd_jwt_deserialised = jwt.JWT(key=issuer_did._key, jwt=sd_jwt)\n",
    "print(\"SD-JWT payload: \", json.loads(sd_jwt_deserialised.claims))\n",
    "print(\"SD-JWT header: \",  json.loads(sd_jwt_deserialised.header))"
   ]
  },
  {
   "attachments": {},
   "cell_type": "markdown",
   "metadata": {},
   "source": [
    "## Create combined format for issuance (a.k.a issue credential to holder)\n",
    "\n",
    "*Note: Format is `<SD-JWT>~<Disclosure 1>~<Disclosure 2>~...~<Disclosure N>`*"
   ]
  },
  {
   "cell_type": "code",
   "execution_count": 18,
   "metadata": {},
   "outputs": [
    {
     "name": "stdout",
     "output_type": "stream",
     "text": [
      "Combined format for issuance :  eyJhbGciOiJFUzI1NiJ9.eyJfc2QiOlsiODZDMUNoV2d1el92SzZjWDEtMVBlSENYS2J3R3dtRmUzMGx1aEVQZ29TOCIsIldBTmxtZmpRby1WbHhBZWhDRnVHeVllSm14SmpBZ3NET0hsYlhHZEU4VUEiLCJZblJqb2loNkpORGM5cS16SHU3aGcwZkNhTm1tbHF5UnZXbnpOaVZfMFJZIiwibTVSZFRVVkFHczZycWxBam1fZ05sYUFLUko2LThCaEFveU9WLThWNktIQSIsImVTQ1N2QVEzcXktNkZ1aUF1SnUyR3JaOWhHaGxBZVd1STl6dEQtZlFUTDQiLCJzbFNHWUtrOEZ6dUg5UVdoMXdGYXJuQTRJcl9ScXJNZHNzTVN3X25EUEpvIiwiVGR3R2w5VExSREtlV3NnX0hLRjlOTld0OEZ1d1FHeWV1aXpkdklOTUF1RSJdLCJfc2RfYWxnIjoic2hhLTI1NiIsImV4cCI6MTY4NzI4NjU2OSwiaWF0IjoxNjg3MjgyOTY5LCJpc3MiOiJodHRwczovL2lzc3Vlci5pZ3JhbnQuaW8ifQ.7z0dR5iJbnDaa-G4DW-WKQMweIKS92jyqw5m17BORqHSHWL7JTJs6QvzaLZLPODGiRQlPY2Cp0cRflCy_aHhew~WyJmN2Q4Y2E3YTY2Yjg5NzcxODkyZjZhODQ4ZTU0YTBkZiIsICJsZWdhbFN0YXR1cyIsICJBQ1RJVkUiXQ~WyIzODMxZGQ3OWVhZjFlZDY4ZjVmNzA3MGIwZWUzOGEyZiIsICJsZWdhbEZvcm0iLCAiQWt0aWVib2xhZyJd~WyIxNWRiMGQzZDg2ZDBhZTBmOTM0Nzc5ODZmNGE4YjI1NSIsICJhY3Rpdml0eSIsICJSZWFsIEVzdGF0ZSJd~WyIzNGYzNzYwYjgxNGM4OGRiMThmZTlmZDk2YmI2ZDczNCIsICJvcmdOdW1iZXIiLCAiNTU5MTMzLTI3MjAiXQ~WyIzOTMxM2Q2NDdmZjliYTJjYmQ1OWU5NDQ1YWMxNzNkYiIsICJyZWdpc3RyYXRpb25EYXRlIiwgIjIwMDUtMTAtMDgiXQ~WyJiMTQ3Mzk0OWYyMWQ1YTY0YmU1ZDJkN2YxY2Y5NzgwNCIsICJyZWdpc3RlcmVkQWRkcmVzcyIsIHsiZnVsbEFkZHJlc3MiOiAiMTIzIE1haW4gU3QiLCAidGhvcm91Z2hGYXJlIjogIlN2ZWF2XHUwMGU0Z2VuIiwgInBvc3ROYW1lIjogIlN0b2NraG9sbSIsICJsb2NhdG9yRGVzaWduYXRvciI6ICIxMTEgMzQiLCAiY29kZSI6ICI0OCIsICJhZG1pblVuaXRMZXZlbDEiOiAiU0UifV0~WyJiMWE1MTg3MGY2YWFmOGZkMDBkZmJiZDk0YzE4Y2I0ZCIsICJhdHRlc3RhdGlvblZhbGlkaXR5IiwgIjMxLURlYy0yMDIyIl0\n"
     ]
    }
   ],
   "source": [
    "combined_format_for_issuance = sd_jwt\n",
    "\n",
    "for disclosure in disclosures:\n",
    "    combined_format_for_issuance += \"~\" + disclosure.content_base64\n",
    "\n",
    "print(\"Combined format for issuance : \", combined_format_for_issuance)"
   ]
  }
 ],
 "metadata": {
  "kernelspec": {
   "display_name": "ebsi-wallet-NqTUFGRW-py3.10",
   "language": "python",
   "name": "python3"
  },
  "language_info": {
   "codemirror_mode": {
    "name": "ipython",
    "version": 3
   },
   "file_extension": ".py",
   "mimetype": "text/x-python",
   "name": "python",
   "nbconvert_exporter": "python",
   "pygments_lexer": "ipython3",
   "version": "3.10.6"
  },
  "orig_nbformat": 4
 },
 "nbformat": 4,
 "nbformat_minor": 2
}
