{
 "cells": [
  {
   "cell_type": "code",
   "execution_count": 1,
   "metadata": {},
   "outputs": [],
   "source": [
    "import asyncio\n",
    "\n",
    "loop = asyncio.get_event_loop()"
   ]
  },
  {
   "cell_type": "code",
   "execution_count": 4,
   "metadata": {},
   "outputs": [
    {
     "name": "stdout",
     "output_type": "stream",
     "text": [
      "eyJhbGciOiJFUzI1NiIsImtpZCI6ImRpZDprZXk6aXNzdWVyX2RpZCNpc3N1ZXJfZGlkIiwidHlwIjoiSldUIn0.eyJleHAiOjE3MTQ0NjI0ODcsImlhdCI6MTcxNDQ1ODg4NywiaXNzIjoiZGlkOmtleTppc3N1ZXJfZGlkIiwianRpIjoidXJuOmRpZDphYmMiLCJuYmYiOjE3MTQ0NTg4ODcsInN1YiI6ImRpZDprZXk6ZGF0YXdhbGxldF9kaWQiLCJ2YyI6eyJAY29udGV4dCI6WyJodHRwczovL3d3dy53My5vcmcvMjAxOC9jcmVkZW50aWFscy92MSJdLCJjcmVkZW50aWFsU2NoZW1hIjpbeyJpZCI6Imh0dHBzOi8vYXBpLWNvbmZvcm1hbmNlLmVic2kuZXUvdHJ1c3RlZC1zY2hlbWFzLXJlZ2lzdHJ5L3YyL3NjaGVtYXMvejNNZ1VGVWtiNzIydXE0eDNkdjV5QUptbk5tekRGZUs1VUM4eDgzUW9lTEpNIiwidHlwZSI6IkZ1bGxKc29uU2NoZW1hVmFsaWRhdG9yMjAyMSJ9XSwiY3JlZGVudGlhbFN1YmplY3QiOnsiX3NkIjpbInBOTGJaa1d2cWdhQk9WUlBsaUkxZzhjMGVUaEN6VklaZDd2dkUyWlBTNDAiLCJheTcyZjR0TjJRMjdrVGl3RHM3RDc5aWhkQlBPWmU2MUFaeURSaXVhYU1jIl19LCJleHBpcmF0aW9uRGF0ZSI6IjIwMjQtMDQtMzBUMDc6MzQ6NDdaIiwiaWQiOiJ1cm46ZGlkOmFiYyIsImlzc3VhbmNlRGF0ZSI6IjIwMjQtMDQtMzBUMDY6MzQ6NDdaIiwiaXNzdWVkIjoiMjAyNC0wNC0zMFQwNjozNDo0N1oiLCJpc3N1ZXIiOiJkaWQ6a2V5OnoyalF2SHVzVnZETHA4TGI1V1FuVUVva3R4a0VIZm9RMjkxRVc2WlBrSldHRk04cEc5VTZCZVZFYjNoU3ZrWlFhUVNvQlg4Zm5Tb1hZQTRoQ01OeGRhYmRjQXNaUWNWYnVHRWlIUXdiQXBkS1RoNUNnQVhKZlpKU2s0QVlibnd5TjNCRUhIaUR3UE5uTUczbnNEWE1UUHhZTko3alRCMUpmdVRyczdFUGVLamVYQ2dRR3dDNGl2dldkM2lHRmJyN3RFZUVua05ZOVJ4TUxVU1hCU2hWRkN5bmhzVVFSMUV6SmtUTERWRzZiUm0yeWdnOEZYTlZBakVIaSIsInR5cGUiOlsiUGFzc3BvcnQiXSwidmFsaWRGcm9tIjoiMjAyNC0wNC0zMFQwNjozNDo0N1oifX0.mliiXPwManWiN7PSiCMoC9CPVGz70E7QBxz46BO3ghO7-rsobGaBnY7rEORRVfd4_vx-e6t9VBHcGtSPIdQKMQ~WyJmYzRiYzIxZGVmOTA4ZDNmMTJmYmNkYTU2NDk5YzY0NmZhNTAzZmUzZmJmYjBlNGI1YzNmYTRhYmUyM2FlNTgzIiwic2VjdGlvbjEiLHsibmFtZSI6IkpvaG4gRG9lIiwiYWdlIjoyNH1d~WyJlZDM1NWE5MjZkMjRhOTg4ZDIyYjRjN2FkMDc2YzFkODAzMmE1MTNlZTExMGQwYjkxMmNlZmQ0ZDc1ZjczYjkzIiwic2VjdGlvbjIiLHsiYWRkcmVzcyI6eyJzdGF0ZSI6IktMIiwiY2l0eSI6IktvY2hpIn19XQ\n"
     ]
    }
   ],
   "source": [
    "import unittest\n",
    "from unittest import IsolatedAsyncioTestCase\n",
    "from sdjwt.sdjwt import (\n",
    "    generate_did_key_from_seed,\n",
    "    create_w3c_vc_sd_jwt_for_data_attributes,\n",
    ")\n",
    "from sdjwt.didkey import DIDKey\n",
    "from sdjwt.adapter import DataAttribute, DataAttributesAdapter\n",
    "\n",
    "\n",
    "\n",
    "\n",
    "\n",
    "def create_w3c_vc_jwt_for_passport(didkey: DIDKey):\n",
    "    credential_id = \"urn:did:abc\"\n",
    "    credential_type = [\"Passport\"]\n",
    "    credential_context = [\"https://www.w3.org/2018/credentials/v1\"]\n",
    "    credential_schema = [\n",
    "        {\n",
    "            \"id\": \"https://api-conformance.ebsi.eu/trusted-schemas-registry/v2/schemas/z3MgUFUkb722uq4x3dv5yAJmnNmzDFeK5UC8x83QoeLJM\",\n",
    "            \"type\": \"FullJsonSchemaValidator2021\",\n",
    "        }\n",
    "    ]\n",
    "    data_attributes = [\n",
    "        DataAttribute(name=\"section1.name\", value=\"John Doe\"),\n",
    "        DataAttribute(name=\"section1.age\", value=24),\n",
    "        DataAttribute(name=\"section2.address.state\", value=\"KL\"),\n",
    "        DataAttribute(name=\"section2.address.city\", value=\"Kochi\"),\n",
    "    ]\n",
    "\n",
    "    kid = \"did:key:issuer_did#issuer_did\"\n",
    "    jti = credential_id\n",
    "    iss = \"did:key:issuer_did\"\n",
    "    sub = \"did:key:datawallet_did\"\n",
    "    to_be_issued_credential = create_w3c_vc_sd_jwt_for_data_attributes(\n",
    "        credential_id=credential_id,\n",
    "        credential_type=credential_type,\n",
    "        credential_context=credential_context,\n",
    "        data_attributes=data_attributes,\n",
    "        credential_status=None,\n",
    "        terms_of_use=None,\n",
    "        credential_schema=credential_schema,\n",
    "        kid=kid,\n",
    "        jti=jti,\n",
    "        iss=iss,\n",
    "        sub=sub,\n",
    "        key=didkey.private_key,\n",
    "        credential_issuer=didkey.generate()[0],\n",
    "        limited_disclosure=True\n",
    "    )\n",
    "\n",
    "    return to_be_issued_credential\n",
    "\n",
    "async def main():\n",
    "    crypto_seed = \"helloworld\"\n",
    "    key_did = await generate_did_key_from_seed(crypto_seed)\n",
    "    key_did.generate()\n",
    "    cred = create_w3c_vc_jwt_for_passport(didkey=key_did)\n",
    "    print(cred)\n",
    "\n",
    "\n",
    "await main()\n"
   ]
  }
 ],
 "metadata": {
  "kernelspec": {
   "display_name": "ewc-iJxEgl7S-py3.10",
   "language": "python",
   "name": "python3"
  },
  "language_info": {
   "codemirror_mode": {
    "name": "ipython",
    "version": 3
   },
   "file_extension": ".py",
   "mimetype": "text/x-python",
   "name": "python",
   "nbconvert_exporter": "python",
   "pygments_lexer": "ipython3",
   "version": "3.10.12"
  }
 },
 "nbformat": 4,
 "nbformat_minor": 2
}
