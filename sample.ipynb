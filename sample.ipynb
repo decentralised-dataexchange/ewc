{
 "cells": [
  {
   "cell_type": "code",
   "execution_count": 1,
   "metadata": {},
   "outputs": [],
   "source": [
    "import asyncio\n",
    "\n",
    "loop = asyncio.get_event_loop()"
   ]
  },
  {
   "cell_type": "code",
   "execution_count": 2,
   "metadata": {},
   "outputs": [
    {
     "name": "stdout",
     "output_type": "stream",
     "text": [
      "eyJhbGciOiJFUzI1NiIsImtpZCI6ImRpZDprZXk6aXNzdWVyX2RpZCNpc3N1ZXJfZGlkIiwidHlwIjoiSldUIn0.eyJleHAiOjE3MTQ0Nzg0MjIsImlhdCI6MTcxNDQ3NDgyMiwiaXNzIjoiZGlkOmtleTppc3N1ZXJfZGlkIiwianRpIjoidXJuOmRpZDphYmMiLCJuYmYiOjE3MTQ0NzQ4MjIsInN1YiI6ImRpZDprZXk6ZGF0YXdhbGxldF9kaWQiLCJ2YyI6eyJAY29udGV4dCI6WyJodHRwczovL3d3dy53My5vcmcvMjAxOC9jcmVkZW50aWFscy92MSJdLCJjcmVkZW50aWFsU2NoZW1hIjpbeyJpZCI6Imh0dHBzOi8vYXBpLWNvbmZvcm1hbmNlLmVic2kuZXUvdHJ1c3RlZC1zY2hlbWFzLXJlZ2lzdHJ5L3YyL3NjaGVtYXMvejNNZ1VGVWtiNzIydXE0eDNkdjV5QUptbk5tekRGZUs1VUM4eDgzUW9lTEpNIiwidHlwZSI6IkZ1bGxKc29uU2NoZW1hVmFsaWRhdG9yMjAyMSJ9XSwiY3JlZGVudGlhbFN1YmplY3QiOnsiX3NkIjpbInJ5NWZTckVHaGlKaTRSZkEzdGQ5WmZXUE1mendoUGNfNVd4Z2xqTlZ4MjAiLCI1aTJZZ0dDSU5EckE2TVJqRVhxODFYSEJoZ2kxRXgwbnVBcFJBSEZCQXJBIl19LCJleHBpcmF0aW9uRGF0ZSI6IjIwMjQtMDQtMzBUMTI6MDA6MjJaIiwiaWQiOiJ1cm46ZGlkOmFiYyIsImlzc3VhbmNlRGF0ZSI6IjIwMjQtMDQtMzBUMTE6MDA6MjJaIiwiaXNzdWVkIjoiMjAyNC0wNC0zMFQxMTowMDoyMloiLCJpc3N1ZXIiOiJkaWQ6a2V5OnoyalF2SHVzVnZETHA4TGI1V1FuVUVva3R4a0VIZm9RMjkxRVc2WlBrSldHRk04cEc5VTZCZVZFYjNoU3ZrWlFhUVNvQlg4Zm5Tb1hZQTRoQ01OeGRhYmRjQXNaUWNWYnVHRWlIUXdiQXBkS1RoNUNnQVhKZlpKU2s0QVlibnd5TjNCRUhIaUR3UE5uTUczbnNEWE1UUHhZTko3alRCMUpmdVRyczdFUGVLamVYQ2dRR3dDNGl2dldkM2lHRmJyN3RFZUVua05ZOVJ4TUxVU1hCU2hWRkN5bmhzVVFSMUV6SmtUTERWRzZiUm0yeWdnOEZYTlZBakVIaSIsInR5cGUiOlsiUGFzc3BvcnQiXSwidmFsaWRGcm9tIjoiMjAyNC0wNC0zMFQxMTowMDoyMloifX0.OoPIsFLHsSfHCrf_fD03R6j7vOu4f83ifREF4v24v85yodIaWkdrQuz5ka2Dfdnkvg_oEUvzQEXtYvNkBcRwmQ~WyI0YTJmNTU3NWJjMDk5MzliNjk5NjFiOGFmZDY3M2NjMzM0MmZhYzZjOWI4YWM5ZWM2Njc4MjVlMzlkYjQ1NGQxIiwic2VjdGlvbjEiLHsibmFtZSI6IkpvaG4gRG9lIiwiYWdlIjoyNH1d~WyI3MjQxNzhhNThiMTU3YmEwOGFmZDIxMTEyNWE3YWNhNGFiODRiYTJmNWEyMGM0YjJjZjE2MDE5NzYwMmQwMWRmIiwic2VjdGlvbjIiLHsiYWRkcmVzcyI6eyJzdGF0ZSI6IktMIiwiY2l0eSI6IktvY2hpIn19XQ\n"
     ]
    }
   ],
   "source": [
    "import unittest\n",
    "from unittest import IsolatedAsyncioTestCase\n",
    "from sdjwt.sdjwt import (\n",
    "    generate_did_key_from_seed,\n",
    "    create_w3c_vc_sd_jwt_for_data_attributes,\n",
    ")\n",
    "from sdjwt.didkey import DIDKey\n",
    "from sdjwt.adapter import DataAttribute, DataAttributesAdapter\n",
    "\n",
    "\n",
    "\n",
    "\n",
    "\n",
    "def create_w3c_vc_jwt_for_passport(didkey: DIDKey):\n",
    "    credential_id = \"urn:did:abc\"\n",
    "    credential_type = [\"Passport\"]\n",
    "    credential_context = [\"https://www.w3.org/2018/credentials/v1\"]\n",
    "    credential_schema = [\n",
    "        {\n",
    "            \"id\": \"https://api-conformance.ebsi.eu/trusted-schemas-registry/v2/schemas/z3MgUFUkb722uq4x3dv5yAJmnNmzDFeK5UC8x83QoeLJM\",\n",
    "            \"type\": \"FullJsonSchemaValidator2021\",\n",
    "        }\n",
    "    ]\n",
    "    data_attributes = [\n",
    "        DataAttribute(name=\"section1.name\", value=\"John Doe\"),\n",
    "        DataAttribute(name=\"section1.age\", value=24),\n",
    "        DataAttribute(name=\"section2.address.state\", value=\"KL\"),\n",
    "        DataAttribute(name=\"section2.address.city\", value=\"Kochi\"),\n",
    "    ]\n",
    "\n",
    "    kid = \"did:key:issuer_did#issuer_did\"\n",
    "    jti = credential_id\n",
    "    iss = \"did:key:issuer_did\"\n",
    "    sub = \"did:key:datawallet_did\"\n",
    "    to_be_issued_credential = create_w3c_vc_sd_jwt_for_data_attributes(\n",
    "        credential_id=credential_id,\n",
    "        credential_type=credential_type,\n",
    "        credential_context=credential_context,\n",
    "        data_attributes=data_attributes,\n",
    "        credential_status=None,\n",
    "        terms_of_use=None,\n",
    "        credential_schema=credential_schema,\n",
    "        kid=kid,\n",
    "        jti=jti,\n",
    "        iss=iss,\n",
    "        sub=sub,\n",
    "        key=didkey.private_key,\n",
    "        credential_issuer=didkey.generate()[0],\n",
    "        limited_disclosure=True\n",
    "    )\n",
    "\n",
    "    return to_be_issued_credential\n",
    "\n",
    "async def main():\n",
    "    crypto_seed = \"helloworld\"\n",
    "    key_did = await generate_did_key_from_seed(crypto_seed)\n",
    "    key_did.generate()\n",
    "    cred = create_w3c_vc_jwt_for_passport(didkey=key_did)\n",
    "    print(cred)\n",
    "\n",
    "\n",
    "await main()\n"
   ]
  },
  {
   "cell_type": "code",
   "execution_count": 3,
   "metadata": {},
   "outputs": [
    {
     "name": "stdout",
     "output_type": "stream",
     "text": [
      "{'credentialSubject': {'Vehicle identifier': '1111', 'section1': {'address': {'_sd': []}, 'occupation': {'_sd': []}}, 'section2': {'nestedfield': [{'value': 'True'}, {'value': 'True'}]}}, 'type': ['VerifiableCredential', 'ParkingTicket']}\n"
     ]
    }
   ],
   "source": [
    "def update_credential(credential, disclosure_mapping):\n",
    "    def update_value(obj, path):\n",
    "        for key in path[:-1]:\n",
    "            obj = obj.setdefault(key, {})\n",
    "        obj[path[-1]] = {\"_sd\": []}\n",
    "\n",
    "    def iterate_mapping(obj, path):\n",
    "        for key, value in obj.items():\n",
    "            if isinstance(value, dict):\n",
    "                new_path = path + [key]\n",
    "                if \"limitedDisclosure\" in value and value[\"limitedDisclosure\"]:\n",
    "                    update_value(credential, new_path)\n",
    "                iterate_mapping(value, new_path)\n",
    "\n",
    "    iterate_mapping(disclosure_mapping, [])\n",
    "\n",
    "\n",
    "credential = {\n",
    "    \"credentialSubject\": {\n",
    "        \"Vehicle identifier\": \"1111\",\n",
    "        \"section1\": {\"address\": {\"city\": \"\"}, \"occupation\": \"\"},\n",
    "        \"section2\": {\n",
    "            \"nestedfield\": [\n",
    "                {\"value\": \"True\"},\n",
    "                {\"value\": \"True\"},\n",
    "            ]\n",
    "        },\n",
    "    },\n",
    "    \"type\": [\"VerifiableCredential\", \"ParkingTicket\"],\n",
    "}\n",
    "\n",
    "disclosure_mapping = {\n",
    "    \"credentialSubject\": {\n",
    "        \"section1\": {\n",
    "            \"address\": {\"limitedDisclosure\": True},\n",
    "            \"occupation\": {\"limitedDisclosure\": True},\n",
    "        },\n",
    "    }\n",
    "}\n",
    "\n",
    "update_credential(credential, disclosure_mapping)\n",
    "print(credential)"
   ]
  },
  {
   "cell_type": "code",
   "execution_count": 2,
   "metadata": {},
   "outputs": [
    {
     "name": "stdout",
     "output_type": "stream",
     "text": [
      "eyJhbGciOiJFUzI1NiIsImtpZCI6ImRpZDprZXk6aXNzdWVyX2RpZCNpc3N1ZXJfZGlkIiwidHlwIjoiSldUIn0.eyJleHAiOjE3MTQ1Njc2NjcsImlhdCI6MTcxNDU2NDA2NywiaXNzIjoiZGlkOmtleTppc3N1ZXJfZGlkIiwianRpIjoidXJuOmRpZDphYmMiLCJuYmYiOjE3MTQ1NjQwNjcsInN1YiI6ImRpZDprZXk6ZGF0YXdhbGxldF9kaWQiLCJ2YyI6eyJAY29udGV4dCI6WyJodHRwczovL3d3dy53My5vcmcvMjAxOC9jcmVkZW50aWFscy92MSJdLCJjcmVkZW50aWFsU2NoZW1hIjpbeyJpZCI6Imh0dHBzOi8vYXBpLWNvbmZvcm1hbmNlLmVic2kuZXUvdHJ1c3RlZC1zY2hlbWFzLXJlZ2lzdHJ5L3YyL3NjaGVtYXMvejNNZ1VGVWtiNzIydXE0eDNkdjV5QUptbk5tekRGZUs1VUM4eDgzUW9lTEpNIiwidHlwZSI6IkZ1bGxKc29uU2NoZW1hVmFsaWRhdG9yMjAyMSJ9XSwiY3JlZGVudGlhbFN1YmplY3QiOnsiX3NkIjpbImY2TGxsVGJSdENUeEVrVnpmd3pTYzZlVTU0WXN0d1A0NTN2UHhSc2hrVFkiLCJGY2g3VkpBT1M0YVowaTh4ZV9vUWppU0MzUy1RUTljX3BBRGxtOU05UWFNIl0sImFkZHJlc3MiOnsiY291bnRyeUNvZGUiOiJTRSIsInBvc3RDb2RlIjoiNDE4IDc4Iiwic3RyZWV0Tm8iOiJHdW5uYXIgRW5nZWxsYXVzIHZhZyA4LCA5MSAxQiIsInRvd24iOiJTdG9ja2hvbG0ifX0sImV4cGlyYXRpb25EYXRlIjoiMjAyNC0wNS0wMVQxMjo0Nzo0N1oiLCJpZCI6InVybjpkaWQ6YWJjIiwiaXNzdWFuY2VEYXRlIjoiMjAyNC0wNS0wMVQxMTo0Nzo0N1oiLCJpc3N1ZWQiOiIyMDI0LTA1LTAxVDExOjQ3OjQ3WiIsImlzc3VlciI6ImRpZDprZXk6ejJqUXZIdXNWdkRMcDhMYjVXUW5VRW9rdHhrRUhmb1EyOTFFVzZaUGtKV0dGTThwRzlVNkJlVkViM2hTdmtaUWFRU29CWDhmblNvWFlBNGhDTU54ZGFiZGNBc1pRY1ZidUdFaUhRd2JBcGRLVGg1Q2dBWEpmWkpTazRBWWJud3lOM0JFSEhpRHdQTm5NRzNuc0RYTVRQeFlOSjdqVEIxSmZ1VHJzN0VQZUtqZVhDZ1FHd0M0aXZ2V2QzaUdGYnI3dEVlRW5rTlk5UnhNTFVTWEJTaFZGQ3luaHNVUVIxRXpKa1RMRFZHNmJSbTJ5Z2c4RlhOVkFqRUhpIiwidHlwZSI6WyJEcml2aW5nTGljZW5zZSJdLCJ2YWxpZEZyb20iOiIyMDI0LTA1LTAxVDExOjQ3OjQ3WiJ9fQ.FNzLdkHMA-YCWmTGh1DJkW6fSm3JRH4IivQ42hsa0GBzks99SNyFPuNaTdB09z3stJ17RnBY5mNccpQxmuhD6w~WyIxYTRlNjZjOGVhZjQyNjQ4YjVlNmEyNDU1ZDI4NTQ0ZjA2YjZjMjc3MWQyNmEzZDhlOWJkODg1MjE1MDJlYzA2IiwibmFtZSIsIkphbmUgRG9lIl0~WyIxYzQ5N2E1YmVlYjQ3ODViMTBjNTQzZDc3NWUxYWM3YWU5MGUyNWJiOTk1OTllMWExZTJiMDg4NzRiZTNhM2M2IiwiVmVoaWNsZSBudW1iZXIiLCI4NzY5OCJd\n"
     ]
    }
   ],
   "source": [
    "from sdjwt.sdjwt import (\n",
    "    generate_did_key_from_seed,\n",
    "    create_w3c_vc_jwt_with_disclosure_mapping,\n",
    ")\n",
    "from sdjwt.didkey import DIDKey\n",
    "\n",
    "\n",
    "def create_w3c_vc_jwt_for_driving_license(didkey: DIDKey):\n",
    "    credential_id = \"urn:did:abc\"\n",
    "    credential_type = [\"DrivingLicense\"]\n",
    "    credential_context = [\"https://www.w3.org/2018/credentials/v1\"]\n",
    "    credential_schema = [\n",
    "        {\n",
    "            \"id\": \"https://api-conformance.ebsi.eu/trusted-schemas-registry/v2/schemas/z3MgUFUkb722uq4x3dv5yAJmnNmzDFeK5UC8x83QoeLJM\",\n",
    "            \"type\": \"FullJsonSchemaValidator2021\",\n",
    "        }\n",
    "    ]\n",
    "    credential_subject = {\n",
    "        \"credentialSubject\": {\n",
    "            \"name\": \"Jane Doe\",\n",
    "            \"Vehicle number\": \"87698\",\n",
    "            \"address\": {\n",
    "                \"countryCode\": \"SE\",\n",
    "                \"postCode\": \"418 78\",\n",
    "                \"streetNo\": \"Gunnar Engellaus vag 8, 91 1B\",\n",
    "                \"town\": \"Stockholm\",\n",
    "            },\n",
    "        }\n",
    "    }\n",
    "\n",
    "    disclosure_mapping = {\n",
    "        \"credentialSubject\": {\n",
    "            \"name\": {\"limitedDisclosure\": True},\n",
    "            \"Vehicle number\": {\"limitedDisclosure\": True},\n",
    "        }\n",
    "    }\n",
    "    kid = \"did:key:issuer_did#issuer_did\"\n",
    "    jti = credential_id\n",
    "    iss = \"did:key:issuer_did\"\n",
    "    sub = \"did:key:datawallet_did\"\n",
    "    to_be_issued_credential = create_w3c_vc_jwt_with_disclosure_mapping(\n",
    "        credential_id=credential_id,\n",
    "        credential_type=credential_type,\n",
    "        credential_context=credential_context,\n",
    "        credential_subject=credential_subject,\n",
    "        credential_status=None,\n",
    "        terms_of_use=None,\n",
    "        credential_schema=credential_schema,\n",
    "        kid=kid,\n",
    "        jti=jti,\n",
    "        iss=iss,\n",
    "        sub=sub,\n",
    "        key=didkey.private_key,\n",
    "        credential_issuer=didkey.generate()[0],\n",
    "        disclosure_mapping=disclosure_mapping,\n",
    "    )\n",
    "\n",
    "    return to_be_issued_credential\n",
    "\n",
    "\n",
    "async def main():\n",
    "    crypto_seed = \"helloworld\"\n",
    "    key_did = await generate_did_key_from_seed(crypto_seed)\n",
    "    key_did.generate()\n",
    "    cred = create_w3c_vc_jwt_for_driving_license(didkey=key_did)\n",
    "    print(cred)\n",
    "    # for disclosure in cred.split(\"~\")[1:]:\n",
    "    #     print(disclosure)\n",
    "\n",
    "\n",
    "await main()"
   ]
  },
  {
   "cell_type": "code",
   "execution_count": 2,
   "metadata": {},
   "outputs": [
    {
     "name": "stdout",
     "output_type": "stream",
     "text": [
      "id='67341729-cb5a-4d2c-a7e0-9e3472c203b9' input_descriptors=[InputDescriptor(id='430b7182-a237-4cb1-8d84-5163cafbfd36', name=None, purpose=None, constraints={'fields': [Field(id=None, optional=None, path=['$.type'], purpose=None, name=None, intent_to_retain=None, filter={'type': 'array', 'contains': {'const': 'VerifiablePortableDocumentA1'}})]})] format={'jwt_vc': {'alg': ['ES256']}, 'jwt_vp': {'alg': ['ES256']}}\n",
      "presentation_submission=PresentationSubmission(id='f7a98fa3-23b8-4d01-a656-b7f9f95ee470', definition_id='841fd89b-f987-4052-88fc-30affccfd99c', descriptor_map=[Descriptor(id='2cfa0952-76ae-4172-a1c1-d223a8c00ce8', path='$', path_nested={'format': 'vc+sd-jwt', 'id': '2cfa0952-76ae-4172-a1c1-d223a8c00ce8', 'path': '$.verifiableCredential[0]'}, format='vc+sd-jwt')])\n"
     ]
    }
   ],
   "source": [
    "from sdjwt.pex import (\n",
    "    validate_and_deserialise_presentation_definition,\n",
    "    validate_and_deserialise_presentation_submission,\n",
    ")\n",
    "\n",
    "\n",
    "pd = validate_and_deserialise_presentation_definition(\n",
    "    presentation_definition={\n",
    "        \"id\": \"67341729-cb5a-4d2c-a7e0-9e3472c203b9\",\n",
    "        \"format\": {\"jwt_vc\": {\"alg\": [\"ES256\"]}, \"jwt_vp\": {\"alg\": [\"ES256\"]}},\n",
    "        \"input_descriptors\": [\n",
    "            {\n",
    "                \"id\": \"430b7182-a237-4cb1-8d84-5163cafbfd36\",\n",
    "                \"constraints\": {\n",
    "                    \"fields\": [\n",
    "                        {\n",
    "                            \"path\": [\"$.type\"],\n",
    "                            \"filter\": {\n",
    "                                \"type\": \"array\",\n",
    "                                \"contains\": {\"const\": \"VerifiablePortableDocumentA1\"},\n",
    "                            },\n",
    "                        }\n",
    "                    ]\n",
    "                },\n",
    "            }\n",
    "        ],\n",
    "    }\n",
    ")\n",
    "print(pd)\n",
    "\n",
    "ps = validate_and_deserialise_presentation_submission(\n",
    "    presentation_submission={\n",
    "        \"presentation_submission\": {\n",
    "            \"definition_id\": \"841fd89b-f987-4052-88fc-30affccfd99c\",\n",
    "            \"descriptor_map\": [\n",
    "                {\n",
    "                    \"format\": \"vc+sd-jwt\",\n",
    "                    \"id\": \"2cfa0952-76ae-4172-a1c1-d223a8c00ce8\",\n",
    "                    \"path\": \"$\",\n",
    "                    \"path_nested\": {\n",
    "                        \"format\": \"vc+sd-jwt\",\n",
    "                        \"id\": \"2cfa0952-76ae-4172-a1c1-d223a8c00ce8\",\n",
    "                        \"path\": \"$.verifiableCredential[0]\",\n",
    "                    },\n",
    "                }\n",
    "            ],\n",
    "            \"id\": \"f7a98fa3-23b8-4d01-a656-b7f9f95ee470\",\n",
    "        }\n",
    "    }\n",
    ")\n",
    "print(ps)"
   ]
  },
  {
   "cell_type": "code",
   "execution_count": 1,
   "metadata": {},
   "outputs": [
    {
     "ename": "VpTokenExpiredError",
     "evalue": "VP token expired",
     "output_type": "error",
     "traceback": [
      "\u001b[0;31m---------------------------------------------------------------------------\u001b[0m",
      "\u001b[0;31mJWTExpired\u001b[0m                                Traceback (most recent call last)",
      "File \u001b[0;32m~/decentralised-dataexchange/sd-jwt-playground/sdjwt/pex.py:279\u001b[0m, in \u001b[0;36mverify_vp_token\u001b[0;34m(vp_token)\u001b[0m\n\u001b[1;32m    278\u001b[0m \u001b[38;5;28;01mtry\u001b[39;00m:\n\u001b[0;32m--> 279\u001b[0m     _ \u001b[38;5;241m=\u001b[39m \u001b[43mjwt\u001b[49m\u001b[38;5;241;43m.\u001b[39;49m\u001b[43mJWT\u001b[49m\u001b[43m(\u001b[49m\u001b[43mkey\u001b[49m\u001b[38;5;241;43m=\u001b[39;49m\u001b[43mkey\u001b[49m\u001b[43m,\u001b[49m\u001b[43m \u001b[49m\u001b[43mjwt\u001b[49m\u001b[38;5;241;43m=\u001b[39;49m\u001b[43mvp_token\u001b[49m\u001b[43m)\u001b[49m\n\u001b[1;32m    280\u001b[0m \u001b[38;5;28;01mexcept\u001b[39;00m jwt\u001b[38;5;241m.\u001b[39mJWTExpired:\n",
      "File \u001b[0;32m~/.cache/pypoetry/virtualenvs/ewc-iJxEgl7S-py3.10/lib/python3.10/site-packages/jwcrypto/jwt.py:231\u001b[0m, in \u001b[0;36mJWT.__init__\u001b[0;34m(self, header, claims, jwt, key, algs, default_claims, check_claims, expected_type)\u001b[0m\n\u001b[1;32m    230\u001b[0m \u001b[38;5;28;01mif\u001b[39;00m jwt \u001b[38;5;129;01mis\u001b[39;00m \u001b[38;5;129;01mnot\u001b[39;00m \u001b[38;5;28;01mNone\u001b[39;00m:\n\u001b[0;32m--> 231\u001b[0m     \u001b[38;5;28;43mself\u001b[39;49m\u001b[38;5;241;43m.\u001b[39;49m\u001b[43mdeserialize\u001b[49m\u001b[43m(\u001b[49m\u001b[43mjwt\u001b[49m\u001b[43m,\u001b[49m\u001b[43m \u001b[49m\u001b[43mkey\u001b[49m\u001b[43m)\u001b[49m\n",
      "File \u001b[0;32m~/.cache/pypoetry/virtualenvs/ewc-iJxEgl7S-py3.10/lib/python3.10/site-packages/jwcrypto/jwt.py:681\u001b[0m, in \u001b[0;36mJWT.deserialize\u001b[0;34m(self, jwt, key)\u001b[0m\n\u001b[1;32m    680\u001b[0m \u001b[38;5;28;01mif\u001b[39;00m key:\n\u001b[0;32m--> 681\u001b[0m     \u001b[38;5;28;43mself\u001b[39;49m\u001b[38;5;241;43m.\u001b[39;49m\u001b[43mvalidate\u001b[49m\u001b[43m(\u001b[49m\u001b[43mkey\u001b[49m\u001b[43m)\u001b[49m\n",
      "File \u001b[0;32m~/.cache/pypoetry/virtualenvs/ewc-iJxEgl7S-py3.10/lib/python3.10/site-packages/jwcrypto/jwt.py:651\u001b[0m, in \u001b[0;36mJWT.validate\u001b[0;34m(self, key)\u001b[0m\n\u001b[1;32m    650\u001b[0m \u001b[38;5;28mself\u001b[39m\u001b[38;5;241m.\u001b[39mclaims \u001b[38;5;241m=\u001b[39m payload\n\u001b[0;32m--> 651\u001b[0m \u001b[38;5;28;43mself\u001b[39;49m\u001b[38;5;241;43m.\u001b[39;49m\u001b[43m_check_provided_claims\u001b[49m\u001b[43m(\u001b[49m\u001b[43m)\u001b[49m\n",
      "File \u001b[0;32m~/.cache/pypoetry/virtualenvs/ewc-iJxEgl7S-py3.10/lib/python3.10/site-packages/jwcrypto/jwt.py:504\u001b[0m, in \u001b[0;36mJWT._check_provided_claims\u001b[0;34m(self)\u001b[0m\n\u001b[1;32m    502\u001b[0m     \u001b[38;5;28;01mreturn\u001b[39;00m\n\u001b[0;32m--> 504\u001b[0m \u001b[38;5;28;43mself\u001b[39;49m\u001b[38;5;241;43m.\u001b[39;49m\u001b[43m_check_default_claims\u001b[49m\u001b[43m(\u001b[49m\u001b[43mclaims\u001b[49m\u001b[43m)\u001b[49m\n\u001b[1;32m    506\u001b[0m \u001b[38;5;28;01mif\u001b[39;00m \u001b[38;5;28mself\u001b[39m\u001b[38;5;241m.\u001b[39m_check_claims \u001b[38;5;129;01mis\u001b[39;00m \u001b[38;5;28;01mNone\u001b[39;00m:\n",
      "File \u001b[0;32m~/.cache/pypoetry/virtualenvs/ewc-iJxEgl7S-py3.10/lib/python3.10/site-packages/jwcrypto/jwt.py:474\u001b[0m, in \u001b[0;36mJWT._check_default_claims\u001b[0;34m(self, claims)\u001b[0m\n\u001b[1;32m    473\u001b[0m \u001b[38;5;28;01mif\u001b[39;00m \u001b[38;5;124m'\u001b[39m\u001b[38;5;124mexp\u001b[39m\u001b[38;5;124m'\u001b[39m \u001b[38;5;129;01min\u001b[39;00m claims:\n\u001b[0;32m--> 474\u001b[0m     \u001b[38;5;28;43mself\u001b[39;49m\u001b[38;5;241;43m.\u001b[39;49m\u001b[43m_check_exp\u001b[49m\u001b[43m(\u001b[49m\u001b[43mclaims\u001b[49m\u001b[43m[\u001b[49m\u001b[38;5;124;43m'\u001b[39;49m\u001b[38;5;124;43mexp\u001b[39;49m\u001b[38;5;124;43m'\u001b[39;49m\u001b[43m]\u001b[49m\u001b[43m,\u001b[49m\u001b[43m \u001b[49m\u001b[43mtime\u001b[49m\u001b[38;5;241;43m.\u001b[39;49m\u001b[43mtime\u001b[49m\u001b[43m(\u001b[49m\u001b[43m)\u001b[49m\u001b[43m,\u001b[49m\u001b[43m \u001b[49m\u001b[38;5;28;43mself\u001b[39;49m\u001b[38;5;241;43m.\u001b[39;49m\u001b[43m_leeway\u001b[49m\u001b[43m)\u001b[49m\n\u001b[1;32m    475\u001b[0m \u001b[38;5;28;01mif\u001b[39;00m \u001b[38;5;124m'\u001b[39m\u001b[38;5;124mnbf\u001b[39m\u001b[38;5;124m'\u001b[39m \u001b[38;5;129;01min\u001b[39;00m claims:\n",
      "File \u001b[0;32m~/.cache/pypoetry/virtualenvs/ewc-iJxEgl7S-py3.10/lib/python3.10/site-packages/jwcrypto/jwt.py:454\u001b[0m, in \u001b[0;36mJWT._check_exp\u001b[0;34m(self, claim, limit, leeway)\u001b[0m\n\u001b[1;32m    453\u001b[0m \u001b[38;5;28;01mif\u001b[39;00m claim \u001b[38;5;241m<\u001b[39m limit \u001b[38;5;241m-\u001b[39m leeway:\n\u001b[0;32m--> 454\u001b[0m     \u001b[38;5;28;01mraise\u001b[39;00m JWTExpired(\u001b[38;5;124m'\u001b[39m\u001b[38;5;124mExpired at \u001b[39m\u001b[38;5;132;01m%d\u001b[39;00m\u001b[38;5;124m, time: \u001b[39m\u001b[38;5;132;01m%d\u001b[39;00m\u001b[38;5;124m(leeway: \u001b[39m\u001b[38;5;132;01m%d\u001b[39;00m\u001b[38;5;124m)\u001b[39m\u001b[38;5;124m'\u001b[39m \u001b[38;5;241m%\u001b[39m (\n\u001b[1;32m    455\u001b[0m                      claim, limit, leeway))\n",
      "\u001b[0;31mJWTExpired\u001b[0m: Expired at 1714497561, time: 1714500957(leeway: 60)",
      "\nDuring handling of the above exception, another exception occurred:\n",
      "\u001b[0;31mVpTokenExpiredError\u001b[0m                       Traceback (most recent call last)",
      "Cell \u001b[0;32mIn[1], line 4\u001b[0m\n\u001b[1;32m      1\u001b[0m \u001b[38;5;28;01mfrom\u001b[39;00m \u001b[38;5;21;01msdjwt\u001b[39;00m\u001b[38;5;21;01m.\u001b[39;00m\u001b[38;5;21;01mpex\u001b[39;00m \u001b[38;5;28;01mimport\u001b[39;00m validate_vp_token_against_presentation_submission_and_presentation_definition\n\u001b[1;32m      3\u001b[0m vp_token \u001b[38;5;241m=\u001b[39m \u001b[38;5;124m\"\u001b[39m\u001b[38;5;124meyJraWQiOiJkaWQ6a2V5OnoyZG16RDgxY2dQeDhWa2k3SmJ1dU1tRllyV1BnWW95dHlrVVozZXlxaHQxajlLYnNLM0dkaHk3NWJ1eWtBVDlNSEc4S2NENEVUZUNQdGhhNVBtc1BmS3lZekZuM3loS0pBR1VFNHNKcE5KM0NtWW55SFRLZEFmYlZZdENqMk04ZGJmRm4xaVRSVk5xWXlRSlBTdFRGbzdUcGk0UEZXcEV4dnVaWWRNTERqMlh4V29IZzgjejJkbXpEODFjZ1B4OFZraTdKYnV1TW1GWXJXUGdZb3l0eWtVWjNleXFodDFqOUtic0szR2RoeTc1YnV5a0FUOU1IRzhLY0Q0RVRlQ1B0aGE1UG1zUGZLeVl6Rm4zeWhLSkFHVUU0c0pwTkozQ21ZbnlIVEtkQWZiVll0Q2oyTThkYmZGbjFpVFJWTnFZeVFKUFN0VEZvN1RwaTRQRldwRXh2dVpZZE1MRGoyWHhXb0hnOCIsInR5cCI6IkpXVCIsImFsZyI6IkVTMjU2IiwiandrIjp7Imt0eSI6IkVDIiwiY3J2IjoiUC0yNTYiLCJ4Ijoib2VUUXNkVHByNy1yYTdrcEh2N2pPV1M2V19kdFFTTGlYN0VYbU1CVzJRRSIsInkiOiJJRUoyT3FXMW41SFdBVmJkaHlvT1k5alJpaXB0MVo5THZfamtHRVk5RW9NIn19.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.Ec0lfUv60aBZF1Ei_yXBwd1dcFEqOPnxqYzw5h73RsSJYipao6uosLMTcyLEMGAy4fJykd_q65nJURiHXSHQ-g\u001b[39m\u001b[38;5;124m\"\u001b[39m\n\u001b[0;32m----> 4\u001b[0m \u001b[43mvalidate_vp_token_against_presentation_submission_and_presentation_definition\u001b[49m\u001b[43m(\u001b[49m\u001b[43mvp_token\u001b[49m\u001b[43m)\u001b[49m\n",
      "File \u001b[0;32m~/decentralised-dataexchange/sd-jwt-playground/sdjwt/pex.py:297\u001b[0m, in \u001b[0;36mvalidate_vp_token_against_presentation_submission_and_presentation_definition\u001b[0;34m(vp_token, presentation_definition, presentation_submission)\u001b[0m\n\u001b[1;32m    293\u001b[0m \u001b[38;5;28;01mif\u001b[39;00m presentation_submission:\n\u001b[1;32m    294\u001b[0m     ps \u001b[38;5;241m=\u001b[39m validate_and_deserialise_presentation_submission(\n\u001b[1;32m    295\u001b[0m         presentation_submission\u001b[38;5;241m=\u001b[39mpresentation_submission\n\u001b[1;32m    296\u001b[0m     )\n\u001b[0;32m--> 297\u001b[0m \u001b[43mverify_vp_token\u001b[49m\u001b[43m(\u001b[49m\u001b[43mvp_token\u001b[49m\u001b[38;5;241;43m=\u001b[39;49m\u001b[43mvp_token\u001b[49m\u001b[43m)\u001b[49m\n",
      "File \u001b[0;32m~/decentralised-dataexchange/sd-jwt-playground/sdjwt/pex.py:281\u001b[0m, in \u001b[0;36mverify_vp_token\u001b[0;34m(vp_token)\u001b[0m\n\u001b[1;32m    279\u001b[0m     _ \u001b[38;5;241m=\u001b[39m jwt\u001b[38;5;241m.\u001b[39mJWT(key\u001b[38;5;241m=\u001b[39mkey, jwt\u001b[38;5;241m=\u001b[39mvp_token)\n\u001b[1;32m    280\u001b[0m \u001b[38;5;28;01mexcept\u001b[39;00m jwt\u001b[38;5;241m.\u001b[39mJWTExpired:\n\u001b[0;32m--> 281\u001b[0m     \u001b[38;5;28;01mraise\u001b[39;00m VpTokenExpiredError(\u001b[38;5;124m\"\u001b[39m\u001b[38;5;124mVP token expired\u001b[39m\u001b[38;5;124m\"\u001b[39m)\n",
      "\u001b[0;31mVpTokenExpiredError\u001b[0m: VP token expired"
     ]
    }
   ],
   "source": [
    "from sdjwt.pex import validate_vp_token_against_presentation_submission_and_presentation_definition\n",
    "\n",
    "vp_token = \"eyJraWQiOiJkaWQ6a2V5OnoyZG16RDgxY2dQeDhWa2k3SmJ1dU1tRllyV1BnWW95dHlrVVozZXlxaHQxajlLYnNLM0dkaHk3NWJ1eWtBVDlNSEc4S2NENEVUZUNQdGhhNVBtc1BmS3lZekZuM3loS0pBR1VFNHNKcE5KM0NtWW55SFRLZEFmYlZZdENqMk04ZGJmRm4xaVRSVk5xWXlRSlBTdFRGbzdUcGk0UEZXcEV4dnVaWWRNTERqMlh4V29IZzgjejJkbXpEODFjZ1B4OFZraTdKYnV1TW1GWXJXUGdZb3l0eWtVWjNleXFodDFqOUtic0szR2RoeTc1YnV5a0FUOU1IRzhLY0Q0RVRlQ1B0aGE1UG1zUGZLeVl6Rm4zeWhLSkFHVUU0c0pwTkozQ21ZbnlIVEtkQWZiVll0Q2oyTThkYmZGbjFpVFJWTnFZeVFKUFN0VEZvN1RwaTRQRldwRXh2dVpZZE1MRGoyWHhXb0hnOCIsInR5cCI6IkpXVCIsImFsZyI6IkVTMjU2IiwiandrIjp7Imt0eSI6IkVDIiwiY3J2IjoiUC0yNTYiLCJ4Ijoib2VUUXNkVHByNy1yYTdrcEh2N2pPV1M2V19kdFFTTGlYN0VYbU1CVzJRRSIsInkiOiJJRUoyT3FXMW41SFdBVmJkaHlvT1k5alJpaXB0MVo5THZfamtHRVk5RW9NIn19.eyJhdWQiOiJodHRwczpcL1wvc3dlZGVuLWV1ZGktd2FsbGV0LmlncmFudC5pbyIsInN1YiI6ImRpZDprZXk6ejJkbXpEODFjZ1B4OFZraTdKYnV1TW1GWXJXUGdZb3l0eWtVWjNleXFodDFqOUtic0szR2RoeTc1YnV5a0FUOU1IRzhLY0Q0RVRlQ1B0aGE1UG1zUGZLeVl6Rm4zeWhLSkFHVUU0c0pwTkozQ21ZbnlIVEtkQWZiVll0Q2oyTThkYmZGbjFpVFJWTnFZeVFKUFN0VEZvN1RwaTRQRldwRXh2dVpZZE1MRGoyWHhXb0hnOCIsIm5iZiI6MTcxNDQ5Njk2MSwiaXNzIjoiZGlkOmtleTp6MmRtekQ4MWNnUHg4VmtpN0pidXVNbUZZcldQZ1lveXR5a1VaM2V5cWh0MWo5S2JzSzNHZGh5NzVidXlrQVQ5TUhHOEtjRDRFVGVDUHRoYTVQbXNQZkt5WXpGbjN5aEtKQUdVRTRzSnBOSjNDbVlueUhUS2RBZmJWWXRDajJNOGRiZkZuMWlUUlZOcVl5UUpQU3RURm83VHBpNFBGV3BFeHZ1WllkTUxEajJYeFdvSGc4IiwidnAiOnsiaG9sZGVyIjoiZGlkOmtleTp6MmRtekQ4MWNnUHg4VmtpN0pidXVNbUZZcldQZ1lveXR5a1VaM2V5cWh0MWo5S2JzSzNHZGh5NzVidXlrQVQ5TUhHOEtjRDRFVGVDUHRoYTVQbXNQZkt5WXpGbjN5aEtKQUdVRTRzSnBOSjNDbVlueUhUS2RBZmJWWXRDajJNOGRiZkZuMWlUUlZOcVl5UUpQU3RURm83VHBpNFBGV3BFeHZ1WllkTUxEajJYeFdvSGc4IiwiaWQiOiJ1cm46dXVpZDphMzYwZDNjMS0xZjFhLTRmNTUtYTQ1Mi00OTcwOWJiNjU0NTQiLCJ0eXBlIjpbIlZlcmlmaWFibGVQcmVzZW50YXRpb24iXSwiQGNvbnRleHQiOlsiaHR0cHM6XC9cL3d3dy53My5vcmdcLzIwMThcL2NyZWRlbnRpYWxzXC92MSJdLCJ2ZXJpZmlhYmxlQ3JlZGVudGlhbCI6WyJleUpoYkdjaU9pSkZVekkxTmlJc0ltdHBaQ0k2SW1ScFpEcHJaWGs2ZWpKa2JYcEVPREZqWjFCNE9GWnJhVGRLWW5WMVRXMUdXWEpYVUdkWmIzbDBlV3RWV2pObGVYRm9kREZxT1V0aWMyTllZVEYxUjI5bGJubG1iVlY1V1V0a1RWQldRMmRDVWtwQmQwVkdhVWd5UTFscWRIbG1abXRNVERGelpGTlRXbTVRY2twdGIwZE9abTE2UzFoR04yMDJTMEZ4TVZkalpYVkxVbFpUU2tWeGNYVnZRa2g2UVdWcFptMXpUVzFHZG1GSWFWVmFjRWh5Um1ab2EyaHplR1puVWxabmNXUlNkamwzYVdFM1pEVlpPQ042TW1SdGVrUTRNV05uVUhnNFZtdHBOMHBpZFhWTmJVWlpjbGRRWjFsdmVYUjVhMVZhTTJWNWNXaDBNV281UzJKelkxaGhNWFZIYjJWdWVXWnRWWGxaUzJSTlVGWkRaMEpTU2tGM1JVWnBTREpEV1dwMGVXWm1hMHhNTVhOa1UxTmFibEJ5U20xdlIwNW1iWHBMV0VZM2JUWkxRWEV4VjJObGRVdFNWbE5LUlhGeGRXOUNTSHBCWldsbWJYTk5iVVoyWVVocFZWcHdTSEpHWm1ocmFITjRabWRTVm1keFpGSjJPWGRwWVRka05WazRJaXdpZEhsd0lqb2lTbGRVSW4wLmV5SmxlSEFpT2pFM01UUTFNREExTkRVc0ltbGhkQ0k2TVRjeE5EUTVOamswTlN3aWFYTnpJam9pWkdsa09tdGxlVHA2TW1SdGVrUTRNV05uVUhnNFZtdHBOMHBpZFhWTmJVWlpjbGRRWjFsdmVYUjVhMVZhTTJWNWNXaDBNV281UzJKelkxaGhNWFZIYjJWdWVXWnRWWGxaUzJSTlVGWkRaMEpTU2tGM1JVWnBTREpEV1dwMGVXWm1hMHhNTVhOa1UxTmFibEJ5U20xdlIwNW1iWHBMV0VZM2JUWkxRWEV4VjJObGRVdFNWbE5LUlhGeGRXOUNTSHBCWldsbWJYTk5iVVoyWVVocFZWcHdTSEpHWm1ocmFITjRabWRTVm1keFpGSjJPWGRwWVRka05WazRJaXdpYW5ScElqb2lkWEp1T21ScFpEb3hObUkzTVdVNE9DMDFZemc1TFRRNFpUTXRZV0pqTmkwMU0yUTRPV1V5T1RnME0yRWlMQ0p1WW1ZaU9qRTNNVFEwT1RZNU5EVXNJbk4xWWlJNklpSXNJblpqSWpwN0lrQmpiMjUwWlhoMElqcGJJbWgwZEhCek9pOHZkM2QzTG5jekxtOXlaeTh5TURFNEwyTnlaV1JsYm5ScFlXeHpMM1l4SWwwc0ltTnlaV1JsYm5ScFlXeFRZMmhsYldFaU9sdDdJbWxrSWpvaWFIUjBjSE02THk5aGNHa3RZMjl1Wm05eWJXRnVZMlV1WldKemFTNWxkUzkwY25WemRHVmtMWE5qYUdWdFlYTXRjbVZuYVhOMGNua3Zkakl2YzJOb1pXMWhjeTk2TTAxblZVWlZhMkkzTWpKMWNUUjRNMlIyTlhsQlNtMXVUbTE2UkVabFN6VlZRemg0T0ROUmIyVk1TazBpTENKMGVYQmxJam9pUm5Wc2JFcHpiMjVUWTJobGJXRldZV3hwWkdGMGIzSXlNREl4SW4xZExDSmpjbVZrWlc1MGFXRnNVM1ZpYW1WamRDSTZleUpwWkNJNmJuVnNiQ3dpYzJWamRHbHZiakVpT25zaVpHRjBaVUpwY25Sb0lqb2lNVGsyT0MweE1pMHlPU0lzSW1admNtVnVZVzFsY3lJNklrTm9ZWEpzYjNSMFpTSXNJbTVoZEdsdmJtRnNhWFJwWlhNaU9sc2lVMFVpWFN3aWNHVnljMjl1WVd4SlpHVnVkR2xtYVdOaGRHbHZiazUxYldKbGNpSTZJakU1TmpneE1qSTVMVEUwTVRJaUxDSndiR0ZqWlVKcGNuUm9JanA3SW1OdmRXNTBjbmxEYjJSbElqb2lVMFVpTENKeVpXZHBiMjRpT2lKVGRHOWphMmh2YkcwaUxDSjBiM2R1SWpvaVUzUnZZMnRvYjJ4dEluMHNJbk5sZUNJNklrWmxiV0ZzWlNJc0luTjBZWFJsVDJaU1pYTnBaR1Z1WTJWQlpHUnlaWE56SWpwN0ltTnZkVzUwY25sRGIyUmxJam9pVTBVaUxDSndiM04wUTI5a1pTSTZJalF4T0NBM09DSXNJbk4wY21WbGRFNXZJam9pUjNWdWJtRnlJRVZ1WjJWc2JHRjFjeUIyWVdjZ09Dd2dPVEVnTVVJaUxDSjBiM2R1SWpvaVUzUnZZMnRvYjJ4dEluMHNJbk4wWVhSbFQyWlRkR0Y1UVdSa2NtVnpjeUk2ZXlKamIzVnVkSEo1UTI5a1pTSTZJbE5GSWl3aWNHOXpkRU52WkdVaU9pSTBNVGdnTnpnaUxDSnpkSEpsWlhST2J5STZJa2QxYm01aGNpQkZibWRsYkd4aGRYTWdkbUZuSURnc0lEa3hJREZDSWl3aWRHOTNiaUk2SWxOMGIyTnJhRzlzYlNKOUxDSnpkWEp1WVcxbElqb2lRVzVrWlhKemIyNGlMQ0p6ZFhKdVlXMWxRWFJDYVhKMGFDSTZJa0Z1WkdWeWMyOXVJbjBzSW5ObFkzUnBiMjR5SWpwN0ltTmxjblJwWm1sallYUmxSbTl5UkhWeVlYUnBiMjVCWTNScGRtbDBlU0k2ZEhKMVpTd2laR1YwWlhKdGFXNWhkR2x2YmxCeWIzWnBjMmx2Ym1Gc0lqcG1ZV3h6WlN3aVpXNWthVzVuUkdGMFpTSTZJakl3TWpRdE1EY3RNRE1pTENKdFpXMWlaWEpUZEdGMFpWZG9hV05vVEdWbmFYTnNZWFJwYjI1QmNIQnNhV1Z6SWpvaVNWUWlMQ0p6ZEdGeWRHbHVaMFJoZEdVaU9pSXlNREl6TFRBNUxUSXhJaXdpZEhKaGJuTnBkR2x2YmxKMWJHVnpRWEJ3YkhsQmMwVkRPRGd6TWpBd05DSTZabUZzYzJWOUxDSnpaV04wYVc5dU15STZleUpqYVhacGJFRnVaRVZ0Y0d4dmVXVmtVMlZzWmtWdGNHeHZlV1ZrSWpwbVlXeHpaU3dpWTJsMmFXeFRaWEoyWVc1MElqcG1ZV3h6WlN3aVkyOXVkSEpoWTNSVGRHRm1aaUk2Wm1Gc2MyVXNJbVZ0Y0d4dmVXVmtRVzVrVTJWc1prVnRjR3h2ZVdWa0lqcG1ZV3h6WlN3aVpXMXdiRzk1WldSVWQyOVBjazF2Y21WVGRHRjBaWE1pT21aaGJITmxMQ0psZUdObGNIUnBiMjRpT21aaGJITmxMQ0psZUdObGNIUnBiMjVFWlhOamNtbHdkR2x2YmlJNklpSXNJbVpzYVdkb2RFTnlaWGROWlcxaVpYSWlPbVpoYkhObExDSnRZWEpwYm1WeUlqcG1ZV3h6WlN3aWNHOXpkR1ZrUlcxd2JHOTVaV1JRWlhKemIyNGlPbVpoYkhObExDSndiM04wWldSVFpXeG1SVzF3Ykc5NVpXUlFaWEp6YjI0aU9uUnlkV1VzSW5ObGJHWkZiWEJzYjNsbFpGUjNiMDl5VFc5eVpWTjBZWFJsY3lJNlptRnNjMlVzSW5kdmNtdHBibWRKYmxOMFlYUmxWVzVrWlhJeU1TSTZabUZzYzJWOUxDSnpaV04wYVc5dU5DSTZleUpsYlhCc2IzbGxaU0k2Wm1Gc2MyVXNJbVZ0Y0d4dmVXVnlVMlZzWmtWdGNHeHZlV1ZrUVdOMGFYWnBkSGxEYjJSbGN5STZXeUl4T0RnNU1URXpNalEwSWwwc0ltNWhiV1ZDZFhOcGJtVnpjMDVoYldVaU9pSldiMngyYnlJc0luSmxaMmx6ZEdWeVpXUkJaR1J5WlhOeklqcDdJbU52ZFc1MGNubERiMlJsSWpvaVUwVWlMQ0p3YjNOMFEyOWtaU0k2SWpReE9DQTNPQ0lzSW5OMGNtVmxkRTV2SWpvaVIzVnVibUZ5SUVWdVoyVnNiR0YxY3lCMlhIVXdNR1UwWnlBNExDQXhOalFnUVNJc0luUnZkMjRpT2lKSGIzUmxZbTl5WnlKOUxDSnpaV3htUlcxd2JHOTVaV1JCWTNScGRtbDBlU0k2ZEhKMVpYMHNJbk5sWTNScGIyNDFJanA3SW01dlJtbDRaV1JCWkdSeVpYTnpJanBtWVd4elpTd2lkMjl5YTFCc1lXTmxRV1JrY21WemMyVnpJanBiZXlKaFpHUnlaWE56SWpwN0ltTnZkVzUwY25sRGIyUmxJam9pU1ZRaUxDSndiM04wUTI5a1pTSTZJak0wTVRNeUlpd2ljM1J5WldWMFRtOGlPaUpRYVdGNmVtRWdSSFZqWVNCa1pXZHNhU0JCWW5KMWVucHBJRElzSURRME1DSXNJblJ2ZDI0aU9pSlVjbWxsYzNSbEluMHNJbk5sY1c1dklqb3hmVjBzSW5kdmNtdFFiR0ZqWlU1aGJXVnpJanBiZXlKamIyMXdZVzU1VG1GdFpWWmxjM05sYkU1aGJXVWlPaUpCYzNOcFkzVnlZWHBwYjI1cElFZGxibVZ5WVd4cElGTXVjQzVCSWl3aWMyVnhibThpT2pGOVhYMHNJbk5sWTNScGIyNDJJanA3SW1Ga1pISmxjM01pT25zaVkyOTFiblJ5ZVVOdlpHVWlPaUpDUlNJc0luQnZjM1JEYjJSbElqb2lNVEF3TUNJc0luTjBjbVZsZEU1dklqb2lUV0ZwYmlCVGRISmxaWFFnTVNJc0luUnZkMjRpT2lKQ2NuVnpjMlZzY3lKOUxDSmtZWFJsSWpvaU1qQXlNeTB3T1Mwd055SXNJbVZ0WVdsc0lqb2lhVzVtYjBCdWMzTnBMV0psTG1WMUlpd2lhVzV6ZEdsMGRYUnBiMjVKUkNJNklrNVRVMGt0UWtVdE1ERWlMQ0p1WVcxbElqb2lUbUYwYVc5dVlXd2dVMjlqYVdGc0lGTmxZM1Z5YVhSNUlFOW1abWxqWlNJc0ltOW1abWxqWlVaaGVFNXZJam9pTURnd01DQTVPRGMyTlNJc0ltOW1abWxqWlZCb2IyNWxUbThpT2lJd09EQXdJREV5TXpRMUlpd2ljMmxuYm1GMGRYSmxJam9pVDJabWFXTnBZV3dnYzJsbmJtRjBkWEpsSW4xOUxDSmxlSEJwY21GMGFXOXVSR0YwWlNJNklqSXdNalF0TURRdE16QlVNVGc2TURrNk1EVmFJaXdpYVdRaU9pSjFjbTQ2Wkdsa09qRTJZamN4WlRnNExUVmpPRGt0TkRobE15MWhZbU0yTFRVelpEZzVaVEk1T0RRellTSXNJbWx6YzNWaGJtTmxSR0YwWlNJNklqSXdNalF0TURRdE16QlVNVGM2TURrNk1EVmFJaXdpYVhOemRXVmtJam9pTWpBeU5DMHdOQzB6TUZReE56b3dPVG93TlZvaUxDSnBjM04xWlhJaU9pSmthV1E2YTJWNU9ub3laRzE2UkRneFkyZFFlRGhXYTJrM1NtSjFkVTF0UmxseVYxQm5XVzk1ZEhsclZWb3paWGx4YUhReGFqbExZbk5qV0dFeGRVZHZaVzU1Wm0xVmVWbExaRTFRVmtOblFsSktRWGRGUm1sSU1rTlphblI1Wm1aclRFd3hjMlJUVTFwdVVISktiVzlIVG1adGVrdFlSamR0Tmt0QmNURlhZMlYxUzFKV1UwcEZjWEYxYjBKSWVrRmxhV1p0YzAxdFJuWmhTR2xWV25CSWNrWm1hR3RvYzNobVoxSldaM0ZrVW5ZNWQybGhOMlExV1RnaUxDSjBlWEJsSWpwYklsWmxjbWxtYVdGaWJHVkRjbVZrWlc1MGFXRnNJaXdpVm1WeWFXWnBZV0pzWlVGMGRHVnpkR0YwYVc5dUlpd2lWbVZ5YVdacFlXSnNaVkJ2Y25SaFlteGxSRzlqZFcxbGJuUkJNU0pkTENKMllXeHBaRVp5YjIwaU9pSXlNREkwTFRBMExUTXdWREUzT2pBNU9qQTFXaUo5ZlEuQ014dEVQZUs3ZWJmNGthT0lOcFdGdzdZaWliY0haTW1pQUsxckZNNnZiWlN3U1BLTXBROTRQRkhpQUlXU3RXQk94OTdrMjNVRG9iOC1oOWdMbV9aZ1EiXX0sImV4cCI6MTcxNDQ5NzU2MSwiaWF0IjoxNzE0NDk2OTYxLCJub25jZSI6IjNmMzI2ZWU1LTQ5MjYtNDRlYi04NmNlLTU3Y2Y3YzlhZjUwMCIsImp0aSI6InVybjp1dWlkOmEzNjBkM2MxLTFmMWEtNGY1NS1hNDUyLTQ5NzA5YmI2NTQ1NCJ9.Ec0lfUv60aBZF1Ei_yXBwd1dcFEqOPnxqYzw5h73RsSJYipao6uosLMTcyLEMGAy4fJykd_q65nJURiHXSHQ-g\"\n",
    "validate_vp_token_against_presentation_submission_and_presentation_definition(vp_token)"
   ]
  },
  {
   "cell_type": "code",
   "execution_count": null,
   "metadata": {},
   "outputs": [],
   "source": [
    "req = {\n",
    "  \"issuanceMode\": \"InTime\",\n",
    "  \"disclosureMapping\": {\n",
    "    \"credentialSubject\": {\n",
    "      \"name\": {\n",
    "        \"limitedDisclosure\": true\n",
    "      },\n",
    "      \"Vehicle number\": {\n",
    "        \"limitedDisclosure\": true\n",
    "      }\n",
    "    }\n",
    "  },\n",
    "  \"credential\": {\n",
    "    \"type\": [\n",
    "      \"DrivingLicense\"\n",
    "    ],\n",
    "    \"credentialSubject\": {\n",
    "      \"name\": \"Jane Doe\",\n",
    "      \"Vehicle number\": \"87698\",\n",
    "      \"address\": {\n",
    "        \"countryCode\": \"SE\",\n",
    "        \"postCode\": \"418 78\",\n",
    "        \"streetNo\": \"Gunnar Engellaus vag 8, 91 1B\",\n",
    "        \"town\": \"Stockholm\"\n",
    "      }\n",
    "    }\n",
    "  },\n",
    "  \"userPin\": \"\"\n",
    "}\n",
    "\n",
    "\n"
   ]
  },
  {
   "cell_type": "code",
   "execution_count": 4,
   "metadata": {},
   "outputs": [
    {
     "data": {
      "text/plain": [
       "[DatumInContext(value='87698', path=Fields('Vehicle number'), context=DatumInContext(value={'name': 'Jane Doe', 'Vehicle number': '87698', 'address': {'countryCode': 'SE', 'postCode': '418 78', 'streetNo': 'Gunnar Engellaus vag 8, 91 1B', 'town': 'Stockholm'}}, path=This(), context=None))]"
      ]
     },
     "execution_count": 4,
     "metadata": {},
     "output_type": "execute_result"
    }
   ],
   "source": [
    "from jsonpath_ng import parse\n",
    "\n",
    "data = {\n",
    "    \"name\": \"Jane Doe\",\n",
    "    \"Vehicle number\": \"87698\",\n",
    "    \"address\": {\n",
    "        \"countryCode\": \"SE\",\n",
    "        \"postCode\": \"418 78\",\n",
    "        \"streetNo\": \"Gunnar Engellaus vag 8, 91 1B\",\n",
    "        \"town\": \"Stockholm\",\n",
    "    },\n",
    "}\n",
    "\n",
    "jp = parse(\"'Vehicle number'\")\n",
    "jp.find(data)"
   ]
  },
  {
   "cell_type": "code",
   "execution_count": 2,
   "metadata": {},
   "outputs": [
    {
     "name": "stdout",
     "output_type": "stream",
     "text": [
      "Q\n",
      "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-V3lKbE5qRmpNV0UxT0RVeU1URXlZak5tTXpnd05UaG1PRFprTkdZMU1EQXdOR1kyWkRjek1EZGtaV1ZpWXpOaVlqVmxabVF6WTJaa01tTTROek0wT0RJMUlpd2ljMlZqZEdsdmJqWWlMSHNpWVdSa2NtVnpjeUk2ZXlKamIzVnVkSEo1UTI5a1pTSTZJa0pGSWl3aWNHOXpkRU52WkdVaU9pSXhNREF3SWl3aWMzUnlaV1YwVG04aU9pSk5ZV2x1SUZOMGNtVmxkQ0F4SWl3aWRHOTNiaUk2SWtKeWRYTnpaV3h6SW4wc0ltUmhkR1VpT2lJeU1ESXpMVEE1TFRBM0lpd2laVzFoYVd3aU9pSnBibVp2UUc1emMya3RZbVV1WlhVaUxDSnBibk4wYVhSMWRHbHZia2xFSWpvaVRsTlRTUzFDUlMwd01TSXNJbTVoYldVaU9pSk9ZWFJwYjI1aGJDQlRiMk5wWVd3Z1UyVmpkWEpwZEhrZ1QyWm1hV05sSWl3aWIyWm1hV05sUm1GNFRtOGlPaUl3T0RBd0lEazROelkxSWl3aWIyWm1hV05sVUdodmJtVk9ieUk2SWpBNE1EQWdNVEl6TkRVaUxDSnphV2R1WVhSMWNtVWlPaUpQWm1acFkybGhiQ0J6YVdkdVlYUjFjbVVpZlYwIl19LCJleHAiOjE3MTQ2MzYwODAsImlhdCI6MTcxNDYzNTQ4MCwibm9uY2UiOiIyYjJiYWFhZS1jOTdkLTQzZGYtOTliYi0yYWJjNDQxYjFjMGIiLCJqdGkiOiJ1cm46dXVpZDoyMjNlZDYzMS0yNzVjLTQzNTgtOWJhYS1jNmRiNTkzZjBjYzcifQ==\n"
     ]
    },
    {
     "ename": "Error",
     "evalue": "Invalid base64-encoded string: number of data characters (6781) cannot be 1 more than a multiple of 4",
     "output_type": "error",
     "traceback": [
      "\u001b[0;31m---------------------------------------------------------------------------\u001b[0m",
      "\u001b[0;31mError\u001b[0m                                     Traceback (most recent call last)",
      "Cell \u001b[0;32mIn[2], line 6\u001b[0m\n\u001b[1;32m      4\u001b[0m \u001b[38;5;28;01mimport\u001b[39;00m \u001b[38;5;21;01mbase64\u001b[39;00m\n\u001b[1;32m      5\u001b[0m base64\u001b[38;5;241m.\u001b[39murlsafe_b64decode(vp)\n\u001b[0;32m----> 6\u001b[0m claims \u001b[38;5;241m=\u001b[39m \u001b[43mdecode_header_and_claims_in_jwt\u001b[49m\u001b[43m(\u001b[49m\u001b[43mvp\u001b[49m\u001b[43m)\u001b[49m\n\u001b[1;32m      7\u001b[0m \u001b[38;5;66;03m# print(header)\u001b[39;00m\n\u001b[1;32m      8\u001b[0m \u001b[38;5;28mprint\u001b[39m(claims)\n",
      "File \u001b[0;32m~/decentralised-dataexchange/sd-jwt-playground/sdjwt/pex.py:243\u001b[0m, in \u001b[0;36mdecode_header_and_claims_in_jwt\u001b[0;34m(token)\u001b[0m\n\u001b[1;32m    241\u001b[0m \u001b[38;5;28mprint\u001b[39m(claims_encoded[\u001b[38;5;241m6781\u001b[39m])\n\u001b[1;32m    242\u001b[0m \u001b[38;5;28mprint\u001b[39m(claims_encoded \u001b[38;5;241m+\u001b[39m \u001b[38;5;124m\"\u001b[39m\u001b[38;5;124m=\u001b[39m\u001b[38;5;124m\"\u001b[39m \u001b[38;5;241m*\u001b[39m (\u001b[38;5;241m-\u001b[39m\u001b[38;5;28mlen\u001b[39m(claims_encoded) \u001b[38;5;241m%\u001b[39m \u001b[38;5;241m4\u001b[39m))\n\u001b[0;32m--> 243\u001b[0m claims_decoded \u001b[38;5;241m=\u001b[39m \u001b[43mbase64\u001b[49m\u001b[38;5;241;43m.\u001b[39;49m\u001b[43mb64decode\u001b[49m\u001b[43m(\u001b[49m\u001b[43mclaims_encoded\u001b[49m\u001b[43m \u001b[49m\u001b[38;5;241;43m+\u001b[39;49m\u001b[43m \u001b[49m\u001b[38;5;124;43m\"\u001b[39;49m\u001b[38;5;124;43m=\u001b[39;49m\u001b[38;5;124;43m\"\u001b[39;49m\u001b[43m \u001b[49m\u001b[38;5;241;43m*\u001b[39;49m\u001b[43m \u001b[49m\u001b[43m(\u001b[49m\u001b[38;5;241;43m-\u001b[39;49m\u001b[38;5;28;43mlen\u001b[39;49m\u001b[43m(\u001b[49m\u001b[43mclaims_encoded\u001b[49m\u001b[43m)\u001b[49m\u001b[43m \u001b[49m\u001b[38;5;241;43m%\u001b[39;49m\u001b[43m \u001b[49m\u001b[38;5;241;43m4\u001b[39;49m\u001b[43m)\u001b[49m\u001b[43m)\u001b[49m\n\u001b[1;32m    244\u001b[0m \u001b[38;5;66;03m# headers_decoded = base64.b64decode(\u001b[39;00m\n\u001b[1;32m    245\u001b[0m \u001b[38;5;66;03m#     headers_encoded + \"=\" * (-len(headers_encoded) % 4)\u001b[39;00m\n\u001b[1;32m    246\u001b[0m \u001b[38;5;66;03m# )\u001b[39;00m\n\u001b[1;32m    247\u001b[0m \u001b[38;5;28;01mreturn\u001b[39;00m json\u001b[38;5;241m.\u001b[39mloads(claims_decoded)\n",
      "File \u001b[0;32m/usr/lib/python3.10/base64.py:87\u001b[0m, in \u001b[0;36mb64decode\u001b[0;34m(s, altchars, validate)\u001b[0m\n\u001b[1;32m     85\u001b[0m \u001b[38;5;28;01mif\u001b[39;00m validate \u001b[38;5;129;01mand\u001b[39;00m \u001b[38;5;129;01mnot\u001b[39;00m re\u001b[38;5;241m.\u001b[39mfullmatch(\u001b[38;5;124mb\u001b[39m\u001b[38;5;124m'\u001b[39m\u001b[38;5;124m[A-Za-z0-9+/]*=\u001b[39m\u001b[38;5;124m{\u001b[39m\u001b[38;5;124m0,2}\u001b[39m\u001b[38;5;124m'\u001b[39m, s):\n\u001b[1;32m     86\u001b[0m     \u001b[38;5;28;01mraise\u001b[39;00m binascii\u001b[38;5;241m.\u001b[39mError(\u001b[38;5;124m'\u001b[39m\u001b[38;5;124mNon-base64 digit found\u001b[39m\u001b[38;5;124m'\u001b[39m)\n\u001b[0;32m---> 87\u001b[0m \u001b[38;5;28;01mreturn\u001b[39;00m \u001b[43mbinascii\u001b[49m\u001b[38;5;241;43m.\u001b[39;49m\u001b[43ma2b_base64\u001b[49m\u001b[43m(\u001b[49m\u001b[43ms\u001b[49m\u001b[43m)\u001b[49m\n",
      "\u001b[0;31mError\u001b[0m: Invalid base64-encoded string: number of data characters (6781) cannot be 1 more than a multiple of 4"
     ]
    }
   ],
   "source": [
    "vp = \"eyJraWQiOiJkaWQ6a2V5OnoyZG16RDgxY2dQeDhWa2k3SmJ1dU1tRllyV1BnWW95dHlrVVozZXlxaHQxajlLYnFXeHFqc3R3eGJkb3ZENlBrbnB3VUFxSmZ0SGZUUmJzWVVmNVVlaWcyNm5abkJDcTF6SllhenVydkNiaVpjc0FWNDFzMUdGeTdmdG5zc0VWUFcydnZGZEFqNFlVSlZLQU52UHY2dFRSTVRvV2R5U01LTlJEc2JHWGU1ZXhSeHg1YWsjejJkbXpEODFjZ1B4OFZraTdKYnV1TW1GWXJXUGdZb3l0eWtVWjNleXFodDFqOUticVd4cWpzdHd4YmRvdkQ2UGtucHdVQXFKZnRIZlRSYnNZVWY1VWVpZzI2blpuQkNxMXpKWWF6dXJ2Q2JpWmNzQVY0MXMxR0Z5N2Z0bnNzRVZQVzJ2dkZkQWo0WVVKVktBTnZQdjZ0VFJNVG9XZHlTTUtOUkRzYkdYZTVleFJ4eDVhayIsInR5cCI6IkpXVCIsImFsZyI6IkVTMjU2IiwiandrIjp7Imt0eSI6IkVDIiwiY3J2IjoiUC0yNTYiLCJ4IjoiWGdaWS1KTzR2SGRVaXdNc1ZxQVVheWdUVGhta3E5cmxmdEhOMzdYT1lGWSIsInkiOiJrRkZPR3RQMEZadEwyc1BnZHc0alBhZGpkZzBCeUFvaUtwSTNtd2ZvLVZ3In19.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-V3lKbE5qRmpNV0UxT0RVeU1URXlZak5tTXpnd05UaG1PRFprTkdZMU1EQXdOR1kyWkRjek1EZGtaV1ZpWXpOaVlqVmxabVF6WTJaa01tTTROek0wT0RJMUlpd2ljMlZqZEdsdmJqWWlMSHNpWVdSa2NtVnpjeUk2ZXlKamIzVnVkSEo1UTI5a1pTSTZJa0pGSWl3aWNHOXpkRU52WkdVaU9pSXhNREF3SWl3aWMzUnlaV1YwVG04aU9pSk5ZV2x1SUZOMGNtVmxkQ0F4SWl3aWRHOTNiaUk2SWtKeWRYTnpaV3h6SW4wc0ltUmhkR1VpT2lJeU1ESXpMVEE1TFRBM0lpd2laVzFoYVd3aU9pSnBibVp2UUc1emMya3RZbVV1WlhVaUxDSnBibk4wYVhSMWRHbHZia2xFSWpvaVRsTlRTUzFDUlMwd01TSXNJbTVoYldVaU9pSk9ZWFJwYjI1aGJDQlRiMk5wWVd3Z1UyVmpkWEpwZEhrZ1QyWm1hV05sSWl3aWIyWm1hV05sUm1GNFRtOGlPaUl3T0RBd0lEazROelkxSWl3aWIyWm1hV05sVUdodmJtVk9ieUk2SWpBNE1EQWdNVEl6TkRVaUxDSnphV2R1WVhSMWNtVWlPaUpQWm1acFkybGhiQ0J6YVdkdVlYUjFjbVVpZlYwIl19LCJleHAiOjE3MTQ2MzYwODAsImlhdCI6MTcxNDYzNTQ4MCwibm9uY2UiOiIyYjJiYWFhZS1jOTdkLTQzZGYtOTliYi0yYWJjNDQxYjFjMGIiLCJqdGkiOiJ1cm46dXVpZDoyMjNlZDYzMS0yNzVjLTQzNTgtOWJhYS1jNmRiNTkzZjBjYzcifQ.DLCXEONk8qd5Wyd2xQYcQje-ZQSVADdS4iJoJgRcq1BFS12qfGV0MzRvWt88Uwkw9CmnizALYDMymVbn7EDEVQ\"\n",
    "from sdjwt.pex import decode_header_and_claims_in_jwt\n",
    "\n",
    "import base64\n",
    "print(base64.urlsafe_b64decode(vp))\n",
    "claims = decode_header_and_claims_in_jwt(vp)\n",
    "# print(header)\n",
    "print(claims)"
   ]
  }
 ],
 "metadata": {
  "kernelspec": {
   "display_name": "ewc-iJxEgl7S-py3.10",
   "language": "python",
   "name": "python3"
  },
  "language_info": {
   "codemirror_mode": {
    "name": "ipython",
    "version": 3
   },
   "file_extension": ".py",
   "mimetype": "text/x-python",
   "name": "python",
   "nbconvert_exporter": "python",
   "pygments_lexer": "ipython3",
   "version": "3.10.12"
  }
 },
 "nbformat": 4,
 "nbformat_minor": 2
}
